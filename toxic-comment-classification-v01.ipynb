{
 "cells": [
  {
   "cell_type": "markdown",
   "id": "c6262d5a-1653-491f-85b2-733e9731e3e1",
   "metadata": {
    "tags": []
   },
   "source": [
    "<h1 style=\"text-align: center\"> Assignment AT2 Part B: Toxic Comment Classification (Group Project Report) </h1>\n",
    "<h2 style=\"text-align: right\"> Date: 9 May 2023 </h2>"
   ]
  },
  {
   "cell_type": "markdown",
   "id": "d15ab90c-14ad-4920-b35b-8e06091b65ac",
   "metadata": {},
   "source": [
    "## Group: 26\n",
    "### Member 1: Savinay Singh <b><u>(Student Id: 24591935)</u></b>\n",
    "### Member 2: Divgun Singh <b><u>(Student Id:)</u></b>\n",
    "### Member 3: Sagar Sudhir Bhagwatkar <b><u>(Student Id:)</u></b>\n",
    "### Member 4: Somayeh Amraee <b><u>(Student Id:)</u></b>"
   ]
  },
  {
   "cell_type": "markdown",
   "id": "7d6c880d-1cda-4a77-a6ee-04e61c6afdda",
   "metadata": {},
   "source": [
    "# Dataset Details"
   ]
  },
  {
   "cell_type": "code",
   "execution_count": null,
   "id": "aa675a91-c530-4b5e-9eb9-60f1d85fcd67",
   "metadata": {},
   "outputs": [],
   "source": [
    "# Incomplete"
   ]
  },
  {
   "cell_type": "markdown",
   "id": "a4283f6d-65db-403f-b769-1bbd98afad04",
   "metadata": {},
   "source": [
    "<p style=\"font-size:18px;\">Table of Content\n",
    "<ol>\n",
    "    <li>Importing the libraries</li>\n",
    "    <li>Importing the dataset</li>\n",
    "    <li>Data Preprocessing</li>\n",
    "</ol>\n",
    "</p>"
   ]
  },
  {
   "cell_type": "code",
   "execution_count": null,
   "id": "5e2a1a08-f0b7-456e-946a-75fb32c69fd3",
   "metadata": {},
   "outputs": [],
   "source": [
    "# Incomplete"
   ]
  },
  {
   "cell_type": "markdown",
   "id": "1274126e-bf98-427e-bfb3-05bb79ed788a",
   "metadata": {
    "jp-MarkdownHeadingCollapsed": true,
    "tags": []
   },
   "source": [
    "## 1. Importing the libraries"
   ]
  },
  {
   "cell_type": "code",
   "execution_count": 1,
   "id": "2e83150f-8526-4b88-a473-0bb70a1069ac",
   "metadata": {},
   "outputs": [],
   "source": [
    "import pandas as pd"
   ]
  },
  {
   "cell_type": "markdown",
   "id": "01537b91-54c9-4597-b491-ce656f362622",
   "metadata": {
    "tags": []
   },
   "source": [
    "## 2. Importing the dataset"
   ]
  },
  {
   "cell_type": "code",
   "execution_count": 4,
   "id": "84045b11-d2e6-406d-83be-67712b105511",
   "metadata": {},
   "outputs": [],
   "source": [
    "df_train=pd.read_csv('./jigsaw-toxic-comment-classification-challenge/train.csv')\n",
    "df_test=pd.read_csv('./jigsaw-toxic-comment-classification-challenge/test.csv')"
   ]
  },
  {
   "cell_type": "markdown",
   "id": "c72da62c-d8ef-494e-9caa-06c53e023cd7",
   "metadata": {
    "tags": []
   },
   "source": [
    "## 3. Data Preprocessing"
   ]
  },
  {
   "cell_type": "code",
   "execution_count": null,
   "id": "4991b20f-07fa-4324-aaa6-2e639208cd32",
   "metadata": {},
   "outputs": [],
   "source": []
  }
 ],
 "metadata": {
  "kernelspec": {
   "display_name": "anlp-env",
   "language": "python",
   "name": "anlp-env"
  },
  "language_info": {
   "codemirror_mode": {
    "name": "ipython",
    "version": 3
   },
   "file_extension": ".py",
   "mimetype": "text/x-python",
   "name": "python",
   "nbconvert_exporter": "python",
   "pygments_lexer": "ipython3",
   "version": "3.8.2"
  }
 },
 "nbformat": 4,
 "nbformat_minor": 5
}
