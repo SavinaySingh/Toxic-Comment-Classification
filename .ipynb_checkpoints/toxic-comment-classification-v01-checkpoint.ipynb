{
 "cells": [
  {
   "cell_type": "markdown",
   "id": "c6262d5a-1653-491f-85b2-733e9731e3e1",
   "metadata": {
    "tags": []
   },
   "source": [
    "<h1 style=\"text-align: center\"> Assignment AT2 Part B: Toxic Comment Classification (Group Project Report) </h1>\n",
    "<h2 style=\"text-align: right\"> Date: 9 May 2023 </h2>"
   ]
  },
  {
   "cell_type": "markdown",
   "id": "d15ab90c-14ad-4920-b35b-8e06091b65ac",
   "metadata": {},
   "source": [
    "## Group: 26\n",
    "### Member 1: Savinay Singh <b><u>(Student Id: 24591935)</u></b>\n",
    "### Member 2: Divgun Singh <b><u>(Student Id:)</u></b>\n",
    "### Member 3: Sagar Sudhir Bhagwatkar <b><u>(Student Id:)</u></b>\n",
    "### Member 4: Somayeh Amraee <b><u>(Student Id:)</u></b>"
   ]
  },
  {
   "cell_type": "code",
   "execution_count": 78,
   "id": "b91934e9-5df4-4f0d-9975-dc8a4379d6b8",
   "metadata": {},
   "outputs": [],
   "source": [
    "import os\n",
    "os.chdir('/Users/savinaysingh/Documents/SavinayUTS/ANLP/ANLPAssignment2/')"
   ]
  },
  {
   "cell_type": "markdown",
   "id": "7d6c880d-1cda-4a77-a6ee-04e61c6afdda",
   "metadata": {},
   "source": [
    "# Dataset Details"
   ]
  },
  {
   "cell_type": "code",
   "execution_count": 79,
   "id": "aa675a91-c530-4b5e-9eb9-60f1d85fcd67",
   "metadata": {},
   "outputs": [],
   "source": [
    "# Incomplete"
   ]
  },
  {
   "cell_type": "markdown",
   "id": "a4283f6d-65db-403f-b769-1bbd98afad04",
   "metadata": {},
   "source": [
    "<p style=\"font-size:18px;\">Table of Content\n",
    "<ol>\n",
    "    <li>Importing the libraries</li>\n",
    "    <li>Importing the dataset</li>\n",
    "    <li>Data Preprocessing</li>\n",
    "</ol>\n",
    "</p>"
   ]
  },
  {
   "cell_type": "code",
   "execution_count": 80,
   "id": "5e2a1a08-f0b7-456e-946a-75fb32c69fd3",
   "metadata": {},
   "outputs": [],
   "source": [
    "# Incomplete"
   ]
  },
  {
   "cell_type": "markdown",
   "id": "1274126e-bf98-427e-bfb3-05bb79ed788a",
   "metadata": {
    "tags": []
   },
   "source": [
    "## 1. Importing the libraries"
   ]
  },
  {
   "cell_type": "code",
   "execution_count": 137,
   "id": "2e83150f-8526-4b88-a473-0bb70a1069ac",
   "metadata": {},
   "outputs": [],
   "source": [
    "import pandas as pd\n",
    "import plotly.express as px\n",
    "import plotly.graph_objects as go\n",
    "import re\n",
    "from tqdm import tqdm\n",
    "import copy\n",
    "from nltk.corpus import wordnet\n",
    "import string\n",
    "import nltk\n",
    "from nltk.stem import WordNetLemmatizer\n",
    "from nltk.corpus import stopwords"
   ]
  },
  {
   "cell_type": "markdown",
   "id": "01537b91-54c9-4597-b491-ce656f362622",
   "metadata": {
    "tags": []
   },
   "source": [
    "## 2. Importing the dataset"
   ]
  },
  {
   "cell_type": "code",
   "execution_count": 82,
   "id": "84045b11-d2e6-406d-83be-67712b105511",
   "metadata": {},
   "outputs": [],
   "source": [
    "df_train=pd.read_csv('./jigsaw-toxic-comment-classification-challenge/train.csv')\n",
    "df_test=pd.read_csv('./jigsaw-toxic-comment-classification-challenge/test.csv')"
   ]
  },
  {
   "cell_type": "markdown",
   "id": "c72da62c-d8ef-494e-9caa-06c53e023cd7",
   "metadata": {
    "tags": []
   },
   "source": [
    "## 3. Data Preprocessing"
   ]
  },
  {
   "cell_type": "markdown",
   "id": "a49f6675-183d-46be-9b0f-f7ad0058f441",
   "metadata": {
    "tags": []
   },
   "source": [
    "### A. Check for missing values"
   ]
  },
  {
   "cell_type": "code",
   "execution_count": 83,
   "id": "852d2df7-8933-41f1-8a0e-8983cc7f918c",
   "metadata": {},
   "outputs": [
    {
     "data": {
      "text/plain": [
       "id               0\n",
       "comment_text     0\n",
       "toxic            0\n",
       "severe_toxic     0\n",
       "obscene          0\n",
       "threat           0\n",
       "insult           0\n",
       "identity_hate    0\n",
       "dtype: int64"
      ]
     },
     "execution_count": 83,
     "metadata": {},
     "output_type": "execute_result"
    }
   ],
   "source": [
    "df_train.isna().sum()"
   ]
  },
  {
   "cell_type": "code",
   "execution_count": 84,
   "id": "ebe77dd6-67c9-4caf-b5c9-84aa922215ae",
   "metadata": {},
   "outputs": [
    {
     "data": {
      "text/plain": [
       "id              0\n",
       "comment_text    0\n",
       "dtype: int64"
      ]
     },
     "execution_count": 84,
     "metadata": {},
     "output_type": "execute_result"
    }
   ],
   "source": [
    "df_test.isna().sum()"
   ]
  },
  {
   "cell_type": "code",
   "execution_count": 85,
   "id": "2b239812-ec4b-4fa3-9d18-bd3f2b042fe8",
   "metadata": {},
   "outputs": [
    {
     "data": {
      "application/vnd.plotly.v1+json": {
       "config": {
        "plotlyServerURL": "https://plot.ly"
       },
       "data": [
        {
         "type": "bar",
         "x": [
          "id",
          "comment_text",
          "toxic",
          "severe_toxic",
          "obscene",
          "threat",
          "insult",
          "identity_hate"
         ],
         "y": [
          0,
          0,
          0,
          0,
          0,
          0,
          0,
          0
         ]
        }
       ],
       "layout": {
        "autosize": true,
        "template": {
         "data": {
          "bar": [
           {
            "error_x": {
             "color": "#2a3f5f"
            },
            "error_y": {
             "color": "#2a3f5f"
            },
            "marker": {
             "line": {
              "color": "#E5ECF6",
              "width": 0.5
             },
             "pattern": {
              "fillmode": "overlay",
              "size": 10,
              "solidity": 0.2
             }
            },
            "type": "bar"
           }
          ],
          "barpolar": [
           {
            "marker": {
             "line": {
              "color": "#E5ECF6",
              "width": 0.5
             },
             "pattern": {
              "fillmode": "overlay",
              "size": 10,
              "solidity": 0.2
             }
            },
            "type": "barpolar"
           }
          ],
          "carpet": [
           {
            "aaxis": {
             "endlinecolor": "#2a3f5f",
             "gridcolor": "white",
             "linecolor": "white",
             "minorgridcolor": "white",
             "startlinecolor": "#2a3f5f"
            },
            "baxis": {
             "endlinecolor": "#2a3f5f",
             "gridcolor": "white",
             "linecolor": "white",
             "minorgridcolor": "white",
             "startlinecolor": "#2a3f5f"
            },
            "type": "carpet"
           }
          ],
          "choropleth": [
           {
            "colorbar": {
             "outlinewidth": 0,
             "ticks": ""
            },
            "type": "choropleth"
           }
          ],
          "contour": [
           {
            "colorbar": {
             "outlinewidth": 0,
             "ticks": ""
            },
            "colorscale": [
             [
              0,
              "#0d0887"
             ],
             [
              0.1111111111111111,
              "#46039f"
             ],
             [
              0.2222222222222222,
              "#7201a8"
             ],
             [
              0.3333333333333333,
              "#9c179e"
             ],
             [
              0.4444444444444444,
              "#bd3786"
             ],
             [
              0.5555555555555556,
              "#d8576b"
             ],
             [
              0.6666666666666666,
              "#ed7953"
             ],
             [
              0.7777777777777778,
              "#fb9f3a"
             ],
             [
              0.8888888888888888,
              "#fdca26"
             ],
             [
              1,
              "#f0f921"
             ]
            ],
            "type": "contour"
           }
          ],
          "contourcarpet": [
           {
            "colorbar": {
             "outlinewidth": 0,
             "ticks": ""
            },
            "type": "contourcarpet"
           }
          ],
          "heatmap": [
           {
            "colorbar": {
             "outlinewidth": 0,
             "ticks": ""
            },
            "colorscale": [
             [
              0,
              "#0d0887"
             ],
             [
              0.1111111111111111,
              "#46039f"
             ],
             [
              0.2222222222222222,
              "#7201a8"
             ],
             [
              0.3333333333333333,
              "#9c179e"
             ],
             [
              0.4444444444444444,
              "#bd3786"
             ],
             [
              0.5555555555555556,
              "#d8576b"
             ],
             [
              0.6666666666666666,
              "#ed7953"
             ],
             [
              0.7777777777777778,
              "#fb9f3a"
             ],
             [
              0.8888888888888888,
              "#fdca26"
             ],
             [
              1,
              "#f0f921"
             ]
            ],
            "type": "heatmap"
           }
          ],
          "heatmapgl": [
           {
            "colorbar": {
             "outlinewidth": 0,
             "ticks": ""
            },
            "colorscale": [
             [
              0,
              "#0d0887"
             ],
             [
              0.1111111111111111,
              "#46039f"
             ],
             [
              0.2222222222222222,
              "#7201a8"
             ],
             [
              0.3333333333333333,
              "#9c179e"
             ],
             [
              0.4444444444444444,
              "#bd3786"
             ],
             [
              0.5555555555555556,
              "#d8576b"
             ],
             [
              0.6666666666666666,
              "#ed7953"
             ],
             [
              0.7777777777777778,
              "#fb9f3a"
             ],
             [
              0.8888888888888888,
              "#fdca26"
             ],
             [
              1,
              "#f0f921"
             ]
            ],
            "type": "heatmapgl"
           }
          ],
          "histogram": [
           {
            "marker": {
             "pattern": {
              "fillmode": "overlay",
              "size": 10,
              "solidity": 0.2
             }
            },
            "type": "histogram"
           }
          ],
          "histogram2d": [
           {
            "colorbar": {
             "outlinewidth": 0,
             "ticks": ""
            },
            "colorscale": [
             [
              0,
              "#0d0887"
             ],
             [
              0.1111111111111111,
              "#46039f"
             ],
             [
              0.2222222222222222,
              "#7201a8"
             ],
             [
              0.3333333333333333,
              "#9c179e"
             ],
             [
              0.4444444444444444,
              "#bd3786"
             ],
             [
              0.5555555555555556,
              "#d8576b"
             ],
             [
              0.6666666666666666,
              "#ed7953"
             ],
             [
              0.7777777777777778,
              "#fb9f3a"
             ],
             [
              0.8888888888888888,
              "#fdca26"
             ],
             [
              1,
              "#f0f921"
             ]
            ],
            "type": "histogram2d"
           }
          ],
          "histogram2dcontour": [
           {
            "colorbar": {
             "outlinewidth": 0,
             "ticks": ""
            },
            "colorscale": [
             [
              0,
              "#0d0887"
             ],
             [
              0.1111111111111111,
              "#46039f"
             ],
             [
              0.2222222222222222,
              "#7201a8"
             ],
             [
              0.3333333333333333,
              "#9c179e"
             ],
             [
              0.4444444444444444,
              "#bd3786"
             ],
             [
              0.5555555555555556,
              "#d8576b"
             ],
             [
              0.6666666666666666,
              "#ed7953"
             ],
             [
              0.7777777777777778,
              "#fb9f3a"
             ],
             [
              0.8888888888888888,
              "#fdca26"
             ],
             [
              1,
              "#f0f921"
             ]
            ],
            "type": "histogram2dcontour"
           }
          ],
          "mesh3d": [
           {
            "colorbar": {
             "outlinewidth": 0,
             "ticks": ""
            },
            "type": "mesh3d"
           }
          ],
          "parcoords": [
           {
            "line": {
             "colorbar": {
              "outlinewidth": 0,
              "ticks": ""
             }
            },
            "type": "parcoords"
           }
          ],
          "pie": [
           {
            "automargin": true,
            "type": "pie"
           }
          ],
          "scatter": [
           {
            "fillpattern": {
             "fillmode": "overlay",
             "size": 10,
             "solidity": 0.2
            },
            "type": "scatter"
           }
          ],
          "scatter3d": [
           {
            "line": {
             "colorbar": {
              "outlinewidth": 0,
              "ticks": ""
             }
            },
            "marker": {
             "colorbar": {
              "outlinewidth": 0,
              "ticks": ""
             }
            },
            "type": "scatter3d"
           }
          ],
          "scattercarpet": [
           {
            "marker": {
             "colorbar": {
              "outlinewidth": 0,
              "ticks": ""
             }
            },
            "type": "scattercarpet"
           }
          ],
          "scattergeo": [
           {
            "marker": {
             "colorbar": {
              "outlinewidth": 0,
              "ticks": ""
             }
            },
            "type": "scattergeo"
           }
          ],
          "scattergl": [
           {
            "marker": {
             "colorbar": {
              "outlinewidth": 0,
              "ticks": ""
             }
            },
            "type": "scattergl"
           }
          ],
          "scattermapbox": [
           {
            "marker": {
             "colorbar": {
              "outlinewidth": 0,
              "ticks": ""
             }
            },
            "type": "scattermapbox"
           }
          ],
          "scatterpolar": [
           {
            "marker": {
             "colorbar": {
              "outlinewidth": 0,
              "ticks": ""
             }
            },
            "type": "scatterpolar"
           }
          ],
          "scatterpolargl": [
           {
            "marker": {
             "colorbar": {
              "outlinewidth": 0,
              "ticks": ""
             }
            },
            "type": "scatterpolargl"
           }
          ],
          "scatterternary": [
           {
            "marker": {
             "colorbar": {
              "outlinewidth": 0,
              "ticks": ""
             }
            },
            "type": "scatterternary"
           }
          ],
          "surface": [
           {
            "colorbar": {
             "outlinewidth": 0,
             "ticks": ""
            },
            "colorscale": [
             [
              0,
              "#0d0887"
             ],
             [
              0.1111111111111111,
              "#46039f"
             ],
             [
              0.2222222222222222,
              "#7201a8"
             ],
             [
              0.3333333333333333,
              "#9c179e"
             ],
             [
              0.4444444444444444,
              "#bd3786"
             ],
             [
              0.5555555555555556,
              "#d8576b"
             ],
             [
              0.6666666666666666,
              "#ed7953"
             ],
             [
              0.7777777777777778,
              "#fb9f3a"
             ],
             [
              0.8888888888888888,
              "#fdca26"
             ],
             [
              1,
              "#f0f921"
             ]
            ],
            "type": "surface"
           }
          ],
          "table": [
           {
            "cells": {
             "fill": {
              "color": "#EBF0F8"
             },
             "line": {
              "color": "white"
             }
            },
            "header": {
             "fill": {
              "color": "#C8D4E3"
             },
             "line": {
              "color": "white"
             }
            },
            "type": "table"
           }
          ]
         },
         "layout": {
          "annotationdefaults": {
           "arrowcolor": "#2a3f5f",
           "arrowhead": 0,
           "arrowwidth": 1
          },
          "autotypenumbers": "strict",
          "coloraxis": {
           "colorbar": {
            "outlinewidth": 0,
            "ticks": ""
           }
          },
          "colorscale": {
           "diverging": [
            [
             0,
             "#8e0152"
            ],
            [
             0.1,
             "#c51b7d"
            ],
            [
             0.2,
             "#de77ae"
            ],
            [
             0.3,
             "#f1b6da"
            ],
            [
             0.4,
             "#fde0ef"
            ],
            [
             0.5,
             "#f7f7f7"
            ],
            [
             0.6,
             "#e6f5d0"
            ],
            [
             0.7,
             "#b8e186"
            ],
            [
             0.8,
             "#7fbc41"
            ],
            [
             0.9,
             "#4d9221"
            ],
            [
             1,
             "#276419"
            ]
           ],
           "sequential": [
            [
             0,
             "#0d0887"
            ],
            [
             0.1111111111111111,
             "#46039f"
            ],
            [
             0.2222222222222222,
             "#7201a8"
            ],
            [
             0.3333333333333333,
             "#9c179e"
            ],
            [
             0.4444444444444444,
             "#bd3786"
            ],
            [
             0.5555555555555556,
             "#d8576b"
            ],
            [
             0.6666666666666666,
             "#ed7953"
            ],
            [
             0.7777777777777778,
             "#fb9f3a"
            ],
            [
             0.8888888888888888,
             "#fdca26"
            ],
            [
             1,
             "#f0f921"
            ]
           ],
           "sequentialminus": [
            [
             0,
             "#0d0887"
            ],
            [
             0.1111111111111111,
             "#46039f"
            ],
            [
             0.2222222222222222,
             "#7201a8"
            ],
            [
             0.3333333333333333,
             "#9c179e"
            ],
            [
             0.4444444444444444,
             "#bd3786"
            ],
            [
             0.5555555555555556,
             "#d8576b"
            ],
            [
             0.6666666666666666,
             "#ed7953"
            ],
            [
             0.7777777777777778,
             "#fb9f3a"
            ],
            [
             0.8888888888888888,
             "#fdca26"
            ],
            [
             1,
             "#f0f921"
            ]
           ]
          },
          "colorway": [
           "#636efa",
           "#EF553B",
           "#00cc96",
           "#ab63fa",
           "#FFA15A",
           "#19d3f3",
           "#FF6692",
           "#B6E880",
           "#FF97FF",
           "#FECB52"
          ],
          "font": {
           "color": "#2a3f5f"
          },
          "geo": {
           "bgcolor": "white",
           "lakecolor": "white",
           "landcolor": "#E5ECF6",
           "showlakes": true,
           "showland": true,
           "subunitcolor": "white"
          },
          "hoverlabel": {
           "align": "left"
          },
          "hovermode": "closest",
          "mapbox": {
           "style": "light"
          },
          "paper_bgcolor": "white",
          "plot_bgcolor": "#E5ECF6",
          "polar": {
           "angularaxis": {
            "gridcolor": "white",
            "linecolor": "white",
            "ticks": ""
           },
           "bgcolor": "#E5ECF6",
           "radialaxis": {
            "gridcolor": "white",
            "linecolor": "white",
            "ticks": ""
           }
          },
          "scene": {
           "xaxis": {
            "backgroundcolor": "#E5ECF6",
            "gridcolor": "white",
            "gridwidth": 2,
            "linecolor": "white",
            "showbackground": true,
            "ticks": "",
            "zerolinecolor": "white"
           },
           "yaxis": {
            "backgroundcolor": "#E5ECF6",
            "gridcolor": "white",
            "gridwidth": 2,
            "linecolor": "white",
            "showbackground": true,
            "ticks": "",
            "zerolinecolor": "white"
           },
           "zaxis": {
            "backgroundcolor": "#E5ECF6",
            "gridcolor": "white",
            "gridwidth": 2,
            "linecolor": "white",
            "showbackground": true,
            "ticks": "",
            "zerolinecolor": "white"
           }
          },
          "shapedefaults": {
           "line": {
            "color": "#2a3f5f"
           }
          },
          "ternary": {
           "aaxis": {
            "gridcolor": "white",
            "linecolor": "white",
            "ticks": ""
           },
           "baxis": {
            "gridcolor": "white",
            "linecolor": "white",
            "ticks": ""
           },
           "bgcolor": "#E5ECF6",
           "caxis": {
            "gridcolor": "white",
            "linecolor": "white",
            "ticks": ""
           }
          },
          "title": {
           "x": 0.05
          },
          "xaxis": {
           "automargin": true,
           "gridcolor": "white",
           "linecolor": "white",
           "ticks": "",
           "title": {
            "standoff": 15
           },
           "zerolinecolor": "white",
           "zerolinewidth": 2
          },
          "yaxis": {
           "automargin": true,
           "gridcolor": "white",
           "linecolor": "white",
           "ticks": "",
           "title": {
            "standoff": 15
           },
           "zerolinecolor": "white",
           "zerolinewidth": 2
          }
         }
        },
        "xaxis": {
         "autorange": true,
         "range": [
          -0.5,
          7.5
         ],
         "type": "category"
        },
        "yaxis": {
         "autorange": true,
         "range": [
          -1,
          1
         ],
         "type": "linear"
        }
       }
      },
      "image/png": "[encoded data removed]",
      "text/html": [
       "<div>                            <div id=\"068817ff-fddd-45b4-b90d-648320e7da40\" class=\"plotly-graph-div\" style=\"height:525px; width:100%;\"></div>            <script type=\"text/javascript\">                require([\"plotly\"], function(Plotly) {                    window.PLOTLYENV=window.PLOTLYENV || {};                                    if (document.getElementById(\"068817ff-fddd-45b4-b90d-648320e7da40\")) {                    Plotly.newPlot(                        \"068817ff-fddd-45b4-b90d-648320e7da40\",                        [{\"x\":[\"id\",\"comment_text\",\"toxic\",\"severe_toxic\",\"obscene\",\"threat\",\"insult\",\"identity_hate\"],\"y\":[0,0,0,0,0,0,0,0],\"type\":\"bar\"}],                        {\"template\":{\"data\":{\"histogram2dcontour\":[{\"type\":\"histogram2dcontour\",\"colorbar\":{\"outlinewidth\":0,\"ticks\":\"\"},\"colorscale\":[[0.0,\"#0d0887\"],[0.1111111111111111,\"#46039f\"],[0.2222222222222222,\"#7201a8\"],[0.3333333333333333,\"#9c179e\"],[0.4444444444444444,\"#bd3786\"],[0.5555555555555556,\"#d8576b\"],[0.6666666666666666,\"#ed7953\"],[0.7777777777777778,\"#fb9f3a\"],[0.8888888888888888,\"#fdca26\"],[1.0,\"#f0f921\"]]}],\"choropleth\":[{\"type\":\"choropleth\",\"colorbar\":{\"outlinewidth\":0,\"ticks\":\"\"}}],\"histogram2d\":[{\"type\":\"histogram2d\",\"colorbar\":{\"outlinewidth\":0,\"ticks\":\"\"},\"colorscale\":[[0.0,\"#0d0887\"],[0.1111111111111111,\"#46039f\"],[0.2222222222222222,\"#7201a8\"],[0.3333333333333333,\"#9c179e\"],[0.4444444444444444,\"#bd3786\"],[0.5555555555555556,\"#d8576b\"],[0.6666666666666666,\"#ed7953\"],[0.7777777777777778,\"#fb9f3a\"],[0.8888888888888888,\"#fdca26\"],[1.0,\"#f0f921\"]]}],\"heatmap\":[{\"type\":\"heatmap\",\"colorbar\":{\"outlinewidth\":0,\"ticks\":\"\"},\"colorscale\":[[0.0,\"#0d0887\"],[0.1111111111111111,\"#46039f\"],[0.2222222222222222,\"#7201a8\"],[0.3333333333333333,\"#9c179e\"],[0.4444444444444444,\"#bd3786\"],[0.5555555555555556,\"#d8576b\"],[0.6666666666666666,\"#ed7953\"],[0.7777777777777778,\"#fb9f3a\"],[0.8888888888888888,\"#fdca26\"],[1.0,\"#f0f921\"]]}],\"heatmapgl\":[{\"type\":\"heatmapgl\",\"colorbar\":{\"outlinewidth\":0,\"ticks\":\"\"},\"colorscale\":[[0.0,\"#0d0887\"],[0.1111111111111111,\"#46039f\"],[0.2222222222222222,\"#7201a8\"],[0.3333333333333333,\"#9c179e\"],[0.4444444444444444,\"#bd3786\"],[0.5555555555555556,\"#d8576b\"],[0.6666666666666666,\"#ed7953\"],[0.7777777777777778,\"#fb9f3a\"],[0.8888888888888888,\"#fdca26\"],[1.0,\"#f0f921\"]]}],\"contourcarpet\":[{\"type\":\"contourcarpet\",\"colorbar\":{\"outlinewidth\":0,\"ticks\":\"\"}}],\"contour\":[{\"type\":\"contour\",\"colorbar\":{\"outlinewidth\":0,\"ticks\":\"\"},\"colorscale\":[[0.0,\"#0d0887\"],[0.1111111111111111,\"#46039f\"],[0.2222222222222222,\"#7201a8\"],[0.3333333333333333,\"#9c179e\"],[0.4444444444444444,\"#bd3786\"],[0.5555555555555556,\"#d8576b\"],[0.6666666666666666,\"#ed7953\"],[0.7777777777777778,\"#fb9f3a\"],[0.8888888888888888,\"#fdca26\"],[1.0,\"#f0f921\"]]}],\"surface\":[{\"type\":\"surface\",\"colorbar\":{\"outlinewidth\":0,\"ticks\":\"\"},\"colorscale\":[[0.0,\"#0d0887\"],[0.1111111111111111,\"#46039f\"],[0.2222222222222222,\"#7201a8\"],[0.3333333333333333,\"#9c179e\"],[0.4444444444444444,\"#bd3786\"],[0.5555555555555556,\"#d8576b\"],[0.6666666666666666,\"#ed7953\"],[0.7777777777777778,\"#fb9f3a\"],[0.8888888888888888,\"#fdca26\"],[1.0,\"#f0f921\"]]}],\"mesh3d\":[{\"type\":\"mesh3d\",\"colorbar\":{\"outlinewidth\":0,\"ticks\":\"\"}}],\"scatter\":[{\"fillpattern\":{\"fillmode\":\"overlay\",\"size\":10,\"solidity\":0.2},\"type\":\"scatter\"}],\"parcoords\":[{\"type\":\"parcoords\",\"line\":{\"colorbar\":{\"outlinewidth\":0,\"ticks\":\"\"}}}],\"scatterpolargl\":[{\"type\":\"scatterpolargl\",\"marker\":{\"colorbar\":{\"outlinewidth\":0,\"ticks\":\"\"}}}],\"bar\":[{\"error_x\":{\"color\":\"#2a3f5f\"},\"error_y\":{\"color\":\"#2a3f5f\"},\"marker\":{\"line\":{\"color\":\"#E5ECF6\",\"width\":0.5},\"pattern\":{\"fillmode\":\"overlay\",\"size\":10,\"solidity\":0.2}},\"type\":\"bar\"}],\"scattergeo\":[{\"type\":\"scattergeo\",\"marker\":{\"colorbar\":{\"outlinewidth\":0,\"ticks\":\"\"}}}],\"scatterpolar\":[{\"type\":\"scatterpolar\",\"marker\":{\"colorbar\":{\"outlinewidth\":0,\"ticks\":\"\"}}}],\"histogram\":[{\"marker\":{\"pattern\":{\"fillmode\":\"overlay\",\"size\":10,\"solidity\":0.2}},\"type\":\"histogram\"}],\"scattergl\":[{\"type\":\"scattergl\",\"marker\":{\"colorbar\":{\"outlinewidth\":0,\"ticks\":\"\"}}}],\"scatter3d\":[{\"type\":\"scatter3d\",\"line\":{\"colorbar\":{\"outlinewidth\":0,\"ticks\":\"\"}},\"marker\":{\"colorbar\":{\"outlinewidth\":0,\"ticks\":\"\"}}}],\"scattermapbox\":[{\"type\":\"scattermapbox\",\"marker\":{\"colorbar\":{\"outlinewidth\":0,\"ticks\":\"\"}}}],\"scatterternary\":[{\"type\":\"scatterternary\",\"marker\":{\"colorbar\":{\"outlinewidth\":0,\"ticks\":\"\"}}}],\"scattercarpet\":[{\"type\":\"scattercarpet\",\"marker\":{\"colorbar\":{\"outlinewidth\":0,\"ticks\":\"\"}}}],\"carpet\":[{\"aaxis\":{\"endlinecolor\":\"#2a3f5f\",\"gridcolor\":\"white\",\"linecolor\":\"white\",\"minorgridcolor\":\"white\",\"startlinecolor\":\"#2a3f5f\"},\"baxis\":{\"endlinecolor\":\"#2a3f5f\",\"gridcolor\":\"white\",\"linecolor\":\"white\",\"minorgridcolor\":\"white\",\"startlinecolor\":\"#2a3f5f\"},\"type\":\"carpet\"}],\"table\":[{\"cells\":{\"fill\":{\"color\":\"#EBF0F8\"},\"line\":{\"color\":\"white\"}},\"header\":{\"fill\":{\"color\":\"#C8D4E3\"},\"line\":{\"color\":\"white\"}},\"type\":\"table\"}],\"barpolar\":[{\"marker\":{\"line\":{\"color\":\"#E5ECF6\",\"width\":0.5},\"pattern\":{\"fillmode\":\"overlay\",\"size\":10,\"solidity\":0.2}},\"type\":\"barpolar\"}],\"pie\":[{\"automargin\":true,\"type\":\"pie\"}]},\"layout\":{\"autotypenumbers\":\"strict\",\"colorway\":[\"#636efa\",\"#EF553B\",\"#00cc96\",\"#ab63fa\",\"#FFA15A\",\"#19d3f3\",\"#FF6692\",\"#B6E880\",\"#FF97FF\",\"#FECB52\"],\"font\":{\"color\":\"#2a3f5f\"},\"hovermode\":\"closest\",\"hoverlabel\":{\"align\":\"left\"},\"paper_bgcolor\":\"white\",\"plot_bgcolor\":\"#E5ECF6\",\"polar\":{\"bgcolor\":\"#E5ECF6\",\"angularaxis\":{\"gridcolor\":\"white\",\"linecolor\":\"white\",\"ticks\":\"\"},\"radialaxis\":{\"gridcolor\":\"white\",\"linecolor\":\"white\",\"ticks\":\"\"}},\"ternary\":{\"bgcolor\":\"#E5ECF6\",\"aaxis\":{\"gridcolor\":\"white\",\"linecolor\":\"white\",\"ticks\":\"\"},\"baxis\":{\"gridcolor\":\"white\",\"linecolor\":\"white\",\"ticks\":\"\"},\"caxis\":{\"gridcolor\":\"white\",\"linecolor\":\"white\",\"ticks\":\"\"}},\"coloraxis\":{\"colorbar\":{\"outlinewidth\":0,\"ticks\":\"\"}},\"colorscale\":{\"sequential\":[[0.0,\"#0d0887\"],[0.1111111111111111,\"#46039f\"],[0.2222222222222222,\"#7201a8\"],[0.3333333333333333,\"#9c179e\"],[0.4444444444444444,\"#bd3786\"],[0.5555555555555556,\"#d8576b\"],[0.6666666666666666,\"#ed7953\"],[0.7777777777777778,\"#fb9f3a\"],[0.8888888888888888,\"#fdca26\"],[1.0,\"#f0f921\"]],\"sequentialminus\":[[0.0,\"#0d0887\"],[0.1111111111111111,\"#46039f\"],[0.2222222222222222,\"#7201a8\"],[0.3333333333333333,\"#9c179e\"],[0.4444444444444444,\"#bd3786\"],[0.5555555555555556,\"#d8576b\"],[0.6666666666666666,\"#ed7953\"],[0.7777777777777778,\"#fb9f3a\"],[0.8888888888888888,\"#fdca26\"],[1.0,\"#f0f921\"]],\"diverging\":[[0,\"#8e0152\"],[0.1,\"#c51b7d\"],[0.2,\"#de77ae\"],[0.3,\"#f1b6da\"],[0.4,\"#fde0ef\"],[0.5,\"#f7f7f7\"],[0.6,\"#e6f5d0\"],[0.7,\"#b8e186\"],[0.8,\"#7fbc41\"],[0.9,\"#4d9221\"],[1,\"#276419\"]]},\"xaxis\":{\"gridcolor\":\"white\",\"linecolor\":\"white\",\"ticks\":\"\",\"title\":{\"standoff\":15},\"zerolinecolor\":\"white\",\"automargin\":true,\"zerolinewidth\":2},\"yaxis\":{\"gridcolor\":\"white\",\"linecolor\":\"white\",\"ticks\":\"\",\"title\":{\"standoff\":15},\"zerolinecolor\":\"white\",\"automargin\":true,\"zerolinewidth\":2},\"scene\":{\"xaxis\":{\"backgroundcolor\":\"#E5ECF6\",\"gridcolor\":\"white\",\"linecolor\":\"white\",\"showbackground\":true,\"ticks\":\"\",\"zerolinecolor\":\"white\",\"gridwidth\":2},\"yaxis\":{\"backgroundcolor\":\"#E5ECF6\",\"gridcolor\":\"white\",\"linecolor\":\"white\",\"showbackground\":true,\"ticks\":\"\",\"zerolinecolor\":\"white\",\"gridwidth\":2},\"zaxis\":{\"backgroundcolor\":\"#E5ECF6\",\"gridcolor\":\"white\",\"linecolor\":\"white\",\"showbackground\":true,\"ticks\":\"\",\"zerolinecolor\":\"white\",\"gridwidth\":2}},\"shapedefaults\":{\"line\":{\"color\":\"#2a3f5f\"}},\"annotationdefaults\":{\"arrowcolor\":\"#2a3f5f\",\"arrowhead\":0,\"arrowwidth\":1},\"geo\":{\"bgcolor\":\"white\",\"landcolor\":\"#E5ECF6\",\"subunitcolor\":\"white\",\"showland\":true,\"showlakes\":true,\"lakecolor\":\"white\"},\"title\":{\"x\":0.05},\"mapbox\":{\"style\":\"light\"}}}},                        {\"responsive\": true}                    ).then(function(){\n",
       "                            \n",
       "var gd = document.getElementById('068817ff-fddd-45b4-b90d-648320e7da40');\n",
       "var x = new MutationObserver(function (mutations, observer) {{\n",
       "        var display = window.getComputedStyle(gd).display;\n",
       "        if (!display || display === 'none') {{\n",
       "            console.log([gd, 'removed!']);\n",
       "            Plotly.purge(gd);\n",
       "            observer.disconnect();\n",
       "        }}\n",
       "}});\n",
       "\n",
       "// Listen for the removal of the full notebook cells\n",
       "var notebookContainer = gd.closest('#notebook-container');\n",
       "if (notebookContainer) {{\n",
       "    x.observe(notebookContainer, {childList: true});\n",
       "}}\n",
       "\n",
       "// Listen for the clearing of the current output cell\n",
       "var outputEl = gd.closest('.output');\n",
       "if (outputEl) {{\n",
       "    x.observe(outputEl, {childList: true});\n",
       "}}\n",
       "\n",
       "                        })                };                });            </script>        </div>"
      ]
     },
     "metadata": {},
     "output_type": "display_data"
    },
    {
     "data": {
      "application/vnd.plotly.v1+json": {
       "config": {
        "plotlyServerURL": "https://plot.ly"
       },
       "data": [
        {
         "type": "bar",
         "x": [
          "id",
          "comment_text"
         ],
         "y": [
          0,
          0
         ]
        }
       ],
       "layout": {
        "autosize": true,
        "template": {
         "data": {
          "bar": [
           {
            "error_x": {
             "color": "#2a3f5f"
            },
            "error_y": {
             "color": "#2a3f5f"
            },
            "marker": {
             "line": {
              "color": "#E5ECF6",
              "width": 0.5
             },
             "pattern": {
              "fillmode": "overlay",
              "size": 10,
              "solidity": 0.2
             }
            },
            "type": "bar"
           }
          ],
          "barpolar": [
           {
            "marker": {
             "line": {
              "color": "#E5ECF6",
              "width": 0.5
             },
             "pattern": {
              "fillmode": "overlay",
              "size": 10,
              "solidity": 0.2
             }
            },
            "type": "barpolar"
           }
          ],
          "carpet": [
           {
            "aaxis": {
             "endlinecolor": "#2a3f5f",
             "gridcolor": "white",
             "linecolor": "white",
             "minorgridcolor": "white",
             "startlinecolor": "#2a3f5f"
            },
            "baxis": {
             "endlinecolor": "#2a3f5f",
             "gridcolor": "white",
             "linecolor": "white",
             "minorgridcolor": "white",
             "startlinecolor": "#2a3f5f"
            },
            "type": "carpet"
           }
          ],
          "choropleth": [
           {
            "colorbar": {
             "outlinewidth": 0,
             "ticks": ""
            },
            "type": "choropleth"
           }
          ],
          "contour": [
           {
            "colorbar": {
             "outlinewidth": 0,
             "ticks": ""
            },
            "colorscale": [
             [
              0,
              "#0d0887"
             ],
             [
              0.1111111111111111,
              "#46039f"
             ],
             [
              0.2222222222222222,
              "#7201a8"
             ],
             [
              0.3333333333333333,
              "#9c179e"
             ],
             [
              0.4444444444444444,
              "#bd3786"
             ],
             [
              0.5555555555555556,
              "#d8576b"
             ],
             [
              0.6666666666666666,
              "#ed7953"
             ],
             [
              0.7777777777777778,
              "#fb9f3a"
             ],
             [
              0.8888888888888888,
              "#fdca26"
             ],
             [
              1,
              "#f0f921"
             ]
            ],
            "type": "contour"
           }
          ],
          "contourcarpet": [
           {
            "colorbar": {
             "outlinewidth": 0,
             "ticks": ""
            },
            "type": "contourcarpet"
           }
          ],
          "heatmap": [
           {
            "colorbar": {
             "outlinewidth": 0,
             "ticks": ""
            },
            "colorscale": [
             [
              0,
              "#0d0887"
             ],
             [
              0.1111111111111111,
              "#46039f"
             ],
             [
              0.2222222222222222,
              "#7201a8"
             ],
             [
              0.3333333333333333,
              "#9c179e"
             ],
             [
              0.4444444444444444,
              "#bd3786"
             ],
             [
              0.5555555555555556,
              "#d8576b"
             ],
             [
              0.6666666666666666,
              "#ed7953"
             ],
             [
              0.7777777777777778,
              "#fb9f3a"
             ],
             [
              0.8888888888888888,
              "#fdca26"
             ],
             [
              1,
              "#f0f921"
             ]
            ],
            "type": "heatmap"
           }
          ],
          "heatmapgl": [
           {
            "colorbar": {
             "outlinewidth": 0,
             "ticks": ""
            },
            "colorscale": [
             [
              0,
              "#0d0887"
             ],
             [
              0.1111111111111111,
              "#46039f"
             ],
             [
              0.2222222222222222,
              "#7201a8"
             ],
             [
              0.3333333333333333,
              "#9c179e"
             ],
             [
              0.4444444444444444,
              "#bd3786"
             ],
             [
              0.5555555555555556,
              "#d8576b"
             ],
             [
              0.6666666666666666,
              "#ed7953"
             ],
             [
              0.7777777777777778,
              "#fb9f3a"
             ],
             [
              0.8888888888888888,
              "#fdca26"
             ],
             [
              1,
              "#f0f921"
             ]
            ],
            "type": "heatmapgl"
           }
          ],
          "histogram": [
           {
            "marker": {
             "pattern": {
              "fillmode": "overlay",
              "size": 10,
              "solidity": 0.2
             }
            },
            "type": "histogram"
           }
          ],
          "histogram2d": [
           {
            "colorbar": {
             "outlinewidth": 0,
             "ticks": ""
            },
            "colorscale": [
             [
              0,
              "#0d0887"
             ],
             [
              0.1111111111111111,
              "#46039f"
             ],
             [
              0.2222222222222222,
              "#7201a8"
             ],
             [
              0.3333333333333333,
              "#9c179e"
             ],
             [
              0.4444444444444444,
              "#bd3786"
             ],
             [
              0.5555555555555556,
              "#d8576b"
             ],
             [
              0.6666666666666666,
              "#ed7953"
             ],
             [
              0.7777777777777778,
              "#fb9f3a"
             ],
             [
              0.8888888888888888,
              "#fdca26"
             ],
             [
              1,
              "#f0f921"
             ]
            ],
            "type": "histogram2d"
           }
          ],
          "histogram2dcontour": [
           {
            "colorbar": {
             "outlinewidth": 0,
             "ticks": ""
            },
            "colorscale": [
             [
              0,
              "#0d0887"
             ],
             [
              0.1111111111111111,
              "#46039f"
             ],
             [
              0.2222222222222222,
              "#7201a8"
             ],
             [
              0.3333333333333333,
              "#9c179e"
             ],
             [
              0.4444444444444444,
              "#bd3786"
             ],
             [
              0.5555555555555556,
              "#d8576b"
             ],
             [
              0.6666666666666666,
              "#ed7953"
             ],
             [
              0.7777777777777778,
              "#fb9f3a"
             ],
             [
              0.8888888888888888,
              "#fdca26"
             ],
             [
              1,
              "#f0f921"
             ]
            ],
            "type": "histogram2dcontour"
           }
          ],
          "mesh3d": [
           {
            "colorbar": {
             "outlinewidth": 0,
             "ticks": ""
            },
            "type": "mesh3d"
           }
          ],
          "parcoords": [
           {
            "line": {
             "colorbar": {
              "outlinewidth": 0,
              "ticks": ""
             }
            },
            "type": "parcoords"
           }
          ],
          "pie": [
           {
            "automargin": true,
            "type": "pie"
           }
          ],
          "scatter": [
           {
            "fillpattern": {
             "fillmode": "overlay",
             "size": 10,
             "solidity": 0.2
            },
            "type": "scatter"
           }
          ],
          "scatter3d": [
           {
            "line": {
             "colorbar": {
              "outlinewidth": 0,
              "ticks": ""
             }
            },
            "marker": {
             "colorbar": {
              "outlinewidth": 0,
              "ticks": ""
             }
            },
            "type": "scatter3d"
           }
          ],
          "scattercarpet": [
           {
            "marker": {
             "colorbar": {
              "outlinewidth": 0,
              "ticks": ""
             }
            },
            "type": "scattercarpet"
           }
          ],
          "scattergeo": [
           {
            "marker": {
             "colorbar": {
              "outlinewidth": 0,
              "ticks": ""
             }
            },
            "type": "scattergeo"
           }
          ],
          "scattergl": [
           {
            "marker": {
             "colorbar": {
              "outlinewidth": 0,
              "ticks": ""
             }
            },
            "type": "scattergl"
           }
          ],
          "scattermapbox": [
           {
            "marker": {
             "colorbar": {
              "outlinewidth": 0,
              "ticks": ""
             }
            },
            "type": "scattermapbox"
           }
          ],
          "scatterpolar": [
           {
            "marker": {
             "colorbar": {
              "outlinewidth": 0,
              "ticks": ""
             }
            },
            "type": "scatterpolar"
           }
          ],
          "scatterpolargl": [
           {
            "marker": {
             "colorbar": {
              "outlinewidth": 0,
              "ticks": ""
             }
            },
            "type": "scatterpolargl"
           }
          ],
          "scatterternary": [
           {
            "marker": {
             "colorbar": {
              "outlinewidth": 0,
              "ticks": ""
             }
            },
            "type": "scatterternary"
           }
          ],
          "surface": [
           {
            "colorbar": {
             "outlinewidth": 0,
             "ticks": ""
            },
            "colorscale": [
             [
              0,
              "#0d0887"
             ],
             [
              0.1111111111111111,
              "#46039f"
             ],
             [
              0.2222222222222222,
              "#7201a8"
             ],
             [
              0.3333333333333333,
              "#9c179e"
             ],
             [
              0.4444444444444444,
              "#bd3786"
             ],
             [
              0.5555555555555556,
              "#d8576b"
             ],
             [
              0.6666666666666666,
              "#ed7953"
             ],
             [
              0.7777777777777778,
              "#fb9f3a"
             ],
             [
              0.8888888888888888,
              "#fdca26"
             ],
             [
              1,
              "#f0f921"
             ]
            ],
            "type": "surface"
           }
          ],
          "table": [
           {
            "cells": {
             "fill": {
              "color": "#EBF0F8"
             },
             "line": {
              "color": "white"
             }
            },
            "header": {
             "fill": {
              "color": "#C8D4E3"
             },
             "line": {
              "color": "white"
             }
            },
            "type": "table"
           }
          ]
         },
         "layout": {
          "annotationdefaults": {
           "arrowcolor": "#2a3f5f",
           "arrowhead": 0,
           "arrowwidth": 1
          },
          "autotypenumbers": "strict",
          "coloraxis": {
           "colorbar": {
            "outlinewidth": 0,
            "ticks": ""
           }
          },
          "colorscale": {
           "diverging": [
            [
             0,
             "#8e0152"
            ],
            [
             0.1,
             "#c51b7d"
            ],
            [
             0.2,
             "#de77ae"
            ],
            [
             0.3,
             "#f1b6da"
            ],
            [
             0.4,
             "#fde0ef"
            ],
            [
             0.5,
             "#f7f7f7"
            ],
            [
             0.6,
             "#e6f5d0"
            ],
            [
             0.7,
             "#b8e186"
            ],
            [
             0.8,
             "#7fbc41"
            ],
            [
             0.9,
             "#4d9221"
            ],
            [
             1,
             "#276419"
            ]
           ],
           "sequential": [
            [
             0,
             "#0d0887"
            ],
            [
             0.1111111111111111,
             "#46039f"
            ],
            [
             0.2222222222222222,
             "#7201a8"
            ],
            [
             0.3333333333333333,
             "#9c179e"
            ],
            [
             0.4444444444444444,
             "#bd3786"
            ],
            [
             0.5555555555555556,
             "#d8576b"
            ],
            [
             0.6666666666666666,
             "#ed7953"
            ],
            [
             0.7777777777777778,
             "#fb9f3a"
            ],
            [
             0.8888888888888888,
             "#fdca26"
            ],
            [
             1,
             "#f0f921"
            ]
           ],
           "sequentialminus": [
            [
             0,
             "#0d0887"
            ],
            [
             0.1111111111111111,
             "#46039f"
            ],
            [
             0.2222222222222222,
             "#7201a8"
            ],
            [
             0.3333333333333333,
             "#9c179e"
            ],
            [
             0.4444444444444444,
             "#bd3786"
            ],
            [
             0.5555555555555556,
             "#d8576b"
            ],
            [
             0.6666666666666666,
             "#ed7953"
            ],
            [
             0.7777777777777778,
             "#fb9f3a"
            ],
            [
             0.8888888888888888,
             "#fdca26"
            ],
            [
             1,
             "#f0f921"
            ]
           ]
          },
          "colorway": [
           "#636efa",
           "#EF553B",
           "#00cc96",
           "#ab63fa",
           "#FFA15A",
           "#19d3f3",
           "#FF6692",
           "#B6E880",
           "#FF97FF",
           "#FECB52"
          ],
          "font": {
           "color": "#2a3f5f"
          },
          "geo": {
           "bgcolor": "white",
           "lakecolor": "white",
           "landcolor": "#E5ECF6",
           "showlakes": true,
           "showland": true,
           "subunitcolor": "white"
          },
          "hoverlabel": {
           "align": "left"
          },
          "hovermode": "closest",
          "mapbox": {
           "style": "light"
          },
          "paper_bgcolor": "white",
          "plot_bgcolor": "#E5ECF6",
          "polar": {
           "angularaxis": {
            "gridcolor": "white",
            "linecolor": "white",
            "ticks": ""
           },
           "bgcolor": "#E5ECF6",
           "radialaxis": {
            "gridcolor": "white",
            "linecolor": "white",
            "ticks": ""
           }
          },
          "scene": {
           "xaxis": {
            "backgroundcolor": "#E5ECF6",
            "gridcolor": "white",
            "gridwidth": 2,
            "linecolor": "white",
            "showbackground": true,
            "ticks": "",
            "zerolinecolor": "white"
           },
           "yaxis": {
            "backgroundcolor": "#E5ECF6",
            "gridcolor": "white",
            "gridwidth": 2,
            "linecolor": "white",
            "showbackground": true,
            "ticks": "",
            "zerolinecolor": "white"
           },
           "zaxis": {
            "backgroundcolor": "#E5ECF6",
            "gridcolor": "white",
            "gridwidth": 2,
            "linecolor": "white",
            "showbackground": true,
            "ticks": "",
            "zerolinecolor": "white"
           }
          },
          "shapedefaults": {
           "line": {
            "color": "#2a3f5f"
           }
          },
          "ternary": {
           "aaxis": {
            "gridcolor": "white",
            "linecolor": "white",
            "ticks": ""
           },
           "baxis": {
            "gridcolor": "white",
            "linecolor": "white",
            "ticks": ""
           },
           "bgcolor": "#E5ECF6",
           "caxis": {
            "gridcolor": "white",
            "linecolor": "white",
            "ticks": ""
           }
          },
          "title": {
           "x": 0.05
          },
          "xaxis": {
           "automargin": true,
           "gridcolor": "white",
           "linecolor": "white",
           "ticks": "",
           "title": {
            "standoff": 15
           },
           "zerolinecolor": "white",
           "zerolinewidth": 2
          },
          "yaxis": {
           "automargin": true,
           "gridcolor": "white",
           "linecolor": "white",
           "ticks": "",
           "title": {
            "standoff": 15
           },
           "zerolinecolor": "white",
           "zerolinewidth": 2
          }
         }
        },
        "xaxis": {
         "autorange": true,
         "range": [
          -0.5,
          1.5
         ],
         "type": "category"
        },
        "yaxis": {
         "autorange": true,
         "range": [
          -1,
          1
         ],
         "type": "linear"
        }
       }
      },
      "image/png": "[encoded data removed]",
      "text/html": [
       "<div>                            <div id=\"a1e62bb5-03f4-4f7f-9c19-4de6eda6811a\" class=\"plotly-graph-div\" style=\"height:525px; width:100%;\"></div>            <script type=\"text/javascript\">                require([\"plotly\"], function(Plotly) {                    window.PLOTLYENV=window.PLOTLYENV || {};                                    if (document.getElementById(\"a1e62bb5-03f4-4f7f-9c19-4de6eda6811a\")) {                    Plotly.newPlot(                        \"a1e62bb5-03f4-4f7f-9c19-4de6eda6811a\",                        [{\"x\":[\"id\",\"comment_text\"],\"y\":[0,0],\"type\":\"bar\"}],                        {\"template\":{\"data\":{\"histogram2dcontour\":[{\"type\":\"histogram2dcontour\",\"colorbar\":{\"outlinewidth\":0,\"ticks\":\"\"},\"colorscale\":[[0.0,\"#0d0887\"],[0.1111111111111111,\"#46039f\"],[0.2222222222222222,\"#7201a8\"],[0.3333333333333333,\"#9c179e\"],[0.4444444444444444,\"#bd3786\"],[0.5555555555555556,\"#d8576b\"],[0.6666666666666666,\"#ed7953\"],[0.7777777777777778,\"#fb9f3a\"],[0.8888888888888888,\"#fdca26\"],[1.0,\"#f0f921\"]]}],\"choropleth\":[{\"type\":\"choropleth\",\"colorbar\":{\"outlinewidth\":0,\"ticks\":\"\"}}],\"histogram2d\":[{\"type\":\"histogram2d\",\"colorbar\":{\"outlinewidth\":0,\"ticks\":\"\"},\"colorscale\":[[0.0,\"#0d0887\"],[0.1111111111111111,\"#46039f\"],[0.2222222222222222,\"#7201a8\"],[0.3333333333333333,\"#9c179e\"],[0.4444444444444444,\"#bd3786\"],[0.5555555555555556,\"#d8576b\"],[0.6666666666666666,\"#ed7953\"],[0.7777777777777778,\"#fb9f3a\"],[0.8888888888888888,\"#fdca26\"],[1.0,\"#f0f921\"]]}],\"heatmap\":[{\"type\":\"heatmap\",\"colorbar\":{\"outlinewidth\":0,\"ticks\":\"\"},\"colorscale\":[[0.0,\"#0d0887\"],[0.1111111111111111,\"#46039f\"],[0.2222222222222222,\"#7201a8\"],[0.3333333333333333,\"#9c179e\"],[0.4444444444444444,\"#bd3786\"],[0.5555555555555556,\"#d8576b\"],[0.6666666666666666,\"#ed7953\"],[0.7777777777777778,\"#fb9f3a\"],[0.8888888888888888,\"#fdca26\"],[1.0,\"#f0f921\"]]}],\"heatmapgl\":[{\"type\":\"heatmapgl\",\"colorbar\":{\"outlinewidth\":0,\"ticks\":\"\"},\"colorscale\":[[0.0,\"#0d0887\"],[0.1111111111111111,\"#46039f\"],[0.2222222222222222,\"#7201a8\"],[0.3333333333333333,\"#9c179e\"],[0.4444444444444444,\"#bd3786\"],[0.5555555555555556,\"#d8576b\"],[0.6666666666666666,\"#ed7953\"],[0.7777777777777778,\"#fb9f3a\"],[0.8888888888888888,\"#fdca26\"],[1.0,\"#f0f921\"]]}],\"contourcarpet\":[{\"type\":\"contourcarpet\",\"colorbar\":{\"outlinewidth\":0,\"ticks\":\"\"}}],\"contour\":[{\"type\":\"contour\",\"colorbar\":{\"outlinewidth\":0,\"ticks\":\"\"},\"colorscale\":[[0.0,\"#0d0887\"],[0.1111111111111111,\"#46039f\"],[0.2222222222222222,\"#7201a8\"],[0.3333333333333333,\"#9c179e\"],[0.4444444444444444,\"#bd3786\"],[0.5555555555555556,\"#d8576b\"],[0.6666666666666666,\"#ed7953\"],[0.7777777777777778,\"#fb9f3a\"],[0.8888888888888888,\"#fdca26\"],[1.0,\"#f0f921\"]]}],\"surface\":[{\"type\":\"surface\",\"colorbar\":{\"outlinewidth\":0,\"ticks\":\"\"},\"colorscale\":[[0.0,\"#0d0887\"],[0.1111111111111111,\"#46039f\"],[0.2222222222222222,\"#7201a8\"],[0.3333333333333333,\"#9c179e\"],[0.4444444444444444,\"#bd3786\"],[0.5555555555555556,\"#d8576b\"],[0.6666666666666666,\"#ed7953\"],[0.7777777777777778,\"#fb9f3a\"],[0.8888888888888888,\"#fdca26\"],[1.0,\"#f0f921\"]]}],\"mesh3d\":[{\"type\":\"mesh3d\",\"colorbar\":{\"outlinewidth\":0,\"ticks\":\"\"}}],\"scatter\":[{\"fillpattern\":{\"fillmode\":\"overlay\",\"size\":10,\"solidity\":0.2},\"type\":\"scatter\"}],\"parcoords\":[{\"type\":\"parcoords\",\"line\":{\"colorbar\":{\"outlinewidth\":0,\"ticks\":\"\"}}}],\"scatterpolargl\":[{\"type\":\"scatterpolargl\",\"marker\":{\"colorbar\":{\"outlinewidth\":0,\"ticks\":\"\"}}}],\"bar\":[{\"error_x\":{\"color\":\"#2a3f5f\"},\"error_y\":{\"color\":\"#2a3f5f\"},\"marker\":{\"line\":{\"color\":\"#E5ECF6\",\"width\":0.5},\"pattern\":{\"fillmode\":\"overlay\",\"size\":10,\"solidity\":0.2}},\"type\":\"bar\"}],\"scattergeo\":[{\"type\":\"scattergeo\",\"marker\":{\"colorbar\":{\"outlinewidth\":0,\"ticks\":\"\"}}}],\"scatterpolar\":[{\"type\":\"scatterpolar\",\"marker\":{\"colorbar\":{\"outlinewidth\":0,\"ticks\":\"\"}}}],\"histogram\":[{\"marker\":{\"pattern\":{\"fillmode\":\"overlay\",\"size\":10,\"solidity\":0.2}},\"type\":\"histogram\"}],\"scattergl\":[{\"type\":\"scattergl\",\"marker\":{\"colorbar\":{\"outlinewidth\":0,\"ticks\":\"\"}}}],\"scatter3d\":[{\"type\":\"scatter3d\",\"line\":{\"colorbar\":{\"outlinewidth\":0,\"ticks\":\"\"}},\"marker\":{\"colorbar\":{\"outlinewidth\":0,\"ticks\":\"\"}}}],\"scattermapbox\":[{\"type\":\"scattermapbox\",\"marker\":{\"colorbar\":{\"outlinewidth\":0,\"ticks\":\"\"}}}],\"scatterternary\":[{\"type\":\"scatterternary\",\"marker\":{\"colorbar\":{\"outlinewidth\":0,\"ticks\":\"\"}}}],\"scattercarpet\":[{\"type\":\"scattercarpet\",\"marker\":{\"colorbar\":{\"outlinewidth\":0,\"ticks\":\"\"}}}],\"carpet\":[{\"aaxis\":{\"endlinecolor\":\"#2a3f5f\",\"gridcolor\":\"white\",\"linecolor\":\"white\",\"minorgridcolor\":\"white\",\"startlinecolor\":\"#2a3f5f\"},\"baxis\":{\"endlinecolor\":\"#2a3f5f\",\"gridcolor\":\"white\",\"linecolor\":\"white\",\"minorgridcolor\":\"white\",\"startlinecolor\":\"#2a3f5f\"},\"type\":\"carpet\"}],\"table\":[{\"cells\":{\"fill\":{\"color\":\"#EBF0F8\"},\"line\":{\"color\":\"white\"}},\"header\":{\"fill\":{\"color\":\"#C8D4E3\"},\"line\":{\"color\":\"white\"}},\"type\":\"table\"}],\"barpolar\":[{\"marker\":{\"line\":{\"color\":\"#E5ECF6\",\"width\":0.5},\"pattern\":{\"fillmode\":\"overlay\",\"size\":10,\"solidity\":0.2}},\"type\":\"barpolar\"}],\"pie\":[{\"automargin\":true,\"type\":\"pie\"}]},\"layout\":{\"autotypenumbers\":\"strict\",\"colorway\":[\"#636efa\",\"#EF553B\",\"#00cc96\",\"#ab63fa\",\"#FFA15A\",\"#19d3f3\",\"#FF6692\",\"#B6E880\",\"#FF97FF\",\"#FECB52\"],\"font\":{\"color\":\"#2a3f5f\"},\"hovermode\":\"closest\",\"hoverlabel\":{\"align\":\"left\"},\"paper_bgcolor\":\"white\",\"plot_bgcolor\":\"#E5ECF6\",\"polar\":{\"bgcolor\":\"#E5ECF6\",\"angularaxis\":{\"gridcolor\":\"white\",\"linecolor\":\"white\",\"ticks\":\"\"},\"radialaxis\":{\"gridcolor\":\"white\",\"linecolor\":\"white\",\"ticks\":\"\"}},\"ternary\":{\"bgcolor\":\"#E5ECF6\",\"aaxis\":{\"gridcolor\":\"white\",\"linecolor\":\"white\",\"ticks\":\"\"},\"baxis\":{\"gridcolor\":\"white\",\"linecolor\":\"white\",\"ticks\":\"\"},\"caxis\":{\"gridcolor\":\"white\",\"linecolor\":\"white\",\"ticks\":\"\"}},\"coloraxis\":{\"colorbar\":{\"outlinewidth\":0,\"ticks\":\"\"}},\"colorscale\":{\"sequential\":[[0.0,\"#0d0887\"],[0.1111111111111111,\"#46039f\"],[0.2222222222222222,\"#7201a8\"],[0.3333333333333333,\"#9c179e\"],[0.4444444444444444,\"#bd3786\"],[0.5555555555555556,\"#d8576b\"],[0.6666666666666666,\"#ed7953\"],[0.7777777777777778,\"#fb9f3a\"],[0.8888888888888888,\"#fdca26\"],[1.0,\"#f0f921\"]],\"sequentialminus\":[[0.0,\"#0d0887\"],[0.1111111111111111,\"#46039f\"],[0.2222222222222222,\"#7201a8\"],[0.3333333333333333,\"#9c179e\"],[0.4444444444444444,\"#bd3786\"],[0.5555555555555556,\"#d8576b\"],[0.6666666666666666,\"#ed7953\"],[0.7777777777777778,\"#fb9f3a\"],[0.8888888888888888,\"#fdca26\"],[1.0,\"#f0f921\"]],\"diverging\":[[0,\"#8e0152\"],[0.1,\"#c51b7d\"],[0.2,\"#de77ae\"],[0.3,\"#f1b6da\"],[0.4,\"#fde0ef\"],[0.5,\"#f7f7f7\"],[0.6,\"#e6f5d0\"],[0.7,\"#b8e186\"],[0.8,\"#7fbc41\"],[0.9,\"#4d9221\"],[1,\"#276419\"]]},\"xaxis\":{\"gridcolor\":\"white\",\"linecolor\":\"white\",\"ticks\":\"\",\"title\":{\"standoff\":15},\"zerolinecolor\":\"white\",\"automargin\":true,\"zerolinewidth\":2},\"yaxis\":{\"gridcolor\":\"white\",\"linecolor\":\"white\",\"ticks\":\"\",\"title\":{\"standoff\":15},\"zerolinecolor\":\"white\",\"automargin\":true,\"zerolinewidth\":2},\"scene\":{\"xaxis\":{\"backgroundcolor\":\"#E5ECF6\",\"gridcolor\":\"white\",\"linecolor\":\"white\",\"showbackground\":true,\"ticks\":\"\",\"zerolinecolor\":\"white\",\"gridwidth\":2},\"yaxis\":{\"backgroundcolor\":\"#E5ECF6\",\"gridcolor\":\"white\",\"linecolor\":\"white\",\"showbackground\":true,\"ticks\":\"\",\"zerolinecolor\":\"white\",\"gridwidth\":2},\"zaxis\":{\"backgroundcolor\":\"#E5ECF6\",\"gridcolor\":\"white\",\"linecolor\":\"white\",\"showbackground\":true,\"ticks\":\"\",\"zerolinecolor\":\"white\",\"gridwidth\":2}},\"shapedefaults\":{\"line\":{\"color\":\"#2a3f5f\"}},\"annotationdefaults\":{\"arrowcolor\":\"#2a3f5f\",\"arrowhead\":0,\"arrowwidth\":1},\"geo\":{\"bgcolor\":\"white\",\"landcolor\":\"#E5ECF6\",\"subunitcolor\":\"white\",\"showland\":true,\"showlakes\":true,\"lakecolor\":\"white\"},\"title\":{\"x\":0.05},\"mapbox\":{\"style\":\"light\"}}}},                        {\"responsive\": true}                    ).then(function(){\n",
       "                            \n",
       "var gd = document.getElementById('a1e62bb5-03f4-4f7f-9c19-4de6eda6811a');\n",
       "var x = new MutationObserver(function (mutations, observer) {{\n",
       "        var display = window.getComputedStyle(gd).display;\n",
       "        if (!display || display === 'none') {{\n",
       "            console.log([gd, 'removed!']);\n",
       "            Plotly.purge(gd);\n",
       "            observer.disconnect();\n",
       "        }}\n",
       "}});\n",
       "\n",
       "// Listen for the removal of the full notebook cells\n",
       "var notebookContainer = gd.closest('#notebook-container');\n",
       "if (notebookContainer) {{\n",
       "    x.observe(notebookContainer, {childList: true});\n",
       "}}\n",
       "\n",
       "// Listen for the clearing of the current output cell\n",
       "var outputEl = gd.closest('.output');\n",
       "if (outputEl) {{\n",
       "    x.observe(outputEl, {childList: true});\n",
       "}}\n",
       "\n",
       "                        })                };                });            </script>        </div>"
      ]
     },
     "metadata": {},
     "output_type": "display_data"
    }
   ],
   "source": [
    "# Returns the dictionary with Feature as key and number of missing items as value\n",
    "def get_nan_vals(df):\n",
    "    nan_vals = dict(sorted(df.isna().sum().to_dict().items(), key=lambda item: item[1], reverse=True))\n",
    "    return nan_vals\n",
    "\n",
    "nan_vals = get_nan_vals(df_train)\n",
    "X = list(nan_vals.keys())\n",
    "Y = list(nan_vals.values())\n",
    "# Plots a bar graph for the missing values in the dataframe\n",
    "fig = go.Figure(data = go.Bar(x=X, y=Y))\n",
    "fig.show()\n",
    "\n",
    "nan_vals = get_nan_vals(df_test)\n",
    "X = list(nan_vals.keys())\n",
    "Y = list(nan_vals.values())\n",
    "# Plots a bar graph for the missing values in the dataframe\n",
    "fig = go.Figure(data = go.Bar(x=X, y=Y))\n",
    "fig.show()\n"
   ]
  },
  {
   "cell_type": "markdown",
   "id": "1875fec8-8412-48f2-82bc-b7780b509bff",
   "metadata": {
    "tags": []
   },
   "source": [
    "### B. Data Cleaning"
   ]
  },
  {
   "cell_type": "markdown",
   "id": "08ee33f1-b1d7-4139-91db-cd19b0d0c6b3",
   "metadata": {},
   "source": [
    "<p style=\"font-size:18px;\"> Removing ID column because it is just an identifier for each data point and do not carry any useful information for modeling\n",
    "</p>"
   ]
  },
  {
   "cell_type": "code",
   "execution_count": 86,
   "id": "406238ec-e74d-4143-9b58-5ac5558b1a0a",
   "metadata": {},
   "outputs": [],
   "source": [
    "df_train=df_train.drop('id',axis=1)\n",
    "sentences=df_train.comment_text"
   ]
  },
  {
   "cell_type": "markdown",
   "id": "c135e1b7-f259-44c9-ace2-d0a404d250c3",
   "metadata": {
    "jp-MarkdownHeadingCollapsed": true,
    "tags": []
   },
   "source": [
    "#### • Lowercasing the sentences"
   ]
  },
  {
   "cell_type": "markdown",
   "id": "da32cee2-26d9-4ce5-ac47-8ca535af7b98",
   "metadata": {},
   "source": [
    "<p style=\"font-size:18px;\"> Lowercasing the sentences to maintain uniformity\n",
    "</p>"
   ]
  },
  {
   "cell_type": "code",
   "execution_count": 87,
   "id": "42212248-e0e5-4a63-bfbf-733589fba595",
   "metadata": {},
   "outputs": [],
   "source": [
    "sentences=[x.lower() for x in sentences]"
   ]
  },
  {
   "cell_type": "markdown",
   "id": "4152d6ad-8905-42fb-a8b8-d54b7844fb27",
   "metadata": {
    "jp-MarkdownHeadingCollapsed": true,
    "tags": []
   },
   "source": [
    "#### • Handling the Apostophe"
   ]
  },
  {
   "cell_type": "markdown",
   "id": "fc0eb5db-0e9b-4d01-b6fc-d418e0fbbaee",
   "metadata": {},
   "source": [
    "<p style=\"font-size:18px;\"> Many words in the text have apostophe present such as \"won't\" and they should be converted into their root form i.e. \"would not\" because after removing the punctuations, most language models would not understand words like \"wont\"\n",
    "</p>"
   ]
  },
  {
   "cell_type": "code",
   "execution_count": 88,
   "id": "9eab73d7-f38b-4a42-97b1-e72721450687",
   "metadata": {},
   "outputs": [],
   "source": [
    "number_sent_apostophe=len([x for x in sentences if \"'\" in x])"
   ]
  },
  {
   "cell_type": "code",
   "execution_count": 89,
   "id": "63bc1fdb-c5f5-4fb2-a135-e89d00b0a6c7",
   "metadata": {},
   "outputs": [
    {
     "name": "stdout",
     "output_type": "stream",
     "text": [
      "Percentage of sentences with apostophe is:  48.40979877296 %\n"
     ]
    }
   ],
   "source": [
    "print(\"Percentage of sentences with apostophe is: \",number_sent_apostophe/len(sentences)*100,\"%\")"
   ]
  },
  {
   "cell_type": "code",
   "execution_count": 90,
   "id": "963b824a-e3dd-4776-af02-00d59a98c771",
   "metadata": {},
   "outputs": [],
   "source": [
    "# Converting the words having apostophe into their root form\n",
    "def decontracted(phrase):\n",
    "    # specific\n",
    "    phrase = re.sub(r\"won\\'t\", \"will not\", phrase)\n",
    "    phrase = re.sub(r\"can\\'t\", \"can not\", phrase)\n",
    "    phrase = re.sub(r\"there\\'s\", \"there is\", phrase)\n",
    "    phrase = re.sub(r\"it\\'s\", \"it is\", phrase)\n",
    "    phrase = re.sub(r\"he\\'s\", \"he is\", phrase)\n",
    "    phrase = re.sub(r\"she\\'s\", \"she is\", phrase)\n",
    "    phrase = re.sub(r\"how\\'s\", \"how is\", phrase)\n",
    "    phrase = re.sub(r\"let\\'s\", \"let is\", phrase)\n",
    "    phrase = re.sub(r\"so\\'s\", \"so is\", phrase)\n",
    "    phrase = re.sub(r\"what\\'s\", \"what is\", phrase)\n",
    "    phrase = re.sub(r\"when\\'s\", \"when is\", phrase)\n",
    "    phrase = re.sub(r\"where\\'s\", \"where is\", phrase)\n",
    "    phrase = re.sub(r\"why\\'s\", \"why is\", phrase)\n",
    "  \n",
    "    # general\n",
    "    phrase = re.sub(r\"n\\'t\", \" not\", phrase)\n",
    "    phrase = re.sub(r\"\\'re\", \" are\", phrase)\n",
    "    phrase = re.sub(r\"\\'d\", \" would\", phrase)\n",
    "    phrase = re.sub(r\"\\'ll\", \" will\", phrase)\n",
    "    phrase = re.sub(r\"\\'t\", \" not\", phrase)\n",
    "    phrase = re.sub(r\"\\'ve\", \" have\", phrase)\n",
    "    phrase = re.sub(r\"\\'m\", \" am\", phrase)\n",
    "    return phrase"
   ]
  },
  {
   "cell_type": "code",
   "execution_count": 91,
   "id": "84043db3-f5b2-4f98-baca-c8405ac5cc56",
   "metadata": {},
   "outputs": [],
   "source": [
    "sentences=[decontracted(x) for x in sentences]"
   ]
  },
  {
   "cell_type": "code",
   "execution_count": 92,
   "id": "5425799a-92ad-40e2-ba47-f28e2b6f4db7",
   "metadata": {},
   "outputs": [
    {
     "name": "stdout",
     "output_type": "stream",
     "text": [
      "Percentage of sentences with apostophe is:  21.43747924121551 %\n"
     ]
    }
   ],
   "source": [
    "number_sent_apostophe=len([x for x in sentences if \"'\" in x])\n",
    "print(\"Percentage of sentences with apostophe is: \",number_sent_apostophe/len(sentences)*100,\"%\")"
   ]
  },
  {
   "cell_type": "markdown",
   "id": "37f39f49-9470-4220-9907-9094d609d897",
   "metadata": {
    "jp-MarkdownHeadingCollapsed": true,
    "tags": []
   },
   "source": [
    "#### • Handling the numerics"
   ]
  },
  {
   "cell_type": "markdown",
   "id": "48056cf4-da93-4953-adbe-fba19f5db7a5",
   "metadata": {},
   "source": [
    "<p style=\"font-size:18px;\"> Numerics are removed from the text because presence of numbers can add noise to the data and make it harder to extract meaningful insights.\n",
    "</p>"
   ]
  },
  {
   "cell_type": "code",
   "execution_count": 93,
   "id": "865b66d4-2f4e-4f7a-8036-713cc363a16f",
   "metadata": {},
   "outputs": [],
   "source": [
    "sentences=[re.sub(r\"\\d\", \"\",s) for s in sentences]"
   ]
  },
  {
   "cell_type": "markdown",
   "id": "33309e50-d412-4426-bceb-e721782459ad",
   "metadata": {
    "jp-MarkdownHeadingCollapsed": true,
    "tags": []
   },
   "source": [
    "#### • Removing punctuations"
   ]
  },
  {
   "cell_type": "markdown",
   "id": "069a09e0-4073-4821-b1cf-bd7f273d5548",
   "metadata": {},
   "source": [
    "<p style=\"font-size:18px;\"> Punctuation frequently doesn't contribute value or meaning to the NLP model, so they are removed from the text (Rastogi, 2022)\n",
    "</p>"
   ]
  },
  {
   "cell_type": "code",
   "execution_count": 100,
   "id": "25249192-697a-4774-8f56-17b9115e7ac6",
   "metadata": {},
   "outputs": [],
   "source": [
    "# removal of \\n\n",
    "sentences=[re.sub(r\"\\n\", \" \",s) for s in sentences]"
   ]
  },
  {
   "cell_type": "code",
   "execution_count": 101,
   "id": "46281650-745b-4b10-a34b-71eef5c7d79e",
   "metadata": {},
   "outputs": [],
   "source": [
    "def remove_punctuation(text):\n",
    "    punctuationfree=\"\".join([i if i not in string.punctuation else ' ' for i in text ])\n",
    "    return punctuationfree\n",
    "sentences=[remove_punctuation(f) for f in sentences]"
   ]
  },
  {
   "cell_type": "markdown",
   "id": "90b146e1-5dfb-43d8-b9d4-bb0cb16011d3",
   "metadata": {
    "jp-MarkdownHeadingCollapsed": true,
    "tags": []
   },
   "source": [
    "#### • Removing unicode from string"
   ]
  },
  {
   "cell_type": "markdown",
   "id": "9fbcfa67-c44b-4119-a85a-72d132b92f64",
   "metadata": {},
   "source": [
    "<p style=\"font-size:18px;\"> Unicode characters that do not contribute to the meaning of the text can add noise to the data and reduce the accuracy of the models or algorithms. Removing these characters can help to clean the data and improve the performance of the models or algorithms.\n",
    "</p>"
   ]
  },
  {
   "cell_type": "code",
   "execution_count": 123,
   "id": "8e8d3fc9-e8bd-47d2-9f87-007b1d81c0c4",
   "metadata": {},
   "outputs": [
    {
     "data": {
      "text/plain": [
       "'   congratulations from me as well  use the tools well  \\xa0· talk  '"
      ]
     },
     "execution_count": 123,
     "metadata": {},
     "output_type": "execute_result"
    }
   ],
   "source": [
    "sentences[5]"
   ]
  },
  {
   "cell_type": "code",
   "execution_count": 125,
   "id": "a34c33f5-f6ca-451f-a7fa-eef16df26475",
   "metadata": {},
   "outputs": [
    {
     "data": {
      "text/plain": [
       "'   congratulations from me as well  use the tools well   talk  '"
      ]
     },
     "execution_count": 125,
     "metadata": {},
     "output_type": "execute_result"
    }
   ],
   "source": [
    "[s.encode('ascii', 'ignore').decode() for s in sentences][5]"
   ]
  },
  {
   "cell_type": "code",
   "execution_count": 126,
   "id": "9bb65caa-55cb-466f-bba2-3bb0cd7c5e16",
   "metadata": {
    "scrolled": true,
    "tags": []
   },
   "outputs": [],
   "source": [
    "sentence=[s.encode('ascii', 'ignore').decode() for s in sentences]"
   ]
  },
  {
   "cell_type": "code",
   "execution_count": 127,
   "id": "99642e1a-5665-458d-a9a4-346c22af5ba2",
   "metadata": {
    "scrolled": true,
    "tags": []
   },
   "outputs": [
    {
     "data": {
      "text/plain": [
       "['explanation why the edits made under my username hardcore metallica fan were reverted  they were not vandalisms  just closure on some gas after i voted at new york dolls fac  and please do not remove the template from the talk page since i am retired now    ',\n",
       " 'd aww  he matches this background colour i am seemingly stuck with  thanks    talk     january     utc ',\n",
       " 'hey man  i am really not trying to edit war  it is just that this guy is constantly removing relevant information and talking to me through edits instead of my talk page  he seems to care more about the formatting than the actual info ',\n",
       " '  more i can not make any real suggestions on improvement   i wondered if the section statistics should be later on  or a subsection of   types of accidents     i think the references may need tidying so that they are all in the exact same format ie date format etc  i can do that later on  if no one else does first   if you have any preferences for formatting style on references or want to do it yourself please let me know   there appears to be a backlog on articles for review so i guess there may be a delay until a reviewer turns up  it is listed in the relevant form eg wikipedia good article nominations transport   ',\n",
       " 'you  sir  are my hero  any chance you remember what page that s on ',\n",
       " '   congratulations from me as well  use the tools well   talk  ',\n",
       " 'cocksucker before you piss around on my work',\n",
       " 'your vandalism to the matt shirvington article has been reverted   please do not do it again  or you will be banned ',\n",
       " 'sorry if the word  nonsense  was offensive to you  anyway  i am not intending to write anything in the article wow they would jump on me for vandalism   i am merely requesting that it be more encyclopedic so one can use it for school as a reference  i have been to the selective breeding page but it is almost a stub  it points to  animal breeding  which is a short messy article that gives you no info  there must be someone around with expertise in eugenics     ',\n",
       " 'alignment on this subject and which are contrary to those of dulithgow',\n",
       " '  fair use rationale for image wonju jpg  thanks for uploading image wonju jpg  i notice the image page specifies that the image is being used under fair use but there is no explanation or rationale as to why its use in wikipedia articles constitutes fair use  in addition to the boilerplate fair use template  you must also write out on the image description page a specific explanation or rationale for why using this image in each article is consistent with fair use   please go to the image description page and edit it to include a fair use rationale   if you have uploaded other fair use media  consider checking that you have specified the fair use rationale on those pages too  you can find a list of  image  pages you have edited by clicking on the   my contributions   link  it is located at the very top of any wikipedia page when you are logged in   and then selecting   image   from the dropdown box  note that any fair use images uploaded after  may    and lacking such an explanation will be deleted one week after they have been uploaded  as described on criteria for speedy deletion  if you have any questions please ask them at the media copyright questions page  thank you   talk  contribs     unspecified source for image wonju jpg  thanks for uploading image wonju jpg  i noticed that the file s description page currently does not specify who created the content  so the copyright status is unclear  if you did not create this file yourself  then you will need to specify the owner of the copyright  if you obtained it from a website  then a link to the website from which it was taken  together with a restatement of that website s terms of use of its content  is usually sufficient information  however  if the copyright holder is different from the website s publisher  then their copyright should also be acknowledged   as well as adding the source  please add a proper copyright licensing tag if the file does not have one already  if you created took the picture  audio  or video then the  tag can be used to release it under the gfdl  if you believe the media meets the criteria at wikipedia fair use  use a tag such as  or one of the other tags listed at wikipedia image copyright tags fair use  see wikipedia image copyright tags for the full list of copyright tags that you can use   if you have uploaded other files  consider checking that you have specified their source and tagged them  too  you can find a list of files you have uploaded by following   this link   unsourced and untagged images may be deleted one week after they have been tagged  as described on criteria for speedy deletion  if the image is copyrighted under a non free license  per wikipedia fair use  then the image will be deleted  hours after   if you have any questions please ask them at the media copyright questions page  thank you   talk  contribs     ',\n",
       " 'bbq   be a man and lets discuss it maybe over the phone ',\n",
       " 'hey    what is it       talk   what is it    an exclusive group of some wp talibans   who are good at destroying  self appointed purist who gang up any one who asks them questions abt their anti social and destructive  non  contribution at wp   ask sityush to clean up his behavior than issue me nonsensical warnings   ',\n",
       " 'before you start throwing accusations and warnings at me  lets review the edit itself making ad hominem attacks is not going to strengthen your argument  it will merely make it look like you are abusing your power as an admin   now  the edit itself is relevant this is probably the single most talked about event int he news as of late  his absence is notable  since he is the only living ex president who did not attend  that s certainly more notable than his dedicating an aircracft carrier   i intend to revert this edit  in hopes of attracting the attention of an admin that is willing to look at the issue itself  and not throw accusations around quite so liberally  perhaps  if you achieve a level of civility where you can do this  we can have a rational discussion on the topic and resolve the matter peacefully ',\n",
       " 'oh  and the girl above started her arguments with me  she stuck her nose where it does not belong  i believe the argument was between me and yvesnimmo  but like i said  the situation was settled and i apologized  thanks ',\n",
       " '   juelz santanas age  in   juelz santana was  years old  then came february th  which makes juelz turn  making songs with the diplomats  the third neff to be signed to cam s label under roc a fella  in   he was  years old coming out with his own singles   santana s town   and   down    so yes  he is born in   he really is  how could he be older then lloyd banks  and how could he be  when his birthday passed  the homie neff is  years old       juelz death  god forbid if your thinking about that  equals   go to your caculator and stop changing his year of birth  my god  ',\n",
       " 'bye    do not look  come or think of comming back  tosser ',\n",
       " 'redirect talk voydan pop georgiev  chernodrinski',\n",
       " 'the mitsurugi point made no sense   why not argue to include hindi on ryo sakazaki s page to include more information ',\n",
       " 'do not mean to bother you   i see that you are writing something regarding removing anything posted here and if you do oh well but if not and you can acctually discuss this with me then even better   i would like to ask you to take a closer look at the premature wrestling deaths catagory and the men listed in it  surely these men belong together in some catagory  is there anything that you think we can do with the catagory besides delting it ',\n",
       " '    regarding your recent edits   once again  please read wp filmplot before editing any more film articles   your edits are simply not good  with entirely too many unnecessary details and very bad writing   please stop before you do further damage         nothe    ',\n",
       " '  good to know  about me  yeah  i am studying now  deepu   ',\n",
       " '    snowflakes are not always symmetrical    under geometry it is stated that   a snowflake always has six symmetric arms    this assertion is simply not true  according to kenneth libbrecht    the rather unattractive irregular crystals are by far the most common variety    http   www its caltech edu  atomic snowcrystals myths myths htm perfection someone really need to take a look at his site and get facts off of it because i still see a decent number of falsities on this page   forgive me im new at this and dont want to edit anything  ',\n",
       " '    the signpost   september     read this signpost in full  single page  unsubscribe      ',\n",
       " '   re considering st paragraph edit  i do not understand the reasons for  s recent edit of this article  not that i am sure that the data are necessarily   wrong     rather  i am persuaded that the strategy of introducing academic honors in the first paragraph is an unhelpful approach to this specific subject   i note that articles about other sitting justices have been similarly   enhanced    and i also believe those changes are no improvement     in support of my view that this edit should be reverted  i would invite anyone to re visit articles written about the following pairs of jurists   a  benjamin cardozo  a  learned hand   b  john marshall harlan  b  john marshall harlan ii  the question becomes  would the current version of the wikipedia article about any one of them  or either pair  be improved by academic credentials in the introductory paragraph   i think not   perhaps it helps to repeat a wry argument kathleen sullivan of stanford law makes when she suggests that some on the harvard law faculty wonder how antonin scalia avoided learning what others have managed to grasp about the processes of judging   i would hope this anecdote gently illustrates the point    less humorous  but an even stronger argument is the one clarence thomas makes when he mentions wanting to return his law degree to yale   at a minimum  i am questioning this edit   it deserves to be reconsidered     ',\n",
       " 'radial symmetry   several now extinct lineages included in the echinodermata were bilateral such as homostelea  or even asymmetrical such as cothurnocystis  stylophora     ',\n",
       " 'there is no need to apologize  a wikipedia article is made for reconciling knowledge about a subject from different sources  and you have done history studies and not archaeology studies  i guess  i could scan the page  e mail it to you  and then you could ask someone to translate the page ',\n",
       " 'yes  because the mother of the child in the case against michael jackson was studied in here motives and reasonings and judged upon her character just as harshly as wacko jacko himself   do not tell me to ignore it and incriminate myself   i am going to continue refuting the bullshit that jayjg keeps throwing at me        jun   utc ',\n",
       " '  ok  but it will take a bit of work but i can not quite picture it  do you have an example i can base it on   the duck  ',\n",
       " '    a barnstar for you        the real life barnstar lets us be the stars     ',\n",
       " 'how could i post before the block expires   the funny thing is  you think i am being uncivil ',\n",
       " 'not sure about a heading of  fight for freedom  what will it contain ',\n",
       " 'praise   looked at this article about  months ago  much improved   ',\n",
       " 'i was able to post the above list so quickly because i already had it in a text file in my hard drive  i have been meaning to get around to updating the sound list for some time now   as far as generating interest  i have spent four years trying to drum up more interest in freely licensed full length classical music  unfortunately  my attempts failed   i am still effectively the only one who does it  the classical music wikiproject was not interested   wikipedia talk wikiproject classical music archive  need help wikipedia talk wikiproject music archive  i could use some helpwikipedia talk wikiproject music archive  raulbot c and the music list  so i really had given up trying to interest others    the sound list was featured on digg a while back   http   digg com music wikipedia has free classical music downloads   it got  diggs  which is imo very impressive ',\n",
       " '  well  not   before the process   but   before how we do things with subpages   his rfa is listed on noseptember s page and you can find it if you look  september  i think  i have my differences with el c to be sure  but was surprised to see a block  so i left a note      t c  ',\n",
       " '   not at all  you are making a straw man argument here  i never claimed o wouldonohue had that position  rather that practitioners and researchers in the field ignored the dsm position  which is exactly what the quote says and also something o wouldonohue agrees with    again  i was combating the notion that it was a   absurd part   to claim that pedophilia is a sexual orientation  since many researchers hold this position  it would be unfair to call it absurd  the disorder part is divided in the field  some argue that it is not a disorder at all  some do  at the end of the day  it is a value judgment  as cantor pointed out earlier in the thread   not a scientific judgement  if we choose to make this value judgment in the article  it should be stated clearly and not pretend to have a scientific basis     ',\n",
       " '      mainland asia   includes   the lower basin of china s yangtze river   as well as   korea     but being specific is fine too   i just found a citation for a more comprehensive dna study by hammer below  rather than our generarizations and speculation so far     citation for   yayoi culture was brought to japan by migrants from korea  who in turn trace their roots to southeast asia south china        dna study by hammer  describes the yayoi migration from korea based on the o sry   genes and other genes with close lineage  haplogroups o m and o m   reiterates that   the entire o haplogroup has been proposed to have a southeast asian origin      their definition of southeast asia includes southern china    then hypothesizes that   the dispersals of neolithic farmers from southeast asia also brought haplogroup o lineages to korea and eventually to japan     in the concluding paragraph  it states   we propose that the yayoi y chromosomes descend from prehistoric farmers that had their origins in southeastern asia  perhaps going back to the origin of agriculture in this region     hammer s dna study is based on a   global sample consisted of     males from  asian populations  including six populations sampled from across the japanese archipelago      ',\n",
       " 'pretty much everyone from warren county surrounding regions was born at glens falls hospital  myself included  however  i am not sure this qualifies anyone as being a glens falls native  rachel ray is  i believe  actually from the town of lake luzerne   the preceding unsigned comment was added by          august     utc ',\n",
       " 'hi explicit  can you block o fenian for edit warring on the giant s causeway wp  he has made several edits which can only be described as terrorism ',\n",
       " 'notability of rurika kasuga a tag has been placed on rurika kasuga  requesting that it be speedily deleted from wikipedia  this has been done because the article seems to be about a person  group of people  band  club  company  or web content  but it does not indicate how or why the subject is notable  that is  why an article about that subject should be included in wikipedia  under the criteria for speedy deletion  articles that do not assert notability may be deleted at any time  please see the guidelines for what is generally accepted as notable  and if you can indicate why the subject of this article is notable  you may contest the tagging  to do this  add  on the top of the page  below the existing db tag  and leave a note on the article s talk page explaining your position  please do not remove the speedy deletion tag yourself  but do not hesitate to add information to the article that would confirm its subject s notability under the guidelines   for guidelines on specific types of articles  you may want to check out our criteria for biographies  for web sites  for bands  or for companies  feel free to leave a note on my talk page if you have any questions about this ',\n",
       " '   sure  but the lead must briefly summarize armenia s history  i simply added what i found necessary  if anyone thinks this or that sentence is redundant for the lead  they are welcome to remove make edits   talk   ',\n",
       " 'tfd   i think we just eced  i think we responded to each other without seeing each others responses  i added something in response to yours  but do not know if you saw mine   t c  wp chicago wp four ',\n",
       " 'you are gay or antisemmitian    archangel white tiger  meow  greetingshhh   uh  there are two ways  why you do erased my comment about ww  that holocaust was brutally slaying of jews and not gays gypsys slavs anyone        if you are anti semitian  than shave your head bald and go to the skinhead meetings      if you doubt words of the bible  that homosexuality is a deadly sin  make a pentagram tatoo on your forehead go to the satanistic masses with your gay pals      first and last warning  you fucking gay   i will not appreciate if any more nazi shwain would write in my page  i do not wish to talk to you anymore   beware of the dark side ',\n",
       " 'fuck your filthy mother in the ass  dry ',\n",
       " 'i am sorry   i am sorry i screwed around with someones talk page   it was very bad to do   i know how having the templates on their talk page helps you assert your dominance over them   i know i should bow down to the almighty administrators   but then again  i am going to go play outside    with your mom       ',\n",
       " 'i do not believe the lisak criticism present there conforms with the npv rule   lisak does not have a neutral point of view to begin with   if an offer to polygraph or even concerned review of polygraph results shocks a complainant into thinking her lies have been uncovered  the recantation is still perfectly valid   if you know you are telling the truth  you will argue with machine or investigator   also part of kanin s research was a followup of the recanted story where possible to verify if any were false recantations   in all followups the recanted version of events matched what the accused said happened   arguing that lisak is a respected phd is baseless if kanin is a respected phd   i agree that my edit was not as neutral as possible though  so apologize for that   still something must be done here ',\n",
       " 'you had a point  and it is now ammended with appropriate encyclopedic notability significance ',\n",
       " 'in other words  you are too lazy to actually point anything out  until you change that approach  the tag goes ',\n",
       " '  as for your claims of   stalking    that is absolute rubbish and serves only to aggravate the situation  i have assumed good faith  and good intentions  on your part  and have never suggested  or seen reason to suggest  that you might have some ulterior motive in mass adding links to one specific company s web page  nor  for that matter  have i ever made any suggestion that this is an   administrative   matter or even mentioned such a role   clearly  as a party to this disagreement  i would not do so at any rate as it would be a conflict of interest   i would ask that you thus extend the same good faith toward me  rather than making spurious and unfounded accusations        chatspy    ',\n",
       " '     jmabel  in regards to predominant scholary consensus who is it that allegedly claims   despite   third way   rhetoric  fascism in power functioned rather consistently as a right wing force    as far as i am aware  owning numerous books on the subject  that is not the scholary consensus at all  the consensus  developed by respected scholars of fascism who write in a manner which is not bias to any interest group such as roger griffin  hamish mcdonald  roger eatwell and zeev sternhell all recongise fascism as a   third way   as the references show   the only dissenters i am aware of who seem to think fascism has absoutely no leftist connections and is merely a radical right system are street level socialists who want to put as much distance between the movements as possible  this of course does not come from educated people in a position to write books  for example  even the foremost scholary expert on fascism  and a former member of both the communist party and then socialist party of italy  renzo de felice does not try to   cover up   its socialistic origins and third way status  this is a man who has wrote a definitive seven volume piece on mussolini         ',\n",
       " '   bi  you said you wanted to talk  at the bottom of the lead section you have written     its promoter speculated in  that the skyhook concept could be cost competitive with what is realistically thought to be achievable using a space elevator  but the skyhook is not competitive with other rotating tether concepts  in addition  the rotating skyhook is in fact deemed   not engineeringly feasible using presently available materials       regarding   in addition  the rotating skyhook is in fact deemed   not engineeringly feasible using presently available materials    that statement appears to come from ref    on page    the full quote is    if the mass of the tether alone started to exceed  times the mass of the payload  then that was an indication the particular scenario being considered was not engineeringly feasible using presently available materials  although the application might become feasible in the near future as better materials become available with higher tensile strengths at higher operational temperatures     it then goes on to say    as we shall see  presently available commercial materials will suffice to make the hastol tethers needed  the primary message we want to leave with the reader is  we do not need magic materials like buckminster fuller carbon nanotubes to make the space tether facility for a hastol system  existing materials will do     so it would appear that you misread your reference   the tether mass of  times mass of the payload mass is the upper limit to the problem   systems where the tether mass is less than  times the payload mass can be built with   presently available commercial materials     to further reinforce this the conclusion to the report states    the fundamental conclusion of the phase i hastol study effort is that the concept is technically feasible  we have evaluated a number of alternate system configurations that will allow hypersonic air breathing vehicle technologies to be combined with orbiting  spinning space tether technologies to provide a method of moving payloads from the surface of the earth into earth orbit  for more than one hastol architecture concept  we have developed a design solution using existing  or near term technologies  we expect that a number of the other hastol architecture concepts will prove similarly technically feasible when subjected to detailed design studies  the systems are completely reusable and have the potential of drastically reducing the cost of earth to orbit space access     regarding    but the skyhook is not competitive with other rotating tether concepts    and     a  boeing report on the possibillity of combining skyhooks with hypersonic planes concluded that   in general  the non spinning tether hyperskyhook concept does not look competitive with the spinning tether concepts        the full quote is     hyperskyhook  in  zubrin proposed the hypersonic skyhook as a solution to the mismatch between the attainable atmospheric speeds of a hypersonic airplane and the orbital speeds of space tethers  since the orbital speed of the space tether decreases with increasing altitu',\n",
       " 'get fucked up  get fuckeeed up   got a drink that you cant put down     get fuck up get fucked up   i am fucked up right now ',\n",
       " 'are you threatening me for disputing neutrality  i know in your country it is quite common to bully your way through a discussion and push outcomes you want  but this is not russia ',\n",
       " 'thanks  undeletion was more than i would hoped for  i am researching the status of texas government  including local government  copyright status  but it is slow going  apparently works of the florida government are usually public domain  but we do not have a similar article on texas  so i guess i will have to research the old fashioned  non lazy  actually reliable way  or ask the copyright help desk  like you suggested  in the meantime  i am using the fair use rationale  since it is valid while the image is used in an article  thanks again   ',\n",
       " 'awesome  then i will simply disregard your notice  thanks ',\n",
       " 'stupid peace of shit stop deleting my stuff asshole go die and fall in a hole go to hell ',\n",
       " ' tony sidaway is obviously a fistfuckee  he loves an arm up his ass ',\n",
       " '    ga review ii   i am sorry to say this  but i have to fail this article s gan  the several major problems that  brought up in this article s previous ga assessment have not been issued  as s he has said before me    he article s wp lead should be longer  the history  media attention  academics  student government  demographics  trivia  and additional information section are very deficient in citiations  also  triva and additional information should be integrated into the rest of the article    again  please look over wp wiaga and fix these problem  then renominate it for ga class  however  i have re assessed this article as b class  as it does meet b class criteria  my regards     ',\n",
       " 'my band page s deletion  you thought i was gone    deleting the comment i posted on your  notalk page  does not delete my feelings for your hasty decision to delete my page  you  sir  are still a cock sucking douche fuck  sit back for a second and think about what your life has become               done  that did not take long did it  nope  because  as i am most certainly aware  your life is a shitstorm of sitting in front of the computer masturbating to fictional creatures  your attempts to get rid of me are mediocre at best  you are constantly sucking the dick of failure  you do not want a personal attack  huh  well  too bad  fuckcock mcdickerson  you have got one  from me  you can go ahead and delete my profile from wikipedia  i will just make another one and come right back to  syrthiss s talk page and insult the dick off of you  how could you shatter the dreams of an innocent eighteen year old college freshman trying to make a name for his band  does that make you happy  fucking with people because you are an overweight  single  old man in a dead end job  did you spot that perhaps someone else was going to follow his dreams and you were trying to hold him back so somebody else could suffer like you  yes you did  i do not make empty threats  so i will not be saying anything along the lines of  i will hurt you  or  i will eat the children from within your sister s womb   but i will say that you are a asshole  son of a bitch  mother fucking cock sucker  so  go eat some more food and drown your sorrows you premature ejaculating  bald headed fuck   you should do something nice for yourself  maybe go grab a couple of horny goat weeds from your local convenience store and jack off for a little longer than three minutes tonight   sincerely  an asshole that s better than you in every way ',\n",
       " 'why can not you believe how fat artie is  did you see him on his recent appearence on the tonight show with jay leno  he looks absolutely awful  if i had to put money on it  i would say that artie lange is a can not miss candidate for the  dead pool         kindly keep your malicious fingers off of my above comment    everytime you remove it  i will repost it   ',\n",
       " 'locking this page would also violate wp newbies   whether you like it or not  conservatives are wikipedians too ',\n",
       " 'a bisexual  like a homosexual or a heterosexual  is not defined by sexual activity   much like a  year old boy who is attracted to a girl sexually but has never had sex is still straight   a person who is actually sexually attracted aroused by the same sex as well as the opposite sex is bisexual ',\n",
       " 'redirect talk frank herbert mason',\n",
       " '     christian arabs   hi  could you please stop enforcing the category   christian arabs   on non arabic christians living in the middle east  this is wrong  we middle eastern christians  though not arabs  have gone through arabization  and that needs to stop  we are not arabs  we have our own ethnicity  and we should not be forced to be called   christian arabs    if a christian european is born in the middle east  should he be called a   christian arab   because of that reason alone  please understand  they are syriac christians  i e  of assyrian ancestry   and most of them speak aramaic  though a lot of them are forgetting it  as someone who speaks aramaic  you should respect this fact  and not appease muslims who want to call everyone arabs just because they are in the middle east  we are not closely related to the arabs from saudiarabia  we have our own ethnicity  please stop forcing upon us some alien arab ethnicity  that s oppression   talk    jun    utc  ',\n",
       " '    dh  dude  abc officially says this is the name for that episode  i do know there is already an episode with that name  but abc says it is   everybody s says do not       ',\n",
       " 'all of my edits are good   cunts like you who revert good edits because you are too stupid to understand how to write well   and then revert other edits just because you have decided to bear a playground grudge  are the problem   maybe one day you will realise the damage you did to a noble project      ',\n",
       " '     neiln s bang on   you are not being harassed at all  if you do not edit disruptively  you do not get reverted  talk  ',\n",
       " 'i went there around the same time he did  and that certainly was not the case at the time  later on they stopped taking children from such a young age ',\n",
       " 'there must be some chemical imbalance in your brains  are you ok  the gibberish you guys are writing really makes me feel sorry for you  do not ever go to law school  you would do the legal profession bad ',\n",
       " '   parzival  you are trying to scare thatso  how can you say that the comments of thatso are   insulting    thatso is trying to suggest that there should be no original research in the wikipedia  and  he is right   ',\n",
       " '   oppose  as the article stands  it does not properly reference under the wp reference guidelines  if this issue is resolved  i do not any issues with it being moved to the mainspace   ',\n",
       " 'i would appreciate an apology from both of you but i can see that is unlikely  if not please do not waste my time any longer with attempts at trying justify either your or plasma physics transgressions toward me or bother me any longer about this issue and i shall leave you alone and seek others here who deserve my considerate attention ',\n",
       " 'they are not original research  they are pointed in the episodes ',\n",
       " '   ambiguous    so mabuska irish can mean more than one thing   i will qoute you on that  thanks     preceding unsigned comment added by        of course it can  the word   irish   was not invented on the establishment of the irish free state  talk   quote me all you want  it depends on the context of the term when its being used as to whether its applicable or not  note how i said citizenship and ethnicity   i never mentioned nationality which is the real key meaning  the nationality meaning of the term is the predominantly used form on wikipedia  in nationality terms it refers to the republic of ireland  but you already know that i am sure    talk      in nationality terms it refers to the republic of ireland   no such country   so nationality terms it refers to ireland     preceding unsigned comment added by         oh wow  ireland as in ireland the state  whose official description is the republic of ireland   whats the point in this inane conversation    talk    ireland whose official name is ireland     preceding unsigned comment added by        http   www constitution ie reports constitutionofireland pdf reading for you   also   i see http   www constitution ie reports mbunreachtnaheireann pdf   as you speak both     preceding unsigned comment added by        ',\n",
       " '  while the magazine s masthead says   time   the corporate name is time inc   you can easily look this up   on the other hand  abn amro is always the corporate name   you can look this up as well     ',\n",
       " 'take your belated and piffling prevarications elsewhere  too late for here ',\n",
       " 'that s what i am looking through  it looks like he was just being an all around dick on talk pages though  it is nothing too bad though  looks more like an inability to express himself properly  thank you for your concern also  cheers    ',\n",
       " 'in the same direction  is it really necessary to name all the us states who recognize it  why not give just the number of states  this is not an american encyclopedia  but an universal one  i do not see why every single us states which recognize it should be named    ix ',\n",
       " '   december   utc   you must not play metal gear solid  that often  gw is the arsenal gear a i  that went haywire after solid snake uploaded emma s virus    ',\n",
       " 'hi  i am back again  last warning  stop undoing my edits or die ',\n",
       " '   minimization of textile effluent  a proposed deletion template has been added to the article minimization of textile effluent  suggesting that it be deleted according to the proposed deletion process  all contributions are appreciated  but this article may not satisfy wikipedia s criteria for inclusion  and the deletion notice should explain why  see also   what wikipedia is not   and wikipedia s deletion policy    you may prevent the proposed deletion by removing the  notice  but please explain why you disagree with the proposed deletion in your edit summary or on its talk page  also  please consider improving the article to address the issues raised  even though removing the deletion notice will prevent deletion through the proposed deletion process  the article may still be deleted if it matches any of the speedy deletion criteria or it can be sent to articles for deletion  where it may be deleted if consensus to delete is reached  if you agree with the deletion of the article  and you are the only person who has made substantial edits to the page  please add  to the top of minimization of textile effluent      ',\n",
       " '   is it scientific to attribute an event a  to cause b  where cause b was deliberate designed  with some sort of intelligent intent  do not answer the questions beyond that well  the problem with not answering beyond that is that your example is completely rigged  there are several major fundamental problems here     first  you completely fail to mention the fact that the intelligence behind id is quite literally not of this earth  natural science might look at a honeycomb  see it is built by bees  and then find an odd looking fossilized honeycomb  and theorize that it was made by odd looking bees  that is fundamentally different than saying it was made by something not of this earth  id has at its core the notion that something outside the system we can observe is at cause here  this is not science in any sense of the word  it is mythology  when paul bunyan was having a wrestling match with babe his blue ox  they kicked up so much dirt they created the great lakes  no evidence of paul and his ox remain  i mean  really     second  natural science takes an approach to knowledge that nothing is known scientific law unless it is irrefutable  theories must have heavy supporting empirical data to back it up  id turns this on its head and does an end run around knowledge and plays games with   probabilities    if no one can say how flagella on bacteria could have formed naturally  how in the hell can id proponents come up with any sort of mathematically accurate probability of flagella naturally forming on bacteria  if you do not understand it  you can not do statistics on it  id jumps right over that hurdle and takes anything that does not have a complete  detailed  natural explanation and jams in their own statistics that say   well  it is so improbable for this to happen  that someone must have designed it    this is such a perversion of science  you can assign probabilities to something you do not understand  id is just making up their numbers     finally  your example has a  b  where b was deliberate design  that s all well and good for a rigged example  except that with respect to life on earth    b   is unknown  your a  b example might qualify as forensic science  if   a   were a dead body and   b   were a bullet in the heart  you see a bunch of dead bodies with bullets through the heart  the next time you see a body with a bullet through the  heart  you can probably figure that s what killed him  you do not have that with life on earth  you have one scenario    a    and you have no other cases to observe or test  so  in that sense  a  b is not scientific if you have never actually observed   b     btw  b is teh intelligent designer  which has never been observed   so  in that sense  no  it is not science    ',\n",
       " 'screwjob      hey i noticed your comments on the montreal screwjob discussion page  i decided since nobody except someone with no account objected to what you said  i would atleast change the page a little to make it fair  i just wanted to tell you because i thought you would like to know  i only changed a few words at the top of the first paragraph and added something to the second one  if your not bothered thats fine but i thought since you were fighting for and nothing was even said  i might aswell tell you ',\n",
       " 'april  thank you for experimenting with the page andy griffith on wikipedia  your test worked  and has been reverted or removed  please use the sandbox for any other tests you want to do  take a look at the welcome page if you would like to learn more about contributing to our encyclopedia ',\n",
       " '   christ    iq is selected for therefore every population has the same iq    never ceases to amaze me       ',\n",
       " 'can you prove it is not   if you had a better knowledge of the english language it would have been obvious to you ',\n",
       " 'would you both shut up  you do not run wikipedia  especially a stupid kid ',\n",
       " 'oh  it is me vandalising xd see here  greetings ',\n",
       " 'website   hey all  i was thinking of getting myself a website to display my pictures and this was the cheapest thing i could find  i do not know about others  but fir and diliff  you guys have websites  do you think it is legit  could you provide any better alternatives  help from any other guild member is also appreciated  thanks  talk ',\n",
       " 'thanks reading there now  ',\n",
       " 'personal attacks in fruit brute vfd   my apologies if i am being to critical  but i feel that many of the comments made in the fruit brute vfd debate were far from reasonable   there had to be a more diplomatic way to disagree with  s assertion on the initial sentence than do not lie  it makes you look even more juvenile     learn to face up to when you have goofed  it will go a long way in your life  the attacks do to his age certainly border on a personal attack   were bart forty  sixty  or eighty  would you have included the comment on how  juvenile  he is   i do not expect you to apologise to anyone  but i want to make it clear that i consider your comments in this vfd debate inappropriate  and i think their are many members of the community who would agree with me    talk     feb   utc ',\n",
       " 'transliteration of russian place names in writing about moscow metro for the malayalam wikipedia  we are finding it difficult to correctly transliterate the russian place names  for example  do we pronounce park kultury as paark kalttari or paark kalchchari  or perhaps something completely different   can somebody please help by transliterating the list given in https   ml wikipedia org wiki      i am not putting the list here as i do not want to clutter up this page   thanks',\n",
       " '  almost got me too  i had to look it up to see if it was real       talk  ',\n",
       " 'how can one defame someone who thinks the fort hood shooting is justified by god s law ',\n",
       " 'lack of balance  this article is seriously out of balance   it would benefit greatly from the introduction of additional information about the negative aspects of the t    just for the record  this sort of balance problem is not uncommon when there is an over dependence on the works of a particular author   for example  testing and evaluation of a t  by the us army ordnance dept  exposed some very serious problems with the tank   this type of information should be included in the article to bring it back into balance ',\n",
       " '   thanks  i can see that violating clearly stated wikipedia policy is no problem with some people  as is now being reviewed elsewhere  finishing up one other wiki project todsy and then spending the rest of the day on an important personal blog entry   then i will go find other discussions of james petras  fascinating discussion of the use of the term   jewish lobby   so that i do not have to put back up the deleted dissident voice article right away per talk jewish lobby wp v   comparing jewish virtual library and dissident voice  carol moore  talk ',\n",
       " '  hi thanks for our kind words  see you around   talk  ',\n",
       " 'collusion in poker   this is regarded as most heinous form of cheating in poker  perhaps some mention of this  or example  is warranted ',\n",
       " 'thanks much   however  if it is been resolved  why is it that today  when i did not write anything in edit summary  camera put its ad in my edit summary box equalvoice  talk ',\n",
       " 'you can do all you are doing right now but if you get a username you will be able to do more and have more impact is what i am saying  and you seem to be very familiar with everything so you probably have a username  just get one  it takes  seconds    talkcontribs ',\n",
       " 'however  the moonlite edit noted by golden daph was me  on optus       wake up wikkis   so funny',\n",
       " 'check the following websites   http   www iranchamber com personalities farabi farabi php http   www islam org br  c aal farabi htm http   www superbeyin com sohbet sohbet htm',\n",
       " 'i can not believe no one has already put up this page dilbert s desktop games so i did',\n",
       " '   well  after i asked you to provide the diffs within one hour of your next edit here  you made an edit to your talk page here and then did not provide the diffs i requested within one hour of that edit  i then sanctioned you for failing to provide the requested diffs in a timely manner  which  after more than a week  you have still not done   consequently  your request to lift the sanction is denied    ',\n",
       " 'what page shoudld there be for important characters that do not reoccur  void  black doom  mephiles  etc',\n",
       " 'a pair of jew hating weiner nazi schmucks ',\n",
       " 'i tend to think that when the list is longer than the rest of the article  there is a problem   either the history and characteristics should be expanded  of the list should be culled   i personally like the consensus that was reached in the tripel article between  and others   myself included   we decided that the country of origin should be highlighted with the most examples   there we did trappist  abbey  and foreign   foreign includes all non belgium examples   this way the article is an article in an encyclopedia  not a list   people can find lists anywhere  and the article should reference this   also  the style statistics are bad   when you say style statistics  it sounds like a prescription  not a description   an encyclopedia should follow the latter  and if the former is used  a citation should follow   and you will not find a valid one for this style in it is country of origin ',\n",
       " '    what is up with this     if you are a religiously or politically motivated to push this or that issue  please refrain from talking on my page  i am not interested  otherwise  feel free to talk about relevant edits here or science  deleet  talk    i would prefer if the following users never post here  maunus aunussnunw weijibaikebianji    this guy is a published psychology researcher right  perhaps he does not know you have access to libraries and the best sources  you should point that out more often  it does not come across as mind bendingly condescending  also i suspect that editor is a racist  see you on the wiki        ',\n",
       " 'i am not vandalizing    i am just having fun man  you have no sense of humor if you think i am vandalizing stuff  lemonparty org this site now',\n",
       " 'welcome to wikipedia    bla  discover ekopedia  the practical encyclopedia about alternative life techniques       bla  discover ekopedia  the practical encyclopedia about alternative life techniques ',\n",
       " 'including some appropriate mention of the solomon article is not without some level of support  ',\n",
       " '   comment  i could not verify the claim    talk   ',\n",
       " '   czech republic is in central europe  the state of this article is part of the reason why people are making such confusions  especially more ridiculous is that they you would replace the mention of north caucasus in favor of   north slope of caucasus mountains   which isnt even a geographical area other than denoting the mountains in that region  countries are located within continents  yet for some reason you refuse to allow this article to be denoted a continent  this single factor alone would have made a massive difference for readers  i am tired of arguing with people who are essentially wiki squatters refusing to nudge on a given article        ',\n",
       " 'thanks  josette  i enjoyed meeting you  too  i was shocked by the decision  which does not begin to reflect consensus  does just one grand poobah make it alone  serves me right for stealing time from more pressing real world duties to indulge in a fun hobby  i have learned my lesson and will not waste time like that again  i will stick to fixing the little things i run across as i read articles for my own information ',\n",
       " 'paleontologists agree that organic remains must be buried quickly so they can be preserved long enough to be come fossilized   however  the term fossilized is not a very precise term   there are several factors and metamorphic mineral processes which occur to organic remains that result in what is typically called a fossil   one major factor concerns what kind of organisms are to be fossilized  vertebrate  invertebrates  radiolarians  sponges  plants  pollen  foot prints  etc   and multiple processes may include permineralization  recrystalization  carbonization  replacement  dissolving  diagenesis  etc   talking about fossilization is a complex issue  however quick burial is not questioned   the major question is  how long does it take for these processes to work on organic reamins in the environment they are found in   experimental taphonomy has resulted in an assortment of remains becoming fossilized by various processes in the lab  which of course implies that given the right conditions  vast ages are not an issue   the metamorphic processes are ongoing until an equilibrium is met between the chemical enviroument of the burial site and the minerals of the organic remains   flood catastrophic geologists do not expect that organic remains buried during the flood were completely fossilized within the one year period of the flood  but rather that there has been some  years for the processes to have been working   much more work needs to be done on the taphonomy of organic remains   yet  how one interprets even those results will depend upon which world view you choose to believe with ',\n",
       " 'also i think vegetable basket needs it is own wikipedia page ',\n",
       " 'bigfoot reference   the magazine is better known as just the engineering and mining journal  which you may have a difficult time finding  depending on where you live   i ran across the article a few years ago while researching something else  and made a copy   it is clearly derived from press accounts  and treats the incident as a joke   my whole point in citing it was to show that the incident  whatever it was  was not  entirely  created   years after the fact   if you leave me your email  i will scan the page and email you a pdf ',\n",
       " 'also see this if you cant trust murkoth ramunni http   books google com books id hhevugfpec pg  pa dq  thiyya matrilineal hl  en sa  x ei  tlppudahmwiqlgvidgba ved  cdyqaewaq v onepage q  thiyya matrilineal f  false',\n",
       " '    chart performance of   single ladies  put a ring on it      please take my advice and split up the paragraphs in the section  fas generally have short paragraphs  it is hard and boring to ingest so much information at once  so splitting the paragraphs will improve the flow      talk     ',\n",
       " '   hahahaha     good one        i have removed it    ',\n",
       " '   having said that  i have temporarily removed my requests based on cyde s advice  pending a   request for consensus   i have asked for on the talk page  i urge anyone reading this to vote so we all know what the community wants    ',\n",
       " 'conformity as healthy   i may have missed it  but this article does not seem to address conformity as just a healthy behaviour  such as the way that we conform to grammar so that we can be understood  or that we conform to laws because we recognise a need for an orderly society     ',\n",
       " 'hi  i am new to wikipedia  read up on pandemics today  i am impressed by the quality of information  to my knowledge not easily available elsewhere in the same easily accessible format  thank you all of you for creating this content and making it accessible ',\n",
       " 'should say something about his views as an educationalist and socialist political commentator   link to http   www langandlit ualberta ca fall steigelbainbridge html mentions this a bit   he stood as an election candidate for respect ',\n",
       " '   sandbox   do not take the template out of the sandbox  it says   do not remove   for a reason       jan   utc    ',\n",
       " 'heh  it is a bit of a copy of wikipedia wikiproject professional wrestling  but i thought it look a bit tidy and better that way ',\n",
       " 'ahh  hello witzeman         symbols                                                                              m m  characters                                                                                                                                                                                                 i                                                                                  greek                                                                                 cyrillic                                                                                                                       ipa  t d                                                                                                                             my famous article   witze  happiness  wikipedia the witzeman is a great honour that has been passed down through the generations of many families  regardless of race  age  character or knowledge  the outside world knows little about these elusive characters  and the honour of the witzeman  for those who have ever been a witzeman  it has been said to have been a great honour  although the qualities needed for the job have never been disclosed  a person may not now they were a witzeman for many years  until they are called by former witzemans via dreams  associates of the witzeman are known to be a certain babe cool or the much lesser known witzewoman   the present witzeman is an  year old boy namely benjamin woods  who is said to have become a witzeman after he felt this  awesome radiance in his top right bumcheek   he has not told a great number of people his testimony  but has promised to do so in years to come                              history the present world has only come enlightned with the knowledge of the witzeman in present years  because former witzemen have not been so public about the honour  to abide with the formality and conservativism in their time  the term  witzeman  is a compound word of the adjective witze and  aman   witze being an th century term for  a person of extreme humour and radiant intelligence   unfortuneatly  witze is also sometimes associated with bad wind  for unspeakable reasons                          proper history as early as the th century  witzemen were considered outcasts  and young children were encouraged to poke them with sticks  this led to the st witzeman rebellion of  when the current witzeman and his followers attempted a coup to take over the local council chess team  this rebellion further disgraced the witzeman  as he and his followers were embarassingly pronounced  gaga  at a government meeting that year  the period from here to the early s was a dark time in the witzemans history  however good times were to come for the witzeman  many normal people took part in mass demonstrations and protests for the witzeman in the s  building up to a great moment in the history   the great rebellion of   this was when several witzeman sprinted round the visitors gallery of the house of commons  wearing clown masks  but otherwise completely naked  this was thought to be an act of circambulation  however many people who witnessed this shocking behaviour  were  amentally  spiritually  and emotionallly scarred for life   this group of people included many young children who were forced to go to asylums in a state of mental instability  suffering from trauma  it was at this time that the government finally took positive action for the witzeman  in   a bill of rights for the witzeman was signed  stating all witzemen were allowed to do as they pleased  although this was a formal agreement  many journalists viewed it as a letter of submission from the government to the witzeman  as the behaviour of the witzeman and his followers became more and more twisted ',\n",
       " '   ok  just finished my planned cleanup of the todo page  the entries that were removed were copied to the investigated entries page so we have a record that we looked at them  talk     ',\n",
       " '    on dec     a nist scientist said      the collapse of the towers were not of any magnitude that was seismically significant       see dr wood s   the scientific method applied to the thermite hypothesis   paper on her tripod site for mp links   ',\n",
       " 'the statement drawn from watchtower literature  honestly  not clandescently  not with hypocrisy  is drawn from watchtower literature via ray franz s arguments and literature  and imposed into the wikipedia article  it is too much of a coincidence that a more or less follower of ray franz is going to come up with a reference to wa  literature on his own  exactly the same connection ray franz makes  without having first seen the connection made in ray franz literature     natural   nature',\n",
       " 'sorry about that   i had checked  but had only come up with dulas bay   somehow i had missed the dulas disambiguation page completely   apologies again  it is not even as if it was getting particularly late at night   the onset of swine flu perhaps ',\n",
       " 'tcm   i can find no evidence that acupressure is a tcm  rather than derived from tcm  if no one objects i will place a citation note in the article ',\n",
       " 'well  it still needs expansion in areas  citations in others  more images  was going to get a pic of the stanley cup banner tonight at the hitmen game  but forgot my camera  and a thorough review copy edit by someone with a better flair for words than i  but work progresses   lute',\n",
       " 'a redirect somewhere could not hurt  though i still do not think any o the candidates are ideal  but then if he passes the notability threshold some day the basic material is still there to work with ',\n",
       " 'meivazhi i have had a go at restarting the meivazhi article in a style that s more standard for wikipedia articles  someone would probably have deleted it pretty quickly if it had stayed in the form you posted  i would be grateful if you could help at talk meivazhi about the accuracy    unfortunately i had to remove your links  the conflict of interest guidelines advise against editors linking to their own sites  and also wikipedia s attribution policy wp att requires that information should come from third party published sources rather than personal websites  do you know of any good newspaper book accounts of meivazhi     ps what is the salaimanimudi indlist com site  a personal site by a member ',\n",
       " 'though this is certainly a small article  but it is not so inconsequential as to warrant subsuming it within the flame trees article    it is a discography article  and should stand alone     may ',\n",
       " 'yeah  let is merge the content   not sure if devil s canyon is the same type of codename  ',\n",
       " '    image yourtransitad jpg   i think i may be able to get a better photo of this ad  if i am able to do that  is it okay if i use it to replace this current one  i want to check with you first before doing anything        ',\n",
       " '    a cookie for you      a cookie for you    ',\n",
       " 'lmao  what a nb  go and listen to manele ',\n",
       " '   december   utc  yep  lol  the   reformist party  serbia  reformist party  is having another go  the th very last on the parliamentary election  winning less votes than notable to actually be mentioned      by the way  here s something very little people have figured out   the new constitution of serbia has been brought to enable kosovo  secession  the  constitution barred that as a possibility  and after the kumanovo military technical agreement was signed between nato and fry the srs broke its coalition with sps and the government collapsed  causing new elections   because that was unconstitutional  as an act of highest treason  enough to be tried from maximum sentence  which the radicals demanded from then to his death  to have a trial in serbia  and to be tried for treason among other reasons   this constitution releases the authorities from that weight  and they will not have to go to prison if they recognize any form of further loss of sovereignty in kosovo       ',\n",
       " 'new wikiproject novels initiative we have begun a new initiative at the wikiproject novels  an improvement drive  as a member listed here  you are being notified  please see wikipedia talk wikiproject novels    improvement drive and wikipedia wikiproject novels collaboration for more details  also i would like to remind you to keep an eye on the project talk page at wikipedia talk wikiproject novels  thanks ',\n",
       " '   reply are you being facetious  if not  you would have relayed the same message to jza and mrsc as my words were no more stern than theres  if you would like evidence for any of the claims made on the talk  then i will only be too glad to provide  you also failed to provide diffs in your message to me  in regards to which words you are claiming are offesive  perhaps wp assume good faith   the two users constantly harass and follow me to articles making disruptive edits in violation of numerous wikipedia guidelines  wp harass is just one   for example the removal of third party references from articles which do not suit their pov  without entering an edit summary  considered by wikipedia guidelines as bad faith and a violation of wp blank   the violation of wp neo by adding derogatory neologisms to the articles of organisations who they do not personally agree with  despite being made aware of the policy  despite not having any reference to the said organisation being described with said neologislm and despite the community majority constantly removing the derogatory term   the same   tag team   practise can be shown to be used against numerous other editors who edit articles on british culture and trad counties  not just against me  again  if you would like evidence just ask   it would seem however  looking at the messages on your talkpage above  especially the lovely intertude under   uk mediation   section  that jza messaged you  somebody he seems very familiar with  in violation of wp canvas  specifically the section on wikipedia canvas campaigning may interest you  if you are going to be an admin  may i suggest you please make yourself familiar with the policies and guidelines i have referenced in this message  rather than accusing me  a user who is being cyberstalked  of   personal attacks    systematic bias is not acceptable  you are here to make sure that our policies are upheld not to chip in for the sake of a friend  thanks       ',\n",
       " ' p s  it is not polite to talk to people behind their backs  please remove your comments from mrph s talk page   vaughan you are right  i went to check your previous edit and found a page on the marvel site that spelled it   vaughn    but now i am finding many more that spell it correctly  thanks for the edits          ',\n",
       " 'the block  hi just wondering if it has been confirmed the darren jolly will be a contestant on the block    thanks',\n",
       " '    opinion please pt ii   as srq continues to make personal remarks after she said she would not   may i assume you will  help me with a wp rfc u   also  i believe she has violated the rr rule today  edit warring over one accurate word is ridiculous  as is edit warring in general  let is make it stop    may i also ask what was wrong with the honest statement i made on talk page and what you mean by hasty refactoring  i appreciate any assistance and welcome any questions  btw  when do pivotal  accurate  well referenced entries become   peacock    my understanding is that it refers to unneceessary editorializing  not to precise vital info in the sequence of events  thanks     ',\n",
       " 'azari or azerbaijani    azari iranian azerbaijani turkic nation ',\n",
       " 'userbox hello  a userbox you are using  template user queerrights  has been moved to user space per wp gus  the new link is  and leave any questions you may still have on my talk page  thank you ',\n",
       " '   if you actually take the time to do a little bit of research bloodofox  instead of jumping into what you perceive to be an avenue to pursue your vendetta against me  you would have realised by now as would your colleague kiyoweap that in all probability the kelpie  water horse  each uisge  just different terms in used in different places for the same entity  which is why i challenged kiyoweap to produce something decent on the each uisge  which i guarantee he will be unable to do   corbett  ',\n",
       " 'from what i have seen with editors other than eric  the elephant in the room is the issue of baiting poking the bear whatever the hell you want to call passive aggressive baiting  no one wants to touch that one  even though it is uncivil as hell and appears to be the tactic of choice whenever someone wants to get rid of someone or get their way  that s the part that saddens me  darkness',\n",
       " '    socialistm    there are two important features of smith s concept of the   invisible hand    first  smith was not advocating a social policy  that people should act in their own self interest   but rather was describing an observed economic reality  that people do act in their own interest   second  smith was not claiming that all self interest has beneficial effects on the community  he did not argue that self interest is always good  he merely argued against the view that self interest is necessarily bad  it is worth noting that  upon his death  smith left much of his personal wealth to charity   good   let is all make sure we put forth the idea that adam smith was a socialist   that s the wikipedia way  ',\n",
       " '   sorry puck but no one ever said dick was number one   but he is clearly listed as being   second only to batman   and a   master detective and martial artist   and been trained in all the mentioned combat discplines  no need to mention in skills abilities about the battles he is lost and won because thats not what an encylopia is supposed to do    also  what your problem is your going by low end showings and not high end showings where he is proven more than a match for a meta like slade and pinned shiva down in one of his earliest appearences    ',\n",
       " 'the alpha version had multiplayer  the beta version did not ',\n",
       " '  pd  i just have seen that apart from the article coat of arms of the sahrawi arab democratic republic  there is also a different article named coat of arms of western sahara  that shows clearly that some users here have politically driven intentions and bad faith  although they claim to be neutral  if they were neutral  logically they would work on the   coat of arms of western sahara   article  intead of trying to merge the two articles and messing it    ',\n",
       " '   we are not treating this as a forum  a question arose and was appropriately answered  end of story    ',\n",
       " '    military history wikiproject newsletter   issue ii   the april  issue of the project newsletter is now out   you may read this issue or change the format in which future issues will be delivered to you by following the link   thanks    ',\n",
       " '  between the unblock submission and  response there is less that  minutes which proves that this administrator did not pay enough attention to this case',\n",
       " '       your request to be unblocked has been granted for the following reason s   allowing username change to gianluigipalermo  please put this request in at wikipedia changing username as soon as possible to avoid re blocking   request handled by      unblocking administrator  please check for active autoblocks on this user after accepting the unblock request  ',\n",
       " 'once again  i responded to milemoney s reasoning for his edit and i gave my reasoning for my edit   yes  it is absolutely relevant to this page   there are other places for the discussion on income inequality than in the progressive tax article ',\n",
       " '   unblock me or i will get my lawyers on to you for blocking my constitutional right to free speech ',\n",
       " '    attributing and classifying of personalities     invitation  your input to culture of lithuania is welcomed   some problems of defining personalities or attributing them to certain well known ideological systems may raise here  i propose a quite liberal variant of it  where definition may not be connected with one certain word  necessity however to follow certain classifying remains    my initial ideas on this branch  the ones  concerning period of lithuanian national renaissance period  some artists  writers or other cultural workers of this period are often described as  modernists  this definition is not false  but some more concrete things should be added  some specifics of lithuania   we should distinguish leading ideas of the nat  renaissance from later modernism  which is more known for us  cultural aspirations of the later nat  ren  may be defined as  modernism in a cultural context of lithuania  but they accented also expression of lithuanian cultural heritage  and their expression may be seen as something simply typically  lithuanian  i mean  that such authors in as  iurlionis is seen as modernist in lithuanian context  but it also  and even more  is a representative of lithuanian culture  when in european or world wide context  a parallel  example may be taken from literature of india  poet  tagore  well known nobel price winner is known for us as a representative of culture of india  making india more understandable and closer for western people is concerned as main his input to western culture  but in his own country  he was seen as a modernist too  who was changing traditional cultural forms  especially stagnated ones  this way also lithuanian cultural leaders of the n  ren  could be seen as modernists  which were broadening cultural forms and changing stagnated ones  in lithuanian context  they also can be seen as modernists in a wider context  but more for acquainting western people with lithuanian culture than for their direct input into western culture  iurlionis is the best example here   in other way  the later lithuanian modernists  they depended mostly to later  generation  approximately from th decade of the th century  concerned themselves part of western modernistic movement and their main purpose  looking generally  was  to introduce western european ideas into lithuanian cultural life  see the table below    we see two different movements and two different world outlooks here  the problem is  that both movements collaborated  especially their political wings did  and interchange of ideas between them is well seen  so  many researchers do not pay attention to this difference  especially in the soviet period  when national ideas were officially forbidden  mixture in description of these movements was allowed  e  g  philosopher ramnas bytautas  who clearly depends to the first generation  is often described as liberal  and it may be understood in a sense of the second generation  as idea of liberalism       period and generation  artists  writers  philosophers etc in a context of lithuania in an european context the national renaissance period  the younger generation  approx     painter and composer  iurlionis  painter kazys imonis  poet and philosopher vilius storastas   vydnas  dramatist sofija kymantait   iurlionien  poets adomas jaktas  motiejus gustaitis  liudas gira  composer stasys imkus  philosopher ramnas bytautas   reformers and innovators of lithuanian culture representatives of lithuanian culture  almost unknown before them  the period between wwi and wwii and post war years    poets v mykolaitis   putinas  kazys binkis  writer ignas einius  jurknas  artists  all  ars  group   philosopher juozas girnius  modernists  introducing new western ideas into lithuanian cultural life  central european modernism   note  lists of personalities is not complete here  nor it is made precisely by prominence        jul   utc    ',\n",
       " '   actually  direct quotes that are not in quotation marks and are not attributed are generally known as   plagiarism   and or   copyright infringement    but the nyt material is not the issue  as you well know  the material from the   jewish action taskforce   is the problem    ',\n",
       " '  katelyn faber could you weigh in at the bottom of the talk page for katelyn faber regarding the inclusion of an image of her       template user totalbox   thanks for reverting      esperanza newsletter  issue       style   border spacing px margin px  px   width        class   mainpagebg   style   width     border px solid  cefe  background color  ffffa  vertical align top color       reach outreach out is a program aimed at allowing users to bring issues that they have had in wikipedia to a listening  sympathetic and caring audience     no one can know how we feel if we do not say  we cannot expect to get understanding if we do not ask for it  no one will dispute that sometimes life s issues are too much for one person  it is fair to say that sometimes wikipedia s problems fall under the same heading  this is a place where you can bring the bruises that can sometimes be got on this project for attention    stress alertsthe stress alerts program aims at identifying users who are stressed  alerting the community of thier stress and works in tandem with the stressbusters at trying to identify causes of stress and eliminating them  note from the editorwelcome to this new format of the esperanza newsletter  which came about during the last advisory council meeting   we hope you like it  the major changes are that each month  right after the council meeting  this will be sent out and will include two featured programs and a sum up of the meeting  also  it will be signed by all of the advisory council members  not just   have an esperanzial end of march  everyone   class   mainpagebg   style   width     border px solid  cedff  background color  ffaff  vertical align top       width       cellpadding      cellspacing      style   vertical align top  background color  ffaff     the last ac meeting  full log      style   color       future meetings are to be held monthly  not fortnightly as before   bans and access level changes  apart from autovoice  in the irc channel are to be reported at the new log   in the irc channel  there is going to be only one bot at a time   the charter requires members to have  edits and  weeks editing  why this is the case will be clarified   a new code of conduct will be drafted by  and proposed to the esperanza community   the npa reform idea is to be dropped officially   charter ammendments are to be discussed in future  not voted on   the advisory council is not going to be proposed to be expanded by the advisory council themselves  if others want to propose it  they will listen      ',\n",
       " 'fradulent claim   i am most certainly not a sockpuppet of thechief  please retract your fradulent claim at once ',\n",
       " 'that is quick if we only limit the discussion for changing the title but considering the previous discussions for months can have a valid reason for the move ',\n",
       " '        july     utc   p s  feel free to leave a message on my talk page if you need help with anything or simply wish to say hello    ',\n",
       " 'and  of course  peiser is more than just a social anthropologist   he is one whose recent research has focused primarily on the social aspects of climate change and is thus at least as qualified to comment on the state of consensus as a historian   regarding his study  it has not been published in a peer reviewed journal  but the results have appeared in many reliable sources   in effect  it should be treated no differently than as if peiser himself  or any other scientist  had verbally relayed the conclusions directly to a reporter   literally tens of thousands of wiki articles contain such references direct quotes from scientists  which appear in no other source but through the medium of a reputable reporter ',\n",
       " 'hi   hi  good day   my deepest apologies that i had made the change  i had made the change it was because i was there  on the day  i was there on the day when they are all line up the most straightest one straight line  the most biggest  the most brightest and highest star in the sky over my head when the clock strikes  exactly at the noon on that day   the date which i provided   it was the most beautiful thing i ever see  i know many thing need prove but i know what i saw that day  it is up to you now but it was okay if black and white prove to be needed  i do not have any  my sincere apologies for the trouble i had cause you   i am from south east asia  i am a asia and i came from a very traditional chinese family   have a pleasant day',\n",
       " 'you should be fired  you are a moronic wimp who is too lazy to do research  it makes me sick that people like you exist in this world ',\n",
       " 'it looks to me like he is violating wp npa  but it is pretty minor  i will point this out to him  and if you two are having a content conflict then you can try the mediation cabal  by the way  it is generally easier to sign with      than typing out   have a stop by in the irc channel if you want further advice  by the way        talk',\n",
       " '   a pat on the head kc  you are one of the most dedicated wikipedians i know and i am madly in love with you  i would give you a barnstar but in the end you would just chew it up and bury it  instead  let me offer this metaphorical pat on the head    that will do pup  that will do     see you around      tropics  ',\n",
       " 'note that the sandbox is the right place to experment   thanks ',\n",
       " 'friesers opinion is simple i guess  kursk was no turning point  german were on retreat before and after  i think hes correct  russians had more personnel before and after they improved their skill   glantz   this in combination forced germans to retreat only  the losses were not the problem  after the battle of kursk the tanks and infantry strenghts were more in favor for germans then before      some weeks after kursk german tank strenghters were higher than before kursk   zetterling  ',\n",
       " 'oh  i did not know  thanks ',\n",
       " 'lois roisman your piece on lois roisman omitted much of her background and everything to do with her death  i have updated it  please review if there is anything you want to add     ',\n",
       " ' know the sex of the foetus   ',\n",
       " 'i think that your a fagget get a oife and burn in hell i hate you  am sorry we cant have any more sex i am running out of conndoms',\n",
       " '              may ',\n",
       " 'sorry  the link you gave me is dead  and i formatted in harvnb  so plz help in that matter ',\n",
       " 'reply above  that was me  loser  the un defines vietnam to be part of southeast asia  and far as i know vietnam is part of asean  and used to be part of french indochina with laos and all those shit countries anyway your culture has always been more influenced by sea than han chinese  as in proper yangtze han chinese  not the fringe indigenous tribes in guangzhou guangxi     just admit that you vietnamese are all a bunch of wannabe crap people  all the east asian people i have spoken to thinks of vietnam as a very integral part of sea  and we all think you are backward  dirty and speak in a horrible swearing language  does not matter what crap you spout on wikipedia  will not change the way people in the real world think ',\n",
       " '     august   wow  i understand that the sentance i   added   was not crucial and really does not change the content  but what is this   has the community not gotten smaller  was it not caused by the automobile  have i not sourced the statement as asked  is it not a fact  is it not information  does it not help inform people as to why foresters falls is not as large as it seemingly once was  is it not the only peice of information in the article that bridges the span of time between  and present  is the usfullness of the edit the only criteria used to determine if it will be reverted or not  if so it should be noted that i simply re added the information after it was removed  was not the removal frivilous and unwarranted  what is the problem  why insist on the absence of this statement  it is unjustifiable  it is negligible  i am re adding the information as it is  a factual  b  sourced  and c  informative  i assume that since there is no reason to remove it again  or in the first place  that you and all other wiki nazis will relax  if you are concerned with useless edits please see the edit fom the th  i know it was carried out by the great infallable mindmatrix but imho that was the first useless change   ',\n",
       " 'you are a stupid fuck   and your mother s cunt stinks',\n",
       " '    eta  john d  haynes house  sarekofvulcan  talk   ',\n",
       " '    new       userbox   tabtab  id      tabtab  id c   white   tabtab  info   this user is a faggot    tabtab  info c   lightblue   tabtab  border c   black   tabtab  usercategory   lgbt wikipedians   tabtab  nocat      tabtab     tabtab  tabtab    nothis template automatically categorizes the user in lgbt ',\n",
       " '   december   utc  mendel does not talk about those changes at all   mendel was refering to the conspiracy section that used to be there    ',\n",
       " '    please do not vandalize pages  as you did with this edit to budweiser  anheuser busch   if you continue to do so  you will be blocked from editing      echo  ',\n",
       " 'correct  dead is dead  there are  however  leves of wounds  hence the emphasis when they are serious  this is not a pov adjective ',\n",
       " '   i fixed the pic  if anyone still feels that it should move it can be done     the voices  ',\n",
       " 'george w  bush approval rating graph   http   upload wikimedia org wikipedia commons   george w bush approval ratings with events svg  the circle for the september th attacks looks too far right  think you could update it   why are the data points post  omitted ',\n",
       " '   sorry to interrupt but i am at  edits now    the first  were likely just on my own pages and because i was asking for help so much so maybe just     or maybe less    but it still kind of counts  amulet  ',\n",
       " 'absolutely  use of that word is strongly misleading  even with   like   the structure had nothing to do with mastaba   a burial chamber basicly  mastaba by definition has entran   ceinner space  this structure was one solid pile of rocks  with no inner space or entrances  it was ment as a wall fragment ',\n",
       " 'i just noticed that the neutrality of this article is disputed  not by me   in light of that  i again ask that my post here  and my invitation to discuss how and whether neutrality can be achieved  not be deleted  it is highly relevant  and relatively urgent  bearing in mind the rule that there are no emergencies on wikipedia  in time convergence on truth will be achieved ',\n",
       " '    editors do not care about your   explanations   if they are not accompanied by reliable published sources  i could   explain   why i thought dogs ate cats but i would get the same reception if i did not provide sources  stop edit warring and present sources   talk to me  ',\n",
       " 'about mitch moved to yggdrasill   i have no idea   it was not me on doing that',\n",
       " 'sockpuppets and impersonators   the two above sockpuppet impersonator accounts  including',\n",
       " 'oh  also would not films that are named three or some variation thereof be listed on the disambig page and not on here  just wondering because it makes much more sense to me   i apologize in advance for certain individuals who are too sensitive to hear the truth ',\n",
       " 'review request   hi   i would like to request klm for a ga class review  can anyone do that  it seems to have many similar stuff to other ga s  such as kenya airways and ethiopian airlines  cheers     breaksfixes   ',\n",
       " 'i do not at all propose that it should be transcribed as  men  in this or any other article   if anything at all  just a brief mention of the raising of trap and mouth in a pre nasal environment would suffice   i just thought it was an american thing to raise  before nasals  i do it myself   but i often hear aussies do it quite a bit as well  and i do not hear english people do it at all   the only difference is that americans have a tendency to diphthongize it as well as raising it    i am not really surprised you do not have a broad accent  being a wikipedian   i am not saying it is not possible  you are right  i was just kind of thinking aloud ',\n",
       " 'homosexuals are intent on legitimizing their behavior  therefore  they will seize any opportunity to suggest that famous persons are gay  in this way  their way of life will be received as being not only harmless  but perfectly normal  as generations of people grow from childhood to maturity and are exposed to this strategy  they increasingly develop a tolerance for homosexuality  in this way  it is now almost universally accepted as a diverse or alternate behavior or way of being  similar to a religion  race   or nationality  lestrade',\n",
       " 'al messier  this article was a non notable biography according to the criteria set out in wp bio   aeropagitica ',\n",
       " '    link to sacramento   i placed a wikipedia link in this article where the word   sacramento   appears   another editor  who appears to be stalking me and is reverting everything that i do  claims that i am   overlinking   by doing this   i have read the policy  and think i understand it  and i disagree with him   the word   sacramento   was not linked anywhere else in this article before i made the link  and i think that my link provided good context for a reader who did not know walnut creek but thought that maybe they knew sacramento   was there anything wrong with my link   i would like someone objective to give their opinions        ',\n",
       " 'your blatant pov pushing   neither of you guys has made any contribution to this italian history article other than to shove your unhistorical unconstructive modern pov in my face  this is a history article  history  have you heard of that  this is the reason why so many people get pissed off about the pedantry and idiocy and triviality of wikipedia  j sus  get a f cking life ',\n",
       " '  reliable sources indicate otherwise  please do not insert your personal analysis into the article    talk   ',\n",
       " 'i did research thank you very much  and it is not in the relevance of the article  i think you may have to reseacrh wp el to amke sure you realise the facts about why these links are being deleted  i am willing to agree with people that only the official sites should be there  therefore i shall delete the game site and the otehrs now ',\n",
       " '   a   totallydisputed   notice would probably be appropriate  given the depth of disagreement that exists here  but i cannot understand why highlighting statements identified by some as   dubious   would constitute   disfiguring the article     slimvirgin has also used that wording recently  but i rather think that inaccurate and irrelevant information is more of a   disfigurement   than is a template notice   to answer your second question  my   side   has brought forward a proposal  and the other side has not yet responded   this is sadly consistent with recent patterns of delay    i will make no comment on whether or not this is a deliberate strategy      ',\n",
       " 'i have abused nothing  your threats are extremely disrespectful to the rules of wikipedia  all i have ever done is tried to improve the quality of wikipedia articles and maintain the standards of quality  i should not be treated like a vandal who only registered to muck up articles  my account should not be blocked  i should be an administrator      ',\n",
       " 'give me a permanat block raseac        remember me        muslims dont you worry for these images they are trying to hurt us but they cant look these images are fake and have nothing to do with islam or our prophet even their article is so lame wikipedia is not an authentic source its an encyclopedia for the kids which has not authenticity anyone can edit or write whatever they think   just like raeasc you can see he does not knows what islam is and he talks about it so forget about wiki its lame they have no authenticity   i recommend they should add pissed christ in jessus article    they should   ',\n",
       " 'invite    hi  i still did not have time to write the articles about the fundamentals of the romani culture and society  that would have permitted a normal presentation  beyond the stereotypes   i hope in the near future i will manage to do it  from the last discussion i just managed to organize better category romani people by country and category romani people by occupation and create some more articles about romani persons ',\n",
       " 'i asked him a question about recall  maybe that would make you less troubled   account',\n",
       " 'says no consensus was ever reached as he reverted my edits here ',\n",
       " 'i find it difficult to control my emotions and i still feel that mr logy wogy was bad ',\n",
       " 'fuck you  block me  you faggot pussy ',\n",
       " 'attacking another editor  how  i am trying to make a point about how easy it is to edit wikipedia and his piece on george orwell s page proved my point  it is common place for wikipedians to help each other make better and a lot lesser bias edits and that is all i was trying to do  so if you would not mind  please could you remove that warning ',\n",
       " '   please see ref          of this article  mentioned by wikipedia for youngest patent holder of india  moreover i mentioned about news   latest book about real life heroes  by providing notable   reliable reference  do not you feel dna group is reliable   notable reference as its page exists on wikipedia  do you really believe that  what ever or who so ever provide information for this article is having bad intentions  in your words sock meatpuppets  did i asked suggested anything from you to edit or write  i am a free man to send information   you are a free person to analyse it  are you above wikipedia  when ref          of this article  mentioned by wikipedia for youngest patent holder of india for the subject  why you speak in bad words   your words verbatim   any book or review which repeats the   india s youngest patent holder and the youngest disabled patent holder in the world   claim that bhati and his supporters are pushing fails as a reliable source     how can you discourage people from sending information  which is relevant  reliable   notable      ',\n",
       " '    randroide answers to   next step     guys  i do not see you taking steps to wikipedia requests for mediation   i can not do this job because i always connect from   filtered   institutional net access  and following those steps could result in new  undesired  controversial   truncation   of words by the software  i do not want that happenning   could you please follow the instructions in the link i provided   thank you     randroide answers to new reference by burgas     at last we agree on something    of course that the new section is a good idea  the false   suicidal   terrorists from prisa will also be included there    come oooooon  boys  start writing that section  i do not want all the kudos for myself  the new proposed article is  by now  an effort made only by me    but remember  npov and sources  all the sources  just like me citing   el pas   in the section about the doubts about the genuineness of the th bomb  cheers       indeed  a good point  and all the remarks in cope too  and the   moral certitudes   of mariano rajoy published in el mundo     i agree with you    larean     what randroide omits to mention on the section about the th bomb is that he only added balancing references when i insisted that he do so  the original version he created was entirely pov  as is much of the rest of the proposed article  also  all the sources that he added from el pais are only available to subscribers   npov it is not      you are right  southofwatford  in your   randroide omits      section   if you have not subscription to   el pas    i am sorry but thats your problem  my   institutional   access also has some advantages  like paid access to   el pas    and many  many other publications and books   thats one of the reasons for my exclusive use of   filtered   internet accesss  its much easier for me to work here due to the easy availability of sources   do you see   the truncation of words is offsett  i think  by better sources   btw  if you write under a   randroide answers   section you are  invading   my   space  i do not mind  really  but you are doing it  risking new truncations on your messages  to avoid this  please write outside   randroide answers   sections   if you think that the proposed article is pov  work in it to make it npov  the article is not   mine       i will take the risk of you truncating the reply and put it here  it is very short  the issue is not whether i subscribe to el pas  its whether the people who read an article in the english wikipedia subscribe to it  all sources used should be accessible to all readers of the article  putting in a source that readers will not be able to see just so you can claim the article is npov is  to my mind  completely unreasonable       all sources used should be accessible to all readers of the article  very funny  southofwatford    i am going to follow this joke of yours   please propose also the deletion of all books as sources  because  did you know   there is always someone without this or that book  delete all references to tv or radio stations  because that user in brazil has no tv and no radio at home  delete all the references in spanish  because  did you know   there are users who know no spanish   its a pleasure to read this kind of funny jokes  really  i had a good laugh   user southofwatford  how strange that you should find it so funny  after all most of the sources we are providing should enable users to find out more information about what is being sourced  so to deliberately choose sources that require those users to pay to see the information is not funny  it is simply bizarre  equally  in the english wikipedia i would argue that choosing a spanish or other foreign language source when an equally valid source exists in english does not make sense  except perhaps to those who are too busy laughing   your cynicism is evident in your response     ',\n",
       " 'hence why i removed it  content of that nature is not suitable for wikipedia  proscribed by wp not  but perhaps for one of its sister projects  such as wikia ',\n",
       " 'pirating incident   i have removed this statenment as it does not really relate to the episode much  plus it is kinda off topic ',\n",
       " 'and check this out  http   www cla purdue edu blackmon cs critical html bio',\n",
       " 'kill all niggers    i have hard  that others have said this   should this be included  that racists sometimes say these ',\n",
       " 'new user   hello gogo dodo   i am a new user on wikipedia and just wanted to ask if my new page could be removed from the deletion list   my new page is kaburst and i still have a lot i want to do with it   i think the reason it was considered is because it starts off like it should be in wiktionary   but yeah just give me some time to make it better   thanks ',\n",
       " 'regarding edits made during december    utc  to jos mourinho thank you for experimenting with  wikipedia  your test worked  and it has been reverted or removed  please use the sandbox for any other tests you may want to do  take a look at the welcome page to learn more about contributing to our encyclopedia  if this is an ip address  and it is shared by multiple users  ignore this warning if you did not make any unconstructive edits ',\n",
       " '   december    hello  and welcome  although everyone is welcome to contribute  at least one of your recent edits  such as the one you made to smoke bomb with this edit  did not appear to be constructive  and has been reverted or removed  thank you    ',\n",
       " '     you are wrong  although i was blocked on some occasions  i was never blocked for sockpuppetry or vandalism  it was because of disputes on multiple topics with various socks of user hkelkar   user vandalpetrol  both of which are permabanned  i have never used any other account  if you are permitted to edit then you should get other accounts deleted which says you are indeffed   no blast    ',\n",
       " 'i only deleted personal attacks',\n",
       " 'please  please  continue   tell me what you really think ',\n",
       " '    an important message   block me  i can live with it   the mess that s being made of parker v district of columbia is why wikipedia can not rise above the level of a sophisticated blog   the   controversy   section does not belong there in the first place  and the fact that you and other non experts are issuing   warnings   indicates wikipedia has become a sandbox for idiots   sorry i can not be more polite  but that s the long and short of it        ',\n",
       " 'i am moving this to the talk page ',\n",
       " '  very well  i see that consensus has formed to show that they are indeed not pov but bad judgement on my part  thanks for the comments anyway coldplay exprt let is talk  ',\n",
       " 'http   www users bigpond com montdale page html  heritage from village  in macedonian   sources claim that the village was pure slavic ',\n",
       " '  the organization of sub topics  culture is thrown way down towards the end  after economy and tourism  which is inappropriate  the information section is unnecessarily loaded with history and detailed geography  which makes it not only uninteresting  but also repetitive  information is interspersed all through the sub sections  without regard to whether or not they fit there  eg  the geography section starts with the fact that up is the th largest state  that is not strictly geography  and belongs in the introduction  climate belongs towards the latter part of the page  perhaps before toursim  regions and cities is not such an interesting combination  in any case    cities of uttar pradesh   can be an interesting topic on its own  because  up has several interesting cities  and regions  each with specialities of its own  like the copperware of moradabad  ceramics of khurja and carpets of bhadohi   in fact i remember there used to be such information in the article before      ',\n",
       " 'i do not know the answer to this  but  legally  how is it possible for a private citizen to violate another private citizen s civil rights  i do not know if this is the section nelson was charged under in the federal case  but if anyone could explain this  i would appreciate it   you can argue whether or not the outcome of the state murder trial was justified  that s really not my concern here  since it is a dead letter   i am concerned about whether the subsequent civil rights prosecution was legal   if the state murder acquittal was a miscarriage of justice  it is not the first time   look at issei sagawa   part of having a mature understanding of this sort of thing is to realize that the criminal justice system is not perfect  and that it is inevitable that innocent people will be convicted  and that guilty people will be acquited  from time to time   that s the price you pay for having a legal system  in the end someone has to make the decision  and sometimes they may not necessarily get it right   i do not think it is going out on a limb to say that the sagawa case is completely beyond all reasonable belief ',\n",
       " 'burn deck   if that would guy s burn deck is like what i think it is than he is in for a blrude awakening    leviathan motherfucker   ',\n",
       " 'decesed group members   i have seen a few articles where band members have their name  sollowed by  deceased    whats wrong witht that   it is just a little extra information for people who do not already know this   surely this is the main reason such the articles exist in the first place  or even why the whole wikipedia site exists   what is so bad about adding this word after people s names if they are no longer with us   it is factual  non opinionative and does not slate them in anyway ',\n",
       " 'fatima bint asad  i noticed you added a large chunk to this article recently  could you post your sources  webpages  books  etc    it would be really helpful  thanks      july     utc ',\n",
       " '   i added information about mayor de blasio s announced decisions about charter schools but someone removed the factual information because they said it was not referenced   it was factual but not referenced  i tired to add the information again with references but was not successful    i correctly added the race and sexuality of chirlane mccray once but someone  the same person who removed the factual information i provided under charter schools  was incredibly rude and stated it was   vandalism   and reported it   how can this be and why are these descriptions considered negative   who decides what is   reverted    on chirlane mccray s own wikipedia site the word   black    i prefer african american  is mentioned six times and her sexuality is mentioned over and over again  these are not assertions at all and can be   referenced   by an approved wikipedia site and chirlane mccray s own important writings   what is the problem  ',\n",
       " 'please stop adding nonsense to wikipedia  it is considered vandalism  if you would like to experiment  use the sandbox  thank you   ',\n",
       " 'well i will use my user page then  do not tell meyour gonna remove it too  because that will piss me off and drive me nuts  also i am not making a personal ttack on jimmy wales  i am saying he is a bit to greedy dont you think  he is got  million dollars already and now he is asking for more ',\n",
       " 'i thought i would offer you some advise aswell   no wikipedia edit warring  no arguing with wikipedia administrators  may i also remind you of the three revert rule',\n",
       " 'u r a tw  fuck off u gay boy u r smelly fuck ur mum poopie',\n",
       " 'its also expressly against guidelines to sneak in disallowed links in the discussion section  as froman has done with his youtube propaganda link above  but as evidenced throughout this page  the rules do not seem to be applied to froman  why do not you just go whole hog and add it to feith s main page  there are plenty of unencyclopedic sources there now and no admin seems to have a problem with any link  anonymous  left wing  blogs  whatever you care to use seems to be fair game for froman     ',\n",
       " '   deletion of account    ok blueboy    editing from l gng l has been disabled by blueboy for the following reason s    came back from  hour block and picked it right back up again     and judging by history  not likely to get it    for this     this is to call attention to a topic which was   resolved   before any of the matters were addressed   there are moderators deleting wikipedia history items  and moderator borgqueen s edit of   cuisine of hawaii   was simply a provocation and nothing more   i am a reknowned chef of pacific rim cuisine  and the cuisine of hawaii  and the cuisine of hawaii is not   local plate lunch   that is like saying the cuisine of mexico is frozen burritos  or that the cuisine of canada is starbucks pastries  or that the cuisine of america is mcdonald s  its slanderous  vicious  and spiteful   the main point here is why did the admin in question delete the history     and no  it is not   resolved   until that problem is addressed   and i tried discussing it with that user directly and my account was locked  that user is not open for discussion or ddebate  that admin suffers the god complex  and lovcked me from even editing my own page  hence the reason i had to wait to be unbanned to post here  and i am not leving here to back and become corrupt admin fodder back aon the topic page until thius matter is resolved between borgqueen and myself as i i will not subjegate myself to any further discrimination  hazing  or personal vendettas    not likely to   get   it eh buddy   listen up  you will delete my user page and account from the wiki  grommet  you are not going to   lock    me and keep my name  content or profile   i am out of this facade which is wikipedia for good   delete it all  now  grommet   ',\n",
       " ' listas   sabina of bavaria',\n",
       " 'bad redirect  please remove the redirect from the x c page  that aircraft was distinctly different in design  builder  mission  etc  and restore that aircrafts unique content to its page    ',\n",
       " 'more info  thanks for entering this article  there are a few errors  which i have corrected  it would have been nice if you had not simply cut and pasted the text from the clear lake article ',\n",
       " 'his name was troy tedford  not troy telford  i am looking at his orginal discharge papers right now  i also have his orginal purple heart with  olc  the man was a war hero in the biggest world war ever  i myself am a historian  history degree recieved dec of  from atu ',\n",
       " 'it is interesting to note that both aircraft landed at the same airfield in hawaii ',\n",
       " 'thanks for fixing that  again an exquisite picture ',\n",
       " '  and i would like to clamp down on them',\n",
       " '  and man has also created new words even after modern languages have already been established',\n",
       " '  it is in the history  or more conveniently in your own contribs  thank you for the explanation  but that was not a big deal  i was more upset by your second postwaving me off with a sneer about growing a thicker skin and a finger waggle about   profanity  treating me as an insensate piece of internet polemic rather than a fellow human attempting to give an honest account of herself  an account which mackensen promptly removed  as you say  well  i understand that trying to contribute to the workshop was a bad idea in the first placerunning full tilt into tony sidaway  after managing to avoid him on irc for a whole month  to the immeasureable improvement of my quality of life  anyway  i have always seen you as somebody who stands up for the underdog  i remember praising your addition of this edit to the harassment guidelineand i was sad to see there was no mutuality of respect     talk   ',\n",
       " 'some type and are on a soap box',\n",
       " '  yes they are indeed   i have replaced that second one with a summary of women s rights  talk  ',\n",
       " '  anyone can do an in text search for    and    and see the article does not rely mainly on one source  the publisher   in fact  the grand total of two citations referencing the publisher are for pure facts issues such as the number of items     that are in the parts library',\n",
       " 'gore response   can anybody find gore s response to bush s malaprop  why did not gore  as the inventor of the darn thing  club him silly after that one ',\n",
       " 'pls give a reply  yes or no ',\n",
       " '   neither of the two added cites support the assertion    misconception  hyphens and dashes are the same glyphs     it remains unsourced  and as near as i can tell there is only one person making this claim  despite all the claims of   consensus    unsourced material gets removed   that s wiki policy  i have given you a month to find a source or reword the entry so that it reflects what the sources actually say   i am restoring the citation needed tag  and if there is no source in a day or so the entry will be removed      ',\n",
       " '  a short summary of referencing essentials faqs for organizations i noticed you have also disclosed an association with frank on your userpage  thanks for that  it makes working with you and knowing where you are coming from a lot easier  if you have any questions about my review of your article  do feel free to leave me a message or send me an email  cheers  sonia    ',\n",
       " 'for your information  you have already been reported   fair minded   talk about yourself and your refusal to allow for relevant information  which is factual  from being posted   you are obviously the biased party  and an inappropriate representative for wikipedia ',\n",
       " 'same for file seankilpatrick jpg and file connorbarwincincy png',\n",
       " 'y r we doing this  pat',\n",
       " '  thanks for the copy edit  omg it reads so professional    i appreciate it a lot  yeah  i knew that that would be a problem  okay  here s the   back story   to it  danny had body paint while he was a robot during a sketch  during the after party  in which the theme was a black light one  everybody could see that danny still had paint on him  as it had not washed off or something  to be sure  jack had a black light switch in his apartment  and when liz came in  he turned it on  which resulted in liz having the paint all over her  see here  or if whatever i just said does not make sense  read here and here  about the paint still on danny and the black light attack   yeah  i thought maybe if people saw that  the ga note  they will not leave me a message  though  that did not work  as a user left me a message regarding an article i reviewed  this has to work in the future  i am a have to make it better  i still have not gotten the chance to see it  but i have to see it  i need to know what happened and stuff  well  after i got the news that he lost  i started watching his dvd and telling myself that i will never see his wrestling moves again  i did not cry  i  was just sad  the night on raw  i lost it and cried  whatever  i did not think that was cool  shawn did not mind  but i did  not really  i still do not see that   face   like quality to him  i think they will play randy out like triple h  you know  good with the crowd  but still have him   heel ish    maybe cause all the new people are heel and they need some faces    who knows  speaking of randy  today s his birthday  turned   well  if you remember  his first   punted   victim was shawn  so  nice to see that he did that to cody    all in the storyline  nici    you are welcome for danielson and miz  i guess    hit   ',\n",
       " '  if               width       style   background transparent      width       style   background color      style   width     border px solid    background color    vertical align top     hello  lceliku  and welcome to wikipedia  please remember to sign your name on talk pages by clicking  or using four tildes         this will automatically produce your username and the date  also  please do your best to always fill in the edit summary field  below are some useful links to facilitate your involvement  happy editing        width       style   background color      style   width     border   background color    vertical align top     getting started introduction  the five pillars of wikipedia  how to edit a page  intuitive guide to wikipedia finding your way around table of contents  department directory editing articles how to develop an article  manual of style  style   width     border   background color    vertical align top       width       cellpadding      style   vertical align top  background color       getting help     style   color       frequently asked questions  cheatsheet  where to ask a question  help pages  new contributors  help page  article wizard   a wizard to help you create articles     ',\n",
       " '        i do not know how that got to be but i am a big supporter of the x files and i have like seen almost every episode and not once did it mention mulder being the father of scull y baby    can not have watched very carefully can you  william being mulder s son is frequently referenced to in the final episode  just off the top of my head   guard    what are you thinking about    mulder    my son  his mother     scully    our son  mulder    i gave him up  our son  i was so afraid you could never forgive me     not to mention the meaningful looks that mulder and scully give each other when the officiator at the hearing asks    agent scully  is not it true that you and mulder were lovers  and you got pregnant and had his love child    ',\n",
       " 'citation rf  saumur v  the city of quebec     s c r    endorsement rosemary decaires',\n",
       " 'education   please keep the list of colleges in pittsburgh a list of colleges in pittsburgh   if you are not familar with the area  do not edit this list   greensburg  washington  mccandless  and california are not in pittsburgh   please do not be offended when i enforce this   also  a pittsburgh mailing address does not mean that the school is in pittsburgh   the address extends far  in some place a  minute ride away    thanks ',\n",
       " '  until you find the way to put the  cites that were in the page back i am throught here ',\n",
       " 'we descendants of otman baba trough mehmed ali karako are sunni muslim s and not alevis   ',\n",
       " 'could you clarify   do you want me to start an rfc   i do not see that one was listed in the page history of talk rasmussen reports ',\n",
       " 'atheism is full of bias shit',\n",
       " '    you beat me to it    just wanted to say good work for beating me to the revert on the ned kelly article  i always enjoy it when i know someone else is on the hunt for vandals  happy hunting  cheers pro  ',\n",
       " 'you removed the link to the same references used in the health study which say that a reduced use of the mmr vaccine is why waldorf kids have fewer allergies from the section on immunizations   wtf     would data from the whole of california count for you   the private and public waldorf schools in california have  personal belief exemption  rates of   to   of their kindergarten classes   regardless of what the official position is   and i assert here  but would not do so in the article  that the  official  position was a lie in order for waldorf education to not appear like a complete cult   waldorf students are grossly under vaccinated   that fact should be in the article ',\n",
       " 'thanks for that  i will take a deep breath and have a go at an intro tomorrow  i identified the source of the phrase london over the border  and showed that the boundary is contested in the footnote  i have clarified the diaspora section  and will justify the statements by reference to the victoria history articles on west ham and east ham  hopefully  i will struggle to a justification without substantially changing the outcome of the previous discussions  then move onto to standardising the references  probably section by section ',\n",
       " 'german article of the day  dear jimbo  german wikipedia is proud to present the article of the day  http   de wikipedia org wiki wikipedia hauptseite   really thrilling  really amazing  worth a glimpse  http   de wikipedia org wiki fremdk c brper in anus und rektum you might improve your german reading it  there is a lot to learn   yours sincerly',\n",
       " 'i agree  like i aready have stated  that this is peripheral to main article  but nevertheless important because i merely underlienes the mythomania propagated by both sides  my only interest here is historical reality  dab  why do not you actually analyze the situation rather than offerring your usual smart alec remarks  lontech s arguements have been shot to pieces summarily  and everytime this happens  he engages in tangential and irrational behaviour  commonsense will tell you there was no long lasting state or kingdom in dardania before roman times  we can t just allow the intro paragraph to read like some kla recruiting web site',\n",
       " 'i found one   sort of  anyhow   the web site for jewsforlife org is not loading  but i have an article from them in a catholic source   i am going to remove the erroneous sentence now  in hindsight  it would have been great if this minor content issue could have been resolved with references in the first place ',\n",
       " '   i have provided plenty of reference materials yet you have provided none  all writings in chamar section have comes from sources that are verifiable  yet you have provided none  you are the one with the eccentric idiology   you still have not provided any verifiable sources to show that ramdasia and chamar are different  chamars that took up weaving are known as ramdasia s  a simple google search on   ramdasia chamar   will provide you with countless links    bal ',\n",
       " 'block evading ip blocked  guy   ',\n",
       " 'i see that it has a number of  citations on pubmed ',\n",
       " 'hey why you are spreading misconceptions and trying to spread false information to the people you not even know who won the battle and who lost you are the cheapest person on the earth bloody ignorant fool check sources before spreading rumors',\n",
       " 'i should add here  for any admin considering that i was blocked for  hours by user sarek of vulcan weeks ago  so there is more background if thats relevant  and i should have learned my lesson then   pax     talk ',\n",
       " 'change of username  usurpations request  request still in progress  mb m  mmitra   hi  i have requested for change of username using usurpations from mb m  mmitra  it is almost  days from the date of request but still it shows in progress  i would like to know how much time does it takes to complete the request and how long would it take to complete  please reply as soon as possible  thank you    link  mb m  mmitra',\n",
       " '  utc         december',\n",
       " 'because otherwise is pov  look at flemish  linguistics  case ',\n",
       " 'yes  mainsprings are used in  some  clocks as well  please feel free to be bold and help improve the article ',\n",
       " '           getting normal   term is used by a german politician by the way  i got it from there   ',\n",
       " 'keep the original title at xbox  although you can have additional likes like xbox and x box that redirect to this article ',\n",
       " '   and you are  let me know when you have crawled out of their arses         dick laurent is dead  ',\n",
       " 'the problem is that people keep trying to state that bsas policies are this and that   there is no policy that says homosexual scouts cannot be members   to state otherwise is a lie and or   just be it is a contraversy page does not allow you state lies or add or  you can list things as misinterpretations of the rules and things like that but it you try to say scouting does this or scouting does that then you need to be sure scouting actually says that   even the misinterpretations of the rules need sources   just because an editor might misinterprete the rules does not mean anyone in mainstream has   can you find a source for somewhere where a homosexual youth was removed from the program just for being a openly homosexual youth   then insert it   unless you have it or an actual policy from bsa that says you can not be an openly homosexual youth member then what is being added is or ',\n",
       " '   level  message hello  and thank you for experimenting with  wikipedia  your test worked  and it has been reverted or removed  please use the sandbox for any other tests you may wish to do  i encourage you to also take a look at the welcome page to learn more about contributing to our encyclopedia  thank you for your interest in wikipedia     ',\n",
       " 'i am focussing on doing science at the moment  leading the revolution   ',\n",
       " 'another question  does this style information stripping occur only whenever a shape itself is edited  or for less intrusive edits  such as moving a shape around  if even highlighting and selecting the shape in inkscape makes it unusable  then i should not even be messing with inkscape at all ',\n",
       " 'article about ed morrissey   hi  i have just moved our article about ed morrissey and captain s quarters to ed morrissey  and started bringing it up to date  would you be able to take a look at it and  please   fix any defects you spot  thanks  cwc',\n",
       " 'i can see that you have been running around several talk pages accusing me and several others of edit wars  please go on and prove the same or else you will be the first one to be blocked  moreover  you cannot prove your pov and when defeated  going around making accusations is a good way out  communist   ',\n",
       " 'yes  i received the confirmation e mail on    with username    my e mail address  and password  uuuh  it was      ',\n",
       " 'i am currently blocked from editing so i will be unable to add that tag  however i did take that picture ',\n",
       " 'this user is such a worthless goddamn faggot fuck you faggot',\n",
       " 'it is an unsourced aesthetic opinion  and therefore violates wp nor and or wp npov ',\n",
       " '   image popclassic jpg i have tagged image popclassic jpg as   because it does not provide a fair use rationale   if you believe the image to be acceptable for fair use according to wikipedia policy  please provide a rationale explaining as much  in accordance with the fair use rationale guideline  on the image description page   please also consider using  or one of the other tags listed at wikipedia image copyright tags fair use   thank you    man  ',\n",
       " 'fuck off  you are not an administrator  you do not have the authority to tell me what to do ',\n",
       " '  how adorably disingenuous   ',\n",
       " 'well you are ridiculous  in fact i suspect that you are calton  please block me  i dont care    ',\n",
       " '    orangemike   time to move on to collateral targets   i suggest user fisherqueen  the   girl   who protected him  ',\n",
       " 'windows phone upgradeability   hi gregory   i reverted your change on the windows phone article   neither microsoft nor its partners have made any official statements on whether devices running windows phone   will be upgradeable to windows phone    the references given by another user are blogs that are relying on hearsay ',\n",
       " 'btw whatever decision an adminstration wish to take  he should remember that this block is too harsh given that it is his first violation since he joined wikipedia   ',\n",
       " 'i have tried to be as objective as possible  and treat the author in my head as someone who s first tongue is not english   i think davies is borderline notable  but the article is not   i spent an hour googling davies earlier today and found nothing except that he has translated a lot of stuff   well  i have done a lot of stuff in my life   i am even borderline notable in a small field  but nothing to warrant an article on me  especially one that precisley nothing links to like this one   frankly i hope the author just makes it notable   i will respond to him with gentlemanly politesse  but i can t help him any further ',\n",
       " '    shiny things     what a brilliant idea barnstar for actively seeking every possible way to help other users  especially those i honestly did not think would work but did  i hereby award     c   ',\n",
       " 'will you make the change to both engineering articles ',\n",
       " 'thanks  and i apologize for my comment   i would like you to know that i understand your position        nov   utc ',\n",
       " 'appearance in historical fiction   the young richard steele appears as a character in william makepeace thackeray s novel henry esmond   is this appropriate to mention in the article  do y all reckon ',\n",
       " 'cu and scibaby  why are you wasting time cuing scibaby accounts which are wp duck   i am just indef blocking them on sight but the cu request makes reference to some politics which i do not know about   talk',\n",
       " '   per wp ae  you have been blocked indefinitely for persistent disruption to the project  including vandalism  disruptive editing and sock puppetry  as per wikipedia requests for arbitration macedonia discretionary sanctions  if you believe this block is unjustified  please request one in the normal manner    talk   ',\n",
       " '   i am sure if you worked on articles other than arcayne you would do fine  you two seem to have a problem with each other  so why do you seek him out and edit where he does  xenotalk  ',\n",
       " '    fuck you     fuck you award go fuck yourself    ',\n",
       " 'sorry about the edit conflict  i am glad you were able to salvage my edits  as to your question about structuring  yes i think we will have to think of a way to divide the article into sections and subsections  also the intro may need some fleshing out before confronting the reader with technical terms like dendrite and axon  i will look at it  smithfarm     apr   utc   very cool  happy to hear you are still on the article  i will also do some research to extend it   talk  contr    apr     utc ',\n",
       " 'february   utc  comment did the proposal change or something  someone added requested move banner to this section  when it is clearly not one           ',\n",
       " 'best clans in runescape    the gladiatorz   been the best clan in rs for   years now   nothe  clan  the british elites  damage inc    an average clan ',\n",
       " 'i do not even know where to begin on replying to   talk',\n",
       " '    please do not vandalize pages  as you did with this edit to hyperopia  if you continue to do so  you will be blocked from editing    fisto  ',\n",
       " 'keep your eye on it  no one cares  ok  people can put what they want on here  and clean it up all you want but no one cares  god  you are so freakin  stupid    omnigan',\n",
       " 'the episode list to keep the episode list above the references ',\n",
       " 'over the next   hours or so',\n",
       " '       s rant  presently  we are witnessing  an open war against croatian dinaric culture   croatian left often portrays this culture as   primitive   and   rural    even   fashist    being  in  service of conservative hdz party  croatian writer predrag raos  for instance    performed   on gusle instrument in zagreb on several occasions this year    with only one intention   to ridicule the same instrument and its rich poetic tradition    another   apostle   of croatian left   miljenko jergovi   refers to his political opponents on the right as   gusle players      some even claim the serbian origin of croatian dinaric culture following the line of traditional greater serbian propagabda  all tokavian people and their culture are serbian   however  croatian dinaric folklore and its rich gusle heritage is primarly croatian  dalmatian costal region has been historically associated with this culture  for example  the first written document about the most popular folk hero of traditional gusle music  marko kraljevi  is associated with dalmatian island hvar through petar hektorovi s book   ribanje i ribarsko prigovaranje       also  the first historical document which mentioned gusle player and its instrument originated in  dubrovnik     even now  a contemporary croatian writer  born in dubrovnik  stijepo mijovi koan tells us a story about his uncle  also from dubrovnik area  who could memorize numerous gusle songs  stijepo mijovi koan  gusle  glasnik  may     p     dubrovnik is also a home of anica begin  born kalafatovi     a daughter of famous gusle player ante  although illiterate  she was able to recite by heart an immense number of gusle songs  some of which were recorded in antology of croatian folk poetry     not far from dubrovnik  another coastal city   makarska  was  also a bastion of croatian gusle music  actually  this region could be considered the capital of all croatian gusle players  this mediterranean area  also gave birth to  andrija kai mioi  th century catholic priest   who is  viewed as the father of all gusle players of croatia and beyond  to honour kai s work  ivan metrovi  the most famous croatian sculptor  built a sculpture in america showing kai in his priestly clothes  playing gusle instrument     in addition to kai  makarska littoral produced a great many other followers of croatian gusle music  according to dr  fra karlo jurii  who quotes the work of croatian folklorist stipan banovi   zaostrog alone  produced a great number of gusle players starting with stipan kosovi kudri     and culminating with the most known mate banovi  trli       as for dalmatian women  they did not play gusle  it is    considered   a male activity only   yet they were actively involved in spreading  gusle music  by  imitating its sound    olinko delorko  the researcher of  dalmatian  folk poetry in the s  states in his book ljuba ivanova    that most of his dalmatian folk poetry collection was obtained by  women  especially the ones from the island of hvar    the zadar littoral also witnessed strong gusle tradition  english writer maude m  holbach  travelling through zadar region in the first decade of th century  states in her book    dalmatia  the land where east meets west   that the gusle was the national instrument of the region  as for dinaric dances  which took place at markets and certain festivals  they  are very picturesque and interesting  and worth going a long way to see  being a survival of ancient custom probably unique in europe  p    this admiration for dinaric folk music  particularly gusle  was seen in both dalmatian litteral and  hinterland   matija murko  the researcher of this literary music forms   had reported   that during his trips  through dalmatia in the s  he saw a child  barely three years old playing gusle  eduard osredeki  hrvatske narodne junake pjesme  eljezno be  p     now  lets  take a look at  the names of some dalmatian sports clubs and organizations  hajduk  junak  gusar  alkar  uskok  sinjska alka  etc  what do they have in common  of course  their names refer to the heroic gusle tradition of the region    having this in mind  one wonders why this proud croatian heritage has become almost  extinct   why do we have so few gusle players today   is it a  result of  unavoidable urbanization  of  modern croatian society where peasant culture is being considered  inferior to global  rock  n  roll  culture   if so  why has tamburitza music of northern croatia  gained wide acceptance from the croatian establishment while its  dinaric counterpart  gusle music  is looked upon with suspicion and  open hatre',\n",
       " 'the total population  millions  does not match with the e sum of the referenced populationsbelow in the infoboximages in infobox',\n",
       " 'to a convicted felon',\n",
       " 'matt hardy is so fucky     italic text  media example ogg       amatt hardy is so fucky   ',\n",
       " 'lol censorship  you are really disappointed that npov is a core policy  are not you    talk  contribs ',\n",
       " 'mfd nomination of wikipedia try your best wikipedia try your best  a page you substantially contributed to  has been nominated for deletion  your opinions on the matter are welcome  please participate in the discussion by adding your comments at wikipedia miscellany for deletion wikipedia try your best  and please be sure to sign your comments with four tildes          you are free to edit the content of wikipedia try your best during the discussion but should not remove the miscellany for deletion template from the top of the page  such a removal will not end the deletion discussion   thank you       contributions talk',\n",
       " 'redirect talk list of south carolina stingrays seasons',\n",
       " 'who cares  if i was blocked on myspace or pulse music board  then i would be more concerned ',\n",
       " 'http   www theatlantic com entertainment archive   linsanity how the internet made jeremy lin a star in less than a week   source explaining why he is a star     ',\n",
       " 'god is dead i do not mean to startle anyone but god is dead  we should not worry about him anymore  just thought i would let everyone know  well  goodbye and good luck with your newfound crisis of faith     ',\n",
       " 'hello   i am back   bongwarrior s user page will be attacked in  minute ',\n",
       " '   i am always on the   requests for page protection   if i detect any missing errant templates to see if the administrators can correct them     ',\n",
       " 'unsure at this stage its not very clear what wording is actually being discussed ',\n",
       " '    marvin kitman s   do not make me laugh   does not appear to exist   the citation for much of the early history of the laugh track appears not to exist  the publication    channels of communication    does not exist in the three journal databases i have searched  ',\n",
       " 'have you seen the reference to their claim  you moron     this is not a source  its their pov  once i have more time i will reduce your pashtun nationalist povs here on wiki and give order to my uncles and cousins the execution of pashtuns in the entire northern afghanistan down to gardez  jalalabad  lashkargah  logar  paghman  laghman  kunduz  herat  farah     whereever immigrant descandants of violent kuchis settled and took non pashtun lands away and traditional tajik countries     ',\n",
       " '    rfa question  simply curious  what is the question you intended to submit here   talk  ',\n",
       " 'when you say irrigiation structure  what exactly do you mean  i live on an irrigated block which uses overhead sprinkers  and i am not far from the nearest channel  thye all look the same throughout sunraysia  i have got a little spare time now to grab some more shots  though i do not think i will get out as far as dareton  got any requests    talk',\n",
       " 'this wiil be my last use of this acount please delete it  ',\n",
       " 'rr violation by patrickflaherty  user user patrickflaherty is reverting a sourced post  he is also violating the rr for raila odinga',\n",
       " '      i wasnt really attacking him her regarding the lisa williams article  hmpzzz   do you know if lisa can see dead people too  i have psychic powers too you know  i can see the future  send all these   lisa williams   to finland and they will all be locked in jails for being scam artists  ',\n",
       " 'yes  there is definite value in documenting the scientific instrument module  but i do not believe it belongs with the service module sectors subsection   it is really a payload and not actually part of the spacecraft services  so it interrupts the flow   i plan to move it to the apollo program  mission types section where i think it really belongs  when i edit the sectors subsection to improve the wording flow a bit ',\n",
       " 'thank you  hei  it is me  the william hope fan  guess what   i am back at a new ip  ready to vandalize everything regarding william hope  and you can not do sh t to stop me  maybe delay me  but no stopping me  so lets salute to some more william hope lunacy by shoving his p nis in my mouth ',\n",
       " '  yes  quite persistent  i am about to just create the article myself    other new users are going to get lost in this discussion   t c  ',\n",
       " 'fuck you    user the bohemian shinobis yeah  that s right  bitch  you are all pieces of shit ',\n",
       " '  yes  it looks much better than before  at the top of the page  it says   this article needs additional citations for verification    may be britannica encyclopedia could help adding citations    i dunno  cheers     ',\n",
       " 'okay  i will give it another whirl via email   if worst comes to worst  i e  if i do not get a reply soon  than i can always just use new accounts if i am ignored and that way it will just keep those who have been stalking me tied down busy chasing me around rather than trying to delete content   take care ',\n",
       " 'north eastern region of jharkhand    wiki says north eastern region of jharkhand is angika region   however  official language of theses districts of jharkhand is not angika but hindi  santali   this is confusing   so  it needs some clarification as to how come district of jharkhand where the official language is hindi  santali could be angika region   only those districts would be in angika region where official language is angika        ',\n",
       " '  the vote was on the campbell case but the primary reason was the russian treaties     baldwin was careful to emphasise that the treaties were the substance of his objections  standfordham wrote to the king  on  october   i saw mr baldwin who  in reply to my question   do you want to turn the government out    said   yes  but not on the campbell issue  but on the russian treaties which the country generally condemns    he sees no alternative to a dissolution  it has always been expected  some wished for it before now  though he is opposed to hastening the government s fall           and it is true that only in the house of commons were baldwin s strictures based on the campbell case  at newcastle on  october he congratulated macdonald on the agreement  achieved at a conference in london  on the dawes plan for reparations  and then spent the rest of the speech alternately pouring scorn on the labour party s subservience to its extremists  and tearing to pieces the russian agreement  but the final debate on  october was a mean parliamentary occasion  two days before  in a meeting which was something of a suave qui puet  the cabinet decided to take it as a vote of confidence  preferring to go out on the campbell case to a defeat on the russian treaties which might give the left wing too much prominence middlemas and barnes  p      ',\n",
       " 'jayjg  stop the spin  public relations  tactics ',\n",
       " '  no  i just quoted bryant that talks about popular and secondary creator   they are literally in the same paragraph talk  ',\n",
       " 'future perfect at sunrise       ',\n",
       " '  in general  the outside sourcing should exceed the inside sourcing  if there is an entire section without any references  you do not have enough  the lede refers to a   dire need    this would generally be seen as over the top  look at the apo article for ideas on how to speak about your group     ',\n",
       " 'that s a rather feeble premise to argue showing an excessive number of photos prominently showing  different women s vaginas  compared to one human male penis   of the way down the page on the equivalent article for male genitalia  this demonstrates the overwhelming male bias in editorial content on wikipedia     ',\n",
       " '   okay  i have now tried to just delete the offensive sentences in the beginning about mr  irving being a socalled  holocaust denier   he says himself he is not  and acknowledges that many jews were killed during the war  however he does not go along with the  million jews killed figure  as he reckons the number to be lower  and it really comes down to that     david has the right to question anything relating to history and ww is his speciality  and he actually makes a living of questioning and critically examining sources   i also decided to delete the account about him loosing a court case in   david have launched several libel cases before   in  he won   libel damage against an english sunday newspaper  the fact that he this time lost is not something that should figure at the head of his cv  many people also find it extraordinary that a judge can deside what a person is or is not  and what beliefs he holds  ',\n",
       " 'there i have made him bold  thats better  lemmey  talk',\n",
       " '   after that my father started taken melfalan now it is nearly  and half year and his health condition is not good i am consulting with the doctors',\n",
       " 'i am pretty sure the incident has already been included  and i know how to handle my own at riots  too   ',\n",
       " 'i am afraid that s a broken link for me   ',\n",
       " 'ok  maybe you want to comment on the talk page about that  it is interestig to know ',\n",
       " '  oppose i find it hard to believe this requires an rfc  but such is the wikiworld        ',\n",
       " 'history      can someone provide some information regarding the contracting of the ac service area  ac transit used to serve most of the cities of the  corridor  but the cities basically kicked out ac transit and now run their own services  part of the reason was that ac transit was under serving the suburbs  while spending their money on underutilized services in the urban areas   that history should be reflected in this article          talk      ',\n",
       " ' please do not create any more elephant nonsense pages   talk  ',\n",
       " '    i and   preceding undated comment added       i and   talk  contribs  we do not care that wikinews even considers dr  rafizadeh as an expert and interviewed hin here  https   en wikinews org wiki wikinews interviews scott lucas  eyal zisser  majid rafizadeh about risks of us military intervention in syria  we   simply  do not care  we do not care even if he publishes on cnn or nyt or quoted on cnn and new york times like here   http   www cnn com    opinion iran rouhani syria rafizadeh index html http   globalpublicsquare blogs cnn com    jobs key to middle easts revolutionary wave  http   edition cnn com    world meast syria shiites  does not matter even if bbc world service made bio of him here  http   www bbc co uk programmes pgsjfk  dos not matter if cnn and france international wrote about him and his family members being killed here    http   www france com en  syria majid rafizadeh kidnap family targetted civil war shabiha opposition bashar assad  i and   talk  contribs  will never change our opinion    talk is always right    we also dont care that he published in almost all national and international outlets including scholarly and academic works like here  https   scholar google com scholar hl en q  majid rafizadeh  btng   as  sdt  c as  sdtp    i and   talk are right  we are jewish and we are right and we will never change our opinion whatever evidence you show    ',\n",
       " 'are you ok    dear   i notice that you have been absent from wikipedia for a few days  it is uncharacteristic  so i hope you are not ill  please accept my good wishes  i just wanted to see if you are fine  regards ',\n",
       " 'congratulations for the third of may   reaching fa and it is still april  thanks for your input     ',\n",
       " 'paula white  joel osteen  marbled cat  and a few others   these images were correctly retrived and all information was given about the images that were necessary  some were even my own and i gave full permission for their use on wikipedia   mcelite',\n",
       " '  it is not about success  it is a phenomenon that goes back at least  years  to the days of sousa and johann strauss  however  if you look at the   article milestones   section above  you will see it has survived no fewer than four deletion discussions  and we do require credible sources  and fancruft is removed on sight  andemu  ',\n",
       " 'hate is my topic is hate if you hate a person means you like that person  your hate can turn into your love',\n",
       " 'page i tried to create is now an actual page lol you banned me for nothing',\n",
       " '    your report   thank you for making a report  on wikipedia administrator intervention against vandalism  reporting and removing vandalism is vital to the functioning of wikipedia and all users are encouraged to revert  warn  and report vandalism   however  administrators are generally only able to block users if they have received a recent final warning  one that mentions that the user may be blocked  and they have recently vandalized after that warning was given   the reported user has not yet been blocked because it appears this has not occurred yet  if this user continues to vandalize even after their final warning  please report them to the aiv noticeboard again  thank you    talk   ',\n",
       " 'npov please stop adding not related moroccan issues to sahrawi articles while trying to look neutral  i will revert it again   again  as that editions are clear pov pushing ',\n",
       " 'upgraded human language families  wikicolors  png human language families  in wikicolors   file ',\n",
       " '    a kitten for you    you are  a good person      ',\n",
       " '  ok  here it is  peer viewed for  months and published at academic archive on line  diva    on a permanent uri  urn nbn se kau diva    wallin h     p  an investigation of friction graphs ranking ability regarding the galling phenomenon in dry sofs contact   adhesive material transfer and friction   a free pdf document available here or www diva portal org found here or at www uppsok libris kb se here use search words   galling   harald wallin   or the direct libris link here       ',\n",
       " 'pov pushing   faustian inserted this in the article  the upa s cooperation with jews was extensive enough that  according to former head of the office to counter soviet disinformation at the usia  some soviet propaganda works complained about zionist membership in upa  seems to be a complete pov to muddy the waters   and picture upa as an organisation friendly to jews instead of an organisation which collaborated with the germans on exterminating the jewish people ',\n",
       " 'redirect talk a voice within  album ',\n",
       " 'wp blp violations   i just removed another of your reverts which placed defamatory and uncited materials into cherokee freedmen controversy   wp coi may apply to you since you seem to edit african american related articles and freedmen controversies   your dishonest edit summary was over the top ',\n",
       " 'are they the anderthals    are they the anderthals  the same discription as in quran  has anybody thought of this ',\n",
       " 'the discussion of when there first were outdoor trees with electric lights is very strange    are you kidding  and some obscure town in nc  i do not think this makes much sense  especially since the sentences immediately preceding these establish that other cities had electrically lighted  outdoor christmas trees in the early years of the th century  the article cited for the north carolina town  if read carefully  really only states that the tradition of having outdoor lighted trees in that specific town began in   not that the town claims it was the first place to have such trees  i am old enough to have been around in   though i was a small boy  and i can tell you that we and our neighbors in southern california had lighted  outdoor trees prior to   and no one thought it remarkable or unusual  the history here is questionable  to say the least ',\n",
       " '    what comes next   once we feel like we have gotten past the   dispute   stage  i would say we have   someone should post a request for page unprotection so that we can move the new version in  you might also mention that the admin should merge naked short selling workshop in so that we can keep the page history  or i will do it later tonight   it does not really matter     talk   ',\n",
       " 'redirect talk the best of apocalypse',\n",
       " '  just dropping by  i thought i would leave a little feedback too  a featured picture is not always put on the main page  as noted by wp potd  for example  the semi nude michele merkin was not used as it was found   too cheesy    wikipedia picture of the day unused notes several pictures that were not used because they depict too much gore or are of a scatological nature  a featured picture rating is essentially indicating that the community feels that the image is of high quality and high encyclopedic value  on a side note  potd seems to be up to    thanks for taking up the trace  pink oboe     ',\n",
       " 'some of the sources listed as ny mag  cbs news  fox news  an interview with leighton speaking of the subject directly in teen vogue and us weekly  a tv guide interview  an article in the san francisco gate  the newspaper from the town leighton grew up in  naples daily news    if you do not consider those reliable sources  you have a problem   if you want i can find  more sources from valid reliable newspapers and magazines   everything is valid and sourced and should not be removed as it is the story of her life   wikipedia is an encyclopedia for facts  and what is posted is fact',\n",
       " 'the reason is the presence of a template based on inconclusiveness on my user page  the further presence of the template is to be contested ',\n",
       " 'ho ho ho  merry christmas   i shoulda known the piccirilli brothers actiually executed ward s pediment sculpture at the stock exchange  happy christmas  carptrash ',\n",
       " '  i saw that reference  and i added a note  see note   by the name   republic      ',\n",
       " '  hey jim  good to see you around  you are right  i was on a no consensus tending towards delete  but not a clear delete because of the two times of india sources  and one more source  again from the times of india  that is visible on the search engines   what would you like me to do here  i can re list the afd if you might prefer that   message  ',\n",
       " '   and if he were a mere   fellow editor    i would not have any problem with him   but since he seems to let the power of being an admin go to his head  i have an issue with him   please read what remains of his talk page if you need examples of this   i am a moderator on a very popular internet discussion board  and i would never ignore a valid question from a user  ',\n",
       " 'is gonna help us to  he is logged in if you want to talk to him on his talk page ',\n",
       " 'they look great to me      mar     utc ',\n",
       " 'april   utc    wikipedia colours   much thanks for fixing improving the table code    no reason  maybe add the info where you found the values  is that in common css    all the styles are embedded  highly repetitively  if you know your way around mediawiki  i have been asking everywhere for a css guru to clean up all the redundancy on the main page wikicode   like we dont all have enough to do already  eh     so many projects  so few minions       ',\n",
       " 'dear mokele  you have no right to tell people to die in a fire  just because that ip address is being used for vandilism does not mean you can talk to people like that  you are in fact a bigger loser than the person who you block ',\n",
       " '   you have new messages  last change     and the notice below result from user arkyan and user avraham targeting this website as a result of an editorial dispute as to whether to include theodore roosevelt s view of us political corruption on the unholy alliance page  i e    the unholy alliance  a phrase used in the platform of the progressive party  united states    written by him the unholy alliance  a concept elaborated upon in his autobiography  their recent edits may be reviewed at special contributions arkyan and special contributions avraham and reverted where appropriate    ',\n",
       " '    peter the roman   can some one place this and remove the argentinian chap from the prophecy which is not part of  and replace it with this information  and place his coat of arms  any questions just e mail me        tarcisio pietro evasio bertone was incharge of the vatican from  february to  march  thus the prophesy of st malachi is fulfilled    ',\n",
       " 'rfc  you pretty much blew through my respect when you tried to demand i give up my adminship  my position is very  very simple   the afds were invalid  they should not have been filed  i fixed the mistake ',\n",
       " '     i do not delete material that complies with wp policy    according to your own pov interpretations wiki badass woo u  ',\n",
       " 'and revert his edits',\n",
       " '   canonicity in general  i have been involved in a long discussion over on talk stargate  device  over whether the stargate in the movie is   the same thing   as the stargate in the series  with centrx arguing that they are not and that discussing the stargate in just one article was deceitful  i do not think his argument is at all valid  but in the course of looking stuff up on the web i have discovered that some fans of the movie apparently consider the sg  series to be somehow illegitimate or non canon  i am not familiar with the stargate fan community  just the show itself  so i do not feel comfortable adding discussion of this directly to the article  does anyone know any details about this  such as how widespread this apparent schism is       jul   utc  ',\n",
       " '    capitalization   please stop changing lower case common nouns to upper case  as in       the company has                the company has       wp moscaps notes that wikipedia avoids unnecessary capitalization  proper nouns and the first word in a sentence are capitalized  and not much more  yack  ',\n",
       " 'see claim three here  http   onlinelibrary wiley com doi   mepo  full ss that is a reliable source ',\n",
       " '  if he is the community manager  then first of all it is a conflict of interest for him to be editing this  and second of all  he has the power to say explicitly on his site that there is no release date  otherwise  despite who he may be  his position is incompatible with wikipedia policies  swatjester son of the defender  ',\n",
       " '    please do not vandalize pages  as you did with this edit to boiling point elevation  if you continue to do so  you will be blocked from editing      ',\n",
       " 'rants to policies   hi   i think that you should reformat user shanes why tags are evil the vandalism protection tags  or at least the idea  into some sort of proposal to reformat multiple distracting protection tags to less distracting corner icons  for example  redirecting  to   well  probably move the later to the former  for this case   the corner icons work beautifully  are much less distracting  and clicking them will follow you to a page explaining what the lock is for   i fully agree that the large box with text is very distracting and unnecessary  this is especially true when non user wikipedia users read the articles  which probably constitutes the majority of wikipedia readers  they probably do not care that they can not edit the article  nor would they  and of most concernthey may confuse the tag with the article content   thanks   ',\n",
       " 'hi collectonian  it obviously was not appropriate  and i agree with the warning given by  vicenarian ',\n",
       " '    a request        in the future please sign after your  tags on the photography workshop page  while a bot is currently doing it for you    i e     preceding unsigned comment added by    ',\n",
       " 'i have revised the translation from the spanish by going back to this earlier edit   subsequent edits on the spanish language wikipedia seem to have been intended mainly to insert links  but have primarily succeeded in deleting chunks of the original text  rendering the result both ungrammatical and somewhat insensible   i have taken  s translation and incorporated the previously omitted text  and gone over the whole to make it more idiomatic in english   it is not quite there  yet  but is hopefully now serviceable      ',\n",
       " '   i am sorry if you will not like the answer  but i can not accept any wording  indeed any word in the article that does not reflect or is reflected in sources  would any of your patients be happy with an almost successful operation  i care even less about the yugoslav media then i do about yugoslav politics  it may not be what you want to hear either  all i can do is repeat that there is no way in this world that the yugoslav troops were operating under independent command during this offensive  its is just laughable even if i had no way to substantiate what i said  journalists may write what they want  but ask any military officer and he she will tell you its inconceivable for the size of the op   comms    ',\n",
       " 'and capital gains tax',\n",
       " '   this should be included in the criticism summary section here  since that section s content so far is not a remotely truthful summary of the criticism point of view fork   article    it clearly suggests to readers that basically all criticism of apple is related to product management in some way or other   now that apple inc  has admitted that they did in fact use child labour  this is clearly a far  far more serious type of criticism than everything currently mentioned in this main article s criticism summary section  the explicit word   child labor   should be mentioned in this article        ',\n",
       " '   merge both articles should be merged    operibus anteire   ',\n",
       " '  everywhere  though i might just start going thru the secure server all the time  because i have a similar issue with the popups userinfo grabber  xenotalk  ',\n",
       " '   i agree with   there is no need to keep unclear concepts and wording when a better alternative exists  also i would ask  to not revert using source as a reason  when source is actually a book of his authorship  wp coi and wp sps comes to mind     txt  ',\n",
       " 'hi  the routes to japan are often mis read  first  i had the argument that jal flew to tokyo  not jalways  but now i would like to challenge a route that jetstar takes  it said the jetstar flew to kansai from brisbane  this is true but you must connect through sydney  although you would stay on the same aeroplane  the flight number between bne kix changes in sydney meaning it is not a direct flight  eg  flight   syd kix  flight   kix syd via bne  that is how it works  if you are not sure  please check qantas schedualing  i wont edit the page now in fear that i will be banned ',\n",
       " 'support  i and all the other sikh wikipedians on wikipedia support you on singh you are correct  i completely agree with sikh historian  i am busy at the moment but if we need to get harrybabar permanently blocked then it should happen because his vandalism is unacceptable ',\n",
       " 'thank you for your racist experimenting with the page katherine heigl on wikipedia  your test worked  and it has been reverted or removed  please use the sandbox for any other tests you may want to do  take a look at the welcome page to learn more about contributing to our encyclopedia  now go fuck yourself you racist canuck asshole  u have nothing better to do than censor the truth u goddamn kkkkanuck piece o trash     dickhead moron motherfuckerlol  you canucks r real retards  fuk off dickweed   edit another  of my eidts and you will be expel from wiki by jimbo you sob dickhead  so watch it mofo piece of garbage racist mofo asshole   im tryinbg to be nice here so take what i say as a compliment yamla',\n",
       " '    bulgars   omg   you are an admin and you protect the people who vandalise the   bulgars   article  these attackers are pan slavic ultra nationalists and they dont want to see the word beginning with   turk    you help them remove reliable sources  old bulgars are changing into slavs by your hand    great    ',\n",
       " 'you must be logged in to upload files    so in other words i have to sign up just to add  things to  entry   to hell with that      this place can rot for all i care        ',\n",
       " 'mckinsey   company     i think the best route would be to drop a note at wp business   t   c   wp four   wp chicago   wp waward      ',\n",
       " 'message  long time  no talk   i was just pottering around on wiki  and suddenly i thought of you  so anyway  how ya going  i hope we can get along now   anyway  there is an issue that i have  that has to do with wikipedia  a user on here had been stalking me and asking some innapprpriate questions  do you have any ideas of what i could do  i know that user is also from australia  could the police here do any thing   cheers for now      ',\n",
       " '     thanks  from my point of view there are differences and parallels between the two concepts  one parallel is that both concepts are intending a territory with a homogeneous population  the difference is  the concept of racial hygiene is intending a homogeneous population regarding the criterium   race    whatever   race   might be   the concept of ethnically homogeneous states is intending a homogeneous population regarding the criterium   ethnicity    a second difference is that the concept of racial hygiene has led to more extreme forms and methods in political practice in history  example  the holocaust   not only expulsion but also extinction of millions of people in an industrially organised process    user  nov  th    ',\n",
       " 'well  i see futperf is getting quite angry now  insulting other editors also  and again their goal is make the point that the first bulgarian empire and the second bulgarian empire are not bulgarian or at least not related  which helps their long term strategy for the invention of a macedonian nation and state  think bulgarian tsar samuel  etc  which existed from antiquity and the middle ages  that s it  tropcho  correctly pointed out that direct political continuity is completely unimportant for the info box  no other country cares for this in their info box  neither spain  germany  ireland  poland  etc  what is important is to show how bulgaria formed thru the ages ',\n",
       " 'salutations j a p   welcome to wikipedia  perhaps you might find wp hockey of interest ',\n",
       " 'be careful who you call a moron ',\n",
       " '    leadbeater biography   smackbot problem  rich   regarding the c w leadbeater biography article http   en wikipedia org wiki charles webster leadbeater  on  dec   philosophus   improperly reverted my extensive revision of dec   i removed all the smears and slanders from the article yet he accuses me of having a npov problem  no editor has the right to revert the good faith contribution of another editor  i will undo his improper revert   as you made a minor edit or two since then  your edits will probably be lost  also  please communicate specifically what faults you find in the text and maybe we can work out some compromise wording  if you are knowledgeable in the subject   if you are not knowledgeable you have no business editing this article            ',\n",
       " '   quoting hoppe first  detailing kinsella s important points at this diff i put in the   democracy   section hoppe s earlier comment first and followed with more about what kinsella said  i e    stephan kinsella writes that hoppe s critics have accused hoppe of   homophobia  bigotry  and the like   based on these passages  kinsella wrote that that hoppe s discussion of   physically removing   homosexuals and other groups only applied to   private  covenant based communities   centered around traditional values  he shared a letter hope wrote to him saying   the gay couple down the street who mind their own business would not be expelled  but only those who are openly hostile to the basic heterosexual or private property basis of society    as i said in my edit summary  just because some choose to totally take his comments about of context and attack him  does not mean that wikipedia should be used for the same purpose       talkie talkie  ',\n",
       " '  the fact of the matter is that toei and bandai have been using   gorenger   to exclusively refer to the first super sentai series since at least   every subsequent series that has the  ending has been    ranger    you can see this sort of thing on any of the print material released by them lately has it as   gorenger    while all the others have been   turboranger      zyuranger      dairanger      kakuranger      ohranger      carranger      megaranger      timeranger      gaoranger      abaranger      dekaranger      magiranger    and   gekiranger    i believe   gorenger   is also plastered across their vehicles ryulong     ',\n",
       " '         mark nutley has suggested    instead of people edit warring they really ought to use the newest sources    three to five million of this number died in ukraine and in the heavily ukrainian populated northern kuban  among the richest grain producing areas in europe       norman m  naimark  stalin s genocides princeton university press   august   p    http   books google com books id fuwfeqbac lpg  pp pg  pa v onepage q  f  false ',\n",
       " 'i see that you just can not help yourself  if you saw my being blocked as a reason to be victorious and now feel like keep  notelling  on me to the administrator please do not use my talk page for that  go the administrators  noticeboard where the initial complaint was posted and add yet another post  concerning your advice on what i need to  familiarize myself with  apply it right back at yourself  especially regarding wp cons and please understand that consensus is a product of a prior discussion not just any piece wikipedia text that stayed unedited for a while ',\n",
       " 'gay   the existence of cdvf is further proof that  is a sad twat  he is also very ugly  and has a willy for a face ',\n",
       " '  unfortunately  judging from previous   warnings    some people here have a rather unusual view of what personal attacks are  pointing out that the individuals accusing me of using sockpuppets were incorrect  and in fact the two main people making the accusations have been harassing me for months and had used sockpuppets and meat puppets themselves for getting around edit conflicts and to stack votes on a request for admin proceding  as pointed out by several editors at the time  certainly cannot be considered a personal attack  pointing out that admins did not have any actual policy basis to make the blocks is not a personal attack  and it has  in fact  been confirmed by the overruling of the blocks more than once     frankly  if you are looking for personal attacks  try yourself for your agf violating attacks on my actions based upon limited information and actually misleading information given to you by other individuals  or david gerard for claiming that i am   trolling   when all i am doing is defending myself from false accusations of others  it is very clear that a number of people here need to realize that the very things they are accusing me of and trying to justify for a block are exactly what they themselves are doing from behind the pretense of trying to solve things   if you want to start blocking for incivility  i might suggest removing david gerard for a while for his actions  or elonka for falsely claiming that i was using sockpuppets or that i was harassing her  or the sysop whose very talk page says he is going to go around blocking people no questions asked and in fact did so after i caught him restoring placing illegal information on how to pirate software an article talk page  rules should apply to everyone  and a number of people have been getting away with pretty flagrant violations and trying to rationalize them away by just labeling me as an alleged problem editor and not taking any sort of responsibility for their own actions    ',\n",
       " 'looks good to me  i think a nice pic of midtown from across the east river would be the best possible addition to the montage  but there is not one currently available on wiki commons ',\n",
       " 'perhaps the question is more of philosophy than of mathematics  and we do not have any regulars at wikiproject math who are philosophers of mathematics    t   c ',\n",
       " 'except for the fact that there is no information for the table  no confirmation on number of episodes  why do not you just put  in    so it is just clutter   and not vandalism     ',\n",
       " 'right  on may    which is not the stars and bars    ',\n",
       " 'perhaps goodday you could provide a diff for this thought as i am unaware of it  btw i hope the move is going went ok ',\n",
       " '   it is also unfair that i can not respond to the allegations    talk   ',\n",
       " 'i never fucking made this mother fucking article i just fucking edited it and that was a fucking long time ago fucking assholes  pissing me off  ',\n",
       " 'has anyone ever considered including tag team edit warring as a rr violation  when two people act in tandem  unintentionally or intentionally  to make the same revert four times  they may not technically violate the rr rule  but they certainly do so in spirit   this was the problem on both sides in the edit war on the canada page  and precisely what i wanted to avoid on the dominion page  would it not be easier to warn editors as you did here rather than shut down pages for weeks at a time as was done in the canada case  i am sure this would cure the escalation problem without blocking access to pages  any comments on this ',\n",
       " 'fucked with the wrong muchacho      july     utc ',\n",
       " 'thanks but an unblock would be a compromise   i live on the margins here  creating articles on various subjects  then see them deleted  it is a form of performance art   many of them do not get deleted   medieval philosophy is still there and history of logic  to name a few   i am one of those people they just do not know what to do with  and i like it like that      ',\n",
       " '  yes  i do hope to get it to ga status in the future    wp mostv states that for fictional characters  their storylines should come first  and then the information on their creation and characterization  it makes more sense to read about what storylines the character has been involved in  before going into the production of it all  the same style is used for articles on books  films and television shows episodes         ',\n",
       " 'hi   im a fucking bitch      ',\n",
       " 'please educate me as to how this article is a copyright infringement and  if so  from which source  once this has been established could you explain how best to rectify the situation  thank you',\n",
       " 'men s ranking figure  while nice to look at  misses key time between  olympics and  world championships   that s all there is to it in the title  iihf lists a  post olympics ranking  and  ranking  presumably post wc   to exclude this period is incorrect  as it is a time where canada was ranked st overall  russia nd  the same issue will happen this year as rankings will change twice  after olympics and again after wc     ',\n",
       " 'there are many broken nostrils in this pancreas',\n",
       " 'that last line  the new version is better  is ypov   this  new  your  version just complicates the issue and makes the article less simple to read   tell me  why must boston be mentioned as a cultural and business hub at all   this seems to be at the heart of your bias   it appears as you want the viewers to get from reading it that boston is somehow the nerve center and city that new england revolves around and looks up to   why must this illusion be on the page ',\n",
       " ' utc  it sounds wrong because first it reads are which is present tense ee and then it reads used which is the past tense  i reworded the whole thing to past tense because we are discussing already published works as opposed to works being published or yet to be published    arnfjr   bjarmason       sep ',\n",
       " 'and you took your time to answer ',\n",
       " '    yobot  incorrect defaultsort   hi  yobot  an incorrect defaultsort  it is puzzling as to why it did not recognize the article as being about a person  among other clues  it included birth and death dates at the top  as well as a   which yobot substituted to additionally include the correct defaultsort   xaabam  ',\n",
       " 'biased  unreliable emotionally written by armenin wiki editors   pls  stop using the wikipedia for your dirty propaganda and lobbying purposes  there was no genocide  this is a amyth advanced by the armenian church and armenian fundamentalist fascists  a nation can not be subject to a egnocide when it has several heros for whom you can see statues in yerevan  irevan    jews do not have it  the resolution is the act of some sold congressmen who want to appease the armenian lobby  it has no reliable  valid and neutral content  it is kjust a piece of dirty and lie facts presented and written by christian missionaries working to kill turks and kurds in s  you can claim to be subject to genocide as much as you want  but this thing did never happen  some armenian fundamentalists and fascists  who were killing kurds  turks and azerbaijanis  were killed by great sons of the turkic nation and i am proud of them  go and propogate your lie as much as you can  you will achieve nothing  raman    ',\n",
       " 'add mobile porn as additional wp also link',\n",
       " 'smer sd   why is the slovak party smer sd between non inscrits  they are regular socialists  they used to be out of pes  but that was settled pretty long ago  liberal nationalist',\n",
       " '  utc   has anyone considered how matter  the stuff we are all made from  actually interact with time and time travel  if i were to travel back in time  would i be  frozen  and isolated in spacetime  whilst everything else around me travel backwards in time  or will i also physically and biologically travel back in time  that is i get younger and younger  and then disappear because i was not yet created  thus defeating the grandfather paradox  although if it were possible for signals  or information  to travel backwards and forwards in time  does this possibility automatically extend to matter as we know it  ie particles giving rise to electrons  protons and neutrons  and ultimately biological beings such as ourselves        july',\n",
       " '  i want to offer you a tremendous   thank you   for your suggestions  which i believe will be paramount to the successful inclusion of rantmedia   i have vastly improved the article since the afd nomination as well as  since yesterday afternoon   i was not clear to me what was necessary to be done with the article  and you were truly the first to really answer my question of   what is it going to take      so from the bottom of my heart  thank you      tc      ',\n",
       " '   i have to laugh when watching the supposedly british national news  with guys barely up to their ankles in snow implying that ragnarok is upon us  yet on the same day  when trees are being blown down and main roads being blocked by snow in scotland  it does not seem to be noteworthy  scotland routinely gets ignored on the   national   news  and even people from the north of england were complaining about the fuss made by the southern oriented news  tourists appear to be amazed that things are falling apart because of something like this  my mother had a very good giggle at the reporters live in trafalgar square in a couple of inches of snow  or beside a main road  barely ankle deep      lance tyrell ',\n",
       " 'a friendly advice  if you have to refer to me  kindly use cult free and not only cult   ',\n",
       " '   great links  imo the american people are on the whole good and decent  but the so called leaders are fully controlled by an elite bent on domination and control  this whistelblower says the same     talk  ',\n",
       " 'queen s university   as stated previously  i am quite pertrubed and to be quite honest  frustrated that you would remove the section pertaining to the university s traditions  do you have a personal vendetta against the institution or dislike it  for whatever reason you removed the compliation of material regarding the jackets and other traditions  which i find odd considering similar traditions have been allowed to remain on other university wikipedia pages  mindlessly deleting material without group consent constitutes vandalism and  while i am sure that your intention was not malicious  it was a short sighted move on your part  please allow us to discuss this in greater detail ',\n",
       " '    january   utc  the argument at wp natural seems to rely on showing that the other name is common  so you need to prove that the other name is common  numbers might help a bit  also  above we are told that   gohatto   rather than  is the name of the film in japan  but this turned out to be false  incidentally  ryuhei matsuda  it seems to me  looks more like his mother than his father  what do you think  also  how authentic is the portrayal of the shinsengumi in this film  do you have any historical insights      ',\n",
       " '   unspecified source for image metropolitan of moscow makariy nevskiy jpg  thanks for uploading image metropolitan of moscow makariy nevskiy jpg  i noticed that the file s description page currently does not specify who created the content  so the copyright status is unclear  if you did not create this file yourself  then you will need to specify the owner of the copyright  if you obtained it from a website  then a link to the website from which it was taken  together with a restatement of that website s terms of use of its content  is usually sufficient information  however  if the copyright holder is different from the website s publisher  then their copyright should also be acknowledged   as well as adding the source  please add a proper copyright licensing tag if the file does not have one already  if you created took the picture  audio  or video then the  tag can be used to release it under the gfdl  if you believe the media meets the criteria at wikipedia fair use  use a tag such as  or one of the other tags listed at wikipedia image copyright tags fair use  see wikipedia image copyright tags for the full list of copyright tags that you can use   if you have uploaded other files  consider checking that you have specified their source and tagged them  too  you can find a list of files you have uploaded by following   this link   unsourced and untagged images may be deleted one week after they have been tagged  as described on criteria for speedy deletion  if the image is copyrighted under a non free license  per wikipedia fair use  then the image will be deleted  hours after   if you have any questions please ask them at the media copyright questions page  thank you  do you want to opt out of receiving this notice   hi   ',\n",
       " ' percent koreans eat dog meat   koreans have tried   not regular korean food diet  do not genearalize or finger point that all koreans eat dogmeat  that is not true ',\n",
       " 'support lets protect and save this page from user balagonj  this page has full of errors and invalid references ',\n",
       " 'apparently   i thought tom was offline and filed an edit warring report  and yellowmonkey picked it up before tom mentioned the page protection   we will see if it sticks ',\n",
       " 'newsletter draft ready   hi dank   i have prepared an initial draft of our drive wrap up newsletter at wikipedia wikiproject guild of copy editors newsletters april   if you could find the time to check it over before it goes out  that would be super  thanks ',\n",
       " 'should be omitted entirely   ',\n",
       " 'is that not a true description on a booger  if not then prove to me what is ',\n",
       " 'stay off my talk page  stalker     ',\n",
       " 'anthony de mello   hi i need this page written  anthony de mello  it currently redirects to a priest  do you have any suggestions on the dab title  cricketer  ',\n",
       " '  thanks  and happy new year to you too            let is talk about it   ',\n",
       " 'more mature way  central posted ',\n",
       " 'stop vandalizing my userpage    i know it is someone from here ',\n",
       " 'oppose  i do not think a merge is a good idea ',\n",
       " 'maybe  but that does not lead to the conclusion that the taip aircraft remained in africa and did not return back after ferrying the soldiers  the article on colaco net also does not shed any light on this ',\n",
       " 'thanks   thanks for the thanks  i just leave them in my watchlist after i found an archive full of vandalism a while back  given that it was slashdotted  i suspect we will see a bit more of it  i might get someone else to fully protect it if it continues  i can not do it because of coi   i would also like to thank you for keeping an open mind  changing  votes is an encouraging sign of good faith  regards ',\n",
       " 'hello      if you are interested    we could really use your help  ',\n",
       " 'f  k all rides at worlds of fun    i hate all rides at worlds of fun because they are sh tty and boring  all ride operators at wof should be fired sued and hanged  burn all wof coasters  arrest all wof park operators  assassinate all wof customers  i heard that a boy died on timberwolf on august    that s stupid  worlds of fun should have nown better to built that sh t ride  worlds of fun cares about money and prophet moar than they are customers  burn that sh t park down  f  k you rides  worlds of fun is dangerouser than grround zero and area     worlds of fun should burn in hell ',\n",
       " 'as to job for you   sure thing   as soon as i find time for that  also  i notifyed novanova asking him to start editing the http   en wikipedia org wiki croatisation  this guy knows a lot about croats and their history ',\n",
       " 'oh ok  i just wanted to see what people thought  anyway its up for csd  hey do you like my talk page  i hope you do not mind      talk er',\n",
       " 'wrong  the capital is podgorica as it has always been since july     the seat of government  parliament  and president is in podgorica  cetinje is only the seat of the kingdom of montenegro in exile  and besides  only capital cities have embassies  and podgorica has them and do you see any in cetinje  no  besides  no one in montenegro nor in the world say that cetinje is the capital of montenenegro  but instead  they say it is podgorica  and also  that consitution was adopted in   very outdated  and a new one is due next year ',\n",
       " 'mark ii subsec i removed the mark iix subsections and made them bulleted lists   there was no reason  in my eyes  to subsec one line of information    ',\n",
       " '    can there be a more concise listing    the listing of   other inventions   is profoundly vague  why group  different categories together  why even mention things that the chinese received purely from outside sources  there should be a much more complete  well managed list of chinese developments  which i have yet to find  along with how these were transmitted globally  and whether or not places like europe got them purely from the chinese   this really needs the attention of people with some remote expertise  which i guess is somewhat there when needham s work  which is profoundly rare in private collections was cited  not like the arrogant bigoted ass who was crying about chinese nationalism  yet then went onto say that they only invented noodles   and besides  why are things like the cannon and porcelain listed under   other inventions    who developed these independently  ',\n",
       " 'in history there could be a consensus view or a mainstream view  in theology there is no mainstream or consensus view  since most of theology depends upon the church membership of the theologian  historical scholarship aims at universality and objectivity  while theology makes no such claims  it is true that there are millions who believe that jedp was birthed in hell  or would believe it if they knew what jedp means   so in principle their view is notable  but as enns said  it is a fringe view in the academe  even among scholars who actually disagree with jedp  the sources used to build wikipedia are academic sources  therefore jedp and its  st century offspring are given by default the weight they have inside the academia  while the view of the fundamentalists is treated according to wp undue  this does not mean that wikipedia could say that the fundamentalists are theologically wrong  wikipedia has no theology of its own   but it is entitled to say that inside historical scholarship they are a fringe view  of course  this does not exclude serious scholarship done at religious faculties  since as ehrman said in one of his bestsellers  us mainline protestant and catholic theological seminaries and divinity schools do teach mandatory historical criticism classes  so  in a sense  scholars from such faculties are thoroughly acquainted with historical criticism and built their careers upon its assumptions  only fundamentalist seminaries and divinity schools choose to default against historical criticism  they are free to do this  but this cuts against their claims of being mainstream historians ',\n",
       " 'well  i am sorry  but attacking me and my edits is exactly what you are doing   wow  there is some seriously snotty people on wikipedia    and yes  there is a need to separate the featured single    definitly         ',\n",
       " '    tfd nomination of template silentredirect     template silentredirect has been nominated for deletion  you are invited to comment on the discussion at wikipedia templates for deletion template silentredirect  thank you       talk     watermarks   i shall remove the obvious ones  the less obvious ones stay  i am allowed to watermark images with anything whatsoever i wish to  even if it is a contradiction  and if you wish me to use up further wp  bandwidth by re uploading them  that has no effect on me  i can not do anything until this evening  and if any get deleted  i shall reupload them  yours without respect  talk email   you could have the grace to reply  i said that i would deal with them this evening  but only the ones where the watermark is visible from the page  so     off  talk email   i am planning to re upload them with less obtrusive watermarks  such as that on image bliss parody jpg   talk email   it was not vandalism  i used an external link as per your instructions  which incidentally i am not bound to follow  i am certainly on the verge of requesting mediation  as you are disrupting my life  never mind wp  to make a point  i will tell you one more time  any images are better than none  if you wish to get your own pix of all the concerned images  you are damn welcome to try  but they are gfdl therefore there is no grounds for removal   talk email   ps   i shall add the external link again  not as an image  and if you remove it i shall make a formal complaint to the wikimedia foundation  and the information commissioner in london   talk email      your conduct is a little off in this matter  while i am all for discussing the issues with users  let is keep it civil please  thanks    talk     i disagree  rob   it is far more than   a little   off  images watermarked as such are not in any way appropriate for wikipedia  this is an encyclopdia  not a pet image project  if   thedoctor   is not happy to play ball  he can go elsewhere     talk    i am proposing a change to the image use policy to forbid watermarked images  please voice an opinion at wikipedia talk image use policy user created images  thanks   talk   i edit from the united kingdom  and under the  computer misuse act  the editing of information online is illegal  without permission  the button at the top of every page that says   edit this page    among other things  constitutes that permission  while the policies and guidelines form conditions  since there is no condition against my image  it has a legal right to be there  q e d   talk email   true  but therefore your addition fails under the same logic  also  wikimedia own the servers  it is their right to delete it  id   apologies to ed for invading his talk page  but what a load of rubbish  wikipedia are under no legal obligation whatsoever to host your images  regardless of whether they meet any policy  i have no idea under what flawed logic you presume that the fact you can edit wikipedia means that your edits must legally be accepted  if the computer misuse act states that the editing of information online is illegal without permission  that implies that editing with permission is legal  and nothing more  furthermore  by your logic  i have the legal right to edit wikipedia  and remove your images    i fail to see what on earth you intend to tell your lawyer  but i do not imagine the wikimedia board are too concerned           talk   ignoring the gibberish i',\n",
       " '    artpop   album    hello  thank you for all your contributions  i make this message in good faith  please do not make hidden comments like this stating that an editor will be blocked if they remove a redirect  i am in no position to be asking this but i am saying this as it could turnaway new contributors  who are not aware of the rules  feeling they have been bitten  in this case  i think a kind  user  talk page message would be more appropriate and effective  also  you edit was reverted so i reverted it back to your version but also removed the block warning as it is not appropriate  no admin will should block just because a user removed a redirect  specially if that hidden message was their only warning   feel free to correct me if wrong again  i write this in good faith     cheers   huntley  ',\n",
       " 'crown prince   would not it have been prince elect  denmark was a elective monarchy during this time ',\n",
       " 'hamish macdonald  disambiguation  hello  just to let you know that as this now only has two entries   one of this name and one with a very similar name  i have tagged it for deletion using template db disambig  if you have any questions about this  please let me know  best wishes ',\n",
       " '    my  cents  as someone close to the korean american community  it is pretty standard practice to give both an   american   and a korean name at first  i do not know for sure that that s the case here  but would not be surprised  it is probably explained in her book     ',\n",
       " '    died in  or not    i think it is better to settle the matter here instead of going back and forth  so  the ip user claims that the whole thing is a hoax  that she died in europe years ago and that there is no hawaii obit  first of all  is the   forevermissed   a user submitted website       do you know her family personally or do you know somebody who knows the family  we would like to get a more elaborate explainantion behind the claim that she is been dead years ago  i see that her supposed obituary is pretty detailed  are the rest of the biographical information accurate  though  and the picture    ',\n",
       " '  august   utc   dear  the  hour block that you placed on my account yesterday for personal attacks has just expired  and while i must say that i was not happy about the block  i harbor no hard feelings towards you  if you check my previous contributions  you can see that i have been a productive editor on wikipedia  i would just like to let you know that while i was guilty of personal attacks against  and   i was goaded into doing so by these two individuals  in order to avoid future blocks  i promise not to engage in anymore personal attacks  and if i am goaded by trolls such as these two individuals  i will simply ignore them     was repeatedly reverting a comment which i made concerning statements made in the hugo chavez article which i found to be biased  my issue with  concerns his nastiness and uncivility  he is far too possessive of articles which he has created  and he becomes very angry when edits are made to such articles  after multiple revisions of legitimate edits which i made to   his   articles  i told him to leave me alone  he proceeded to foul my discussion page with unwanted and unsolicited comments  when i objected to this  he goaded me into calling him a profanity   while i respect your role as a wikipedia administrator  i would like to respectfully request that in the future  you exercise better discretion when blocking a user based on one sided information  thank you for your understanding        ',\n",
       " 'links in results  a mess  links anywhere except the actual book ',\n",
       " 'it was not me that added the glebe park link  though i might have wikified it  i have never actually been there  so i am afraid i will not be of much help at the moment   though i have been meaning to go look for a while ',\n",
       " 'go away  why did you revert my edit on blowdart s user talk page  surely thats his privelege  users like you give wikipedia a bad name  stop being such a busybody     ',\n",
       " 'the head    waysssssssssss  pounds and feels like play dow   dont tuch them they will fall off',\n",
       " 'sarek of vulcan  unfortunately for you  you cannot ban a fact    sarek of vulcan  unfortunately for you  you cannot ban a fact   fact  lawrencenkhoo told me here on wikipedia that companies keep their retained profits in the bank    fact  that is absolutely untrue   fact  sarek of vulcan bans me for stating that    fact  sarek of vulcan can ban me but cannot ban facts ',\n",
       " 'keep your chin up  darwinism was not accepted over night  there appears to be more sense in  the  aat origins  than the sort cut hypothesis that our  ancestors went from swinging in trees to the prairies  and then  eons later  take up a sedentary life style so they could edit wikipedia and face book etc   all day   one only has to watch little kids on the beach   the first time a wave throws them bottom over elbow they may well cry  but after a time   they can not wait to get into the water again  it is as if  being at home on a sea edge environment is hard wired into their genes   unfortunately  the rise in sea level since these times means that evidence of these coastal communities may never be found   keep plugging away until the old hypothesis fade away ',\n",
       " '   nazi filth   is impolite      jan   utc    ',\n",
       " 'interesting  i checked the other case number kunzang lhamo cited  which can not be used for wiki since it is original research  but going a step further  i can not find that case number on san bernadino s open access  either in civil or criminal records ',\n",
       " 'the transcluded part of the ga review does not seem to update into the main talk page of the article correctly  may have to click to go to the subpage to get the most up to date version  sorry  its looong  you can skim most of the content related stuff  i guess ',\n",
       " 'protecting  causes of the  palestinian exodus    hi   can you explain on its talk page why you protected this article   there is some edit warring going on  but not very heavy  for the standards of this article   also i am a participant in a mediation case  but that concerns actually only the use of one source on this page  and is irrelevant to the present edit warring   therefore i was wondering about your motivation   regards ',\n",
       " 'hello  i check this personal page very often  please leave messages here on on the discussion page  tks    marvio',\n",
       " '   my thanks to you for this  i note that i am being dressed down for everything from being nice to editors i like to work with  all the way to deleting messy posts from my own talk page  well  a mess is a mess  again  thanks stephen  please do not take that as gratuitous or ingratiating        imacowboy  ',\n",
       " 'i do not care what you say here  i do not believe one sentence anymore ',\n",
       " 'anytime you want a nightcap  tell me ',\n",
       " ' meet a local   vietnam tv series  factual   documentary  mins   meet a local   spain tv series  factual   documentary  mins   meet a local   tasmania tv series  factual   documentary  mins   meet a local   ireland tv series  factual   documentary  mins   the way   camino de santiago feature  factual   documentary  mins   african stories online  factual   documentary  mins  overlander multimedia for the abc   the outback boxing troupe online  factual   documentary  mins  overlander multimedia for the abc  australia  production company   returning home   a story of ararat online  factual   documentary  mins  overlander multimedia for the abc   meet a local   east coast australia tv series  factual   documentary  mins   meet a local   outback australia tv series  factual   documentary  mins',\n",
       " 'globalization and  ivytrash    i am not ivy anything   that was my home   i was born and raised  blocks from harvard square  and it was  once  the greatest place in this country   i am not interested in  globalization    i look at the square and see the smoking ruin of my home   when this happens to you  i hope globalization is comfort enough for you ',\n",
       " 'he is  self confessed   and approved by my observations  see  e g   history of soviet partisan   btw  you are the first to object   ',\n",
       " 'and btw  speaking of the armenian genocide  if we are to follow wikipedia conventions of most common name  and i do not agree assyrian is the most common name as we also have proven many times before  we should change the name of the current article assyrian genocide to seyfo ',\n",
       " '  to quote     if a wikipedia article links to this page  it is because someone is concerned that the article contains inaccurate statement s   such statements are followed by the following warnings     dubious   discuss      the accuracy of a statement may be a cause for concern if         it contains unlikely information  without providing references        it contains information which is particularly difficult to verify   please do not remove my dubious reference edits as that would be against the guidelines there  would not it  ',\n",
       " 'belarus a developed country hahaha  nothing more to say     ',\n",
       " 'censorship on islamist terrorism  try not being a censor monger  properly cited information should not be deleted ',\n",
       " 'if you would like to write an article of bill s father  including his rise to ceo of commonwealth edison  feel free  this article is about bill  we are not writing a chatty  book lenth biography about him  but stating facts   same as other biographical articles in wikipedia  the details of his father s career are irrelevant  although his  eventual  stature as ceo is not  this is yet another issue that has already been resolved ',\n",
       " '  thanks   really cool tool for purposes like what i have on my userpage   best  tally ho   ',\n",
       " 'it is funny because i would say exactly the same thing for you astarti    the anonymous user with an ip from greece and the user williamthweatt   accusing people   without a reason is not allowed in wikipedia   as per wikipedia rules you are free to ask for an investigation   in fact i do kindly ask you to do so   if this vandalism persists i will seek an arbitration   i do kindly ask from any moderator   to see all the reverts   and i am confident that they will conclude that they have been mal intentioned   with a clear nationalistic agenda     you all  guys have something in common   you are all greek   all  of you            ',\n",
       " '            i just watched the entire series  and i agree  this entire article and several other in the suzumiya haruhi articles are all from a   somebody who knows haruhi personally   sort of view   so im going to fix it     ',\n",
       " '  agreed  will take a stab at it  it also needs major formatting cleanup and wikifying  it sounds too much like a fan conversation   the references are all either youtube links or   personal communications    i am trying to at least pare down the   best musician ever    statements  could use some help with the discography section too     ',\n",
       " '  vandalism is for e g  this type of edit  somebody said that the stig was leaving so i reverted it  basically i reverted it because there was no source to suggest that he was leaving  so i do know what vandalism is i just want to carry on editing wiki  i love this place it is amazing please do not   make me leave    now that i have explained myself please please unblock me    thanks   ',\n",
       " '   baer didnt invent video games  this is jewish propaganda supported by a wiki troll named    goldberg   go figure    hey    goldberg    try educating yourself    https   www youtube com watch v efbwz siks ',\n",
       " 'i can tell you what the argument is about here newseventsguy  it is about your retroactive reversion of a simple edit trying to include secondary independent verification of sedimentary nanodiamonds in younger dryas sediments by bement and madden et al   without discussion a reference that i notice has not yet been included in the reference list still  after all this time  this is after you admit that you are ignorant of the peer review literature and the controversy  any attempt to do simple reference list edits on this page have been stomped by no less that five admittedly biased and ignorant editors  the honorable thing to do here would be to recuse yourself from editing the page  as i have  but i have not seen that happening until now  good luck with it  you have already made complete fools of yourselves ',\n",
       " 'hello how do i get somebody to fix shit around here ',\n",
       " 'dictionaries  how dare you call my contribution spam    i am a kurd and i made a lsit of kurdish dictionaries  you bloody turkish nationalist and atoricity commiting bone breaking nazi  watch out folk this slimy turk is trying to censor the internet this is not undemocratic turkey here  no prison cells in wikipedia you stupid turk  and you buggers want membership to the eec',\n",
       " '   apparently  other editors agree that the edits i made were justified   a group of meat puppets working as a team to revert an article to their own pov is what has caused this block   at issue was the   advert   tag which is justified  was placed on the article by one editor  replaced by me  replaced again by another editor  and replaced again by me   three editors  so far  have indicated the tag belongs there   i am sure a forth editor is going to weigh in on this side too   the article is riddled with brochure language   please note that i was removing brochure language right up to the lock up of the article   there is still lots more in there that needs to come out before the advert tag should be removed   additionally  i do not believe i broke the rr rule which requires a fourth reversion       ',\n",
       " 'while i agree that indus valley civilisation is the correct name for the civilisation  the passage quoted above is not neccecarily factual in terms of saying second there is no proof at all that the mighty sarasvati of the rigveda was in fact this  now dry  river  the identification is itself open to doubt   apart from there being facts proof to indicate that saraswati did exist as this dry river   including geological facts as to why it dried up  the evidence also points to the fact that it was not a tributary of the indus    refuting point  of the passage quoted above   and in fact drew the waters of the sutlej and the yamuna to be a river system of it is own  and though a large number of sites have been found along this river system  none of them are of the scale of harrapa   mohenjodaro  leaving the indus valley tag as the correct one  saraswati did exist today the timing is disputed and not the existence  wheter it is vedic and indic vs harrapan and non vedic is more disputed today than it is existence ',\n",
       " '  december   utc   thanks  i have started working on pranagnihotra upanishad but i am unable to get the full text from the deussen s sixty upanishads  pages   do not appear in the book under google url   can you suggest a url which gives the full text  in the meanwhile i have completed this short article sharabha upanishad which you may like to see and add edit  nvvchar      ',\n",
       " 'i insulted people on en wiki with criteria to provoke my filter set  you are simply abusing the power people handed over ',\n",
       " '  excellent  that would be great  the comments found at its peer review should also be very helpful  but i have not had any time to actually act upon those suggestions  cheers  hello   ',\n",
       " 'how do you know he is dead   its just his plane that crashed   jeezz  quit busting his nuts  folks ',\n",
       " '   afican union site vandalism  dear bracketbot  i wrote this note to inform you that an editor is performing acts of vandalism in the website of the   african union   https   en wikipedia org wiki african union  please i would appreciate if you could tell me who i should report this action   the board index name is https   en wikipedia org wiki user knisfo      ',\n",
       " 'you are a know it all     jimbo    why do not you get a life instead of sitting in front of your computer all day  the high priestess of knowledge  indeed ',\n",
       " '  all of those statements need to be referenced   leaving an article unreferenced in every section opens the door for original research and the introduction for factually inaccurate information   to point out one thing  i will bring up consolidated appropriations act     first  it has a number of tags on it  the creation of articles that need to be tagged should be reason number  to remove the flag   second  the only reference link provided on the article is this one while the information is from various subpages of that   it appears that the entirety of the article is found at this deeper link   it is possible that some came from this as well  i can not tell   i will also note that the style of the summary it was taken from was never meant to be encyclopedic  so the article is riddled with grammatical errors  mostly incomplete sentences   on creation  the opening read   consolidated appropriations act    h r    is a bill passed to the th united states congress    i have never heard this usage  to rather than by  and assume it is incorrect  another editor changed it  the lead is also missing an important determiner   in any case  you can take a look at vesey  ',\n",
       " 'ok  i just ask  for your experience  what you think about the portal ',\n",
       " 'sitush  how can anyone assume good faith when you have been writing so much against yadavs on that page it is evident from the discussions  how conveniently you have been selecting sources for negatives and then conveniently rejecting the same sources for the positives  you are the only person spamming on that article and vandalizing it  yes  i will contribute to other articles on wiki too  but let me first correct things on yadav as so much wrong has been going on there you got ikonoblast banned and now you have got me banned and you will get anyone banned you differs from your biased stand on yadavs but i am not going to give up i will follow all wp policies and will ensure that i get things corrected on yadav and dont let your and fowlers personal views dominate that page peace   ',\n",
       " '    december   utc  do not worry  i told you i had your back  and i will continue to defend ya     yup  we got our proof of work  when i first saw it  i was like  nothat s no reliable source   cause i remember you reverted that source one time  but  when i looked over the article and saw ref   i was like  oh shit   so i reverted it  i am glad you went   going back       i am glad my   two words   have gone on to   save   me  question  would you like for me to expand leads on all ss members    hit    ',\n",
       " 'november   utc     i agree with     clearly santilak is using up his usual bag of tricks  santilak  please discuss the article courteously and professionally          ',\n",
       " '  ok  i like the pyx lax track very much indeed  if you could point me towards other greek trad music  that would be great  and greawt for me  here are some irish        non visto     provvedi  ',\n",
       " 'where is with pitchforks already        jun   utc ',\n",
       " 'again reinstated sentence about  nobels in the first paragraph  for the reason stated above   if others disagree that this is a defining characteristic of bx science that should be indicated right up front in the summary paragraphs  then can we discuss it here rather than playing edit games by removing text without either edit summaries or discussion on the talk page ',\n",
       " 'i am disappointed it was not a successful run  but it',\n",
       " '   elvis    crying in the chapel  feudalist   ',\n",
       " 'please refrain from adding nonsense to wikipedia  as you did to fisting  it is considered vandalism  if you would like to experiment  use the sandbox    tlka',\n",
       " 'elizabeth   hi lil romeo i am one of your biggest fans i really like you i always dream of you at night i would like you to come to dallas tx  to ignacio zaragoza and give a concert at this elementary school i am in the th grade and i am  years old i want you to come and help me with my homework see you later i will write to you soon by',\n",
       " 'hi fracophonie   thanks for taking the time to write such a long message   i appreciate this   in terms of what i said about the age   i did not mean to cause offense  i thought i read somewhere that you had to be over  to make these decisions but i think i was getting confused with the check user privileges    i have already read some of those policies but will read the rest later today  i am not a troll   i just need time to get used to all these acronyms  policies etc   from what started out with me writing an article about my favourite website has turned into a massive thing which was not what i was expecting   i really do not have any more time to argue and debate with the usrs since its clear they just want it deleted despite what i have said  for example one user just wrote there is another site called amirite net  this is amirite com   this is precisely why i had to keep responding on the afc delete page    in terms of the rest i agree to do them  of course i can only apologise once i am unblocked    can you apologise for me   on a side note i am actually french and jewish  shame about the gay part though  ',\n",
       " 'welcome   hello  soundchu  and welcome to wikipedia  thank you for your contributions  i hope you like the place and decide to stay  here are some pages that you might find helpful  the five pillars of wikipedia tutorial how to edit a page and how to develop articles how to create your first article  using the article wizard if you wish  manual of style i hope you enjoy editing here and being a wikipedian  please sign your messages on discussion pages using four tildes         this will automatically insert your username and the date  if you need help  check out wikipedia questions  ask me on my talk page  or ask your question on this page and then place   help me   before the question  again  welcome    wikhead',\n",
       " 'i removed the content  after it was tagged as uncited by mattisse  if every commonly known fact need a cite because some editor en passent wants to nominate for farc  then it appears we have a problem  i very much suspect mattisse s motives here  but frankly  i am too tired of her to be bothered to explore them  perhaps one of her probabtionary mentors  more interested in her than i  would care to deal with this ',\n",
       " 'is jeff garcia gay or not ',\n",
       " 'that would not be sufficient  you need explicit permission to use text copyrighted by someone else under a licence suitable for wikipedia   please read the guide to requesting and formalizing permission to use copyrighted works on wikipedia   note that  in addition to copyright requirements  the article must still comply with notability guidelines  advertising prohibition and avoid conflicts of interest   talk ',\n",
       " 'the section is useful info and should stay   you are clearly wrong ',\n",
       " 'comment so now we are stuck with a week of   broken links  since you acknowledge that the move was a mistake and not uncontroversial  will you please revert it  if anyone wants to dispute that the opera is the primary topic  they can do so under a proper requested move discussion  as they should have done in the first place  if you are not willing or able to do this today  i will ask a another administrator to do it ',\n",
       " '  it needs to be included  in the context of  as well   i will try and dig up some sources   user talk  review me   ',\n",
       " '            tim  firstly i appreciate you taking the time to discuss this issue offline  and for your willingness to debate it at length here despite the majority view here being in your favour  yes i certainly agree with your friend that it is very important to describe the jurisidictions that a firm is present in  there is clearly a massive diffence between  say having offices in the french or japanese jurisdictions  or between the chinese and u s  jurisdictions  since the legal and regulatory systems are very different  as well as the commercial characteristics of the markets    beyond that however it remains my firm view that there is a big difference between a law firm having an office in  say  paris or toulouse  even though they are both in the same jurisdiction  i appreciate that the situation in the u s  is slightly more complex since you have both federal and state jurisdictions  even within each state there will be big differences between the legal markets in different cities though  to give an example  the san jose market will be not just a lot smaller overall than the los angeles market  but it will also have a quite different profile   on the whole a lot more specialist  niche and focused on high tech     to give another example  in the uk a law firm could never be regarded as being truly top tier if it did not have an office in london  even if it had offices in every other big city  in fact all of the very top tier uk firms  dla piper is not yet regarded as one of them  despite its size  have just one uk office  in london  although they have other offices overseas     saying that dla has    has  offices across the united states  egypt  south africa  kenya  thailand  china        would in my view still mean a loss of valuable information to the reader  we could fall back on using descriptions like   in major financial centres   or   in major commercial centres   or   in a combination of major financial centres and major commercial centres   but then we are introducing what is in my view an unnecesssary element of vagueness  imprecision and even original research    i do accept that dla  with  offices  is right on the borderline of having too many offices to make it practical to list all of them in the article  however i do also feel that there is an important general point of principal that information about the office locations of a law firm is very valuable information to aid the reader of an article in understanding the subject of it  and should be included as much as possible      ',\n",
       " 'no problem with that at all   if you do not think that there is a problem with someone siting that i have a mistress then it just proves my point as to how far this site is to being an actual encyclopedia   it is a forum  not an encyclopedia   big difference   and that s not even what pisses me off the most about my page   thank god i am single with no chick bitching me out or that would be another attorney fee i would be handing out to sue whoever owns this site   i am done bitching about the mistress thing   my whole page has errors from the very first line down to the very last line  and that is no joke    first line and the last line are wrong ',\n",
       " 'sprecher brewery   i took the tour this christmas when visiting my sister  we were charged an extra   for the glass  their website may not be updated but that is the current pricing ',\n",
       " 'ipad talk page   why did you remove that ip s edit to the talk page  it was not spam   ',\n",
       " '   speedy deletion of andrew takao  a tag has been placed on andrew takao requesting that it be speedily deleted from wikipedia  this has been done under section a of the criteria for speedy deletion  because the article appears to be about a person or group of people  but it does not indicate how or why the subject is notable  that is  why an article about that subject should be included in an encyclopedia  under the criteria for speedy deletion  articles that do not indicate the subject s importance or significance may be deleted at any time  please see the guidelines for what is generally accepted as notable  as well as our subject specific notability guideline for biographies    if you think that this notice was placed here in error  you may contest the deletion by adding  to the top of the page  just below the existing speedy deletion or   db   tag   coupled with adding a note on the talk page explaining your position  but be aware that once tagged for speedy deletion  if the article meets the criterion it may be deleted without delay  please do not remove the speedy deletion tag yourself  but do not hesitate to add information to the article that would would render it more in conformance with wikipedia s policies and guidelines       ',\n",
       " '    image    image deletion warning image metroid prime hunter title screen  top display jpg has been listed at wikipedia images and media for deletion  if you feel that this image should not be deleted  please go there to voice your opinion      august     utc  ',\n",
       " 'the real personal attacks are the repeated undoing of my edits by everyone else ',\n",
       " '   nope  i did not read the guide to appealing  did not have time  the user in question is engaged in harassment  i have been doing this long enough to know and i can prove it  he she immediately placed a threatening notice of blocking me permanently on my user page  reverted the article while i was in the midst of editing it  my second pass  could not even preview changes   then changed his her mind as to my real wiki sin  since the onus for proving the doris day available as pd on archive org was on him her not me and the usual span for pre bern had expired long ago      decided my real sin was original research  oh noes   and continued to revert based on that  does or add clutter  sure it can  but if the user in question was really concerned about that  about the quality of the article and about extraneous details  why did not he she even notice two paragraphs already there  comprising about   of the entire article  dealt with norman schwarzkopf  an unrelated book and an unrelated ice cream store name  i will tell you why  the user was not engaged in good faith goodwill editing and the normal back and forth that leads to better articles  he she was involved in blocking input to the article  why  was it personal against me  or was it to preserve the existing content of the article  including the false claims and extraneous material not even concerned with ther subject at hand  i can only speculate  but i would guess it is some sort of power trip and wiki bullying  i do not really have time for this  i have made a fair number of very good edits over the years and have usually refrained from saying anything that is not directly related to content and improving articles  i could pretend this user did not do what he she did  but i am wasting my own time here and i do not really have a stake in any such pretense  i do not have any stake in improving this article either  no dog in the race  i just see how it can be improved and made more informative  as a long term wikipedia user and editor  i do not see any problem in jumping in and fixing something  i almost expect some sort of pushback now  but not over completely minor edits which are very good and on target in very minor stub like articles  the problem is not me here  it is that if people such as the user in question can get away with this sort of behavior  and they are getting away with it  wikipedia becomes a much poorer place  a playground filled with bullies rather than a library where we can all learn and share  also  i do not recal ever having called him her a bot  i think you put those words in my mouth  perhaps inadvertently  his her behavior is malicious  but probably not malware  just the normal human collection of problems  i think this user should be warned against trying to be a gatekeeper  he she is not quite qualified for that at this point anyway  and it is having a very chilling effect across wikipedia  i will not egnage in a battle of the wikipedia rule acronyms  i will continue to write in english  and to read articles on wikipedia in english  and to think of ways to improve them in english  i am fully aware of how the terms   vandlism   are used and misused here  and most of the rest of the wikijargon  nothing new under the sun here  if you read the edits i made carefully  and note the times of the reverts and the history of actions by that other user  you will see i am not off the mark here at all  i know what is going on  i do not know why  but i do not have to  and i expect the motivations are not interesting  respond if you have anything to say     ',\n",
       " 'the communist states     all three call themselves as the socialist states  communist is the word that westerner use  so should that name be changed     ',\n",
       " 'boze hadleigh  a journalist  interviewer and writer primarily of gossip about homosexuals of hollywood ',\n",
       " '    imdb content is user submitted and often subject to incorrect speculation and rumor  the use of the imdb on wikipedia for referencing is considered unacceptable and strongly discouraged   wikipedia wikiproject film resources      self published media   are largely not acceptable  this includes any website whose content is largely user generated  including the internet movie database  imdb      wp userg as i have said  this is a long standing consensus  if you disagree  i encourage you to take it up at wikipedia reliable sources noticeboard       ',\n",
       " 'i am new to this means of communicating     and i am not sure that i expressing this in the right form   however  i am reviewing all of the recent     ma nominations  expected to go on the web in the next couple of months   in the process i have developed a database of corrected lat long  decimal degrees   based on google earth and photos and assessors maps in the nomination files  i would like to share this  if there is a way of doing it   alternatively  to find a way to easily check and correct existing coordinates on the mass wiki lists  would this be useful for anyone ',\n",
       " 'ykgtp actually reverted the vandalism  i did not ',\n",
       " 'yes  i have read them both  and i will now ask you to provide back up for your story  not that it matters in the least  the one religion is as bad as the other  but you better have some proof for your claims  chatnoir',\n",
       " 'i think the error is that it is grams not kilograms  so   kg  i am editing the article til we have a better result  if i am wrong please change it back       dec   utc ',\n",
       " 'vince   fyi  yellowfrogs  is  longdendale  councillor sean parker perry  a frequent purveyor of  greenwash  and four square behind the destruction of swallows wood via his support for the bypass  he is vigourously re editing the wikpedia pages on the longdendale bypass  his own and roy oldham s page in order to boost his fake  green  credentials and obfuscate the neutrality of these articles  he gets nasty if he gets pissed off  threatens spurious legal action   but fortunately  he is legally illiterate  so do not be put off ',\n",
       " 'summary of situation  user shimshem has taken a dislike to this article  and has tried numerous methods to either get it deleted or its name changed      completely invalid speedy deletion request    invalid drv request    nominated for deletion via afd  despite the fact that it had passed an afd this year   in fact the afd was withdrawn at   for keep  the current afd here stands at   for keep  but despite that  shimshem has wikilawyered all the way through it   once it became clear that it was going to be kept  they decided a name change would be better       changed the name of the band in the article  and was told to take it to talk  after a brief non discussion on talk  moved the article anyway  and was reverted  i was originally unsure of the motives of this editor   why they were completely desperate to delete or move this article   until i noted they were interested in tamil subjects  one of which is m i a   artist   and guessed that they believed that the two could be confused   their subsequent creation of the article m i a as a redirect to m i a   artist  proved this  as far as i am concerned     as to whether the band is actually called mia or m i a   it differs   the band itself uses m i a  as the heading on their own website  but then uses a combination of both elsewhere   since in the case of most sources  this is only likely to be laziness  much as r e m  are regularly referred to as rem   and since the article has existed here for a while  and that all the backlinks go to this version  and most of all because we should not let disruptive users get their way  the article should stay here ',\n",
       " '   it is unnecessairy source  because it does not matter how many soldiers were killed  what matters is that the safavids were deposed  besides that  mentioning that information without making any remarks about the brutality of the afghan forces   for example the complete massacre of the safavid family  including women and children   as well as the massacres on the civilian population in isfahan  bam  and villages of khorasan   is considered pov    besides that  you have not shown any sources for your claim that     soldiers were killed      and as for the edits  it does not matter what you believe  it only matters what the wikipedia rules are  you posted a message without editting anything     that s the same as abusing the article s history as a message board  use the real message board instead    ',\n",
       " 'whoever wrote the plot i feel terrible for whoever had to watch the movie in detail and then write the plot line  who ever took their time to write the plot section must be traumatized for life  however  its missing the part where milo s son is laying on his belly unconscious on a bed  milo anally rapes him while several masked men watch  also  there is some use of a knife sword in this scene  this is truly one sick film  no  there is no artistic message  this film is basicly a middle finger by the sick minded film makers  the cast must have been tricked into participating in this disgusting film  there is artistic gore such as the classic film begotten and then there is this       listen to me  do not watch this film no matter how much you are tempted ',\n",
       " '  as he has asked admins not to comment  i will refrain from doing so  i did however remove a personal attack against him  if anyone wishes to discuss this action  please email me   windows   ',\n",
       " '  can we compromise here  i do not think we have the budget for salmon  but  at least in the netherlands  there is an   in between   fish  more affordable  that in dutch was called   salmon trout    so far  so good  s marshall  fortunately no one has yet discovered that you used to run drugs for a cartel or that you danced in a nightclub a la   henry lafarge  was it  in a shot in the dark  ssshh  i am not telling  oh  i should ask you at your rfa about the proper use of  citation templates  later     ',\n",
       " 'sorry  i am not sure how to take care of him   he has quite the history  and actually has legal cases involving the dayton daily news   wikipedia is at risk if he edits any of those pages or any affiliated company   the actual sockpuppet is      which is a puppet of hdayejr ',\n",
       " 'we can agree to disagree on the relative merits of the fish and the character  but the red seabream is part of family sparidae anyway  so that s usage outside north america right there ',\n",
       " 'large ships are typically launched into the water when the hulls are completed  but that does not mean all of the construction work is finished  usually  there is still a significant amount of work to be done  including finishing the interior of the ship  building the superstructure  etc  take a look at image sms seydliz under construction jpg  for example  you can see the ship is already in the water  but a significant amount of work is being done to the superstructure  you can also read ship naming and launching for more information about launching  hope that helps ',\n",
       " '    at which point i am predictably ignored and stonewalled  which seems to be the wikipedia staff s official response to any direct questioning on the justin berry issue   one might think they have hired scott mcclellan to handle their pr   clearly they are aware of the untenability of their position  and they are really hoping it will just go away   sorry guys  it will not  ',\n",
       " 'you need to prove notability using reliable sources  just because it has some festivities  how large are they  who organized them   in part of a country does not make it notable  also  you need to change your username  this one will probably be blocked soon for violating the username policy  no names of web sites businesses     talk to me ',\n",
       " 'meter s sigh and my concerns  only because mr meter had reverted any of contributions of mine given to this article so far i did not have a single chance to develop it  his article called falsetto is not about falsetto  it may be about his arrogance  who knows  there are a huge contraries regarding only the definition of falsetto  there are many signs of entirely different falsetto compare those info which mr meter such anxiously protects  in england  italy or spain th century were described entirely different types of falsettos  on the top of it  mr meter perhaps never heard pavarotti singing falsetto  or the falsetto of ian gillan  singing of king diamond is based on falsetto  what about michael kiske  is it not falsetto  mariah carey or whitney houston do  did  not sing falsetto  does any of these falsettos sound breathy  not to me  is not out there published a note about those  maybe only because meter does not look for it  why  it would not fit to his article  he would have to admit that his only source vennard was probably having in the chair something else than falsetto or he was drunk  meter quickly opened two or three books and things he had swallowed the world  the whole physiology of his only falsetto is based on encyclopedia  well  perhaps it is enough for wikipedia or himself  but not for me  no  there is much more out there only regarding physiology  much much more  and just because you allow idiots like meter to develop wikipedia  the people  the readers of wikipedia will read shit  where are any proves of the research regarding female falsetto at ies  mr know everything  feel free to block me again  i have no desire to write here any more ',\n",
       " 'you have also forgotten these premier leagues     but still written in english ',\n",
       " '   please do not replace wikipedia pages with blank content  blank pages are harmful to wikipedia because they have a tendency to confuse readers  if it is a duplicate article  please redirect it to an appropriate existing page  if the page has been vandalised  please revert it to the last legitimate version  if you feel that the content of a page is inappropriate  please edit the page and replace it with appropriate content  if you believe there is no hope for the page  please see the deletion policy for how to proceed  thanks for contributing to wikipedia    talk  ',\n",
       " 'what a motherfucking piece of crap those fuckheads for blocking us ',\n",
       " '    utc  that s because when i made those tables  i classed everyone as   independent   unless i could confirm their party identification  according to this  the dlp intended to run in all  constituencies   according to this they had at least  candidates   i have only been able to identify two so far  so we do need to identify more        december ',\n",
       " '    removed pov   i removed undo criticism of secretary boutwell and pov  wikipedia is not meant to bash persons reputations whether alive or dead  the following has been removed from the article     boutwell did little to withdraw paper currency from circulation  shaping his financial policy to forestall either inflation or deflation   intellectual critics saw in these actions a want of guiding principle and a lack of solid theoretical knowledge    he believed in knowledge just so far as it was convenient for him to justify his own theory that knowledge was a deception    henry adams wrote in a much quoted analysis in     he believed in common schools  and not in political science  in ledgers and cash books  but not in adam smith or mill  as one might believe in the multiplication table  but not in laplace or newton  by a natural logic he made of his disbelief in the higher branches of political science a basis for his political practice  and thus grounding action on ignorance he carried out his principle to its remotest conclusions   henry adams    the session    north american review  july    p     but in a very corrupt time  it spoke well of boutwell that nobody thought that he made money out of his cabinet post  either for himself or his friends  living within his salary  he lodged in a boarding house throughout his tenure  his only pleasures lay in writing lectures and playing billiards or poker   though never for money  chicago times  march        he is an inaccessible man  uninfluenced by fear  favor  affection or hope of reward  and does not burst out into brillian exhibitions of love or hatred    a new england politician wrote his brother  henry f  french to benjamin b  french  march     benjamin b  french papers  library of congress     boutwell s financial policy was less dogmatic than pragmatic   liberal reformers had hoped that he would embrace civil service reform and rush the country towards the resumption of specie payments  but while boutwell appointed subordinates on the basis of merit for the most part    he did little to rein in the spoils system outside of washington  remaining on friendly terms with the party bosses        ',\n",
       " 'you sir are an imbecile  and a pervert ',\n",
       " 'recaptcha    it is not defamatory  it relates to a computer system not a living person  recaptcha forces users to solve the captcha to access whatever the service in question is  forced labor is the definition slave labor  i am going to revert your reversion  please do not do it again or i will report you for vandalism also please do not send me threatening messages tia    ',\n",
       " '    question on possible citation   i am sorry if i missed your question   i do not pay much attention to that page  in response to your question  let me start by repeating my boilerplate formulation  the job of wikipedia editors is to verifiably summarize reliable sources using the neutral point of view   i have not yet worked in   no original research     wp nor says that we must not integrate otherwise reliable information to arrive at novel conclusions  comparing two lists and drawing conclusions from their differences and similarities is most likely original research  we can integrate information  so long as we do not arrive at new theories  another principle to remember is that vagueness improves accuracy  the more precise we are the harder it is to be accurate    getting down to details  the predators and editors website appears to be a reliable source so we can use it as a source  the bauer site  even if somewhat unreliable  may be used in a limited fashion as a primary source about bauer  i am not familiar enough with this topic to make pronouncements on what would be correct  however i would say that your proposed text appears reasonable  the sources are sufficient  and no original conclusions are made  the website takedown issue is confusing to me  but you should be able to summarize what you find in reliable sources    overall  my opinion is that the less we say about the subject the better  attack articles are not encouraged  while we must show our subjects   warts and all   we should not enlarge the warts  nor ignore their better features  balance is a part of npov        but you should be able to summarize what you find in reliable sources    there no reliable sources only a he said she said blog flame war  it is alleged the website takdown was instigated by bauer  it is not clear if she did  and other factors between the forum and the ip are not known  it was the root cause of this article and all the players here were involved via these blogs  i do not see how that can be objective     bauer  i am sorry i did not get back to you about the usenet stuff et al   but i have been somewhat overloaded at work  personally  i think the article is better now than when i first saw it  thanks to a lot of effort on the part of the primary editors of the article to bring the best sources and present them in a way that does not seem like a lynch mob  y all are doing a good job  and there should be enough editors on either side to ensure that something resembling nuetral gets posted   i am glad to help and try and make the article neater  and i do not mean to sound brusque in the summary field  but there was a lot to cram in there  thanks for the note  i appreciate it      i would say karen saying i have called her names is an out and out fabrication  i have never done any such thing      or whether it is because he is been able to insult me and call me names on wikipedia  repeatedly and without consequences    i have accused her and jule of carrying the water for tnh and absolutewrite and they have  that is not namecalling by a long stretch  i am really weary of these attacks over this  this is mob rule  while avi seems genuine  she is hanging with a tough insulting tribe  the threats against me are real and escalating by the hour  blaming me will not make my points any less valid  nobody likes to be piled on by a crowd  it is the internet equivalent of stoning    this is not a fabrication  i get awfully tired of being called a troll  or part of a mob or cult or   group troll    or a   self interested partisan    or a   blog comment commando    or other things i could point at if i wanted to depress myself  you also made a   theoretical   comment about me being   nosy  fat and ugly    putting the word   if   in front of it does not make it any less of an insult  i have tried to be polite to you  and will continue to do so  but this is the response  and  please notice  like abi  avi is avraham the admin  abi the ml commenter who believes in kindness  i counseled against piling on     talk   contribs   those are not ad hominem names karen  yet you have linked to a thread where you and teresa caled me a psycho  you should hear what she said in private when i asked not to be spoken of negatively in threads on making light  it is obvious you two are pro tnh and absolutewrite  that s self interest and backed up by the fact that you run to her for counseling  well  avi can make her own decisons about it then can not sh',\n",
       " 'infobox hurricane season   it is pretty much complete  i need to make some documentation  and possibly tweak things that may pop up  you might want to test it out  so if there are questions or suggestions  i can go ahead and address them ',\n",
       " 'show me where on wikipedia it says the table width has to be   wide collectonian  why can not you answer my question ',\n",
       " 'why was this article marked for fixing  i was hoping that there would be some guidelines here on the talk page  for further research and edits  the article looks okay to a cursory reading by a non wiki reader ',\n",
       " '   castro lite webluis continues to revert to his watered down  preferred image of castro  he has not backed up his edits with any facts  only whined about   personal attacks    some nonexistent  and empty statements       mar   utc  ',\n",
       " 'antonov revert  if you did not like the red link removals  why do not you just add them to the table i made  also  you reverted the edit where i only added the logo of antonov  it said so in the edit summary  ',\n",
       " '    another crap article  parrots what promotion websites of capoeira schools say about myths of origin  and also that persecution thing  by the late s  capoeira became a word for street brawling  thus  authorities did not prohibit or sanction   practice   of capoeira  in banning capoeira they were banning outright street brawls  it is why mestre bimba presented his art as luta regional baiana  no decent carioca would be eager to sympathise with capoeira and malandrismo  i could attempt to alter the article but it is become such a mess by now     ',\n",
       " 'i never edited the content of your comments  please correct your false accusation ',\n",
       " 'redirect talk jos manuel rojas',\n",
       " 'i agree that it should not but clearly it does  the media make spouses household names  there is nothing we can do to stop that  but  as jim rightly points out  rein is more notable than some political spouses because of her prominence as a businesswoman and that potential conflict of interest  which she is trying to avoid   nick',\n",
       " '     for security reasons   edit war as i said in my edit summary  the term   for security reasons   is ambiguous and not properly established in the source  further  it is unnecessary  you would have to have a crystal ball to know why they did it and  as i said earlier  janes is not perfect   the reason that all the other mg manufacturers alter their parts so they do not interchange is because the us batfe makes them do it   suddenly  glock is different   yeah  i guess that s just like glock compensated pistols not acting like any other compensated pistol  i wonder if they actually shoot bullets     ',\n",
       " 'this represents your immaturity and consistence at disruptive behaviour     talk',\n",
       " '     macedonian   slavic   bulgarian  possibly     notes       republic of macedonia              recognises the language as the as a dialect of the macedonian language              greece         eg  recognises speakers as slavophone greeks                      bulgaria    believes that macedonian and dopia slavic macedonian to both be part of the bulgarian diasystem              european bureau for lesser used languages            recognised the language as macedonian in            ethnologue             the most comprehensive guide to the world s languages  http   www ethnologue org show country asp name gr            there you go for more clarification  altough we all know the stance of the various governments does anyone have current sources for this  if so please add them  i hope that this table is clearer   but their still needs to be more ngo s   albania   eu  etc  please add constructive comments      ',\n",
       " 'if you feel that i am acting in manor inconsistent with my responsibilities you can post something at wikipedia administrators  noticeboard incidents   if you want to make changes to university of wisconsinmadison and you have reliable source references to support those changes then post the references with the changes   this tutorial may help with references  if you have more questions just ask ',\n",
       " 'part of editing for an encyclopedia is reducing extraordinary claims to ordinary fact i assume that this is meant in a derogatory fashion     ',\n",
       " 'cfd nomination of category wikipedia administrators i have nominated  for deletion  your opinions on the matter are welcome  please participate in the discussion by adding your comments at the discussion page  thank you    ',\n",
       " 'i am also a sock puppet of this account   suprise    sincerely              the man that will track you down from the internet and kill you',\n",
       " 'all the sources needed are provided  all you need to do is read the article   but i guess you can not read    once again you prove you are not even reading the article  every edit is backed up with the source it came from  i am not going to provide you with any details  because you are merely a civillain editor and not a wikipedia staff member  you have all the info you need within the pira text edits  if a actual wikipedia staff member wants more specifics i will be happy to provide them  look  you are obviously a anti ira hack who is making things up to support your bias  i am neither pro not anti ira  i have no bias  i merely report facts  i will be checking this page daily  and will continue to submit my pira entry because it is by far the most accurate and factually supported  we can do this several times a day if you wish  or you can accept the fact that mine is the superior version and just deal with it  it is up to you  but i will re edit on a regular basis  or we can agree to incorporate your fatcxs and mine into one article    but the three areas  the number of loyalists killed from  to   the number of ira victims as broken down by both janes intelligence online and the cfr   and the ira russianmafia connection which has been documented in multiple books and newspaper sources   these three things are verifiable and will remain ',\n",
       " 'are you fucker mother fucker have nothing to do but block university computers  go and suck cocks',\n",
       " 'it is from one of the many books on various bands    i thought it was from cult rockers  but i just checked and supertramp is not in there   i will seek out a source for this quote   ',\n",
       " 'hello   you disgrace to humanity  stop wasting valuable internet resources  your killing the fucking planet  and throw out your pc  ps it is like am what the fark kinda life do you have on wikipedia    a very sad and lonely one lol  life s too short find something better to do',\n",
       " 'i have explained my reasoning for this block at user talk gwen gale user professional assassin ',\n",
       " 'when an article is created about that album then a disambiguation page will be created ',\n",
       " '  that would be pretty odd for those declassified documents to mention a movie that was created after the events for which both the movie and the documents do related about  the declassified documents were not synthesized for the movie  unless you want to prove a conspiracy on the synthesis  very odd   it is perfectly valid to use the documents to relate to the same historical events to further verify the what happened  but the use of primary source in such a was is not ideal for wikipedia  since it is not ideal  that is why i left it here on the talk page if someone wants to research it more to find ideal references     ',\n",
       " 'your retarded bot   your bot is entirely automated  that is wrong   you should not leave an unattented script just running through the site like that  it is idiotic of you to suppose that your scripting abilities are so perfect that they will only ever make proper edits   banning me does not help anything  dipshit  since i have as many ips as i want ',\n",
       " 'two reversions on hezbollah   could you explain on the talk page why you have reverted my edit twice ',\n",
       " 'dislike racism and i can see that you has problems with people who speaks spanish  you are an antisemite too ',\n",
       " '  the name   yuen lou   looks to be just a variation of   yuen lo    the name jackie used under his sifu at the opera school    ',\n",
       " '     user talk wikireader archive archive  mar ',\n",
       " 'i realize now that the article does not quite say what i thought it said  if anyone can find a citation stating that there exists a proper subfield of  isomorphic to itself  i would be very interested in seeing it  and we could reinclude the clause with the citation  ',\n",
       " '   i did not cherry pick anything  these are the official and only facts    while essentially every cnn program was down double digits  pmet  which is home to piers morgan tonight  and pmet  which is home to erin burnett outfront  each had their worst performance in the demo in  years     http   www mediabistro com tvnewser may  ratings cnn hits  year low b    ',\n",
       " 'direct indirect relation   is it correct to say that  technically  if a  degree shot  by elevation  reaches the longest distance  then a  degree     will reach the same distance as a  degree     shot  if so  could the lower than  shot be considered direct fire  and the higher than  shot considered indirect fire  if so  i think this is a great explanation  or one way of viewing things  ',\n",
       " 'title section revert   hi  i was at the office earlier and i had not noticed your warning before restoring the title of the section  i am sorry for that  of course i will not do such a revert again   just to clarify  i have opened a new section to indeed alert some contributors that they were behaving in a way in line with the examples of ownership behaviour as described here  in return the title of the section has been twisted to something unrelated and one of my message has been erased  it is the first time i see people editing other s signed contributions in a talk page  this just looks crazy to me ',\n",
       " 'noel  you are an expert   please convince whig history fans  or the lazy minds  about how bonnie prince charlie did not want to dissolve the union  that the united kingdom began with the stuarts as opposed to the hanoverians   tell them how the whigs rewrote history to blame everything on the stuarts  whom are credited as ultimate failures with no positive contributions to the foundations of great britain in their stewart and tudor blood   the sovereign s will is the realm  or else it is not a kingdom   the british might as well be living in a republic  at least if the parliamentarians had their way   even the hanoverian heirs recognise that the stuarts founded the uk   please debate that here   thanks ',\n",
       " 'warning  earth  i would like to leave you access to your talk page so that in perhaps six months you can convince us that we should try again   if you are so inclined  but you are making it hard  if you continue these abusive comments  i will revoke your talk page access ',\n",
       " '    should be jaeger   regardless of what other people have   decided    erens name should be jaeger  its like calling light  from death note  raito   at least in the anime  the people dubbing take care to correctly pronounce the foreing names  ie  all of them  except mikasa   jaeger means hunter  a german word  guess what eren does in the series     ',\n",
       " '   thank you for experimenting with  wikipedia  your test worked  and it has been reverted or removed  please use the sandbox for any other tests you may want to do  take a look at the welcome page to learn more about contributing to our encyclopedia  a link to the edit i have reverted can be found here  link  if you believe this edit should not have been reverted  please contact me   talk  ',\n",
       " ' please discuss how factual  accurate biographical information about courtney ford is   vandalism     i look forward to hearing your evidence    ',\n",
       " '   i think the entire article should be tagged as   politicized    and the part about future trends as   speculative     my point was that scientists are learners  and we are increasingly using them as know it all teachers   yes  they probably can make educated guesses better than anyone else  but its still an educated guess   also  if you did not notice  i am totally against spewing unnecessary carbon as this statement i think this article superbly misses the point that pollution and waste of all types are stupid ways to go about doing things where better ways are known  and we are making guinea pigs of all our planet s species points out    ',\n",
       " 'used car expert page image thank you for your note about the image of used car expert magazine   i have had the copyright owner  who gave me permission for the picture email  as above    ',\n",
       " 'however  it is still in error to assert he does not work the equations himself  or that he is handicapped ',\n",
       " '    first  we have widely established the use of exile quotations presented as such is legitimate   second  i am not mark ames   this has been autheticated by numerous admins and users at wikipedia who have personally met me   third  you cite the paragraph on spy magazine as your primary example of pov and   creative facts     what precisely is the   creative fact   in that paragraph   that the exile admired spy magazine   that spy magazine employed a team of lawyers to defend against spurious lawsuits   that spy magazine went bankrupt   all claims in that paragraph are verifiably true     ',\n",
       " 'pretty humorous comment from someone who promotes the far leftist blog daily kos on his user page',\n",
       " 'seems we both have some ',\n",
       " 'do not be evasive   i shall have to repeat myself   how many people argued for its deletion   do not lock pages when you do not get your own way   ',\n",
       " 'edit request on  october    the arctic monkeys played walk on the wild side in honour of lou reed at echo arena  liverpool  a day after the musician s death  http   www rollingstone com music videos arctic monkeys cover lou reeds walk on the wild side ',\n",
       " 'welcome   hello    and welcome to wikipedia  thank you for your contributions  i hope you like the place and decide to stay  here are some pages that you might find helpful  the five pillars of wikipedia how to edit a page help pages tutorial how to write a great article manual of style i hope you enjoy editing here and being a wikipedian  please sign your name on talk pages using four tildes         this will automatically produce your name and the date  if you need help  check out wikipedia questions  ask me on my talk page  or ask your question and then place   helpme   before the question on your talk page  again  welcome    talk',\n",
       " '   gurch is   an interesting fellow   just do not take his comments to heart  but take his advice on board  talk   ',\n",
       " 'it wasnt vandalism  dickhead',\n",
       " ' you need to understand that he is not here do help wikipedia  he is here with a political mission    attack brazilian press    no  i am not crazy  but i see this crazy people all day  here in brazil    ',\n",
       " 'season  issues not sure why you removed my edits on the season  futurama issue  but i think it has merit  the total lack of season  info is confusing and not sure why the season  info is replaced by the movie information  you could have informed me at least on why you removed my discussion comment ',\n",
       " '    philosopher rfc  philosopher  from wiktionary   a person devoted to studying and producing results in philosophy   i am going to make the case that we must call stefan molyneux a   philosopher    without qualifiers  in the lead   this is not done as an endorsement or statement about the level of achievement or acceptance of his philosophy  only that it is his career   note  not all of the sources i use below are in the article at present  the point here is to first convince rfc respondents that   philosopher   is accurate and widely accepted  then we can make sure the most reliable ones are in place     definitions  obviously  each source is going to use slightly different phrasing  some will call him explicitly a   philosopher   or has views on   philosophy    but i think you should consider some other phrases given below as equivalent  using one word   philosopher   in the lead sentence covers all of his political  ethical  and theistic specializations in one word  which we then elaborate on later in the article      philosophical conversation      philosophy show     used to describe his freedomain radio series    libertarian      libertarian thinker       libertarianism is a classification of political philosophies          anarcho capitalist       anarcho capitalism     is a political philosophy         voluntaryist       voluntaryism  or sometimes voluntarism   is a libertarian philosophy         athiest       arguments for atheism range from the philosophical to social and historical approaches       ethics    ethics  sometimes known as philosophical ethics  ethical theory  moral theory  and moral philosophy  is a branch of philosophy      secular ethics    secular ethics is a branch of moral philosophy        primary source  as stefan molyneux is a living person  we should give great weight to what he says is the focus of his work and his stated profession unless there is reliable evidence to contradict him  obviously  we do not want to host any sort of   fringe   claims   if we are to dispute what he says about himself  though  then we absolutely must have a strong basis for this  or we open wikipedia to discredit or liability   this is why blps are held to strong standards in the first place  i think in this case there is strong and ample evidence that calling himself a philosopher is justified and correct  he is a modern philosopher that explores via modern online media  which is obviously a very new phenomenon and so its understandable that its different than the   old school   philosophers we are used to    freedomain radio   about   page     my master s thesis analyzing the political implications of the philosophies       i have been fascinated by philosophy   particularly moral theories   since my mid teens  i left my career as a software entrepreneur and executive to pursue philosophy full time through my work here at freedomain radio  i have written a number of novels as well as many free books on philosophy     freedomain radio  the show that molyneux hosts  has the tagline   the largest and most popular philosophical conversation in the world      molyneux s books show that he is endeavoring to produce tangible written results in the field of philosophy  particularly universally preferable behaviour  upb   a rational proof of secular ethics and against the gods  a concise guide to atheism and agnosticism which are two of his more   deep dives   into the fundamental philosophies   strong atheism  the case for evacuating the middle ground article  why i am a philosopher  video     a response to questions about my childhood motivations for pursuing philosophy     an introduction to philosophy    part video course produced by molyneux describing basic philosophical concepts  reality  knowledge  truth  gods religion  ethics  and politics    unsolvable philosophical questions   solved  video     tackles  great philosophical questions considered unanswerable     proofs for god destroyed by a philosophical atheist video     a philosophical review     discusses the major philosophical  political  economic and social developments of    video     https   www youtube com watch v udlsgjbwhs  philosophy questio',\n",
       " 'wp film december  newsletter the december  issue of the wikiproject film newsletter has been published  you may read the newsletter  change the format in which future issues will be delivered to you  or unsubscribe from this notification by following the link  if you have an idea for improving the newsletter please leave a message on my talk page  happy editing    talk  contrib ',\n",
       " '    january   utc   no  i am not being uncivil  try uuser lbrun  he is called other users a waste of sperm  a moron  etc  block him  the one who s truly uncivil       rikara  i recommend you cool it  yelling and arguing is not going to get you anything  take a breather and come back when you are feeling calmer  otherwise you will find your talk page protected and you will be forced to take a breather      i have seen nothing of the sort from that user  who has since been renamed   at the very least not in this current situation         blah v   v    ',\n",
       " '    you suck   if you do not undelete the page   barry dejay   i will      you  ',\n",
       " '  see internet explorer market share history overview by year and version  ie is with us for some time to come  like it or not  but if others using it have no problems  that s fine  i am not worried about my specific workplace   come howl   ',\n",
       " 'i like the example given on the following post   http   theautomaticearth blogspot com   july   real black real swan html    ',\n",
       " 'curse  wikipedia has no respect for god   wikipedia is full of lies or dangerously evil half truths  wikipedia has no respect for religion  the following users of wikipedia  namely  redtigerxyz  priyanath  emperor genius  raj  wikidas  wikiveer and dagizza have all committed blasphemy and sacrilage  curse upon you that you will all perish  i curse the following users of  wikipedia  namely  redtigerxyz  priyanath  emperor genius  raj  wikidas  wikiveer and dagizza that you will all perish  i curse that the wikipedia will entirely perish  i beg forgiveness from the supreme god  lord vishnu for choosing the blasphemous wikipedia website to write about the truth   a true devote of the supreme lord vishnu has been hurt and my curse never goes in vain  i will never again edit or read or go to the evil wikipedia website  forever    delete my user id and all edits you evil wikipedians  mr  dagizza  you are a male chauvinist pig and a misogynist to the core and you call yourself an administrator     ridiculous     mr  dagizza  you are a curse to your existance  a man like you  who cannot respect women is a worthless in his existance   you wikipedians are useless people  you are a burden to the civilized world  you are not even worth hatred  you wikipedians must be ignored   curse',\n",
       " 'hahaha  you dont actually believe this bullshit you are telling me right now  you are talking about the access to the country or representatives to the government  not kim jong un himself  those are two totally different things  although i could understand your stupidity  since north koreans think that kim jong un is the governement  im just saying   go troll somewhere else kid ',\n",
       " 'blocking mardyks   guess what  loser  know what a cockblocker is  hahahaha  m     ',\n",
       " 'and i do not want to use it again  i do not understand why fayssalf insists on naccount  i could have wrote to him using any other account  maybe he would have kept it instead of naccount',\n",
       " '    deletion of minority posts   nice try at trying to silence the slave who will not stay down   i did not know you attempted to block my yet again   i do not come to wikipedia every day because i have something you do not  a life  as you can see  you have failed  again   in attempting to silence me  and refusing to answer the qusetion   why do you purposely hunt down posts of african americans and delete them     all you did was refuse access to some sporting goods store   and the person you contacted in an attempt to block me is named rebelguy   no  there is not racial agenda  is there   i have made a hard copy of your failed racially motivated attempts to punish me and turned them over to the naacp  ',\n",
       " 'thank you   i just wanted to say it ',\n",
       " 'well  you never answered my question about your specific intention at talk mystery science theater  episodes experiments vs  movies  can i assume from your posting title that your intention is to create individual mstk episode articles  i am on record as believing this could be useful  but am not prepared at this time to do any significant work on it  as i am stretched way too thin right now     talk ',\n",
       " 'nigel  per wiki standards   when to use and external link      is it proper in the context of the article  useful  tasteful  informative  factual  etc        is it a functional link  and likely to continue being a functional link      each link should be considered on its merits  using the following guidelines  as the number of external links in an article grows longer  assessment should become stricter  when in doubt about the appropriateness of adding new links  make a suggestion on the article s talkpage and discuss with other editors   i generally avoid external links except when it takes me directly to the home page of the aircraft in question   this link does take me directly to nasm s page on this particular p    that makes this external link appropiate   agree that this page does need more references ',\n",
       " '    edit request from maksudfsa   march    just a minor edit  i have added azerbaijanis to the list that describes turks  in the first paragraph  as we are the second largest turkic ethnic group       the turks  or turkics  are peoples residing in northern  central and western asia  mongolia  southern siberia and northwestern china and parts of eastern europe  they speak languages belonging to the turkic language family turkic people  encyclopdia britannica  online academic edition   they share  to varying degrees  certain cultural traits and historical backgrounds  the term turkic represents a broad ethno linguistic group of people including existing societies such as the  azerbaijanis  chuvashes  kazakhs  tatars  kyrgyzs  turkish  turkmen  uyghur  uzbeks  bashkirs  qashqai  gagauzs  yakuts  crimean karaites  krymchaks  karakalpaks  karachays  nogais and as well as past civilizations such as the  kumans  kipchaks  avars  turgeshs  seljuks  khazars  ottomans  mamluks  timurids  and possibly the xiongnu and huns   timur    the columbia encyclopedia  sixth edition    columbia university press encyclopaedia britannica article  consolidation   expansion of the indo timurids  online edition    ',\n",
       " 'nobody cares   seriously   it is just self referential trivia  guy   ',\n",
       " 'i understand what i see  i do not see scholarship  i see stealing grasping greed    it is animalistic  try this          in any culture      switch to math  you wil like it  no levantian in math     amanbir     ',\n",
       " 'i guess u do not know greek cuz it took u forever to translate second if u read carefully does not say anything about u  ',\n",
       " 'you have never met or been photographed with keith wigdor    whoever you are  i am asking you to not interfere with the article about keith wigdor   you have no resources or connections to him  unless you are somehow being deceptive   so really you are not any sort of expert on this artist        dec   utc ',\n",
       " '    holocaust denial   if there is no actual proof that jeff rense advocates holocaust denial  then the category   holocaust deniers   should be removed  ',\n",
       " 'wikipedia administrators are defending a mass murdering psychopath ',\n",
       " 'censorship   it is my understanding that you are supposed to warn someone before asking the administrators to block them   so consider this a warning   do not delete my comments again   ',\n",
       " 'april    your attitude and comments to  are not appreciated   please remain civil ',\n",
       " 'request for help     request for help   hi again cat    as perviously i have noticed a strong anti greek bias on several articles related to macedonia  i have had issues with both furper and beam    who seem to be admins that heavily favour fyrom  i have officially complained on the notice board about their threats to block  edit behavior and unusually close relationships with obvious fyrom pov members of wikipedia    specifically balkanfever    http   en wikipedia org wiki wikipedia administrators  noticeboard this anon  apparently user crossthets  c is an apparent pov pusher c evidence below  as i said verbatim on politis talk page     this is a difficult battle because so far i am alone at the moment  i am a newbie  and as i said to one of the admins on notice board    i feel like someone reporting a bad cop at a policeman s ball   however  i still plan to follow up soon with a precise listing of what i perceive as non npov behavior by these admins  i noticed while researching this issue you have also have problems with them  would it be possible to list any problems on your talk page here so i can add them to my report to show i am not alone  furthermore    since you have been around longer you probably know more greeks than me around here  would it be possible to also contact them to ask them if they have also had problems with those two    and  if so  add those incidents to your list    and perhaps get them to contact others     where one person could be bullied with threats of blocking    the concerns of many will be taken much more seriously  i will check back here in a couple of days  have courage  regards    ',\n",
       " '  i am certain that it was injury and not sickness  regardless of how it occurred',\n",
       " 'i told you i will not comment on it again  what more do you want ',\n",
       " '    wikipedia articles for deletion cheongye kwan   your post at the above afd on a new martial art bothers me  this was the version at the time  that you based your post on  you posted      i just read the article  and to be quite honest  feel that it does satisfy wikipedia s guidelines    it is reliably sourced    since i believe the notability of the article is satisfied    it now has  independent sources  and to refute the argument posed by wayne  it is determined by the phillip rhee source that the martial arts is not localised     please consider the concerns this post raises  simple matters like references  notability and noobie basics of afds should be routine for any moderately experienced user  and bread and butter for any admin  in fact a cursory check shows that almost everything you stated was   i do not have a word for it    unreal   is close   the   eleven independent sources   that you stated established notability and non localization at the time  were   three references from   coates  robinson  shaw   certainly before the topic even existed     and all related to a passing piece of news about its founder being on the team of a completely different sport in any event      two references from st half   davies  white   almost certainly identical and identically irrelevant to the topic s notability   the promoter s personal page on his local town website  almost certainly self published  official village website    a  casual interview in a non notable and possibly non reliable university magazine  apparently  of the promoter s travels to see experts in a different sport  with tangential tiny     sentence  mention that he would discussed his new sport with them too    the lau philip   la   interview     entries marked   reference and support of   written reference    chris  cook  rhee   obviously a request by the founder to a friend colleague write a letter of support  that was never published anyway and is not cited so you can not have read it  not that it was even possibly valid evidence    a short writeup of a   local information   kind  on the award of the first  black belts by the school  in its local paper   in brief of the     were before the sport existed and were not even remotely to do with the topic itself much less   sourced   material on it or   substantial   coverage  they had precisely zero coverage      were claims of personal   i think  is a great guy   letters of support  evidently solicited and or written on request  with zero evidence of verifiable existence  and certainly in no way reliably sourced or independent     was self written   was the briefest of non mentions in a non reliable source  pretty much   i discussed the topic with them   in a college magazine interview    is local press coverage of his courses that s not even   news for a day    or evidence of anything beyond   a course by this name is taught twice weekly in our local village hall     your assessment of these  at afd  was   it is reliably sourced    style   border  ccc solid px   width           there is barely one reliable source in all of those  that the sport even exists in the first place       a local newspaper mention that it meets in a village hall on tuesdays and fridays and just awarded its first  black belts  probably via self promotional input    there is zero reliable sourcing for any of the rest      that the cited pages are evidence of notability    style   border  ccc solid px   width           they do not mention it  or even date from a time the topic existed  nor are online versions provided  how on earth could they   reliably evidence   it      that the    sources   are   independent      style   border  ccc solid px   width            are claims that   please support me   letters exist  they are even stated to be   personal references    unpublished and uncited   is his own clearly self written web page on a local village web host     that the cites show it is   non localized      style   border  ccc solid px   width           the page does not list a link so you can not have checked the cite  yet you say the citation   proves   it    the reference openly stated   cambridge university and bristol taekwando       a big indication of its actual source  when a link was provided on request  it turns out it ',\n",
       " 'hebrew name of lydia  appologies to til eulenspiegel i thought you were one of the idiots which your user page indicates you actually do well struggling against   genesis              tab and mizraim begot ludim  and anamim  and lehabim  and naphtuhim  you see ludim are from mitzraim not to be confused with lud son of shem  in the far east   best wishes and keep up the good work    ',\n",
       " ' which they are  have you considered that you have irrationally laid waste to six months of my life  which i have dedicated to this project  ',\n",
       " '   did you scout for sources prior to the prod  eh  no      dr  blofeld    ',\n",
       " '   you wasted your own time  take this advice with you  pull your head out of your ass  be real and do not spend the rest of your life sucking ass  have a nice life  goodbye    mailbox   ',\n",
       " '    class   wikitable   style   border px solid  aa  background  fff  padding   font size          parliamentary bloc  alliances  leader  seats  percentage  source     national alliance  state of law coalition national iraqi alliance  ibrahim al jaafari              al iraqiya  al iraqiyya  hassan al jibburi            kurdistan blocs coalition  kurdistani list kurdistan islamic union islamic group of kurdistan  fuad masum             center current  al tawafuq unity alliance of iraq  unknown             gorran bloc  gorran movement  shorsh hajial iraqiya brengt oppositie en talabani dichterbij elkaar   azady nl             national rafidain list  assyrian democratic movement  yonadam kanna             csapc  chaldean syriac assyrianpopular council  sarkis aghajan             independents                ',\n",
       " 'i also told him that counts of using admin tools for deciding on content and misrepresentation of policy norms has been sanctioned in the past ',\n",
       " ' welcome   hello  and welcome to wikipedia  thank you for your contributions  such as the one you made to nogeoldae  i hope you like the place and decide to stay  here are some pages you might like to see    the five pillars of wikipedia  help pages  tutorial  how to edit a page and how to develop articles  how to create your first article  using the article wizard if you wish   manual of style  you are welcome to continue editing without logging in  but many editors recommend that you   create an account   doing so is free  requires no personal information  and provides several benefits such as the ability to create articles  for a full outline and explanation of the benefits that come with creating an account  please see this page  if you edit without a username  your ip address       is used to identify you instead   in any case  i hope you enjoy editing here and being a wikipedian  please sign your comments on talk pages using four tildes         this will automatically produce your ip address  or username if you are logged in  and the date  if you need help  check out wikipedia questions  ask for help at the teahouse  ask me on my talk page  or ask your question and then place   helpme   before the question on this page  again  welcome       ',\n",
       " '    stradbroke galleon   portuguese   hallo moondyne  i do admit that when i signed onto wikipedia i was not aware that it was a concensus community of knowledge nazis but now that i am aware of it i will make the appropriate adjustments  i was under the obviously mistaken impression that wikipedia was a venue for sharing facts  knowledge and information  the notion that the stradbroke galleon story is a pet theory of mine is total rubbish as it has been written about  discussed and investigated for more than  years by historians and historical groups such as the royal historical society of queensland  the maritime archaeology association of queensland and many more too numerous to include here  there exists  in various libraries  books and communities a large body of written and oral history concerning the galleon story which i have attempted to fairly and accurately place in the wp domain  the fact that a story is not accepted by   mainstream   academics is not a valid reason for deletion of either of my contributions  what has occured here is a classic example of manipulation of an information resource by a vested interest group  i e  hesperian and his friends  who are representatives of the   mainstream   view  hesperian complain about the media coverage i have recieved but this never appeared in any of the wp contributions i made and hesperian s mention of the media coverage demonstrates the core reason for hesperian s antagonistic attitude  simple  old fashioned professional jealousy  thus valid historical data is being deliberately surpressed by hesperian for personal reasons  for example the portuguese walking stick handle which was found in an aboriginal midden  identified by a spanish musuem offical and story told to me by a uq archaeology phd student is very relevant to the theory of the portuguese discovery of australia  this kind of knowledge suppression is not what wiki is about but i guess you do not care as you appear to be part of the happy little click or have been sucked in by hesperian and his little band of mates  which is a pity  but history is full of the suppression of information by vested interest groups so why should i expect wiki be any different  still it is dissapointing  happy trails      ',\n",
       " 'agf requires me not to think you were reverting to the user s preferred version   it might look better if you allow another admin to make that edit ',\n",
       " 'accents   although the cartoon established mario and luigi to be from brooklyn  a fact commonly accepted by fans  despite having never been mentioned in any games   toad seemed to speak with a thicker brooklyn accent   the accents were not mentioned in the games  but the tv show was  presumably  a licensed product   until nintendo decided to go with an italian accent  fans assumed the tv show  and later the movie  accent was the official standing   only when nintendo s products included digitized recorded speech did anyone realize nintendo intended them to be italian  not italian american   it is the same principle of updated canon that star trek and star wars licensed products run on ',\n",
       " 'delete this   no way  i consider it a trophy   ',\n",
       " 'actually  bzfoster will be unable to edit the article as it is semi protected as well pc would  log out and try for yourself ',\n",
       " 'i believe that i have obeyed the communities rules  i do understand the rules about personal attacks  but it appeares to me that they are being applied unjustly in this instance  i have provided countless hours of academic research and input for wikipedia  please assume good faith on the part of the blocking admin  i am an intelligent adult  i naturally assume good faith until other parties demonstrate they do not  it seems to me this is a one side affair ',\n",
       " '    please do not add unsourced negative or controversial biographical material to pages  as you did with this edit to stuart tyson smith  if you continue to do so  you will be blocked from editing      ',\n",
       " '  preceding unsigned comment added by   talk  contribs   ',\n",
       " 'or between the french and the walloons  surprise  our article on french people clearly labels the walloon as a distinct ethnic group    perhaps it is best not to make comparisons      after screwing it up a few times  i have done rewrites of parts of the article  mainly a word and a sentence left and right  to make the distinction and relation between the dutch and the flemish clearer  the article switched constantly between parts about the dutch only  and parts about the dutch and flemish together  this should now be clearer  the major thing left to adjust are the graphs of the number of dutch  since these still al include the flemish ',\n",
       " 'you need to sign the above and your rsn post ',\n",
       " 'a few things to get straight      firstly  i do not like you  you look like a smug little prick to me  secondly  i do not like your ethnicity  not one little bit  i would like you to explain yourself on that count  thirdly  your dog is a bit of a bender       ',\n",
       " 'procedure   do i ask you for the award  michelle obama already has a million views this year and anthony davis  basketball  had a million in    t   c   wp four   wp chicago   wp waward ',\n",
       " 'adding more than links   i did add more thank links but the entire page was also marked as spam for no reason other than the no one is familiar with the one hundred year old industry  and you still have not explain how the links on this page http   en wikipedia org wiki natural building     are relevant and mine is not ',\n",
       " '   please do not accuse members of vandalism  i do not mind if you change the word unique to prominent or remove stories of dreams etc  but you have vandalised the page and made a statement biased by saying that dr  qadri   only   sent out a referendum so i reverted the whole edit  you have also reciently vandalised the page by removing the names of the yemeni scholars who recieved dr  qadri s ijaza including the pictures and this is a clear form of vandalism so before accusing other members of vandalism do not vandalise the page yourself  what i did was clearly not vandalism as i only reverted your edit and any changes you made and brought the page back to its previous form  so would you first kindly read the rules of wikipedia and find out the definition of vandalism before accusing experienced users  you are still new to wikipedia i am afraid and you need to learn how it works and the different rules of wikipedia before making any further edits     ',\n",
       " 'i know how it is pronounced in turkish  the question is whether there is a specific pronunciation that s dominant in english  if not  it is best not to include any english transcription or pronunciation audio file ',\n",
       " 'oh  sorry  i actually found it on an other page but i forgot it anyway    it was actually a note for myself  was going to rewrite the text   suppose it slipped out of my mind ',\n",
       " '    june     please do not vandalize pages  as you did with this edit to bugatti veyron  if you continue to do so  you will be blocked from editing    talk   ',\n",
       " 'terri schiavo as rorschach test   now perhaps you see that utility of terri schiavo is as rorschach test   you dangle that pretty  slender alive and aware young face in front of the power players  on both the left and the right  and you see how they respond    if they respond inappropriately  then you make a note it  as if they were just some rat in your laboratory   that is what make wikiepda so powerful  and it is all true and npov  notable and fair ',\n",
       " 'ok stop being lame  seriously  go watch pokemon ',\n",
       " '    past masters vs  rarities   i am creating a chart for my own use that includes u s  albums  since there are so many differences in the early albums  as a u s  fan  i am faced with the issue of whether to have u s  albums  u k  albums or both on my ipod  i will post my chart on my talk page so that others can judge whether it is worthy of including here  i realize there will be problems  including the lack of canadian albums  my purpose is simply to record the first album appearance in both the u k  and u s  of each song   i notice that a number of u k  songs are listed as past masters when they actually first appeared on rarities   the beatles album   i do not know the reason for this if the purpose is to list the first appearance on an album  can someone explain  or should they be changed to rarities    ',\n",
       " 'simpsons movie poster  did you create the simpsons movie poster image or did you source it from somewhere else ',\n",
       " 'help hey  can you help me with something  i uploaded this image to wikipedia  http   en wikipedia org wiki file stikky cemetary san jose  jpg i contacted the photographer and he gave me permission to use it on wikipedia  so i was wondering what the proper licensing would be  thanks in advance ',\n",
       " 'looks good  it would be nice to see the counties  but it is a lot better than the current one  good job ',\n",
       " 'the debunkers  pretending that they are objective sceptics  besides proving their lack of knowledge and lack of integrity on the various astrology pages have also been personally attacking me on my own talk page   when i dare try to defend myself  they block me out of wikipedia   so much for honest dialogue   they can not win an argument fairly  so they resort to dirty tricks ',\n",
       " '   reviewing blocks  you said    i would also like to ask you that in future  for the sake of fairness and due process that you do not decline the unblock requests of users you block yourself unless the request is pure nonsense or abusive  from an ethical  reviews of blocks are meant to be carried out by a rd party     will do   i thought it was pretty clear in this case  given the editor s user page  gnaa  etc   etc   etc    that the unblock request was pure nonsense   also  i was under the impression that the unblock request would still be visible and reviewed by other admins   i will be more careful in the future     ',\n",
       " '   regarding edits made during december    utc  to kanpur please do not add inappropriate external links to wikipedia  wikipedia is not a mere directory of links nor should it be used for advertising or promotion   inappropriate links include  but are not limited to  links to personal web sites  links to web sites with which you are affiliated  and links that exist to attract visitors to a web site or promote a product   see the external links guideline and spam policies for further explanations of links that are considered appropriate   if you feel the link should be added to the article  then please discuss it on the article s talk page rather than re adding it  see the welcome page to learn more about wikipedia  thank you   talk  ',\n",
       " 'come on  was this really necessary  i understand where your coming from but you sound like a whiney bitch  when you have a website that anyone can edit  this sort of stuff comes with the territory  and did you really expect anyone other then the  or  people who troll wp pw to read your comments on talk royal rumble     or this talk page for that matter     i am confident most active members of wp pw have added wrestlemania xxiv to their watch list  so when and if something not to their liking is added  it will be removed  simple as that  and if you are  nothrough with putting up with people not reading talk pages   quit  endless dan',\n",
       " '  i do not see any anti semitism here  if the guy gives lectures in new york synagogues and knocks down his country every single minute  using every opportunity in such influential newspapers as new york post  then one can state that his interests are not only personal  you can not find any intellectual person among neoconservatives in new york post  michelle malkin  andrea peyser  deborah orin  may her rest in peace  although i know she is rotting in hell and other essayists are the ones who make a great company for amir taheri  this guy has no mind at all  i agree that iran s regime is wrong  but the regime of shah that amir taheri is longing for  because he owned keyhan during that regime was not any better and islamic revolution was justified  look at how they intriduce amir taheri in both this article and in new york post    based in europe memeber of benador associates    is europe that small  is that a small town  why do not they say based in the world journalist  or may be he is having a breakfast in london with christian amanpour and james rubin  eating lunch in jerusalem  and having some lectures and dinner with anti irani jews in forest hills  new york in between emailing his full of hatred articles to new york post  is not this stupid  how can you saysomebody is based in europe or asia or africa  ',\n",
       " '    why confusion and controversy in the   real world   does not preclude the writing of a good wikipedia on the topic   ackoz suggests that  because the real world has not yet hashed out   the truth   about the expulsions  it is therefore impossible for us to know the truth and thus impossible for us to write about it   i reject such a stance   i think it is difficult but quite possible to write a quality wikipedia article about a topic that is murky and or controversial   where many wikipedia editors   get it wrong   is that they believe wikipedia s job is to report the truth   this is wrong   wikipedia s job is not to report the truth precisely because it is difficult to determine what the truth is   any attempt to do that is original research   instead of   truth    wikipedia aims for   verifiability     put a different way  wikipedia is committed to recording the state of human knowledge and opinion  not our opinions but those of reliable sources    if the truth is clear and uncontroversial  it is easy for us to report that   if the truth is murky and controversial  it is more challenging but possible for us to report on what different reliable sources assert and think about a topic even if these reliable sources conflict   where wikipedia editors get into trouble is when they start siding with one side of a controversy and asserting that the side that they have selected represents   the truth   and not just one perspective  or pov  on the topic at hand   i have been trying to hit this npov   sweet spot   but it is difficult to do so in the midst of a running polemical debate between the two sides     obviously is  because some users  jadger and wikiferdi  do not want to discuss in fact  they want us to agree with their pov  that s not discussion about the npov edits  that s why i quit from the discussion about the form of the article  talk  ',\n",
       " 'i did not intend to be disruptive  i was genuineley upset by the word constantly  i only tried to make it look like an april fool joke after you explanation made me look like an uptight weirdo',\n",
       " '    regarding loyalmoonie and lgbt categories   looked into it  and this editor seems to be pushing an anti lgbt agenda  they have done similar stuff over at sailor moon  and made   official looking   warnings to other editors  this quote is bizarre  and is quite telling    to insert those categories would ultimately give other people  who may not even support the lgbt movement  reading the article the assumption that every person who does enjoy sailor moon is a homosexual  and or supports ssm     i do not personally watch read sailor moon or know much about it  so i am not confident enough to re add the categories  but the reasoning for their removal is flawed regardless  and there is a sourced part in the article about female homosexuality talk  ',\n",
       " 'matt  when mattsanchez info goes live on monday  among other things you will see an invitation to be interviewed  this time you will have nowhere to hide  let is see who s a victim and who s a coward ',\n",
       " 'okay  i found a document that demonstrates the scimd listing by the who on the who site  now there should be no trouble with including the above text ',\n",
       " 'valerie poxleitner   valeri poxleitner  a k a  lights  if',\n",
       " 'shamash is sun   i agree to merge sammash in to shamash  since shamash is more likely to be correct  tracking the root of the word  clearly it is of assyrian origin  in addition  it is a common vocabulary morph to substitute sh to s and thus  nowadays  it is spelled as shams in modern arabic ',\n",
       " 'i feel like i am out of ideas for now  so maybe some other users will come up with things that address both our concerns    talk  contribs ',\n",
       " 'october   utc  the original nominator and i have been trying to restore the article  but others have been saying it was found to be merged by you so it has to stand  with the original nominator for deletion working to keep the article  and admitting he was mistaken in nominating the article of a noteworthy character  can we restore it now  if someone wants to make a legitimate nomination for deletion  that s fine       ',\n",
       " '   what chart are you looking at   i do not see anything portraying that timing    user talk spinningspark spark       ',\n",
       " '       agreed  although it means bloating the alternative title by yet another word  i was concentrating on the polish attitude here  as it clearly provides the starting point for the article at hand  obviously  if the article is to be written from a supra national perspective  at least the czech experience needs to be included  czechoslovakia  being the only functioning democracy in the region by the s  had closer ties with the west than poland did  and was   betrayed   in a much more obvious and tangible way than poland was  the west politically accepted the country s territorial mutilation  which was not the case with poland    that said  i am not sure if the inclusion of countries such as finland  the baltics  yugoslavia  or even ukraine  which had never been independent in the first place  is a good idea  while the west could have arguably done more to assist any of these societies before and after the war  i think that the article s focus should be on poland and czechoslovakia in order not do dilute the whole issue  after all  there were dissidents in germany and the soviet union  too  who were harbouring grudges towards western politicians because of their appeasement policy       oct   utc    ',\n",
       " 'hello setanta  can i ask you what you think of the proposal first put forward by matt lewis in july at template talk country data northern ireland  i confess i am no expert on n ireland  but i believe this could solve the problem of n ireland having no flag to represent it on wiki  i have made a comment at that article  cheers ',\n",
       " '  american psychologist as additional resource  i did not see listed in the references any citations of the   american psychologist   articles in january   some of which discuss this subject     ',\n",
       " 'regarding the verifiability mediation  you will appreciate that due to recent events user talk newbyguesses february  that i am jn a pickle  is it just me  or is it you too  i do not know what to do how can we go forward  what is to become of me and all my beliefs and needs  who is there  who cares to take in to account my position  is there no accounting for our differences and each of us  what it is that you see that we stand for in the highest degree as individuals  really individual as we all are individually in our own way  as real people  different but the same  but definitely an individual just like every body else believes they are  despite all evidence to the contrary   comment on content not on contributors  or did i just dream that  either way  or whatever  just do not scare the horses or wake the kiddies comfortably snoozing   you know it makes sense to me cause i say so  irrefutably     talk ',\n",
       " 'you have no authority to be threatning to block me about saying information about a company i work for  you do not even know anything about airliners bello  that is all i basically said  if that was so hard to comprehend     ',\n",
       " 'the real problem is the sneering and contemptuous attitude that you reveal in your first sentence in the last post   it was originally followed by others in similar vein  which you have deleted   yes  i can cut and paste quotations  i can also select appropriate ones  in this case one which you would do well to consider  i will return to this when i have time  probably this weekend ',\n",
       " '  he does appear to be a bit of a fantasist  to be fair  he has carved a nice little career for himself and more fool the mugs that buy his books and believe what he says  but  like many people contributing to this page  i come from that background and whenever his name is mentioned the response is always   dave who    no one had ever heard of him at all until the books started coming out   ',\n",
       " 'dar   ok  bear with me  penelopism is a religion  it is a new religion  but it is a religion  penelopism is extrememly important to penelopists  we want the word about us out there  people are not too fond of our beliefs  we just want a way to show them that we mean no harm  now  you have the spaghetti monster church in here  that is not even a real religion  penelopism is  so please  tell me what the spaghetti monster has done that penelopism has not  what can we do so that penelopism can be on wikipedia  because i am having trouble understanding  and i apologize for the  wouldar dar dar   however much fun it was  i should not have done it   whatsit ',\n",
       " 'i intended this to go the page ',\n",
       " 'dxraw come out  come out  where ever you are how odd that dxraw goes away and then in the follwing articles extradry appears in the editing lists  aussie aussie aussie  oi oi oi free hugs campaign newington college australian army cadets john cena so you really are that cheer loving  free hugging  newington teacher and cadet master who has the hots for john cena with his shirt off  it is time you came out dxraw ',\n",
       " 'this accusation is uncalled for   i have only reverted one edit   my second edit was to add the reference  not a revert ',\n",
       " 'do not help the jew schnider  final warning ',\n",
       " 'kudos for destroying article  copyright superstar  you really deserve nobel prize for copyright',\n",
       " 'welcome  hello and welcome to wikipedia   we appreciate encyclopedic contributions  but some of your recent contributions seem to be advertising or for promotional purposes   wikipedia does not allow advertising   for more information on this  see  policy on neutral point of view guideline on spam guideline on external links guideline on conflict of interest if you still have questions  there is a new contributor s help page  or you can write   helpme   below this message along with a question and someone will be along to answer it shortly   you may also find the following pages useful for a general introduction to wikipedia  the five pillars of wikipedia how to edit a page help pages tutorial how to write a great article manual of style i hope you enjoy editing wikipedia   please sign your name on talk pages using four tildes         this will automatically produce your name and the date  feel free to write a note on the bottom of  if you want to get in touch with me  again  welcome ',\n",
       " '   the spelling   tacarimba la tumba del fuego santa maliga sacategas lo onto del sol y cruz   is the one stated in the lyrics in the vocal score of side by side by sondheim  available for rental only   this version of the song  however  misspells llanfair pg  presumably to approximate the pronunciation   and has the lyric      today s the last i will be spreading   rather than   spending    it would seem  therefore  that this source cannot be considered canonical  this rendering of the place name does accord with millicent martin s recording on the side by side by sondheim cast album  however   the published version of the song  as contained in the hansen treasury of stephen sondheim songs  charles hansen music   books     has the lyric printed as   tacarembo la tumbe del fuego santa malipas zacatecas la junta del sol y cruz    and  being a printed source  as opposed to handwritten  as is the vocal score   can presumably be considered definitive  linda lavin s pronunciation on the original cast recording of the mad show  for which the song was written  follows this spelling  which would suggest that the printed version is correct   as it is a fictional place name  however  any discussion of   correct   spelling pronunciation is an academic one  at best  ',\n",
       " 'do not peddle your crap please   hate to see another article get disputed for neutrality due to you ',\n",
       " '   howd homeonttherange   your  typical  problem is that you are being too literal   the term personal union is a very special  and limited constitutional term   it refers to two or more states  i e   countries  that recognise the same monarch as there head of state  however their is no union of their parliaments   some examples are    i    the union of kalmar       its members were the kingdoms of denmark  norway  and sweden   this gave rise to the termunited scandinavia   in   i believe  sweden left the union   the resulting left over union of denmark norway was dissolved in   as being allied with napolean   tunrned out badly    ',\n",
       " 'i think this one should dayz  mod   the other one should be dayz  video game   and dayz should be just a disambiguation page ',\n",
       " 'by those pushing an anti mrm pov ',\n",
       " 'you really are a rebel guy  rebelguys    time to get oral from a  prostitute    ',\n",
       " 'fine  smarty pants  but just wait until they finally announce it  then you will see i am right and that you do not know everything ',\n",
       " 'amber taylor forever   amber   taylor forever',\n",
       " 'kosovo template   hi again  can you please take a look at this template    should not albanian language be mentioned first since    of the population are albanians   i changed this but some serb nationalist keep reverting my edit  i hope i am not disturbing you but you are one of few here i consider to be quiet neutral ',\n",
       " '  of course a true dub will say  wouldepaaarted  or  more likely   f  in  gone       ',\n",
       " 'i think it is a little disingenuous of zet to claim that a division which had lost most of its fighting troops was  far from destroyed  when its fighting capacity was close to nil ',\n",
       " 'muslim men harassment of mm page   it is amazing how three muslim men jumped all over this page  right after i added a number of things   minutes after   all three men  all muslims   and cleaned it up   does a woman working for human rights in pakistan really get under your skin so badly   wow   so sweetie  if you are so bloody busy  why not get busy  and stop harassing the women   are you  that  threatened ',\n",
       " '     width       style   background transparent      width       style   background color      style   width     border px solid    background color    vertical align top     hello madstar  and welcome to wikipedia  please remember to sign your name on talk pages by clicking  or using four tildes         this will automatically produce your username and the date  also  please do your best to always fill in the edit summary field  below are some useful links to facilitate your involvement  happy editing   discussion     width       style   background color      style   width     border   background color    vertical align top     getting started introduction  the five pillars of wikipedia  how to edit a page finding your way around table of contents  department directory editing articles how to develop an article  manual of style  style   width     border   background color    vertical align top       width       cellpadding      style   vertical align top  background color       getting help     style   color       frequently asked questions  cheatsheet  where to ask a question  help pages  new contributors  help page     ',\n",
       " '   august   utc   hey  looks like your rehab program did not take  and now socafan s been community banned  your approach worked out real well  did not it     talk  ',\n",
       " 'pkk fighters who the past decades entering and living syria for their fight in turkish territories have no match in guerilla war  specialized to this  against the turkish regime  rebels and the army are far behind in abilities and training to match the pkk fighters ',\n",
       " 'omd  thl  h  depeche mode  abc are all not new romantic  never have been  do not self identify as romantics  fans do not consider them romantics yet  individual insists on keeping listing them on this page  fans of the bands will just keep removing them because it is simply wrong  stick to visage and other blitz bands or this article will be in perpetual edit war     ',\n",
       " 'tried to be productive  look at my contributions  but hit my head against a wall of spoiled greek children  or probably under pay from greek government  that purposely keep vandalizing the albania related pages and keep iritating the albanian editors until they explode and get banned  as a historian i blush with what i find quoted as reliable information on the wikipedia pages and the quality  of the editors and sources  time to move to the french pages  a lot of readers there   still  more languages to go  till next time wikipedia sucks   ',\n",
       " '   ricky gardiner woody  my man  thanks for your quick actions and additions re  this article  just a stub i created yonks ago to get rid of red links on bowie pop articles   what is it that draws people like us to defence and rock  i think nick d  is a member of the military and music projects as well   then again  the riff for   lust for life   came from bowie s interpretation of an armed forces radio theme    cheers    ',\n",
       " 'triple crown just about cleared     ok  got out the broom and dusted off some stuff     cheers    talk  contribs ',\n",
       " 'if you agree with master bigode then what about rule for  x  images and what about the back side image  that was erased without consensus   he never discussed the back image  he erased it out of the blue  what if i went on your user homepage wolftengu and i said that picture on your homepage is too big be within guidelines and i removed it  placed it somewhere else and i also removed another image  would agree with someone doing that to your homepage or would you be outraged  however wolftengu you seem to be playing unfair cop here by notifiying over as if a discussion wrong  what is your point  do you own a dx  or if not what is your involvement to disallow a  x  or any other  x  image and even any other image of a dx  in a smaller form ',\n",
       " 'as a rollbacker  that is particularly problematic   you should be aware that editors who edit war may lose the privilege regardless of the means used to edit war ',\n",
       " 'what about non american schools  mosques  synagogues  etc  etc    wikipedia is so america centric ',\n",
       " 'thanks   for fixing this ',\n",
       " '   no not really  we may ask that the mention of fat being the fire source of the cremation of millions be reconsidered though   along with a few other items  the fat cremation   wiki fact   is citable   www hdot   emory u no less  lipstadt  but doubtful  if the same science was applied to the holocaust as say the tinfoilers or flat earthers the deniers would be overjoyed  be careful as to who gets the nutty fringe tinfoil label in the end  you get the permits and we will bring the shovels        ',\n",
       " 'celebrities   talk about your fave celebs and even your crushes ',\n",
       " ' you know  i was thinking     nobody really attacked me before i revealed my age here   after i announced that i was   i was subject to a constant storm of harassment and abuse   the same thing goes for when i was on the sandbox when i was    before people knew my age  they did not care   after i told them my age  they hated me   it is just so amusing how the idiot soapboxers think of teenagers as being responsible for the   decline   of the soapbox  like it was ever any good to begin with    this is funny  because the adults are the dumbest people here   mauricio  chuppah  redneckgirl  pinky  scooby  gg  foreverlosttinkerbell  greenrabbit  starrocketsinflight  bree robinson  enigma   cocainenightmares  tokyodome  chad ocho cinco  steve lake        all adults   the teenage posters here are typically the smartest ones   let is see    g dawg  head banging brunette  classicage  metropolis  even though he is a bipolar weirdo   chrisscript  just to name a few   all i ever see adults posting is   rate my poo         my ballz smell funny      whoz hawter  me or ur mom              i like to rape little girls    and   hey guyz look at me im an attention whore           the adult posters here are immature  moronic  savage bullies with the mental capacity of a retarded  year old   whereas  most of the teenagers here are thoughtful  intelligent  mature  and often profound   but they are subject to constant schoolyard bullying by the idiot adult posters who think they are somehow superior because they were born  and dropped on their head  earlier   soapbox logic never fails to amuse me     ',\n",
       " 'tm   how astute  remember civility is the key  that verbal licking you gave me really failed to break the skin  maybe just maybe we can get along  how about that ',\n",
       " 'sofia added   i am from sofia  bulgaria  our city has also joined this initative so i included it ',\n",
       " 'would you mind focusing on content s rather then contributer s  ',\n",
       " '  decline a bit too close for comfort  that one  try to avoid the company name altogether  we get a bit edgy about accounts that appear to represent organisations ',\n",
       " 'weatherman and better writing   a lot of the changes you have made recently to the weatherman page are notably more awkward  for no apparent reason   i am not particularly concerned about the changes in some adjectives surrounding how some organizations and events are characterized  but at the same time you rearranged sentences to read quite poorly   plus you seem to get really carried away with wikilinking  do readers really need a link to know what a bomb is    ',\n",
       " '  non lead  should not the title of the page be   supporting   or   minor   instead of   non lead      ',\n",
       " 'i agree with leontes  though i began attempting compromise last night considering no one else was backing me up on this   in the interest of building consensus  however  i will note that political descriptors  in the absence of reliable third party sources  are inappropriate in this article   i will also note  again  that some commenters here appear to be confusing the electoral vote website with the electoral vote author   this wikipedia article is about the website  not the author  who has an article of his own ',\n",
       " 'dispatch review   i added some comments here  i think it is a wonderful dispatch   very clear  we have needed something like this for a long time ',\n",
       " '  i vote for christ pantocrator  though it could be nice with a wider crop',\n",
       " 'here s an idea   go fuck yourself  cumshitter ',\n",
       " '    your assistance please   the record shows you deleted file hmcs fennel  k  jpg   the entry you left in the deletion log said    listed on wp pui more than  days     i strongly suspect that this was a free image   crown copyright canada protects images for their first  years   ww ended  years ago   so if this was a crown copyright image it would be a free image   i would like to request userification of the information templates and other information associated with this image  to review for possible clarification of whatever problem got it listed at wp pui in the first place   could you please userify it to    ',\n",
       " ' listas   manos family',\n",
       " '   so  despite your equivocation  you are still wrong  people do remove   vile  vicious hate speech   whilst remaining on   the right side of policy       you made a very clear statement about wikipedia policy   and i proved you were wrong  and you denied my unblock request as a result of your misinformation    i know expecting an apology from a wikipedia administrator is a waste of time  but in future stay away from me  okay  i prefer to deal with admins who do know the rules       ',\n",
       " '   speedy deletion of phi rho eta  a tag has been placed on phi rho eta requesting that it be speedily deleted from wikipedia  this has been done under section g of the criteria for speedy deletion  because the article appears to be a blatant copyright infringement  for legal reasons  we cannot accept copyrighted text or images borrowed from other web sites or printed material  and as a consequence  your addition will most likely be deleted  you may use external websites as a source of information  but not as a source of sentences  this part is crucial  say it in your own words   if the external website belongs to you  and you want to allow wikipedia to use the text  which means allowing other people to modify it  then you must include on the external site the statement   i   name   am the author of this article   article name   and i release its content under the terms of the gnu free documentation license  version   and later    you might want to look at wikipedia s policies and guidelines for more details  or ask a question here    if you think that this notice was placed here in error  you may contest the deletion by adding  to the top of the article  just below the existing speedy deletion or   db   tag   coupled with adding a note on the article s talk page explaining your position  but be aware that once tagged for speedy deletion  if the article meets the criterion it may be deleted without delay  please do not remove the speedy deletion tag yourself  but do not hesitate to add information to the article that would would render it more in conformance with wikipedia s policies and guidelines     ',\n",
       " '   will my motherfucking safety be guaranteed     i fucking hope so    i am bringing my own fuckin  weapons   pay me when i get back motherfuckers     oh yeah i have got a joke   a family  husband  wife  son  daughter  dog  walks into an agent s office and tells him that they have got a great vaudeville routine   he says   we do not hire kiddy acts   and they say   but we are really good    and so the agent says   fine  let me see what you have got  but if you suck i am throwing you out     so the family gets ready   the daughter hits the cd player and circus music begins playing  the father jump kicks the son in the head and stoms his face in the ground until it is a bloody pulp  then proceeds to jerk off and cum all over his shattered skull   meanwhile the mother begins violently finger fucking the daughter as the dog fucks the mother in the ass hole   this is the point when the father takes the leftover brain matter from the son s head and shoves it into the mother s pussy  then begins fucking her pussy while simultaneously sticking his finger down the daughter s throat until she vomits all over them both   then the dog bites the mother s hand off as she is finger fucking the daughter  leaving her hand in the daughter s pussy as blood squirts all over the place   the father takes blood from the ground  smears it all over the mother s chest  bends over  and begins shitting all over the open wound where her hand used to be before the dog bit it off   they take the dog and shove it in a microwave  heating it up until it explodes  then take the dog remains  mix it with the father s shit  the son s head wound  and the father s cum  and shove it into the daughter s mouth   then the father rips the son s dick off and fucks the daughter with it  as the mother locate s the son s testicles  breaks them open  and drinks the sperm that comes out   then the family lines up and says   ta da      there is silence from the agent  until he finally says   i love it   what do you call that      and the family says   we call it   the aristocrats    ',\n",
       " '    requested move    canada national football team  disambiguation      there is  i recently moved the american football team  which used to carry the moniker   canada national football team    to canada national american football team  and i consider this move request  if successful  to be vindication of that move b  b  ',\n",
       " '   i think clockback that your suggested reference to ainsworths involvement in the img is too long and that something along the lines of brief flirtation would be better  i think that the img reference needs to be short somewhere in the early career section posted after the article has been expanded a little  otherwise the article might appear weighty  i think the last point is important as it seemed to be a consensus reached by a number of wikipedia editors after much wrangling and gnashing of teeth    but bedsides  this brief dalliance with marxism  in an overall consideration of his political career  pales into insignificance compared to his being controversially thrust as a third choice candidate into the position of defence secretary at a time of crisis for the british army in terms of the number of casualties being sustained and a lack of resources  this is simply not reflected at all in the ainsworth article  i tried reflecting it as follows    his appointment formed part of a chaotic cabinet reshuffle by the prime minister  who   considered at least three other candidates before appointing ainsworth   but this was dismissed as   speculative opinion   by offriorob above  even though from my point of view it is easily the most significant event in ainsworths biography  perhaps we can reach a consensus that if a better reference can be foundwhich i suspect should not be difficultthat it can be re included  i want to stress that this is again not meant to be an ad hominem slight against ainsworth  but merely drawing attention to the fact that his appointment was the equivalent of throwing someone in at the deep end  and indeed he has had a very difficult time of it since his appointment   actually it reflects worse on brown and the farcical reshuffle    ',\n",
       " '    greek love   i am looking for a way to extricate myself honorably from this mess  i am leaving a note here because you closed this afd  where i made a commitment to do as you instructed in the closing statement  there are two editors who have long sought to delete or eviscerate the article  one of whom has used a series of user names  unacknowledged on his current user page but available   so at first glance it may appear on the talk page there are more than two editors in the  suppress  camp   i complain here about their coordination  other editors  including  and i simply can not do it any longer  i have not changed my position on the validity of the article  but i have been accused  on various talk pages  and never the appropriate notice boards  of edit warring  ownership  disruption  and even pedophilia by implication  all for trying to carry out what the community decided  i am done  i need to limit my time on wikipedia at present  and wish for that time to be spent pleasantly and productively  when i have made a commitment  though  it grieves me not to keep it  i am not asking you to do anything  i am just explaining why i can not keep my word as given at the afd      wow  that is a mess certainly no hard feelings  on my end  it is clear you endeavored in good faith to improve the article  i have found that knowing when to walk away is an essential skill  not only here but in the real world  sometimes your presence  despite your best intentions  is harmful rather than helpful  and sometimes a dispute just is not worth it anymore  best of luck in your future endeavors here       mailchimp   i am not that bothered but i think that the mailchimp speedy deletion was a mistake   it did cite that it was one of the more important email marketing programs so it was stating the importance   something that was supposed to be the original problem       the criteria specifies a credible   claim of significance  wordpress pages are not reliable sources  however  i would certainly not object to it being restored as a redirect  as it was for several momnths before today     talkback    talk    just a hunch   call it my intuition but i am guessing that his username is a direct challenge to patrolling admin that you guys will not block him based on the username itself  but his contribution speaks volume of his nonsense louder  my other hunch being he is a returning editor   than his username does  just my  cents  cheers      there are plenty of legitimate reasons to be a returning editor  the username is not a blatant violation of the policy   if you have any evidence of socking file at wp spi       recreation of article shay carl   i would like to request that the article shay carl be recreated  see the deleted talk shay carl for my reasons  note  talk shay carl was delete because of a  not notibility       well  there was',\n",
       " ' where is the  defendants figure coming from    nuremberg and vietnam  an american tragedy   by telford taylor  u s  chief counsel at nuremberg  mentions     ',\n",
       " '   oh hey  a response  that s cool  i personally feel that having the fortitude to call out ttn on his obvious flaws should warrant a few dozen barnstars  but i see where you are coming from  if you insist on keeping the block  i would like to formally request the reason for this account s blocking to be changed to reflect the real reason instead of being noted as a common vandal  maybe a reason along the lines of   being a pain in the ass   like that one guy on nakon s talk page stated  on that subject  maybe he should be blocked too  after all he did use a cuss word and that s technically worse than anything i have ever said        ',\n",
       " 'no  you have the right to express an opinion that you consider it to be hasbara  or crap  or both  you do not have the right to identify it as hasbara  crap  or both ',\n",
       " '   ga review     this review is transcluded from talk battle of rowton heath ga  the edit link for this section can be used to add comments to the review   reviewer          yes    i will take a look over the next few days  and then start to make some comments          yes   ',\n",
       " 'for evidence  please make sure you make yourself familiar with notes for the suspect before editing the evidence page ',\n",
       " 'afd please see wikipedia articles for deletion revelations  guidelines for notability are outlined generally at wp n  and specifically for songs at wp nsong  thank you ',\n",
       " ' organizations   class   start                 importance  low             maindykdate              needs infobox  yes       needs image  yes         attention                wikiproject  ',\n",
       " '     actions in la la land have real world consequences          ',\n",
       " 'dean wormer works for the racists in jena  la   i will continue to update the posting for jena  la to reflect the fact that thier  famous  person of note was a segregationist democrat which is in fact a historically accurate description     ',\n",
       " 'woopsies    oh thank you soooo much    i did not know   i promise that i will never ever do it again  ok ',\n",
       " '   for everyone s info  particularly admins   i believe the latest sock puppet for igor is    just a   heads up      ',\n",
       " 'why are you giving me warnings    before someone marks this as vandalism  i want you to at least read this  why is this vandalism  i do not understand  i am new to wikipedia and i am trying to figure it out  please do not mark this as vandalism  i am am not doing anything wrong  i just need answers from somebody  please help ',\n",
       " '    gift cards for downloads  re    as of december    it is not possible to use gift cards to purchase mps even though the gift card faq claims   yes  amazon com gift cards can be used to buy amazon mp and unbox downloads        strictly speaking  this is a false statement as were able to pay for orders with a gift card at that time   one person already removed that line but it was reverted   is there a good way to go about providing verification      ',\n",
       " 'i am thinking about deleting war on terror  operation enduring freedom   horn of africa  and operation enduring freedom   phillipines because they are redundant  i would like for people vote on it ',\n",
       " '   no it is not   useful information about the topic   and it is a good idea  only  screenshot is allowed per game  at most  if they really relay something     ',\n",
       " '  my experiences came up on the talk page but once i understood wikipedia i did not post anything on the article related to my personal experiences  that was like the nd day almost two months ago   all of my references are verifiable there is nothing in the article about my law suit or my being put in jail for engaging in pro se litigation   i did not put my experiences in the judge edward nottingham article either although he was my judge   i went out of my way to search for references expressing all the various sides of the issue  for instance  i wrote to the aba and asked for their input  and in fact  asked them to work on the article  i also posted about issues involved with mediation and settlement with pro ses  citing references from a lawyers point of view   those references were deleted by someone  i can not remember who and do not know why  at this point  the only reference that i posted that is soft at all is a blog quoting a transcript quoting a former federal judge and i know for sure that is a valid transcript   the guy who runs the blog is a rd year law student and has a business selling data services exclusively to lawyers    even the stuff that was deleted about pro se frustration i had references for  i read in the wikipedia discussion of sources that blogs can be used in some contexts   i do not believe that i did any original research  all i did is search the internet for references for the article   i really did not know about unbundled attorney services or the amount of pro se litigation before i started working on this article  i had already been thinking about forms based filing but i started thinking about that anyway because of my experiences with ecf  which date back to    also  when i was younger i worked as a systems analyst   i did get the info on the laws and liberties of ma years ago  but wikipedia already had an article on that and it probably would have come up anyway   same as the u n  covenantcan not really hide that    i did not add a and b together to prove a point  at least not consciously  like today  i was reviewing appellate procedures and it seemed that the th circuit had a more pro se friendly tone  which i think is because of judge learned hand  who was in the fifth circuit  and the only reason i know about that is that one time i went in every federal circuit and searched on the words   pro se   in the s because i was trying to see if there was a history of putting pro ses in jail for being pro se  no  there was not    what i found in the s was that some circuits denied all the pro se appeals without even saying why but judge learned hand seemed pro se friendly   i believe that your posting things about pro se litigants getting an unfair advantage is   soap boxing    i do understand your wanting to win thru competition though and about law as a business  i have been an entrepreneur    i did not know about the federal judicial center until i started working on this article  that book on appellate procedure i found looking for references for this article  the manual on complex litigation i found looking for references for this article   arguing with you helps me to clarify the issues for myself   one thing i started thinking about a lot in the past few weeks is slavery and how that affected the history of pro se litigation  i ordered the book slave nation at the library but i have not got it yet  but now when i look at pro se law in the different states i think free state  slave state  border state  also  there were issues related to indians in some of the western states  the labor union movement had a lot to do with it too  i think  so did the history of workmen s comp  which is of course related to unions    ',\n",
       " 'try passing illegaly the border from usa to mexico    you will end in prison too  but the are no communists there',\n",
       " '    unsourced personal commentary   a   new   account has re added this  it looks like unsourced personal commentary  ',\n",
       " 'your comment is indented as if it is a response to mine  but i am not the one who removed the discussion ',\n",
       " '  when i looked at the cato edit  it was simply a removal of the reference  the addition of another donor  and a change in the language  without an edit summary to explain  the changes were unjustified   your clarification certainly helps   thanks  also  for adding the reference on summers  frankly  i did not look at the sources removed or added  my main concern was the unexplained edits  summaries are important  and then i saw that the messages about these same concerns from a while back  so my message is more of a reminder  most importantly  you are incorrect if you think it is   not against the rules to add unsourced material    one of the core content policies is wp v  and wp rs allows us to carry out that policy  happy editing      ',\n",
       " '   we all know that  just about everyone here watches the updates  theres a reason they are not listed    complaints   ',\n",
       " '   i have been though the article  it is simply untrue that only men are   consistently   referred to a jews but womabn and children are not  many passages refer generally to   jews    clearly meaning men  woman and children  only one sentence corresponds to your criticism    the screening of the population  however resulted in  jews   jewish women and  jewish children  of which  jews and  jewish women were shot in co operation with the security service    this particular sentence should be rewritten  i will just do it  but the sentence itself is grammatically confusing  so whoever wrote it may wish to check that i understood it correctly     ',\n",
       " 'hello    long time no shart ',\n",
       " 'other bush articles not referenced in george w  bush none of the following articles is mentioned in the george w  bush and perhaps should be   bush s brain  how karl rove made george w  bush presidential  domestic policy of the george w  bush administration  early life of george w  bush  economic policy of the george w  bush administration  electoral history of george w  bush  fictionalized portrayals of george w  bush  foreign policy of the george w  bush administration  george w  bush and the iraq war  george w  bush as governor of texas  george w  bush cabinet  george w  bush presidential campaign  george w  bush presidential campaign    george w  bush presidential library  george w  bush pretzel incident  george w  bush substance abuse controversy  george w  bush supreme court candidates  george w  bush s first term as president of the united states  george w  bush s second term as president of the united states  list of books and films about george w  bush  list of george w  bush legislation and programs  list of nicknames used by george w  bush  list of people pardoned by george w  bush  mahmoud ahmadinejad s letter to george w  bush  movement to impeach george w  bush  presidency of george w  bush  professional life of george w  bush  public perception of george w  bush  religious faith of george w  bush  the lies of george w  bush  mastering the politics of deception',\n",
       " 'a third term is significant simply because it is rare  the electorate and party  often on behalf of the former  are disillusioned with the party leader by this time  thus they kick him her out  read about margaret thatcher ',\n",
       " '    some baklava for you      a gift  in the hopes that you reconsider my indefinete block  a traditional food from the middle east  made best in afghanistan metalman  ',\n",
       " 'referring to her as  catherine    i was told in no uncertain terms that i could not refer to anyone  living or dead  by their st names on wp    if a female had a title  she had to be referred to as that throughout her article   ie   lady amy  or  lady dudley  for amy robsart  even though  lady amy  was wrong before she was married as she was the daughter of a knight   had no title    wrong after northumberland was attainted   all his children lost their styles as offspring of an earl   a duke    she did not become  lady dudley  until elizabeth i knighted robert dudley near the end of amy s life nor was she then  lady amy dudley  as legally she was no longer the wife of the son of an earl   duke   i thought it was simpler to refer to her as just  amy  throughout rather than explain the changes that occurred with her name   styles  but was told it was against wp  rules   though i was not pointed to a link for it    noblewomen are usually called by their st names round here as far as i can see  even when they have surnames   are not  of  something   mary boleyn is called  mary   not  lady carey  or  lady stafford   catherine neville is called  catherine    not  the duchess of norfolk   etc    they are not royals     as for males  i was told they had to be referred to by their title   ie   leicester     or last name   ie   dudley    i was banging head on keyboard going  but   no one just says  the king  all the time or refers to them as  plantagenet  or keeps changing their titles   ie  henry of bolingbroke going from earl of derby to duke of hereford to duke of lancaster to king of england      so how does kate get to be consistently referred to as  catherine  throughout the article  without her title appended   i have only been here a few months   i would appreciate it if someone could actually explain this to me  as my main interest is british history   i am quite confused ',\n",
       " '   mevins says   i will be changing your elegant profile shot of bruce to a better picture as soon as i upload it  i appreciate ordinary jay bruce fans  but i am jay s biggest fan  thanks for your attention  i think jay would agree that a picture on wikipedia has little to do with furthering his career  but nice try',\n",
       " 'they are all cunts   it is not worth editing articles here concerning any serious issue  all sides consist of either people employed to edit or people with very strong opinions that will never  ever change  they advocate their stance as something that is interesting to them instead of using the encyclopedia as a book of knowledge and contributing what they are sure to know   soon with the centralization of the net into larger and larger sites  independent information in general will be extinguished  wikipedia  a project that started by nerds and professionals within their set fields will become the altar of knowledge where depth and true insight is sacrificed for becoming the sound magnifier of yellow press and popular science  the new tool that is intended to auto translate articles from one wikipedia to an other will extinguish the few national wikipedias that through their niche provide those of multilingual capacity an ability to cross check facts through other perspectives  with few small  independent sites left  with no or few free university pages left  real knowledge will be the privilege of the few that know how to use academic search engines and have the money to pay for them    ',\n",
       " 'i have said once  i say it again   if you don like thugstep that s you bizness  if you think that quite a range of refenreces to web pages stays it non notable you are welcome to tell it to admin for it to be deleted      ',\n",
       " 'although it does not extend to the modern era  you might want to look at ancient higher learning institutions to see how it relates to chinese higher learning institutions ',\n",
       " 'do not harass other editors with no basis you have posted a baseless warning threat on my user page  do not post any more things on my page  otherwise  i will complain to the administrators  or even jim wales if i have to ',\n",
       " '    the comma   is not the correct title for the first series   yes minister    without the comma   i believe it was only   yes  prime minister   that ever had the comma  unless there are objections i will be moving the page  ',\n",
       " '  excellent  and please do not damage your book on our account  for sure  it is an interesting question  where was the camera  that s a fair question  to jump to the conclusion that it was   impossible   is ludicrous  but that s typical for the moonbats  the picture is useful for another reason  as it shows a similar relative position of the lem and the antenna for this apollo  flight as on that web page that argues about those objects in apollo   in both cases  the antenna is at a  degree angle away from the lem  and both the near photo and the distant photo on that website are consistent with each other  despite the website s claims to the contrary  the moonbats isolate on specific items as their   evidence    but the more one sees the broader picture  the more their phony arguments get shown up    ',\n",
       " 'content subsumed into maneesh page  same entry different spelling  and redirect ',\n",
       " 'ditto   congrats  and all the best to you ',\n",
       " '    is when that part of the video shows it   it says   lots of small villages have prostitution in karaoke joints    and that this one had a single orangutan in it   it does not say its common everywhere though    ',\n",
       " 'fuck you  smith  please have me notified when you die  i want to dance on your grave ',\n",
       " 'i have seen your post now but i replaced the pop punk reference which was there again with rock a few days before ',\n",
       " 'please avoid using abusive edit summaries as per wikipedia civility and wikipedia no personal attacks  thanks and happy editing  please do not make personal attacks on other people  as you did at minneapolis  minnesota  wikipedia has a policy against personal attacks  in some cases  users who engage in personal attacks may be blocked from editing by admins or banned by the arbitration committee  comment on content  not on other contributors or people  please resolve disputes appropriately  thank you ',\n",
       " 'dect is not really a new technology  it is a newer standard  but tdm tdma fdma digital telephones have been used for a lot longer than the life of dect  dect is itself a successor to ct  japan s phs is very similar  and  of course  gsm  d amps  and others have been extensively used across the world for a decade and a half  to suggest there are special health issues with dect would most definitely be placing undue weight on the subject  dect is considerably lower power than the analog systems it replaces  both during transmissions  and inherently because even when in use the td nature of the system means the system is not transmitting continuously   as i believe i have said before  there is nothing wrong with there being a properly researched article about the health effects of low power radio technology  and there being a link in the see also  section of this article to it  that article  of course  should look nothing like the section i yanked  there is nothing about dect however that merits a special section on dect s dangers  especially when   new technology or otherwise   there is no serious level of concern being expressed by anyone authoritative on this issue ',\n",
       " 'i shit on your face   fuck you',\n",
       " 'you are   so retarded ',\n",
       " 'users using sockpuppets in this discussion   note that user nightscream is soliciting sockpuppets of toure neblett to join this discussion  http   en wikipedia org wiki user talk halaqah hi halaqah  this is not surprising considering nightscream s slimy debating tactics and ad hominem smears    it looks like the reality is that there are  only  one or two actual people opposed to teh inclusion of the last name and the rest are their sockpuppets    though i guess it demonstrates that nightscream is  not  one of toure s own sockpuppets    fyi i am not using a user name in this simply to make it clear i am not a sockpuppet ',\n",
       " 'thanks stephan  my interpretation is that mr nice guy removed the content before discussing it on the talk page  if he was concerned about contents reliability  i thought i read that editors are supposed to bring it up in discussion first and reach a consensus instead of deleting sourced material ',\n",
       " '  which i made up by fixing stem articles',\n",
       " 'alex albrecht why have you removed my additions to the alex albrecht page they were totally relevant  ',\n",
       " '  in a tank for bioelectrical impedance analysis etc    i fail to see how either of the two pictures recently added improve the article in any way ',\n",
       " 'the images have been missing for a while as wikipedia was down for about  hours  i just hit rollback which  among other things  restored the patrick stewart  which i then removed but did not see you had made other valid edits  i also linked harold wilson from prime minister to prime minister of the united kingdom  the deletion was done at   gmt by which time the servers were up  you should register then you could bypass these invalid messages  cheers    talk ',\n",
       " 'amazing  thank you very much     ',\n",
       " 'groin   you sad fuck  i am going to restore my edit  and you are going to leave it  or else i wil knee you in the groin yourself  prick     ',\n",
       " 'may    your behavior on the talkpage of honor harrington has been below par  you do not know how to take defeat with grace and start behaving childishly  let me warn you that your next childish edit will likely result in a mention at wp ani or a user review ',\n",
       " 'video game   for pete sake if i see that false video game article one more time  i will throw a cat out of the window  whoever you are  stop it now  it is not funny or clever  you are just making a moron out of yourself and i bet that was the same person who changed the test card date too ',\n",
       " '   palmisano playing for iowa state in the s is a free pass  i think  i am pretty sure they were division i then   as far as a list of coaches go  i am not sure that s an articleworthy list at that level of competition  as opposed to it being folded into a general malone college athletics article   but i would not file an afd over it  it is a compromise  anyway   seeing as you are digging into uncovering notability for those folks  want a full week for it     ',\n",
       " 'history   kallikids was created by karen bach in march  ',\n",
       " '    massacre   i note that kent state massacre redirects to this page  and that other  similar massacres in history   wherein government forces murdered civilians for protesting government policies   are termed as    such and such  massacre     there is no legitimate reason  aside from sensitivity to extremist viewpoints in the united states  to continue calling this article   kent state shootings     it should be changed to   kent state massacre     a cheap acknowledgement in the lead paragraph is insufficient   i would appreciate discussion on this move  and i will initiate the move myself soon enough     ',\n",
       " ' july   please stop  if you continue to vandalize wikipedia  you will be blocked from editing ',\n",
       " 'notice of objection to proposed deletion in accordance with the rules on this  i hereby notify you of our my objection to your proposed deletion of the subject article office of the court administrator v  floro  jr        ',\n",
       " 'barnes                  aus                                   ',\n",
       " '   may   utc timysmidge  ',\n",
       " '   two things it makes no difference to the validity of edits if an editor is   anon    and going around reverting a persons edits en masse  because you did not like one of them  will yield time consuming problems for you        ',\n",
       " 'hi nice of everyone to listen well ive been here for about years  have had afew problems but two have been the worst had a mamogram years ago decsaid to call my doctor emediatly needed other views an presedgures was incounculsive   we all no that not possable fir that cause its just like an xray  havent been able to go have no way to get there plus i have high blood pressure thets been running about  the last time was    around over  i no thats very high  the hospital xray techs seceritary said if i didnt get to the doc  to get referral as soon as possible that by the time i did it would be to late to do any thing for me  i no its to late all i want is to no how long i have left  have daughters one in opelousas la one in hawiyei one in walker la i would like to see be fore i die have a partner i want too spend as much of what i have left with i love my kids an partnermore than life its self im looking for some help to get to a doctor i dont have the money to do this have no income to speak of zero  my partner and i are seperated right now he is helping his father that has cancer also  he has a lawsute from getting hurt  he just bought a truck from his brouther an has had to do alot of fixing on it also with the help of his dad  let his neffews daughter drive it an hour ago cause she just hot her license an wrecked it comepletly now we dont have a vihicile to help us everyone says god dont give u anything you cant handle i understand that but i need some help does any one out there  that may be could help me with anything at all just thought id try to ask never have asked before  to much pride but im running out of time   please can so one help me  my email is apriljohnson gmail com or this site  please need so help if anyone can  god blesss everyone in there time of need   i hope someone may be able to help me thank you for lissen to me my age also is sept   ',\n",
       " 'he likes itin the ass by muhamad ali and kelly has a giant penis and also fucked columbus',\n",
       " '   here are the diffs of his edits from that report         talk  ',\n",
       " '    aug   utc ',\n",
       " 'just shut up and stay shut  do not edit anymore',\n",
       " 'oh get a life you prick    ',\n",
       " 'what else specifically do you want to know',\n",
       " '    rajputs  not rajasthanis   right   p   prof  hancock s studies mention that the romani people are most closely related to the punjabis and rajputs  i am pretty sure   not rajasthanis  he calls proto romani   rajputic    the distinction is important  if they are partly descended from rajputs  who were never really confined to any one part of india  that would explain the linguistic variation within the indic words in romani    for example  why the use of    o   instead of    aa   at the end of masculine nouns adjectives in romani  this is certainly a characteristic of gujarati and sindhi  but is it a characteristic of rajasthani languages  anyway  if i am wrong in making the last change i made as of now  i will be happy to revert it myself   oh  of course    ',\n",
       " '  if you would care to discuss specifically what is bias  incorrectly cited  or irrelevant to this page   i will hear what you have to say   until then  seeing as the search term   ndaa   brings readers to this page  i will continue to include present information reguarding this budget bill   this is the last time i will repeat this   abusing your power will yield you no ground  ',\n",
       " '   words of encouragement to user   damemk   in the cases of dispute with the users engaged in bulgarian nationalistic propaganda damemk  you have come to the same conclusions about bulgarian th century nationalistic propaganda on english wikipedia  user laveol is one of the most prominent editors on wikipedia contributing false information in the articles about republic of macedonia  macedonian nation history language culture sports and what else not  he is spending a lot of time working on his cause  pushing bulgarian nature in the articles of the domain of republic of macedonia  how far has he gone in pushing this propaganda you can see at wikipedia wikiproject romacedonia where he has listed himself as a member  so just my few words of concern for the macedonian articles in english wikipedia  and the great damage done by user laveol and other users with the bulgarian and anti macedonian propaganda  hopefully with the internet access becoming more affordable to the people in republic of macedonia the things will go in right direction  removing the bulgarian propaganda from macedonian articles  cleaning them of false fabricated information  and giving the facts to the world  and the views of the macedonian science and sources  i do not have much time now  but hopefully will be able to find some more in the coming period  i am open to any collaboration effort for the above goals   i am expecting that this user   laveol   will continue with the bulgarian nationalistic propaganda and polluting the domains in the domain of republic of macedonia  simply because he is able to  and can find a ways to continue to work on his agenda  ours is to try to remove these false claims and contribute the facts about the macedonia  macedonian nation history lanugage culture sports   damemk  i hope you write something here  at least to show that user talk damemk and user talk ejanev is not the same user       some insight into my user name ejanev the only user i am using to contribute to wikipedia is   ejanev    it is composed of the first letter of my name   emil   and my last name   janev    user   damemk   is a separate user  probably that user name is comming from   dame     a macedonian first name  and   mk   or the code of   republic of macedonia    it does happen that i am from canada  i was born in republic of macedonia and have lived there until i moved to usa first and canada before more than  years   and yes  having all the false information from the bulgarian nationalistic propaganda   originating from the th century   and having it into st century to be used to negate the macedonian nation and all it is attributes by users as   laveol    is the reason of some of my editing actions in wikipedia  i am not the only user editor from republic of macedonia or with macedonian origin that has the same views for this bulgarian nationalistic propaganda  that already is infiltrated in the macedonian articles  you can watch the contributions of special contributions laveol and see that more than   of his actions are engagement in negating the macedonian nation and its attributes        ',\n",
       " 'at bookfinder com i found probabilistic reasoning in intelligent systems  networks of plausible inference   softcover  isbn   publisher  morgan kaufmann pub     bookfinder',\n",
       " '  just to clarify what i am referring to in particular  it is not neutral to state that   aerith   is   incorrect      talk  ',\n",
       " 'thank you for experimenting with  wikipedia  your test worked  and it has been reverted or removed  please use the sandbox for any other tests you may want to do  take a look at the welcome page to learn more about contributing to our encyclopedia                talk contrb  ',\n",
       " 'the article sebastien larroud has been speedily deleted from wikipedia  this was done because the article seemed to be about a person  group of people  band  club  company  or web content  but it did not indicate how or why the subject is notable  that is  why an article about that subject should be included in wikipedia  under the criteria for speedy deletion  articles that do not assert notability may be deleted at any time  if you can indicate why the subject is really notable  you are free to re create the article  making sure to cite any verifiable sources   please see the guidelines for what is generally accepted as notable  and for specific types of articles  you may want to check out our criteria for biographies  for web sites  for bands  or for companies  feel free to leave a note on my talk page if you have any questions about this     talk to me ',\n",
       " 'gba   i have found out a game boy advance version of this was released  there is no mention of it in the article   as we know the current acclaim does not have rights to this series  information may be scarce ',\n",
       " '    proposed move    asheville civic center  with the talk page hosting this discussion  u s  cellular center  asheville  north carolina   u s  cellular center  u s  cellular center  cedar rapids  iowa   both facilities now have the same name   talk contributions  ',\n",
       " 'no need to follow this policy taivo instead of just following the far more important policy of wp npov   remain neutral  there is an international dispute over this country s name and fyrom is used by many organizations worldwide  why should wikipedia abandon it is usage since it is extensively used to describe the state of skopje  especially in articles directly related to countries that use the fyrom name to refer to it ',\n",
       " '  the two big things would be citation to verify that it was serialized in the weekly one  reliable sites in english just say shonen jump   but since you have the one that starts serialization  that can be used to note when it started serialization  if they mention there that its a continuation from the one shot stories because i can not find any rs  japanese or english  online that confirms that  the other is horii s reason for adding mini medals  info on the anime about what it was based on if its mentioned is all that is really needed for the main article  but could really help the anime article itself jinnai  ',\n",
       " 'redirect talk colt lightning revolver',\n",
       " 'no  nothing like that  i just wanted to clean out the clutter  there were a lot of bot comments  a welcome message for my old username  and so on  i could have archived it  i suppose  but i did not think there was anything on there that was particularly worth saving for the ages ',\n",
       " 'why your article got jumped on hi  i am sorry to jump on your contribution the moment you put it in  but the trouble is  it is simply not the sort of thing wikipedia is for  these links are all in one or other of the template notices above  but to put them all in one place  the reasons your article is being nominated for deletion are  wikipedia is not a dictionary  articles on neologisms need strong evidence that the term is widely used  wikipedia is not for things made up one day  more advice on contribtuing in the links from the welcome paragraph above  the list of bad article ideas is worth looking at  too   regards ',\n",
       " 'therefore i was reverting vandalism  which is an exception to the three edit rule as mentioned on the edit warring page ',\n",
       " 'user attacking me   user baki keeps reverting edits without consensus or giving reason  he has also performed ethnic mudslinging in my direction  please help ',\n",
       " 'not thracian pretty simple   years away ',\n",
       " 'im flattered  i truly am  i have been here a couple of weeks and you consider me to be an established user  please do not talk about me behind my back like little school children ',\n",
       " 'chicadee i think the article name should be moved to chickadee',\n",
       " 'p s  are you a  b tard ',\n",
       " 'ohhh i am sorry did i hurt your little feelings    let is all shed a couple tears together   lol what a joke  i bet you feel pretty important  pathetic little wikipedia volunteer  have fun living in your mother s basement drawing comic books  lowlife ',\n",
       " '    new image problems   you again uploaded several images with dubious copyright claims  you said they were from   hindu newspaper   and licensed under the gfdl  what made you think the hindu publishes images under the gfdl  if you simply invented that license in order to have a way to upload the images here  then please say so now  so i can quickly delete them  if not  i expect you will provide proof  within the next  days  showing where and how that newspaper placed the images under that license  if you do neither  you will be blocked     ',\n",
       " 'bunchofgrapes  request you please cease revert warring   bunchofgrapes  i respectfully ask you to please stop your instant reverts on my edits  if you have a problem with any of my edits  then do so from knowledge  but explaining what is wrong about the sourced materials  and edits  rather than making blind statements designed to allow you to revert for no reason  and  again  please cite your sources  you seem to not be able to cite anything that would back up your instant reverts  and accusatory tone telling others that they are reverting  when you have made several instant reverts with no explaination on the edit  or added source  please cease this and cite your sources  edit the materials according to jimbo wales  npov  and make sure your sources are verifiable before your reverts  thanks ',\n",
       " '   and what is the problem with   neo            ',\n",
       " 'wow  big man here  can not take a little criticism and is upset about his failure to become an admin  so what does he do  looks for the closest person to run to  some admin on wikipedia  well played dietlimecola  hey  if i am blocked  it will be less times you have been  and for far better reasons   oh my god some girl was looking at wikipedia for her paper and i did not see the teacher so i could not tattle so i took matters in to my own hands   i also could not help notice how sad it is that you so quickly noticed my updates  do you just sit their at your computer waiting for an update   please tell me you did not watchlist this page    you did  did not you  all in all  everything can be summed up with a simple saying ',\n",
       " 'glen is cool  glen is such a cool bloke and loves being nice guy',\n",
       " '   parodies    not intentionally  surely    ',\n",
       " '    pandur   the name derives from pandur  a sumerian term for long necked lutes  source of our knowledge about this instrument is since the ancient greek mantineia marble  th century bc   now exhibited at national archaeological museum of athens  depicting the mythical contest between apollo and marsyas  where greek pandouris is being played by a muse seated on a rock national archaeological museum of athens  e book by latsis foundation  p  lutes have been present in ancient greece pandura  the first appearance in greece  they were also present in mesopotamia since the akkadian era  or the third millennium bce  ',\n",
       " '  i accept your comment in the spirit in which it is offered  terminology matters and it can be hard to find the correct word  it was another editor who sought to distinguish   civilised behaviour   from that of indians  my point was that even if one accepts such a distinction  non indians have committed absurdly large atrocities  in addition  i could have pointed to the mystic massacre as a completely on point example of a butchery that shocked our native population  none the less  both tribal mongols and tribal american indians had or have civilizations by any reasonable definition     ',\n",
       " 'no i dont agree  my info will be saying up  since you are in such a hurry to edit the page why dont you fix the info that have you have sourced with a broken link     ',\n",
       " 'i thought personal attacks were welcome  as long as you revert them yourself  and i thought restoring mentioning them was grounds for an indef block  could our junior miss admin have missinformed me i have arrived just in time',\n",
       " '   replacement  please do not edit below this note  the whole supra section will disappear again once i am able to post on the article talk page   this includes you shell  had you not blocked me  i would have been able to place my answers there  this will disappear tomorrow so you can put with it until then   because shell falsely blocked me  i cannot save my replies on a certain article talk page  hence i will save the entire page  minus the archived sections  here    pov concerns   im surprised this article is not being called anti semetic  because it is has a  few  traces of islamic perspectives in it  you know  as opposed to being a piece of zionist propaganda being passed off as fair and balanced   this entire article is full of baseless jewish propaganda  it is well documented the banu qurayza were executed for treason  that is what merited them the death penalty  that they commited treason  the quarash and other tribes the muslims fought against were outright enemies who were persecuting them from the start  but the qurayza signed a peace treaty  then broke it by aiding the enemy  this article contains soo much jewish propaganda that you would think they were executed for no reason  which no doubt is their aim   here is a great example  look at this citation    according to stillman  muhammad chose sa would ibn mua wouldh so as not to pronounce the judgment himself after the precedents he had set with the banu qaynuqa and the banu nadir    sa d took the hint and condemned the adult males to death and the hapless women and children to slavery    furthermore  stillman infers from abu lubaba s gesture that muhammad had decided the fate of the qurayza even before their surrender     this author is norman a stillman  a zionist jew who is very biased  why is he being used as a quote in an islamic article  and further more  why is his baseless conjecture allowed to be used  as if it is a fact   there are articles for   criticisms of islam   where the jews and others can write whatever they want  but they should have no hand in editing islamic articles  because i looked up the jewish articles and i noticed they dont allow dissent there  you cant put a muslim perspective on evil acts commited by jews  without it disappearing instantly  so the same standard must be applied to islamic articles  islamic articles must be written from the islamic point of view  and the jews can write their responses in appropriate   criticisms of islam   articles  if not  i will personally edit the jewish articles and fill them with my conjectures about their history  and i will find a non jewish admin to arbitrate over the islamic articles   good day       please read this talk page  specifically all of the places where   treason   or   traitor   is mentioned  and if you still believe that we need to mention treason  provide some reliable sources and we can discuss it   it is easy for our article to be neutral and mention all povs  but it does require that people like yourself participate   we work from academic sources  not personal conjecture      changes by devotus and issues with them  dear devotus   i have still issues with your changes  bat yeor and ramadan   while i appreciate that you do not try you shift the balance   removing a book from   each side     i do not agree with your removal  bat yeor is an academic scholar and though her books are controversial  she is not beyond the pale   currently she does not serve as a reference in the article but if she did  the controversy would be noted  as for ramadan i have issues with him as well but if we remove him from the literature section  we would have to remove him from the article too  in which he serves as a reference  this is due to the insistence of user bless sins  he will certainly not like such a removal  we cannot remove him from the literature section while retaining him in the article  while your first version was needlessly verbose    it is to be noted that     the new one endorses that view by paret watt  the article now says that the bq were not killed for religious reasons   that is not a fact  since there is a good case that the whole conflict was caused by religious differences  also we do not want to repeat things that have already been said in the coverage of the   siege and demise    e g  the claim about attacking m  in the rear  also  please abide by the one resolved conflict  we fought hard and long about words like   massacre   and   execution   and neither should appear unless unavoidable  the common practice thing is unacceptable as it is s',\n",
       " 'ok  steve  to be honest i really like the present form  so  i do not have any issue with the present one ',\n",
       " 'hello  january       you keep vandalizing articles while adding misleading edit summaries      please stop doing this  it does not help build an encyclopedia and wastes other people s time  since you repeatedly  and selectively  remove messages from your talk page  i do not know how many warnings you have already received  i will thus consider this to be your third warning and report you next time you vandalize an article  thank you for understanding    talk',\n",
       " 'i think it depends on the circumstances  if someone won a gold medal at a competition the gibraltar anthem would be appropriate  rather than  god save the queen ',\n",
       " 'he is at it again  he seems insistent on adding pointless rambling on how the talk page is not a forum just so he can make a cut at me   http   en wikipedia org w index php title talk axm rifle diff   oldid    he keeps reverting my removal of it ',\n",
       " 'so i guess your explanation of wp csd t is still zero  once again you have failed to explain why a page weas deleted under wp csd t and then threatened the inquirer with a block  poor form  extremely poor form ',\n",
       " '  so that the proton itself reaches fusion distance',\n",
       " '    beauty pageants   just because you have no interest in beauty pageants or their contestants does not mean that they are not notable   and please do not go trying to delete stuff when you are ignorant about the topic you are dealing with   i happen to think there are tons of articles on here that do not meet wikipedia s standards and that do not have individual merit    particularly those about comics etc  but i am wise enough to know that i do not truly understand their significance and so i leave it alone   a much more prudent avenue would have been to bring your issues to the appropriate wikiproject  wikiproject beauty pageants and to address yoru concerns there in the first instance   one example  the continual use of the term   model   to describe them as has been used by yourself and one other editor  is both incorrect and somewhat demeaning     ',\n",
       " '    on mohammed al bayati s qualifications   with regards to the edits over the past day  i think that while mohammed al bayati s qualifications are tangentially relevant  the purpose of the text as they are placed right now is to   prove   that mohammed al bayati is not qualified to review the autopsy report  this i think violates npov  if the qualifications are to be included they should come under the   criticism and controversy   section  quoted by whoever it is that accused mohammed al bayati  of not being qualified to review the autopsy report is cited  if nobody made the accusations  then this is original synthesis  and should again be removed     ',\n",
       " '    no reason to split   there is absolutely no reason why alamo bowl broadcasters should be split from alamo bowl  that list is a stub that is only kb long  the main article is kb long  much of which is tables and lists  well within the limits of wp size  a single article is only kb long  which is permitted  so there is no reason why the article should be split  talk  ',\n",
       " 'please sign your comments   thanks ',\n",
       " '    alyssa flash    at the time of writing this  sarita s tna impact debut is coming up  and she will be wrestling one    alyssa flash    note i might be spelling alyssa wrong   i see her nowhere on the list        ',\n",
       " 'roma people in hungary      the appalling social and economic situation of the roma  who account for between  and  percent of hungary s  million people that means      ',\n",
       " 'fuck off you murdering scum   ',\n",
       " 'in addition  i am asking that you please stop accusing me of things i havent done  i do not what what sock puppeting is and i think your taking this matter personally and abusing your power ',\n",
       " 'after adding the rational i have to remove the tag ',\n",
       " 'wow  i guess your just one of those guys then god forbid  one love then ',\n",
       " 'it has been up before but here it is again  phil plait claimed in a radio program with joe rogan that all shuttle astronauts who has ever gone into space has been through the van allen belts  at  min  http   www youtube com watch v tvicqdsnic   if thats not misleading propaganda i dunno what is    his website should be removed as a source    ',\n",
       " '   lamia joreige hi lea  first off i would like to tell you that your contributions are invaluable  you are presenting often overlooked subjects  kudos for that  i see you have started the aforementioned article  i did not have it on my watchlist yet so i did not know there was a mistake  you must take notice of some rules on wp so check out wp notability so you know how to better protect the materials you add against meta deletionists  cheers     ',\n",
       " 'i did not receive any massage ',\n",
       " '    i take offense    i take great offense that some pompous  sanctimonious twit thinks that no one should be allowed to express appreciation for women like the gibson girl as the   fine featured   and   achingly beautiful   creatures that they are     i do not know what kind of totalitarian feminazi dystopian agenda you are trying to foist on people  but do not do it here   this encyclopedia is based on free speech and a free exchange of information  not bogus political correctness and schoolmarmish thought policing   i will take a gibson girl over you anyday  ',\n",
       " 'padua user tag   someone should design a padua college user tag much like the following one for the maroons in state of origin       july   utc ',\n",
       " 'ion g nemes talk        june ',\n",
       " 'you gay motherfucker i know where you live i am going to sand your face off then i am to going to beat you to a pulp you chicken shagger ',\n",
       " '  ok dennis brown thanks for telling me i was taking this a bit way too serious ill be careful for this time stupid bots ',\n",
       " '  that way i might even know which article you are talking about ',\n",
       " 'the are problems with the sfc t record  there are no credible sci challenges to it  this new section is absurdly us centered  it cannot possibly stand as it it  this is the  global  record we are talking about  you need some credible scientific papers  not pictures of stations  as far as i know  the sfcstations stuff has merely documented problems with some station sitings and maintenance  etc  there is not even the beginning of an attempt at quantifying what influence  plus or minus  this might have on the record  if you are interested  there are papers about the effects of switching from north wall screens to stevenson screens  thatched huts in africa  etc etc',\n",
       " '    could you please comment on talk thought identification   re  john norseen and lockheed martin  i am beside myself trying to update information that i believe to be very relevent   it looks to me like several users who   hang out   at   ani fringe   are working together to remove well sourced  valid  on topic material which shows the state of military research into thought identification   outside comments would be greatly appreciated   thanks     ',\n",
       " '    mediation   hello  i am atyndall and i have volunteered to take on your mediation case  during this discussion i will remain neutral with both sides of this argument and will endeavor to solve your dispute  after having a look at the discussion above  this is what i have found  quizzicalbee has been adding the sentence   according to chesler  the the u s  embassy repeatedly refused to help her leave the country as they no longer recognized her as a u s  citizen     hurmata has been reverting this back to   she reports that the u s  embassy repeatedly refused to help her leave the country  hurmata objects to quizzicalbee s sentence as he she thinks that the source is incorrect as the guards would have allowed chesler into the embassy and first hand accounts from chesler herself does not qualify as a reliable source  qb objects  saying that maybe in the s us citizenship could have been revoked by the us afgan government at that time and perhaps in the past the guards may have denied entry and that her claim should have been presumed true until proven false  hurmata countered that the citation threat qb was referring to is not the one that was cited  qb states that there is no evidence disproving her claims  so they are valid  could the involved users please place        below to verify that this statement is correct or suggest why it is not correct  thankyou   talk  ',\n",
       " 'well  arthur  i have printed the paper  and the condition is in fact what ultra power says it is  not your correction  it seems that the paper is not incorrect  but rather correct and pointless   you have already identified the worst problem  the third condition requires incontinuity of f at all integer values  however  this problem disappears if we consider only the special case a e  so let is do that   we want a function f satisfying f   e and f n   exp f n    defined as widely as possible  we observe that n  and n  present no problems  f    and f       to extend f to all positive real numbers  it is clearly sufficient to define f on an interval of length   such as       and we want f to be continuously differentiable   the paper only requires f to be continuously differentiable on      or equivalently on       this is obviously whacky  but we need not worry about this because a e    next  for no obvious  or explained  reason we require that f   is monotone on the interval      from the functional equation f x    ln f x   we get f   x    f   x   f x    hence f      f     f   f      so f   must be constant on        not too surprisingly  the function we get in this way is patched together from smaller pieces in a relatively unnatural way  f x    exp x  exp x  x      thus what i learned from the paper is that the correct solution to the problem probably has a minimum of its derivative between   and  ',\n",
       " '    the rangers fc   this should be the name of the newco rangers wikipedia page now as they are called the rangers fc everywhere  on the sfl  sfa  spl  bbc etc websites and in league tables and on tv  they must have registered to use   the rangers fc   to differentiate between themselves and   rangers fc   who still have spl membership  ',\n",
       " '    wikipedia categories for discussion log  april  wikipedia books   following the horribly chaos of april   i have resubmitted things for discussion    talk   contribs   physics   books   ',\n",
       " 'flexpay tax law   just a comment here   i would be interested in seeing an expansion of this artcile regarding to the tax surrounding flexpay accounts ',\n",
       " '  no problem at all   talk   ',\n",
       " 'if we do win  and get these evil people out of the government  and their private forces as well   then perhaps there will not be any nuclear blasts across the us and europe    btw  if mongo is really with hs  why is he on wikipedia ',\n",
       " 'i have just seen that',\n",
       " 'najib effendi al yasin   i suggest not to use paragraph indentation in the article najib effendi al yasin which have recently created to reach a more normal looking page  happy editting ',\n",
       " 'lol  you know what i meant  whichever president came before hafez  i just new he was president before assad  has considerable foreground of support  in which his supports would have freaked out because of the coup  they would have claimed instability would arise  as assad s supporters are trying to use in their defense    what i am trying to say is that although bashar assad had good economic and international policies for syria  you should not fear a non baathist potentially being elected   syria s economic and international policies will not change  iran would still be a major factor in syrian life considering the buisness deals stakes and cultural exchanges    the only this that would change are social freedoms  and for the better  also every country had a revolution and they are still alive today  the muslim brotherhood in syria is weak  even weaker than the islamist prescence in libya  the rebels in libya had    support  as we see now  and yet could hardly take control without nato  what chance does the syrian muslim brotherhood have  none  if anything  nonviolent protests weaken the resolve of the muslim brotherhood  making them less of an influence in the everyday life of syrians  as you know i am pro syria and armenia  just not pro assad  unlike armenia where people like sargsyan and kopcharyan were democratically elected  assad was not  no one ran against him because they were not allowed  ',\n",
       " '    cfr is a perfectly accurate source    the   council on foreign relations    cfr org  is a recognized  legitimate think tank that studies international terrorisim for the united staes govt  to claim they are   not credible   is idiotic  they are as legitimate as any online newspaper or other source  they have studied northern ireland  and compliled a list of uda uvf killed by the ira inla  and vice versa  these facts are good and will be included in the article  ',\n",
       " '    lead   what is there now is not a summary    summaries are supposed to be substantially shorter than the text they summarize  which the case at salvatore giunta is not  it simply copies whole sentances from the body text  as an editor  we have to assess the article as it currently stands  and not any hypothetical future stance  if the article grows  then the lead can be adjusted accordingly  in any case  the lead section i favored does indeed summarize the most important part  the moh  in any case  did you read wp lead  the lead of a biography is not necessarily supposed to summarize the life story of the subject  but assert thier claim to notability  the two sentances i favored more than do that without being overly repetitive        wordsdeeds  ',\n",
       " '   unblock i will make a renewed effort not to give personal attacks  but of course i do have some questions about this unwarranted blockage  as you might well imagine     why is it that ip editors tend to get the raw ends of the deal  that you   admins   tend to lean towards the side of someone who s editing with an account over someone who s editing without one  especially in the area of what you label as   personal attacks   or   harassment   when given by the ip editor but not so much when the named editor does the same thing     for exampleand this is    yep  maybe you guessed it    question   why is it supposedly   okay    according to you  for someone with a name    like  say    escape orbit    to dish out a personal attack  but not for me to give him one back because i am just a lowly ip editor  specifically  why is it supposedly   okay   for him to give me a personal attack by putting false stuff on my keyboard by making the ludicrous claim that my reason for wanting the old style of   ebay   logo to go next to the current one    ebay    in the lead  is   because i wanted it in there    even though that is a total lie  but it is supposedly   not okay   for me to call that kind of slander stupid     here s another one  why is it supposedly   okay   for him and   smiley girl   there to falsely accuse my edits of being   vandalism   just because they differed from what these guys preferred  but then when i say their reversions are vandalism  i get in trouble for it as if it were a   personal attack   just because i am an ip only editor     ready for one more  then why is it fine for any of you named editors to give one of us ip editors a warning template  but when i  as an iper do the same thing to a named editor like i did to partially smiley girl  i get dinged with   oh  you can not do that  cause that s a  personal attack     or   oh  that s bad because that s  harassment         oh yeah  here s one more  remember the rule about edit warring  just in general  meaning that it does not even have to be breaking rr  that says that     but i was right  so i was not edit warring  is no defense    well then does not that apply to meeting some so called   consensus   too  since some things are not cases of concrete correctness but are just based more on whether they match what that so called   consensus   wanted the thing to say   well then why is it that just because your named friend smiley there does some edit warring against me to put the thing back to what your exclusive  partial    consensus   wants it to say  and since my editing had already been established as not vandalism even though it disagrees  you ignore that above mentioned edit warring rule and give her him a pass anyway  but when i  an ip only editor who s against your exclusive   consensus    do the same thing  it is   edit warring   even though it was the same thing as what smiley s doing  remember the   being right matching consensus is no defense   rule            ',\n",
       " 'if serbia does recognise abkhazia and south ossetia  then i would not be at all surprised if georgia recognises kosovo in retaliation ',\n",
       " 'the most subtle questions they possibly could ',\n",
       " '    trying to measure the number of cafes   this is one of those places where i am so frustrated by wikipedia s ban on original research  the article has the absurdly low   at least six cafes on the ave or its alleys    i do not know where that number comes from  nor what they consider a   cafe    but it seems to me that well within any reasonable definition  the scene includes   solstice  cafe zoe  the original allegro  on an alley parallel to the ave   arguably  its second location in the college inn also counts  the ugly mug  half block off   the cafe at the corner of nd that used to be the roma  but i can not recall its new name  sureshot  the continental  caffe apassionato  wow bubble tea  shinka tea company  yunnie bubble tea  pochi tea  gingko tea house  tully s   starbucks  wannabee  one block off   still life on the ave  at the grand illusion   technically  the entrance is around the corner  but it is clearly effectively on the ave   this does not even count hangouts that are mainly bars or restaurants or takeout food joints  nor does it count things like u  bookstore and bulldog news  both of which have busy espresso operations  nor does it count ice cream stands  and i am sure i am missing something  this is all just offhand       talk  ',\n",
       " 'actually  undue weight can also results in zero weight   as it is the whole issue is insinuation and extrapolation of given events   just because the article does not outright say that edwards is the father because there was no father listed  it is quite clear that this is the intent   now  editors familiar with me consider me to be a fnc fanboy and appolgist regarding conservatives and republicans  so my objection to this is clearly not a partisan point of view   that said this is in violation of several wp policies ',\n",
       " 'i found it under chronological list of pc engine games  i thought the release dates on that page were for japan  since there is a seperate list of turbografx  games  the change you made is ok though  since i see ign has it listed that way ',\n",
       " '   i agree   fundamentally  whether you take it as a pill or through a patch or a ring  the key is that it is hormonal  so that should be the main article   at that point  oral contraceptive should either redirect to hormononal contraception  unles there is sufficient material to justify its existence    ',\n",
       " 'that was so desterbing because of when i had to do a project in school i had to explain it wasnt bill gates from  years ago',\n",
       " 'the source was a local guide book  how do we source that ',\n",
       " 'chill out  inty s my mate',\n",
       " 'a tale of a tub on the main page  hey  geogre  check it out  did you know that a tale of a tub will be featured on the main page on sunday      talk        nov   utc ',\n",
       " 'added c class  i would like to add b class but questions raised in talk page ',\n",
       " '  no problem  thanks for letting me know    talk   ',\n",
       " 'batman    i am batman  you are spiderman  i win ',\n",
       " 'geometry of love  good day  can you search some sources for article geometry of love   probably this article contain interesting fact for dyk ',\n",
       " 'exactly  i removed the section  again  before i noticed this posting  chen',\n",
       " '    please unblock and delete page   i request that you unblock my   talk page   and immediately and permanently delete the contents of it  you are free to permanently block me from contributing to wikipedia  as i have no intention of doing so in any case  if you would like a reason to block me  or prove that i have violated the rules  you need not preserve the talk page  here is another deliberate   intentionally provocative violation of the rules  an old school personal insult   you are a loathsome  sanctimonious  hypocritical  ignorant twit  if you were in state of uncontrolled combustion  i would not take the trouble to extinguish the flames by urinating on them   i hope that is satisfactory    ',\n",
       " 'that is true with the first edit  however the second one was an honest mistake ',\n",
       " 'that s been the problem facing this article as well   i would love to see this get to featured article status  but i keep running into the fact that there is not really a whole lot of good verifiable info out there that is easily available  nor is it easy to come by a picture that is usable  though i suspect the one or two known images of him would fall under fair use    there are a couple of  websites out there that basically regurgitate sections from mcgregor s book   there is a certain irony in the fact that a guy who labored in anonymous solitude most of his life on a project he loved dearly died destitute and is not making several other people rather wealthy   ',\n",
       " 'you are a funney man ',\n",
       " 'furthermore  any threats made to block individuals adding and or editing well researched information  would directly negate the sole intention of wikipedia itself ',\n",
       " 'wikipedia is full of fools  who takes money and makes people work for free   wikipedia    you might as well ban me  you fool  what is taking so long  wiki is a stupid place  it is jimbo s cult ',\n",
       " 'they seem to be reliable enough for this topic anyways   it is not like many major news sources are going to be covering the things that these sites cover     ',\n",
       " '   in response to your feedback  yoa can not do it by yourself  see wikipedia changing username        ',\n",
       " '   that is your opinion  and what is your proof that i am anti newsom  whether you support him or not he did have a gay porn day and violated state law by issuing   gay marriage   licenses  in contradiction to state law  these are facts  not slander or fiction    ',\n",
       " '  that admission begs the question   is it better to punish adolescent boys if they are going to engage in bullying behaviour here  or extend them welcome      talk   ',\n",
       " '    french speakers and paris     can anybody explain this    french speakers concentrate heavily on cultural life in paris    what does it mean      sep     utc  ',\n",
       " 'why are you changing the somali people wiki                        seriously          that page is biased to one clan  i added a more diverse representation of somali people   you stupid criminal ',\n",
       " 'davkal  i agree with you  but would suggest that you do not discuss it or gloat because you know he will likely come back and start harassing agagin  apparently just a few hours after he left someone bit his head off on his talk page about a comment he left in an article   ',\n",
       " '    thanks   thanks for the tip buddy   walkie talkie    ky highway page   i am currently cleaning up the page  please do not edit it  thanks   let is go mets   stats    your first barnstar       style   border  px solid gray  background color   fdffe     rowspan      valign   middle       rowspan         style   font size  x large  padding    vertical align  middle  height   em      the tireless contributor barnstar     style   vertical align  middle  border top  px solid gray      i hereby award bigrtex the tireless contributor barnstar due to his outstanding amount of high quality edits  hikaru  ',\n",
       " 'transistor    the transistor page does not have a principle of operation section  because   a the physicists know about it but do not want to share it b they just do not know how it works  i was thinking about it and came up with a fairly decent concept of how it works  i put it on wiki  i think the guys got jealous  and here i am  discussing pretty much nothing    ps  and my language is pathetic  you naughty naughty boy   i will eat you       ',\n",
       " 'i like to see it in print  since it is been listed for days now without an url ',\n",
       " ' the proposed deletion process  because of the following concern  wikipedia should not be used as a place for guides or a walk through   all contributions are appreciated  but this article may not satisfy wikipedia s criteria for inclusion  and the deletion notice should explain why  see also   what wikipedia is not   and wikipedia s deletion policy    you may prevent the proposed deletion by removing the  notice  but please explain why you disagree with the proposed deletion in your edit summary or on its talk page   please consider improving the article to address the issues raised because  even though removing the deletion notice will prevent deletion through the proposed deletion process  the article may still be deleted if it matches any of the speedy deletion criteria or it can be sent to articles for deletion  where it may be deleted if consensus to delete is reached     ',\n",
       " '  hmmm  there is a way to do this  i will see if i can remember what the code is  gabsadds  ',\n",
       " '   this article already exists see liger  pro  ',\n",
       " 'feather   there is no citation as to how a quill looked in the past  therefore  it is opinion only ',\n",
       " 'bakan   why is abbie bakan even mentioned in this article   based on the worthless rag of hers which is cited as a source in this article  she is nothing but a shill for lenin and the rest of the commie gang   in that rag  she not only shows egregious pro communist bias  but does not even bother to check the facts  much less look at the causes of the kronstadt rebellion or even cite reliable historical sources on that subject   she also discredits herself with absurd accusations of a white conspiracy to overthrow the soviet government and even of the rebellion being motivated by anti semitic racism among the sailors   furthermore  all the claims made in that rag are based on a case of begging the question  that is  since lenin s communist regime was good  major premise  and the kronstadt rebellion harmed said regime  minor premise   suppressing the rebellion was justified   last but not least  the mere fact that the aforementioned rag was first published by a self admitted socialist party by definition means that this source does not meet either wp npov or wp rs   if such sources continue to be used in wikipedia articles  the whole project will soon turn into commiepedia     ',\n",
       " 'messages on talk pages during an afd  placing messages on users talk pages such as  and  in the hope of gaining support is an unacceptable practice which  agin  hinders the afd process ',\n",
       " 'trivia  i would advise you to look the word up in a good dictionary  jay  mr townsley s marriage into an important business dynasty is obviously noteworthy  which is why it is noted  prominently in the article linked to  cheers ',\n",
       " 'might i remind you that this is the english language wikipedia  and you have no greater precedence here than i do  perhaps you should think of going to edit the ja wikipedia  and taking your aggressive attitude with you  especially since your only problem is with the example names  which are easily fixed   you are clearly incapable of appreciating the improvements i made in english  so perhaps you are not the best person to judge     ',\n",
       " '   speedy deletion of david fork  a tag has been placed on david fork requesting that it be speedily deleted from wikipedia  this has been done under section a of the criteria for speedy deletion  because it is a very short article providing little or no context to the reader  please see wikipedia stub for our minimum information standards for short articles  also please note that articles must be on notable subjects and should provide references to reliable sources that verify their content    if you think that this notice was placed here in error  you may contest the deletion by adding  to the top of the page  just below the existing speedy deletion or   db   tag   coupled with adding a note on the talk page explaining your position  but be aware that once tagged for speedy deletion  if the article meets the criterion it may be deleted without delay  please do not remove the speedy deletion tag yourself  but do not hesitate to add information to the article that would would render it more in conformance with wikipedia s policies and guidelines    what do u want     ',\n",
       " '  your suggestion of editing the article is completely workable and was working as per wikipedia guidelines until jayjg and slimvirgin started deleting large relevant chunks of the article  and reverting it to what we have now  as punitive gestures   if we can all agree to concentrate on making the article better  instead of punishing each other  there is no reason the article has to be locked  i agree that we should start with an extremely innocuous definition preamble statement we can all agree on   however  a definition does not do anyone any good unless it conveys some sort of information   if there were just one word that we could all agree is associated with terrorism  that would be better than no definition at all    intimidate   for instance     ',\n",
       " 'speaking without knowing what i am talking about  ok  how  bout this  the original comment i made about everlast s entry constantly being vandalized by eminem fans was written a month ago before your dumb ass got involved with the site  the feud started with the dilated peoples track  that s why i believed that the verse everlast contributed should be in there  and still do   the jabs taken back and forth after that deserve a synopsis only  your idiotic little comment about album sales was excessive and unnecessary  it belongs in there no more than the fact that everyone who knows both artists agrees that if they ever got into it  everlast would knock the living shit outta eminem  and that came off an eminem fan site ',\n",
       " 'our talk archives        ',\n",
       " '   speedy deletion of spunga  a tag has been placed on spunga  requesting that it be speedily deleted from wikipedia  this has been done under section g of the criteria for speedy deletion  because the article appears to be a repost of material that was previously deleted following a deletion debate  such as at articles for deletion  under the specified criteria  where an article has substantially identical content to that of an article deleted after debate  and any changes in the content do not address the reasons for which the material was previously deleted  it may be deleted at any time    if you think that this notice was placed here in error  you may contest the deletion by adding  to the top of the page  just below the existing speedy deletion or   db   tag   coupled with adding a note on the article s talk page explaining your position  but be aware that once tagged for speedy deletion  if the article meets the criterion it may be deleted without delay  please do not remove the speedy deletion tag yourself  but do not hesitate to add information to the article that would would render it more in conformance with wikipedia s policies and guidelines    talk    ',\n",
       " 'plus  you have to be a natural born citizen    which i am going to assume  is not  but who cares anyway ',\n",
       " 'unblocked for the last time ok  now do not fuck up  i mean that in the best possible way   good luck and good night ',\n",
       " '  i understand your position and think that your point is perfectly valid  however  i do not deem   iai chiinu   a creation of wikipedia  even with the lack of historical sources for that effect in the english language  i will think more about this tomorrow  thank you for explaining your position to me with such accurate detail  best regards  nd  ',\n",
       " 'you studid cock sucker u stop callin me ok its a frank garrett eatin the worms crawl outa your moms pussy you fucking retardo hit i retardo',\n",
       " 'thanks   user talk biggity    are there any constructive edits  indef block  perhaps  mahalo ',\n",
       " ' for anyone interested in accurate  not deliberately misleading  information about the   ten string guitar    i e  not the garbage that will no doubt soon be presented here   see www myspace com tenstringguitar      tthough my temporary site has now been hidden removed from google search listings by some shady dealings  the truth will prevail     ',\n",
       " '  you said    i am determined that the page will not regress to this again  and i will delete anything inappropriate that jeopardizes the good progess that is now being made  a completely inappropriate post in the middle of a sensitive discussion threatens to do just that     the problem is that you are not the sole arbiter of this  or any  talk page  the post was innocuous and did not violate the conditions of the arbitration decision  nor did it affect the flow of discussion on the page  in fact the most appropriate response would have been to just ignore it   by removing it you just encourage a reaction   you accuse me of wikilawyering  which is absurd  the guidelines are there to help us all  however  not only do you violate that guideline  but also several policies   it is this kind of heavy handed action that encourages people to persist with problem edits  it is a long standing convention that we do not remove other users posts and in my three years here i have never seen it done when it was not vandalism   unless you can give me a much better reason for not doing so  i am going to reinstate the deleted text            ',\n",
       " 'the glourious people s republic of china has carried out a survey of the great wall  it is no surprise that chinese inventions such as the wall exist to this day  one day our great wall will stretch all the way around the world  anyway  let is add details of our dear government s survey ',\n",
       " 'fisherqueen  would you kindly stop following my every move and deleting things off my user page  havent you got anything better to do than piss people off on wikipedia ',\n",
       " '   so jim burton  child molesting faggot  i see you are still with us for yet another day  making a total buffoon out of yourself as usual   i do not know what is sadder here   you  or the extreme hypocritical arrogance you show by lecturing the world about   ethical principles   for your claimed   rights   to abuse our children   you have no ethical principles to save your life  but it is exactly as the roman poet said  is not it    the harlot doth always rebuke the chaste     will you ever drop dead  we might all breathe a little easier for our kids sake  you truly disgust me with every word you write    ',\n",
       " '  having read will beback  i already changed the structure  separate   someone s   view over him into separate section  i suggest  further restructuring welcome  and details per section later    ',\n",
       " 'nevermind  the  has assimilated those puppies    sorry for the bother  cheese wine',\n",
       " 'i fixed the link  it took all of about  seconds  now leave it or i will report you to the administrators ',\n",
       " 'as i have told  they were not deliberate personal attacks  in my belief  my messages have been interpreted wrongly although i asumed good faith in posting them  as i have mentioned that',\n",
       " '    please do not remove content from pages without explanation  as you did with this edit to vole  if you continue to do so  you will be blocked from editing    royal court  ',\n",
       " 'deleted american criminal category   it is incredible to me that the facts of this article might lead some misguided soul to think this is what the american criminal category is for   there is a lively discussion at the category s talk page about what should be in the category  but even the most expansive reading of the category does not countenance this ',\n",
       " 'millinos of hunjan looking at hunjan template not just me other hunjan will fight back  your concept of art bull of shit         tharkarn and what waste man ',\n",
       " ' just to add kansas bear when i said     you made the elementry mistake of calling it a treaty when it was in fact a congrass    is because as you left out as usual my post in which you regarded the three deligations as having been pressent at the treaty o arass with papal meditiation the treaty of arass was a private treaty only between the deligations of burgundy and france and made a military alliance in  again we are debatting on the burgundian recognition stop changing the subject you clearly are giving fallactious statements and i feel your posts are utterly questionable if you happend to remeber a month ago we both agreed the congrass and treaty of arass were different i corrected your statement when you regarded the three deligations as bieng pressent at the treaty of arass p s stop with your childish personal attacks i aqsked you to give sources regarding that burgundy didnt recognize henry as king of france but you give refs regarding the treaty of arass and mixing up the posts if you cant handle the fact that burgundy recognised henry as king of france then i have already reverted you on the dual monarchy article you should be ashamed of your fallactious remarks nd utterly questionable unsourced facts     ',\n",
       " '     er          using two usernames to vote more than once in a poll   i have no idea what you are talking about  i have not used an usernames and i have never voted in any poll      i can not be a vandal as i have not vandalised anything  i may have added content which you  or someone else  did not agree  this is not vandalism  the correct reponse is discussion and debate to achieve a conscensus     again i am not a sockpuppet or a puppetmaster  i have been fully open that i am the same person  by wikipedia s defintion i am not a sockpuppet or puppermaster  you may wnat to use a different defintion but that is just your opinion and mudslinging    hardly appropriate for an administrator   ',\n",
       " 'raffaele s request for a lawyer while being interrogated on nov   was refused  as was his request that he be allowed to call his father  page   amanda was denied food  water  bathroom breaks and naps during the all night interrogation on nov      page   wikid  actually  now looking at murder in italy  i see that there is a ton of additional information about both amanda and raffaele s interrogations that could be included  so i will work on listing all that in more detail tomorrow ',\n",
       " 'yes  i like the suggestion also  it looks pretty good  and by leading into the next sentence about the bering strait crossing  it conforms to the rest of the article since later on we get more details on the prehistoric migrators  i will just edit yee s suggestion in ',\n",
       " 'seriously  alex  your article is on the edge of being deleted  there is no one at the deletion discussion arguing for its being kept  if you want any hope of keeping this article online  instead of spending your time editing the talk page  click on this link to go to the deletion discussion and make your arguments ',\n",
       " '  fu ck ing trollreasons',\n",
       " 'some day  you and i are going to remember this and laugh    ha ha ha ha ha     never forget  i have incredible power  i am more powerful than you can possibly imagine   let me just close    this conversation by bidding you a fond farewell  ',\n",
       " 'you have probably noticed the table factions approach  if you could keep an eye out for more game central information on in game factions and then update the table  that would be great  i am basing it off of a similar table in the a class age of empires iii  which shows the sort of information to go for without falling into the gameguide trap ',\n",
       " '    sr cl    u bud bin a way  like long time like time outa mind long   gooood shit but mo  latah an dat   soon az ah gitz back heah sum a de brotherz  n sistahs  sez   hance dead or alive   we are about to send a zion ranger to check on his condition     ah sez   whoa  led me gib him a holler     dis me hollerin bro   de zion rangerz be dem dat do most a  de walkin tru wallz   not all but most  de wall walkin dude ain gonna do r bro no harm  he jes be checkin    ee ben so a gentle remindah kum fuhst   u be readin id  a leedle postin a dis  n dat go down good   doan fohget to cut sum zzzz aftah a tad a postin   sleep good  n doan fergit ta dream  sumptin might kum jes ta bdh all wrapt roun wid delta wave  n a kupla otha  carrierz what we diz cuss latah  chow  bro  ',\n",
       " 'you did not call me neither  maybe we missed the once in a lifetime chance to see us    talk ',\n",
       " '   as you did  to the henry david thoreau page     it is considered vandalism  if you would like to experiment  use the sandbox  thank you ',\n",
       " ' rather crude ancestor of the vaccine    the source is a biography of louis xvi   louis xvi le roi bienfaisant    jean de viguerie  on the various  and often contradictory  influences of the french government prior to the revolution   where a section is devoted to the innoculation of the royal family  and makes note of how the intendant of franche comte had financed physicians to do it through his province  and how it was later used by washington on his continental army     the truth he actually died on december   it even says so in a book that i have      facts about george washington    george washington owned over   acres of land    washington lived in new york and phildelphia during his preidency the preceding unsigned comment was added by          ga in zh wikipedia   please add   link ga zh   in interwiki section  thanks     ',\n",
       " '   the objectionable textbook material    the ads refer to a controversy in wheaton schools in the early s surrounding a series of textbooks called   impressions       they also contained some writings that some parents believed featured themes of the occult  witchcraft  violence and disrespect for parental authority    here is a discussion of one of the offending pieces   a yarn called   a wart snake in a fig tree   which is a kind of a pardody of  nothe twelve days of christmas  but with creepy crawlies and spiders and snakes and stuff  a wart snake in a fig tree i wonder what roskam s stance on harry potter and holloween is      ',\n",
       " '   no  i did not mean point me at a biographical article  though that would be good too    i mean answer right here on the discussion page   what town were you born in   which schools did you go to   also  regarding   over the top    i disagree  i think the article could do with quite a bit more expansion  as could the articles of the other individuals you mentioned   as for   greatest living magicians    i have to admit i would never heard those names   how are you judging that  say  max maven is better than a david copperfield   is it by awards  industry press  or just personal opinion of their technique     ',\n",
       " '  okay  but only if they are truly not needed  same sort of criticism praise  no quotes  etc  thank you     talk  ',\n",
       " '  haha  you are fine  i mean  you are allowed to do it  but i am just selfish  i guess     i really appreciate your kindness  though  and i really respect that you asked  because when other signatures that were borrowed  no one let me know or gave me any credit  so i feel badly that since you asked  you would feel really badly about doing it now  haha  but i can help you figure out a nice one or pick out some fun colors  have a great day  and happy wikying    ',\n",
       " 'leave me alone    i told you already to leave me alone why can not you fuck off and do your own fucking thing  or do you find that hounding me is amusing  id u do then you are a mothafuckin asshole and i will ban you ',\n",
       " '    bloc voting   countries with large populations of non nationals may have their televote influenced considerably  this has been cited as the reason for apparent bloc voting in the balkan countries of the former yugoslavia      this is full blown crazy  what does   non nationals   mean  these countries have similar cultures and speak the same languages  the stars in croatia are popular in serbia and vice versa  people are nationals of their countries in the largest proportion in each of those countries  there are some refugees in each of those countries  but that does not really explain why croatia would always give the highest no   of pts to serbia  or macedonia to serbia  where there was no conflict to speak of   for example  i am a bosnian serb and me voting for a croatian or a serbian song is not unusual  but i am not a bosnian non national  i have the passport of bih  and my family has never lived in serbia in history  it is really about mutual intelligibility  which is why scandinavian bloc votes for each other all the time  it is the language and sensibility  ',\n",
       " '   peta is not a self published source    please explain how the peta website is not   self published        ',\n",
       " '    please do not vandalize pages  as you did with this edit to morrissey  if you continue to do so  you will be blocked from editing    impala   ',\n",
       " '    august   utc   there is no wp rs to affirm the veracity of di s doubtful claim either   that is  you have no wp rs either way   therefore it is not a verifiable fact that picard  or any of the other  original signers  consented to or agreed with the di s published interpretation or political position vis a vis pbs or any other subsequent political purpose regarding what should or should not be taught in school   all you have on verifiable record is that the  original signers called for skeptical examination of the evidence for scientific theories   di s unverifiable claim which fraudulently spins that into consensual agreement or support for their interpretation or political agenda is not a fact under the rules of wikipedia     all the rest of di s propaganda is utter hogwash fraudulently perpetrated by the di without the verifiably demonstrated consent of the original  individuals   in view of the wp blp   do no harm   clause  the unverified claim of the di must not be promoted to fact and any content to that effect must be immediately expunged  per the wp blp      ',\n",
       " 'email   thanks for your email about the message you received from guyovski  i received a similar  though not openly threatening  email from guyovski as well ',\n",
       " 'it is a fabrication with intent to defame  that is not the point here  it belongs in the dan savage article ',\n",
       " 'perhaps overlooked in the discussion of steve moores credentials is another aspect of the newsweek article  by saying that knoxs supporters have hurt her by expressing their opinions  nadeau has effectively stated that the decisions of the italian court will be  or have been  influenced by anger and anti american sentiment rather than the evidence alone  i dont know if nadeaus experience in italy qualifies her to make such an assessment  but taking her as a rs to make that statement would be as great an insult to italian jurisprudence as anything knoxs supporters have said  i wholly concur with pablos opinion that the piece has no place in the article ',\n",
       " '    other attractions   what is a   water place   and   animal place       ',\n",
       " '  i fear jossi may be correct  if watts  who  btw  died in   said this about rawat  he probably meant it as praise  i e  the emphasis would have been on   sacred    judging from my knowledge of watts  oeuvre  he was rather anti intellectual himself    ',\n",
       " 'ooooh  well can you fix it  because it looks a mess right now and i do not think it was certified in switzerland yet  so new zealand and australia should just be there ',\n",
       " 'omg i love dch    who does not       i love pac sun   ',\n",
       " 'i have removed it  it contributes nothing to the article ',\n",
       " '  hi  writingrights  welcome to wikipedia    i hope you like this place  i sure do  and want to stay  before getting too in depth  you may want to read about the five pillars of wikipedia and simplified ruleset  if you need help on how to title new articles check out the naming conventions  and for help on formatting the pages visit the manual of style  if you need help look at wikipedia help and the faq   plus if you can not find your answer there  check the village pump  for wikipedia related questions  or the reference desk  for general questions   there is still more help at the tutorial and policy library  plus  do not forget to visit the community portal  and if you have any more questions after that  feel free to post them on my user talk page or place   helpme   on your talk page and someone will be by to help you shortly   tab  additional tips  tabtab  here s some extra tips to help you get around in the  pedia   if you want to play around with your new wiki skills the sandbox is for you tab  you can sign your name using three tildes      if you use four  you can add a datestamp too  five will get you the datestamp only  you may want to add yourself to the new user log tab  if you ever think a page or image should be deleted  please list it at the votes for deletion page  there is also a votes for undeletion page if you want to retrieve something that you think should not have been deleted  if you are still entirely confused  or would like to get a better grasp of your wikipedia skills  and you have an irc client  or do not mind getting one   check out the bootcamp  it is not what it sounds like  but it is fun and can help you with your editing skills  if you are bored and want to find something to do  try the random page button in the sidebar  or check out the open task message in the community portal   happy wiki ing   talk contribs   click here to respond to this message  ',\n",
       " 'it is common knowledge that karaims  but not karaite jews  boast descent from khazars  but what they do not realize is that we believe the    on oq  whence came  mixing with carian mercenaries from caphtor and kolhkis  our khazar ancestors were in fact the remnant of the lost ten tribes of israel who formed our priesthood  it is precisely for this reason that karaite jewish scholars like jacob ben reuben of byzanteum and yefet ben ali or jeshua ben judah call us bastards in their writings    the following editor  ',\n",
       " '   april   utc  then rewrite and expand the article  i would much rather have a full article  than a bad article with a full template  as for william s edits  i am not going to vote on a content matter at this time  i have never looked at this article before you sent me the link  so i am not equipped to choose one version over another  my vote is purely on the layout aesthetics of including the template  maybe later when i have spent more time with an unfamiliar article  i can make a statement about the content    ',\n",
       " ' i was trying to inject some humour  as evidenced by my winky face  in this ridiculous  overblown  and unnecessarily dramatic situation  if you took the time to familiarize yourself with the situation  you would see that the person i insulted was attacking my cited and factual contributions by actively censoring them no explanation  which i retaliated with by insulting him  i thought that his conduct was insult worthy at the time  as would any sane individual who was not familiar with wikipedia s   no insult   rule  however i have since realized that what i did was wrong because this site does not allow for harsh words  which is why i will not use them again even if they are used against me  which they were during this ordeal   wikipedia is the place for me because my edit was constructive and brought a greater knowledge to the subject s topic  but  the fact that i insulted another user in the edit summary is regrettable  and i know that now   if you seriously think the edit linked above constitutes a   better   insult   ',\n",
       " 'this title should redirect to altona  hamburg  i w would change it but at the moment there are too many links for me to bother ',\n",
       " ...]"
      ]
     },
     "execution_count": 127,
     "metadata": {},
     "output_type": "execute_result"
    }
   ],
   "source": [
    "sentence"
   ]
  },
  {
   "cell_type": "markdown",
   "id": "e9067b9f-8f4e-46ae-af3f-c757b8a2c8dc",
   "metadata": {
    "jp-MarkdownHeadingCollapsed": true,
    "tags": []
   },
   "source": [
    "#### • Lemmatization"
   ]
  },
  {
   "cell_type": "markdown",
   "id": "35fb678c-3a57-4b8a-85ee-75be52d38639",
   "metadata": {},
   "source": [
    "<p style=\"font-size:18px;\"> Further, the sentences are lemmatised to analyse inflected forms of words as a single item. Here we are explicitly specifying the pos tag for each verb because the default pos tag for WordNet Lemmatizer is NOUN and it would not work properly for some VERBS\n",
    "</p>"
   ]
  },
  {
   "cell_type": "code",
   "execution_count": 128,
   "id": "59903683-fdd5-4b53-8a51-131da26e644c",
   "metadata": {},
   "outputs": [],
   "source": [
    "def lemmatize_text(preprocessed_text):\n",
    "    def get_wordnet_pos(word):\n",
    "        \"\"\"Map POS tag to first character lemmatize() accepts\"\"\"\n",
    "        tag = nltk.pos_tag([word])[0][1][0].upper()\n",
    "        # print(tag)\n",
    "        tag_dict = {\"J\": wordnet.ADJ,\n",
    "                    \"N\": wordnet.NOUN,\n",
    "                    \"V\": wordnet.VERB,\n",
    "                    \"R\": wordnet.ADV}\n",
    "        return tag_dict.get(tag, wordnet.NOUN)\n",
    "    # 1. Init Lemmatizer\n",
    "    lemmatizer = WordNetLemmatizer()\n",
    "   # 2. Lemmatize a Sentence with the appropriate POS tag\n",
    "    lemmatized_text=[lemmatizer.lemmatize(w, get_wordnet_pos(w)) for w in nltk.word_tokenize(preprocessed_text)]\n",
    "    # The final processed set of words for each iteration will be stored in 'text_final'\n",
    "    text_final=(\" \".join( lemmatized_text ))\n",
    "    return text_final"
   ]
  },
  {
   "cell_type": "code",
   "execution_count": 133,
   "id": "510001c9-e32a-4641-a856-0d84b9b82330",
   "metadata": {},
   "outputs": [
    {
     "name": "stderr",
     "output_type": "stream",
     "text": [
      "100%|██████████████████████████████████| 159571/159571 [14:28<00:00, 183.66it/s]\n"
     ]
    }
   ],
   "source": [
    "ans=[]\n",
    "for x in tqdm(sentences,total=len(sentences)):\n",
    "    ans.append(lemmatize_text(x))"
   ]
  },
  {
   "cell_type": "code",
   "execution_count": 134,
   "id": "ccd5da7d-c053-4a63-9b31-7a928067d5b5",
   "metadata": {},
   "outputs": [],
   "source": [
    "sentences=ans.copy()"
   ]
  },
  {
   "cell_type": "code",
   "execution_count": 135,
   "id": "18ebf432-a36d-4607-a658-85d3c12231af",
   "metadata": {
    "scrolled": true,
    "tags": []
   },
   "outputs": [
    {
     "data": {
      "text/plain": [
       "['explanation why the edits make under my username hardcore metallica fan be revert they be not vandalism just closure on some gas after i vote at new york doll fac and please do not remove the template from the talk page since i be retire now',\n",
       " 'd aww he match this background colour i be seemingly stuck with thanks talk january utc',\n",
       " 'hey man i be really not try to edit war it be just that this guy be constantly remove relevant information and talk to me through edits instead of my talk page he seem to care more about the format than the actual info',\n",
       " 'more i can not make any real suggestion on improvement i wonder if the section statistic should be later on or a subsection of type of accident i think the reference may need tidy so that they be all in the exact same format ie date format etc i can do that later on if no one else do first if you have any preference for format style on reference or want to do it yourself please let me know there appear to be a backlog on article for review so i guess there may be a delay until a reviewer turn up it be list in the relevant form eg wikipedia good article nomination transport',\n",
       " 'you sir be my hero any chance you remember what page that s on',\n",
       " 'congratulation from me a well use the tool well · talk',\n",
       " 'cocksucker before you piss around on my work',\n",
       " 'your vandalism to the matt shirvington article have be revert please do not do it again or you will be ban',\n",
       " 'sorry if the word nonsense be offensive to you anyway i be not intend to write anything in the article wow they would jump on me for vandalism i be merely request that it be more encyclopedic so one can use it for school a a reference i have be to the selective breeding page but it be almost a stub it point to animal breeding which be a short messy article that give you no info there must be someone around with expertise in eugenics',\n",
       " 'alignment on this subject and which be contrary to those of dulithgow',\n",
       " 'fair use rationale for image wonju jpg thanks for upload image wonju jpg i notice the image page specifies that the image be be use under fair use but there be no explanation or rationale a to why it use in wikipedia article constitutes fair use in addition to the boilerplate fair use template you must also write out on the image description page a specific explanation or rationale for why use this image in each article be consistent with fair use please go to the image description page and edit it to include a fair use rationale if you have uploaded other fair use medium consider check that you have specify the fair use rationale on those page too you can find a list of image page you have edit by click on the my contribution link it be locate at the very top of any wikipedia page when you be log in and then select image from the dropdown box note that any fair use image uploaded after may and lack such an explanation will be delete one week after they have be uploaded a described on criterion for speedy deletion if you have any question please ask them at the medium copyright question page thank you talk • contribs • unspecified source for image wonju jpg thanks for upload image wonju jpg i notice that the file s description page currently do not specify who create the content so the copyright status be unclear if you do not create this file yourself then you will need to specify the owner of the copyright if you obtain it from a website then a link to the website from which it be take together with a restatement of that website s term of use of it content be usually sufficient information however if the copyright holder be different from the website s publisher then their copyright should also be acknowledge a well a add the source please add a proper copyright licensing tag if the file do not have one already if you create take the picture audio or video then the tag can be use to release it under the gfdl if you believe the medium meet the criterion at wikipedia fair use use a tag such a or one of the other tag list at wikipedia image copyright tag fair use see wikipedia image copyright tag for the full list of copyright tag that you can use if you have uploaded other file consider check that you have specify their source and tag them too you can find a list of file you have uploaded by follow this link unsourced and untagged image may be delete one week after they have be tag a described on criterion for speedy deletion if the image be copyright under a non free license per wikipedia fair use then the image will be delete hour after if you have any question please ask them at the medium copyright question page thank you talk • contribs •',\n",
       " 'bbq be a man and let discus it maybe over the phone',\n",
       " 'hey what be it talk what be it an exclusive group of some wp taliban who be good at destroy self appoint purist who gang up any one who asks them question abt their anti social and destructive non contribution at wp ask sityush to clean up his behavior than issue me nonsensical warning',\n",
       " 'before you start throw accusation and warning at me let review the edit itself make ad hominem attack be not go to strengthen your argument it will merely make it look like you be abuse your power a an admin now the edit itself be relevant this be probably the single most talk about event int he news a of late his absence be notable since he be the only living ex president who do not attend that s certainly more notable than his dedicate an aircracft carrier i intend to revert this edit in hope of attract the attention of an admin that be willing to look at the issue itself and not throw accusation around quite so liberally perhaps if you achieve a level of civility where you can do this we can have a rational discussion on the topic and resolve the matter peacefully',\n",
       " 'oh and the girl above start her argument with me she stuck her nose where it do not belong i believe the argument be between me and yvesnimmo but like i say the situation be settle and i apologize thanks',\n",
       " 'juelz santanas age in juelz santana be year old then come february th which make juelz turn make song with the diplomat the third neff to be sign to cam s label under roc a fella in he be year old come out with his own single santana s town and down so yes he be born in he really be how could he be old then lloyd bank and how could he be when his birthday pass the homie neff be year old juelz death god forbid if your think about that equal go to your caculator and stop change his year of birth my god',\n",
       " 'bye do not look come or think of comming back tosser',\n",
       " 'redirect talk voydan pop georgiev chernodrinski',\n",
       " 'the mitsurugi point make no sense why not argue to include hindi on ryo sakazaki s page to include more information',\n",
       " 'do not mean to bother you i see that you be write something regard remove anything post here and if you do oh well but if not and you can acctually discus this with me then even well i would like to ask you to take a closer look at the premature wrestling death catagory and the men list in it surely these men belong together in some catagory be there anything that you think we can do with the catagory besides delting it',\n",
       " 'regard your recent edits once again please read wp filmplot before edit any more film article your edits be simply not good with entirely too many unnecessary detail and very bad write please stop before you do far damage nothe',\n",
       " 'good to know about me yeah i be study now deepu',\n",
       " 'snowflake be not always symmetrical under geometry it be state that a snowflake always have six symmetric arm this assertion be simply not true accord to kenneth libbrecht the rather unattractive irregular crystal be by far the most common variety http www it caltech edu atomic snowcrystals myth myth htm perfection someone really need to take a look at his site and get fact off of it because i still see a decent number of falsity on this page forgive me im new at this and dont want to edit anything',\n",
       " 'the signpost september read this signpost in full single page unsubscribe',\n",
       " 're consider st paragraph edit i do not understand the reason for s recent edit of this article not that i be sure that the data be necessarily wrong rather i be persuade that the strategy of introduce academic honor in the first paragraph be an unhelpful approach to this specific subject i note that article about other sit justice have be similarly enhance and i also believe those change be no improvement in support of my view that this edit should be revert i would invite anyone to re visit article write about the follow pair of jurist a benjamin cardozo a learn hand b john marshall harlan b john marshall harlan ii the question becomes would the current version of the wikipedia article about any one of them or either pair be improve by academic credential in the introductory paragraph i think not perhaps it help to repeat a wry argument kathleen sullivan of stanford law make when she suggests that some on the harvard law faculty wonder how antonin scalia avoid learn what others have manage to grasp about the process of judging i would hope this anecdote gently illustrates the point less humorous but an even strong argument be the one clarence thomas make when he mention want to return his law degree to yale at a minimum i be question this edit it deserves to be reconsider',\n",
       " 'radial symmetry several now extinct lineage include in the echinodermata be bilateral such a homostelea or even asymmetrical such a cothurnocystis stylophora',\n",
       " 'there be no need to apologize a wikipedia article be make for reconcile knowledge about a subject from different source and you have do history study and not archaeology study i guess i could scan the page e mail it to you and then you could ask someone to translate the page',\n",
       " 'yes because the mother of the child in the case against michael jackson be study in here motif and reasoning and judged upon her character just a harshly a wacko jacko himself do not tell me to ignore it and incriminate myself i be go to continue refute the bullshit that jayjg keep throw at me jun utc',\n",
       " 'ok but it will take a bit of work but i can not quite picture it do you have an example i can base it on the duck',\n",
       " 'a barnstar for you the real life barnstar let u be the star',\n",
       " 'how could i post before the block expires the funny thing be you think i be be uncivil',\n",
       " 'not sure about a head of fight for freedom what will it contain',\n",
       " 'praise look at this article about month ago much improve',\n",
       " 'i be able to post the above list so quickly because i already have it in a text file in my hard drive i have be meaning to get around to update the sound list for some time now a far a generate interest i have spent four year try to drum up more interest in freely license full length classical music unfortunately my attempt fail i be still effectively the only one who do it the classical music wikiproject be not interested wikipedia talk wikiproject classical music archive need help wikipedia talk wikiproject music archive i could use some helpwikipedia talk wikiproject music archive raulbot c and the music list so i really have give up try to interest others the sound list be feature on digg a while back http digg com music wikipedia have free classical music downloads it get diggs which be imo very impressive',\n",
       " 'well not before the process but before how we do thing with subpages his rfa be list on noseptember s page and you can find it if you look september i think i have my difference with el c to be sure but be surprised to see a block so i left a note t c',\n",
       " 'not at all you be make a straw man argument here i never claimed o wouldonohue have that position rather that practitioner and researcher in the field ignore the dsm position which be exactly what the quote say and also something o wouldonohue agrees with again i be combat the notion that it be a absurd part to claim that pedophilia be a sexual orientation since many researcher hold this position it would be unfair to call it absurd the disorder part be divide in the field some argue that it be not a disorder at all some do at the end of the day it be a value judgment a cantor point out earlier in the thread not a scientific judgement if we choose to make this value judgment in the article it should be state clearly and not pretend to have a scientific basis',\n",
       " 'mainland asia include the low basin of china s yangtze river a well a korea but be specific be fine too i just found a citation for a more comprehensive dna study by hammer below rather than our generarizations and speculation so far citation for yayoi culture be brought to japan by migrant from korea who in turn trace their root to southeast asia south china dna study by hammer describes the yayoi migration from korea base on the o sry gene and other gene with close lineage haplogroups o m and o m reiterates that the entire o haplogroup have be propose to have a southeast asian origin their definition of southeast asia include southern china then hypothesizes that the dispersal of neolithic farmer from southeast asia also brought haplogroup o lineage to korea and eventually to japan in the conclude paragraph it state we propose that the yayoi y chromosome descend from prehistoric farmer that have their origin in southeastern asia perhaps go back to the origin of agriculture in this region hammer s dna study be base on a global sample consist of male from asian population include six population sample from across the japanese archipelago',\n",
       " 'pretty much everyone from warren county surround region be born at glen fall hospital myself include however i be not sure this qualifies anyone a be a glen fall native rachel ray be i believe actually from the town of lake luzerne —the precede unsigned comment be add by august utc',\n",
       " 'hi explicit can you block o fenian for edit war on the giant s causeway wp he have make several edits which can only be described a terrorism',\n",
       " 'notability of rurika kasuga a tag have be place on rurika kasuga request that it be speedily delete from wikipedia this have be do because the article seem to be about a person group of people band club company or web content but it do not indicate how or why the subject be notable that be why an article about that subject should be include in wikipedia under the criterion for speedy deletion article that do not assert notability may be delete at any time please see the guideline for what be generally accepted a notable and if you can indicate why the subject of this article be notable you may contest the tag to do this add on the top of the page below the exist db tag and leave a note on the article s talk page explain your position please do not remove the speedy deletion tag yourself but do not hesitate to add information to the article that would confirm it subject s notability under the guideline for guideline on specific type of article you may want to check out our criterion for biography for web site for band or for company feel free to leave a note on my talk page if you have any question about this',\n",
       " 'sure but the lead must briefly summarize armenia s history i simply add what i found necessary if anyone think this or that sentence be redundant for the lead they be welcome to remove make edits talk',\n",
       " 'tfd i think we just eced i think we respond to each other without see each others response i add something in response to yours but do not know if you saw mine t c wp chicago wp four',\n",
       " 'you be gay or antisemmitian archangel white tiger meow greetingshhh uh there be two way why you do erase my comment about ww that holocaust be brutally slay of jew and not gay gypsy slav anyone if you be anti semitian than shave your head bald and go to the skinhead meeting if you doubt word of the bible that homosexuality be a deadly sin make a pentagram tatoo on your forehead go to the satanistic mass with your gay pal first and last warn you fuck gay i will not appreciate if any more nazi shwain would write in my page i do not wish to talk to you anymore beware of the dark side',\n",
       " 'fuck your filthy mother in the as dry',\n",
       " 'i be sorry i be sorry i screw around with someone talk page it be very bad to do i know how have the template on their talk page help you assert your dominance over them i know i should bow down to the almighty administrator but then again i be go to go play outside with your mom',\n",
       " 'i do not believe the lisak criticism present there conforms with the npv rule lisak do not have a neutral point of view to begin with if an offer to polygraph or even concerned review of polygraph result shock a complainant into think her lie have be uncovered the recantation be still perfectly valid if you know you be tell the truth you will argue with machine or investigator also part of kanin s research be a followup of the recant story where possible to verify if any be false recantation in all followup the recant version of event match what the accuse say happen argue that lisak be a respect phd be baseless if kanin be a respect phd i agree that my edit be not a neutral a possible though so apologize for that still something must be do here',\n",
       " 'you have a point and it be now ammended with appropriate encyclopedic notability significance',\n",
       " 'in other word you be too lazy to actually point anything out until you change that approach the tag go',\n",
       " 'a for your claim of stalk that be absolute rubbish and serf only to aggravate the situation i have assume good faith and good intention on your part and have never suggest or see reason to suggest that you might have some ulterior motive in mass add link to one specific company s web page nor for that matter have i ever make any suggestion that this be an administrative matter or even mention such a role clearly a a party to this disagreement i would not do so at any rate a it would be a conflict of interest i would ask that you thus extend the same good faith toward me rather than make spurious and unfounded accusation chatspy',\n",
       " 'jmabel in regard to predominant scholary consensus who be it that allegedly claim despite third way rhetoric fascism in power function rather consistently a a right wing force a far a i be aware own numerous book on the subject that be not the scholary consensus at all the consensus developed by respect scholar of fascism who write in a manner which be not bias to any interest group such a roger griffin hamish mcdonald roger eatwell and zeev sternhell all recongise fascism a a third way a the reference show the only dissenter i be aware of who seem to think fascism have absoutely no leftist connection and be merely a radical right system be street level socialist who want to put a much distance between the movement a possible this of course do not come from educate people in a position to write book for example even the foremost scholary expert on fascism and a former member of both the communist party and then socialist party of italy renzo de felice do not try to cover up it socialistic origin and third way status this be a man who have write a definitive seven volume piece on mussolini',\n",
       " 'bi you say you want to talk at the bottom of the lead section you have write it promoter speculate in that the skyhook concept could be cost competitive with what be realistically thought to be achievable use a space elevator but the skyhook be not competitive with other rotate tether concept in addition the rotate skyhook be in fact deem not engineeringly feasible use presently available material regard in addition the rotate skyhook be in fact deem not engineeringly feasible use presently available material that statement appear to come from ref on page the full quote be if the mass of the tether alone start to exceed time the mass of the payload then that be an indication the particular scenario be consider be not engineeringly feasible use presently available material although the application might become feasible in the near future a well material become available with high tensile strength at high operational temperature it then go on to say a we shall see presently available commercial material will suffice to make the hastol tether need the primary message we want to leave with the reader be “ we do not need magic material like ‘ buckminster fuller carbon nanotube ’ to make the space tether facility for a hastol system exist material will do ” so it would appear that you misread your reference the tether mass of time mass of the payload mass be the upper limit to the problem system where the tether mass be less than time the payload mass can be built with presently available commercial material to far reinforce this the conclusion to the report state the fundamental conclusion of the phase i hastol study effort be that the concept be technically feasible we have evaluate a number of alternate system configuration that will allow hypersonic air breathing vehicle technology to be combine with orbit spin space tether technology to provide a method of move payload from the surface of the earth into earth orbit for more than one hastol architecture concept we have developed a design solution use exist or near term technology we expect that a number of the other hastol architecture concept will prove similarly technically feasible when subject to detailed design study the system be completely reusable and have the potential of drastically reduce the cost of earth to orbit space access regard but the skyhook be not competitive with other rotate tether concept and a boeing report on the possibillity of combine skyhook with hypersonic plane conclude that in general the non spin tether hyperskyhook concept do not look competitive with the spin tether concept the full quote be hyperskyhook in zubrin propose the “ hypersonic skyhook ” a a solution to the mismatch between the attainable atmospheric speed of a hypersonic airplane and the orbital speed of space tether since the orbital speed of the space tether decrease with increase altitu',\n",
       " 'get fuck up get fuckeeed up get a drink that you cant put down get fuck up get fuck up i be fuck up right now',\n",
       " 'be you threaten me for dispute neutrality i know in your country it be quite common to bully your way through a discussion and push outcome you want but this be not russia',\n",
       " 'thanks undeletion be more than i would hop for i be research the status of texas government include local government copyright status but it be slow go apparently work of the florida government be usually public domain but we do not have a similar article on texas so i guess i will have to research the old fashion non lazy actually reliable way or ask the copyright help desk like you suggest in the meantime i be use the fair use rationale since it be valid while the image be use in an article thanks again',\n",
       " 'awesome then i will simply disregard your notice thanks',\n",
       " 'stupid peace of shit stop delete my stuff asshole go die and fall in a hole go to hell',\n",
       " 'tony sidaway be obviously a fistfuckee he love an arm up his as',\n",
       " 'ga review ii i be sorry to say this but i have to fail this article s gan the several major problem that brought up in this article s previous ga assessment have not be issue a s he have say before me he article s wp lead should be longer the history medium attention academic student government demographic trivia and additional information section be very deficient in citiations also triva and additional information should be integrate into the rest of the article again please look over wp wiaga and fix these problem then renominate it for ga class however i have re assess this article a b class a it do meet b class criterion my regard',\n",
       " 'my band page s deletion you thought i be go delete the comment i post on your notalk page do not delete my feeling for your hasty decision to delete my page you sir be still a cock suck douche fuck sit back for a second and think about what your life have become do that do not take long do it nope because a i be most certainly aware your life be a shitstorm of sit in front of the computer masturbate to fictional creature your attempt to get rid of me be mediocre at best you be constantly suck the dick of failure you do not want a personal attack huh well too bad fuckcock mcdickerson you have get one from me you can go ahead and delete my profile from wikipedia i will just make another one and come right back to syrthiss s talk page and insult the dick off of you how could you shatter the dream of an innocent eighteen year old college freshman try to make a name for his band do that make you happy fuck with people because you be an overweight single old man in a dead end job do you spot that perhaps someone else be go to follow his dream and you be try to hold him back so somebody else could suffer like you yes you do i do not make empty threat so i will not be say anything along the line of i will hurt you or i will eat the child from within your sister s womb but i will say that you be a asshole son of a bitch mother fuck cock sucker so go eat some more food and drown your sorrow you premature ejaculate bald head fuck you should do something nice for yourself maybe go grab a couple of horny goat weed from your local convenience store and jack off for a little longer than three minute tonight sincerely an asshole that s well than you in every way',\n",
       " 'why can not you believe how fat artie be do you see him on his recent appearence on the tonight show with jay leno he look absolutely awful if i have to put money on it i would say that artie lange be a can not miss candidate for the dead pool kindly keep your malicious finger off of my above comment everytime you remove it i will repost it',\n",
       " 'lock this page would also violate wp newbie whether you like it or not conservative be wikipedians too',\n",
       " 'a bisexual like a homosexual or a heterosexual be not define by sexual activity much like a year old boy who be attract to a girl sexually but have never have sex be still straight a person who be actually sexually attract arouse by the same sex a well a the opposite sex be bisexual',\n",
       " 'redirect talk frank herbert mason',\n",
       " 'christian arab hi could you please stop enforce the category christian arab on non arabic christian living in the middle east this be wrong we middle eastern christian though not arab have go through arabization and that need to stop we be not arab we have our own ethnicity and we should not be force to be call christian arab if a christian european be born in the middle east should he be call a christian arab because of that reason alone please understand they be syriac christian i e of assyrian ancestry and most of them speak aramaic though a lot of them be forget it a someone who speaks aramaic you should respect this fact and not appease muslim who want to call everyone arab just because they be in the middle east we be not closely related to the arab from saudiarabia we have our own ethnicity please stop force upon u some alien arab ethnicity that s oppression talk jun utc',\n",
       " 'dh dude abc officially say this be the name for that episode i do know there be already an episode with that name but abc say it be everybody s say do not',\n",
       " 'all of my edits be good cunt like you who revert good edits because you be too stupid to understand how to write well and then revert other edits just because you have decide to bear a playground grudge be the problem maybe one day you will realise the damage you do to a noble project',\n",
       " 'neiln s bang on you be not be harass at all if you do not edit disruptively you do not get revert –talk',\n",
       " 'i go there around the same time he do and that certainly be not the case at the time later on they stop take child from such a young age',\n",
       " 'there must be some chemical imbalance in your brain be you ok the gibberish you guy be write really make me feel sorry for you do not ever go to law school you would do the legal profession bad',\n",
       " 'parzival you be try to scare thatso how can you say that the comment of thatso be insult thatso be try to suggest that there should be no original research in the wikipedia and he be right',\n",
       " 'oppose – a the article stand it do not properly reference under the wp reference guideline if this issue be resolve i do not any issue with it be move to the mainspace 「」¤ • ¢',\n",
       " 'i would appreciate an apology from both of you but i can see that be unlikely if not please do not waste my time any longer with attempt at try justify either your or plasma physic transgression toward me or bother me any longer about this issue and i shall leave you alone and seek others here who deserve my considerate attention',\n",
       " 'they be not original research they be point in the episode',\n",
       " 'ambiguous so mabuska irish can mean more than one thing i will qoute you on that thanks — precede unsigned comment add by of course it can the word irish be not invent on the establishment of the irish free state talk quote me all you want it depends on the context of the term when it be use a to whether it applicable or not note how i say citizenship and ethnicity i never mention nationality which be the real key meaning the nationality meaning of the term be the predominantly use form on wikipedia in nationality term it refers to the republic of ireland but you already know that i be sure talk in nationality term it refers to the republic of ireland no such country so nationality term it refers to ireland — precede unsigned comment add by oh wow ireland a in ireland the state whose official description be the republic of ireland whats the point in this inane conversation talk ireland whose official name be ireland — precede unsigned comment add by http www constitution ie report constitutionofireland pdf reading for you also i see http www constitution ie report mbunreachtnaheireann pdf a you speak both — precede unsigned comment add by',\n",
       " 'while the magazine s masthead say time the corporate name be time inc you can easily look this up on the other hand abn amro be always the corporate name you can look this up a well',\n",
       " 'take your belated and piffle prevarication elsewhere too late for here',\n",
       " 'that s what i be look through it look like he be just be an all around dick on talk page though it be nothing too bad though look more like an inability to express himself properly thank you for your concern also cheer',\n",
       " 'in the same direction be it really necessary to name all the u state who recognize it why not give just the number of state this be not an american encyclopedia but an universal one i do not see why every single u state which recognize it should be name ix',\n",
       " 'december utc you must not play metal gear solid that often gw be the arsenal gear a i that go haywire after solid snake uploaded emma s virus',\n",
       " 'hi i be back again last warn stop undo my edits or die',\n",
       " 'minimization of textile effluent a propose deletion template have be add to the article minimization of textile effluent suggest that it be delete accord to the propose deletion process all contribution be appreciate but this article may not satisfy wikipedia s criterion for inclusion and the deletion notice should explain why see also what wikipedia be not and wikipedia s deletion policy you may prevent the propose deletion by remove the notice but please explain why you disagree with the propose deletion in your edit summary or on it talk page also please consider improve the article to address the issue raise even though remove the deletion notice will prevent deletion through the propose deletion process the article may still be delete if it match any of the speedy deletion criterion or it can be sent to article for deletion where it may be delete if consensus to delete be reach if you agree with the deletion of the article and you be the only person who have make substantial edits to the page please add to the top of minimization of textile effluent',\n",
       " 'be it scientific to attribute an event a to cause b where cause b be deliberate design with some sort of intelligent intent do not answer the question beyond that well the problem with not answer beyond that be that your example be completely rig there be several major fundamental problem here first you completely fail to mention the fact that the intelligence behind id be quite literally not of this earth natural science might look at a honeycomb see it be built by bee and then find an odd look fossilize honeycomb and theorize that it be make by odd look bee that be fundamentally different than say it be make by something not of this earth id have at it core the notion that something outside the system we can observe be at cause here this be not science in any sense of the word it be mythology when paul bunyan be have a wrestling match with babe his blue ox they kick up so much dirt they create the great lake no evidence of paul and his ox remain i mean really second natural science take an approach to knowledge that nothing be know scientific law unless it be irrefutable theory must have heavy support empirical data to back it up id turn this on it head and do an end run around knowledge and play game with probability if no one can say how flagellum on bacteria could have form naturally how in the hell can id proponent come up with any sort of mathematically accurate probability of flagellum naturally form on bacteria if you do not understand it you can not do statistic on it id jump right over that hurdle and take anything that do not have a complete detailed natural explanation and jam in their own statistic that say well it be so improbable for this to happen that someone must have design it this be such a perversion of science you can assign probability to something you do not understand id be just make up their number finally your example have a b where b be deliberate design that s all well and good for a rig example except that with respect to life on earth b be unknown your a b example might qualify a forensic science if a be a dead body and b be a bullet in the heart you see a bunch of dead body with bullet through the heart the next time you see a body with a bullet through the heart you can probably figure that s what kill him you do not have that with life on earth you have one scenario a and you have no other case to observe or test so in that sense a b be not scientific if you have never actually observe b btw b be teh intelligent designer which have never be observe so in that sense no it be not science',\n",
       " 'screwjob hey i notice your comment on the montreal screwjob discussion page i decide since nobody except someone with no account object to what you say i would atleast change the page a little to make it fair i just want to tell you because i thought you would like to know i only change a few word at the top of the first paragraph and add something to the second one if your not bother thats fine but i thought since you be fight for and nothing be even say i might aswell tell you',\n",
       " 'april thank you for experiment with the page andy griffith on wikipedia your test work and have be revert or remove please use the sandbox for any other test you want to do take a look at the welcome page if you would like to learn more about contribute to our encyclopedia',\n",
       " 'christ iq be select for therefore every population have the same iq never cease to amaze me',\n",
       " 'can you prove it be not if you have a well knowledge of the english language it would have be obvious to you',\n",
       " 'would you both shut up you do not run wikipedia especially a stupid kid',\n",
       " 'oh it be me vandalise xd see here greeting',\n",
       " 'website hey all i be think of get myself a website to display my picture and this be the cheapest thing i could find i do not know about others but fir and diliff you guy have website do you think it be legit could you provide any well alternative help from any other guild member be also appreciate thanks talk',\n",
       " 'thanks reading there now',\n",
       " 'personal attack in fruit brute vfd my apology if i be be to critical but i feel that many of the comment make in the fruit brute vfd debate be far from reasonable there have to be a more diplomatic way to disagree with s assertion on the initial sentence than do not lie it make you look even more juvenile learn to face up to when you have goofed it will go a long way in your life the attack do to his age certainly border on a personal attack be bart forty sixty or eighty would you have include the comment on how juvenile he be i do not expect you to apologise to anyone but i want to make it clear that i consider your comment in this vfd debate inappropriate and i think their be many member of the community who would agree with me talk feb utc',\n",
       " 'transliteration of russian place name in write about moscow metro for the malayalam wikipedia we be find it difficult to correctly transliterate the russian place name for example do we pronounce park kultury a paark kalttari or paark kalchchari or perhaps something completely different can somebody please help by transliterate the list give in http ml wikipedia org wiki സംവാദം മോസ്കോ മെട്രോ i be not put the list here a i do not want to clutter up this page thanks',\n",
       " 'almost get me too i have to look it up to see if it be real talk',\n",
       " 'how can one defame someone who think the fort hood shoot be justified by god s law',\n",
       " 'lack of balance this article be seriously out of balance it would benefit greatly from the introduction of additional information about the negative aspect of the t just for the record this sort of balance problem be not uncommon when there be an over dependence on the work of a particular author for example test and evaluation of a t by the u army ordnance dept expose some very serious problem with the tank this type of information should be include in the article to bring it back into balance',\n",
       " 'thanks i can see that violate clearly state wikipedia policy be no problem with some people a be now be review elsewhere finish up one other wiki project todsy and then spending the rest of the day on an important personal blog entry then i will go find other discussion of james petras fascinate discussion of the use of the term jewish lobby so that i do not have to put back up the delete dissident voice article right away per talk jewish lobby wp v compare jewish virtual library and dissident voice carol moore talk',\n",
       " 'hi thanks for our kind word see you around talk',\n",
       " 'collusion in poker this be regard a most heinous form of cheat in poker perhaps some mention of this or example be warrant',\n",
       " 'thanks much however if it be be resolve why be it that today when i do not write anything in edit summary camera put it ad in my edit summary box equalvoice talk',\n",
       " 'you can do all you be do right now but if you get a username you will be able to do more and have more impact be what i be say and you seem to be very familiar with everything so you probably have a username just get one it take second talk•contribs',\n",
       " 'however the moonlite edit note by golden daph be me on optus wake up wikkis so funny',\n",
       " 'check the follow website http www iranchamber com personality farabi farabi php http www islam org br c aal farabi htm http www superbeyin com sohbet sohbet htm',\n",
       " 'i can not believe no one have already put up this page dilbert s desktop game so i do',\n",
       " 'well after i ask you to provide the diffs within one hour of your next edit here you make an edit to your talk page here and then do not provide the diffs i request within one hour of that edit i then sanction you for fail to provide the request diffs in a timely manner which after more than a week you have still not do consequently your request to lift the sanction be deny',\n",
       " 'what page shoudld there be for important character that do not reoccur void black doom mephiles etc',\n",
       " 'a pair of jew hat weiner nazi schmuck',\n",
       " 'i tend to think that when the list be longer than the rest of the article there be a problem either the history and characteristic should be expand of the list should be cull i personally like the consensus that be reach in the tripel article between and others myself include we decide that the country of origin should be highlight with the most example there we do trappist abbey and foreign foreign include all non belgium example this way the article be an article in an encyclopedia not a list people can find list anywhere and the article should reference this also the style statistic be bad when you say style statistic it sound like a prescription not a description an encyclopedia should follow the latter and if the former be use a citation should follow and you will not find a valid one for this style in it be country of origin',\n",
       " 'what be up with this if you be a religiously or politically motivate to push this or that issue please refrain from talk on my page i be not interested otherwise feel free to talk about relevant edits here or science deleet talk i would prefer if the follow user never post here maunus ·ʍaunus·snunɐw weijibaikebianji this guy be a publish psychology researcher right perhaps he do not know you have access to library and the best source you should point that out more often it do not come across a mind bendingly condescend also i suspect that editor be a racist see you on the wiki',\n",
       " 'i be not vandalize i be just have fun man you have no sense of humor if you think i be vandalize stuff lemonparty org this site now',\n",
       " 'welcome to wikipedia bla discover ekopedia the practical encyclopedia about alternative life technique bla discover ekopedia the practical encyclopedia about alternative life technique',\n",
       " 'include some appropriate mention of the solomon article be not without some level of support',\n",
       " 'comment i could not verify the claim talk',\n",
       " 'czech republic be in central europe the state of this article be part of the reason why people be make such confusion especially more ridiculous be that they you would replace the mention of north caucasus in favor of north slope of caucasus mountain which isnt even a geographical area other than denote the mountain in that region country be locate within continent yet for some reason you refuse to allow this article to be denote a continent this single factor alone would have make a massive difference for reader i be tire of argue with people who be essentially wiki squatter refuse to nudge on a give article',\n",
       " 'thanks josette i enjoy meeting you too i be shock by the decision which do not begin to reflect consensus do just one grand poobah make it alone serf me right for steal time from more press real world duty to indulge in a fun hobby i have learn my lesson and will not waste time like that again i will stick to fix the little thing i run across a i read article for my own information',\n",
       " 'paleontologist agree that organic remains must be bury quickly so they can be preserve long enough to be come fossilize however the term fossilize be not a very precise term there be several factor and metamorphic mineral process which occur to organic remains that result in what be typically call a fossil one major factor concern what kind of organism be to be fossilize vertebrate invertebrate radiolarian sponge plant pollen foot print etc and multiple process may include permineralization recrystalization carbonization replacement dissolve diagenesis etc talk about fossilization be a complex issue however quick burial be not question the major question be how long do it take for these process to work on organic reamins in the environment they be found in experimental taphonomy have result in an assortment of remains become fossilize by various process in the lab which of course implies that give the right condition vast age be not an issue the metamorphic process be ongoing until an equilibrium be met between the chemical enviroument of the burial site and the mineral of the organic remains flood catastrophic geologist do not expect that organic remains bury during the flood be completely fossilize within the one year period of the flood but rather that there have be some year for the process to have be work much more work need to be do on the taphonomy of organic remains yet how one interprets even those result will depend upon which world view you choose to believe with',\n",
       " 'also i think vegetable basket need it be own wikipedia page',\n",
       " 'bigfoot reference the magazine be well know a just the engineering and mining journal which you may have a difficult time find depend on where you live i ran across the article a few year ago while research something else and make a copy it be clearly derive from press account and treat the incident a a joke my whole point in cite it be to show that the incident whatever it be be not entirely create year after the fact if you leave me your email i will scan the page and email you a pdf',\n",
       " 'also see this if you cant trust murkoth ramunni http book google com book id hhevugfpec pg pa dq thiyya matrilineal hl en sa x ei tlppudahmwiqlgvidgba ved cdyqaewaq v onepage q thiyya matrilineal f false',\n",
       " 'chart performance of single lady put a ring on it please take my advice and split up the paragraph in the section fa generally have short paragraph it be hard and boring to ingest so much information at once so splitting the paragraph will improve the flow — · talk',\n",
       " 'hahahaha good one i have remove it',\n",
       " 'have say that i have temporarily remove my request base on cyde s advice pending a request for consensus i have ask for on the talk page i urge anyone reading this to vote so we all know what the community want',\n",
       " 'conformity a healthy i may have miss it but this article do not seem to address conformity a just a healthy behaviour such a the way that we conform to grammar so that we can be understood or that we conform to law because we recognise a need for an orderly society',\n",
       " 'hi i be new to wikipedia read up on pandemic today i be impressed by the quality of information to my knowledge not easily available elsewhere in the same easily accessible format thank you all of you for create this content and make it accessible',\n",
       " 'should say something about his view a an educationalist and socialist political commentator link to http www langandlit ualberta ca fall steigelbainbridge html mention this a bit he stood a an election candidate for respect',\n",
       " 'sandbox do not take the template out of the sandbox it say do not remove for a reason jan utc',\n",
       " 'heh it be a bit of a copy of wikipedia wikiproject professional wrestling but i thought it look a bit tidy and well that way',\n",
       " 'ahh hello witzeman symbol ¡ ¿ † ‡ ↔ ↑ ↓ • ¶ ½ ⅓ ⅔ ¼ ¾ ⅛ ⅜ ⅝ ⅞ ∞ ‘ “ ’ ” « » ¤ ₳ ฿ ₵ ¢ ₡ ₢ ₫ ₯ € ₠ ₣ ƒ ₴ ₭ ₤ ℳ ₥ ₦ № ₧ ₰ £ ៛ ₨ ₪ ৳ ₮ ₩ ¥ ♠ ♣ ♥ ♦ m² m³ character á á ć ć é é í í ĺ ĺ ń ń ó ó ŕ ŕ ś ś ú ú ý ý ź ź à à è è ì ì ò ò ù ù â â ĉ ĉ ê ê ĝ ĝ ĥ ĥ î î ĵ ĵ ô ô ŝ ŝ û û ŵ ŵ ŷ ŷ ä ä ë ë ï ï ö ö ü ü ÿ ÿ ß ã ã ẽ ẽ ĩ ĩ ñ ñ õ õ ũ ũ ỹ ỹ ç ç ģ ģ ķ ķ ļ ļ ņ ņ ŗ ŗ ş ş ţ ţ đ đ ů ů ǎ ǎ č č ď ď ě ě ǐ ǐ ľ ľ ň ň ǒ ǒ ř ř š š ť ť ǔ ǔ ž ž ā ā ē ē ī ī ō ō ū ū ȳ ȳ ǣ ǣ ǖ ǘ ǚ ǜ ă ă ĕ ĕ ğ ğ ĭ ĭ ŏ ŏ ŭ ŭ ċ ċ ė ė ġ ġ i̇ ı ż ż ą ą ę ę į į ǫ ǫ ų ų ḍ ḍ ḥ ḥ ḷ ḷ ḹ ḹ ṃ ṃ ṇ ṇ ṛ ṛ ṝ ṝ ṣ ṣ ṭ ṭ ł ł ő ő ű ű ŀ ŀ ħ ħ ð ð þ þ œ œ æ æ ø ø å å ə ə greek ά ά έ έ ή ή ί ί ό ό ύ ύ ώ ώ α α β β γ γ δ δ ε ε ζ ζ η η θ θ ι ι κ κ λ λ μ μ ν ν ξ ξ ο ο π π ρ ρ σ σ ς τ τ υ υ φ φ χ χ ψ ψ ω ω cyrillic а а б б в в г г ґ ґ ѓ ѓ д д ђ ђ е е ё ё є є ж ж з з ѕ ѕ и и і і ї ї й й ј ј к к ќ ќ л л љ љ м м н н њ њ о о п п р р с с т т ћ ћ у у ў ў ф ф х х ц ц ч ч џ џ ш ш щ щ ъ ъ ы ы ь ь э э ю ю я я ipa t̪ d̪ ʈ ɖ ɟ ɡ ɢ ʡ ʔ ɸ ʃ ʒ ɕ ʑ ʂ ʐ ʝ ɣ ʁ ʕ ʜ ʢ ɦ ɱ ɳ ɲ ŋ ɴ ʋ ɹ ɻ ɰ ʙ ʀ ɾ ɽ ɫ ɬ ɮ ɺ ɭ ʎ ʟ ɥ ʍ ɧ ɓ ɗ ʄ ɠ ʛ ʘ ǀ ǃ ǂ ǁ ɨ ʉ ɯ ɪ ʏ ʊ ɘ ɵ ɤ ə ɚ ɛ ɜ ɝ ɞ ʌ ɔ ɐ ɶ ɑ ɒ ʰ ʷ ʲ ˠ ˤ ⁿ ˡ ˈ ˌ ː ˑ ̪ my famous article witze happiness − wikipedia the witzeman be a great honour that have be pass down through the generation of many family regardless of race age character or knowledge the outside world know little about these elusive character and the honour of the witzeman for those who have ever be a witzeman it have be say to have be a great honour although the quality need for the job have never be disclose a person may not now they be a witzeman for many year until they be call by former witzemans via dream associate of the witzeman be know to be a certain babe cool or the much lesser know witzewoman the present witzeman be an year old boy namely benjamin wood who be say to have become a witzeman after he felt this awesome radiance in his top right bumcheek he have not told a great number of people his testimony but have promise to do so in year to come history the present world have only come enlightned with the knowledge of the witzeman in present year because former witzemen have not be so public about the honour to abide with the formality and conservativism in their time the term witzeman be a compound word of the adjective witze and aman witze be an th century term for a person of extreme humour and radiant intelligence unfortuneatly witze be also sometimes associate with bad wind for unspeakable reason proper history a early a the th century witzemen be consider outcast and young child be encourage to poke them with stick this lead to the st witzeman rebellion of when the current witzeman and his follower attempt a coup to take over the local council chess team this rebellion far disgrace the witzeman a he and his follower be embarassingly pronounce gaga at a government meeting that year the period from here to the early s be a dark time in the witzemans history however good time be to come for the witzeman many normal people take part in mass demonstration and protest for the witzeman in the s building up to a great moment in the history the great rebellion of this be when several witzeman sprint round the visitor gallery of the house of common wear clown mask but otherwise completely naked this be thought to be an act of circambulation however many people who witness this shock behaviour be amentally spiritually and emotionallly scar for life this group of people include many young child who be force to go to asylum in a state of mental instability suffer from trauma it be at this time that the government finally take positive action for the witzeman in a bill of right for the witzeman be sign state all witzemen be allow to do a they pleased although this be a formal agreement many journalist view it a a letter of submission from the government to the witzeman a the behaviour of the witzeman and his follower become more and more twist',\n",
       " 'ok just finish my plan cleanup of the todo page the entry that be remove be copy to the investigate entry page so we have a record that we look at them —— talk',\n",
       " 'on dec a nist scientist say the collapse of the tower be not of any magnitude that be seismically significant see dr wood s the scientific method apply to the thermite hypothesis paper on her tripod site for mp link',\n",
       " 'the statement drawn from watchtower literature honestly not clandescently not with hypocrisy be drawn from watchtower literature via ray franz s argument and literature and impose into the wikipedia article it be too much of a coincidence that a more or less follower of ray franz be go to come up with a reference to wa literature on his own exactly the same connection ray franz make without have first see the connection make in ray franz literature natural nature',\n",
       " 'sorry about that i have checked but have only come up with dulas bay somehow i have miss the dulas disambiguation page completely apology again it be not even a if it be get particularly late at night the onset of swine flu perhaps',\n",
       " 'tcm i can find no evidence that acupressure be a tcm rather than derive from tcm if no one object i will place a citation note in the article',\n",
       " 'well it still need expansion in area citation in others more image be go to get a pic of the stanley cup banner tonight at the hitman game but forgot my camera and a thorough review copy edit by someone with a well flair for word than i but work progress lute',\n",
       " 'a redirect somewhere could not hurt though i still do not think any o the candidate be ideal but then if he pass the notability threshold some day the basic material be still there to work with',\n",
       " 'meivazhi i have have a go at restart the meivazhi article in a style that s more standard for wikipedia article someone would probably have delete it pretty quickly if it have stayed in the form you post i would be grateful if you could help at talk meivazhi about the accuracy unfortunately i have to remove your link the conflict of interest guideline advise against editor link to their own site and also wikipedia s attribution policy wp att require that information should come from third party publish source rather than personal website do you know of any good newspaper book account of meivazhi p what be the salaimanimudi indlist com site a personal site by a member',\n",
       " 'though this be certainly a small article but it be not so inconsequential a to warrant subsume it within the flame tree article it be a discography article and should stand alone may',\n",
       " 'yeah let be merge the content not sure if devil s canyon be the same type of codename',\n",
       " 'image yourtransitad jpg i think i may be able to get a well photo of this ad if i be able to do that be it okay if i use it to replace this current one i want to check with you first before do anything →™',\n",
       " 'a cookie for you a cookie for you',\n",
       " 'lmao what a nb go and listen to manele',\n",
       " 'december utc yep lol the reformist party serbia reformist party be have another go the th very last on the parliamentary election win less vote than notable to actually be mention by the way here s something very little people have figure out the new constitution of serbia have be brought to enable kosovo secession the constitution bar that a a possibility and after the kumanovo military technical agreement be sign between nato and fry the sr broke it coalition with sps and the government collapse cause new election because that be unconstitutional a an act of high treason enough to be try from maximum sentence which the radical demand from then to his death to have a trial in serbia and to be try for treason among other reason this constitution release the authority from that weight and they will not have to go to prison if they recognize any form of far loss of sovereignty in kosovo',\n",
       " 'new wikiproject novel initiative we have begin a new initiative at the wikiproject novel an improvement drive a a member list here you be be notify please see wikipedia talk wikiproject novel improvement drive and wikipedia wikiproject novel collaboration for more detail also i would like to remind you to keep an eye on the project talk page at wikipedia talk wikiproject novel thanks',\n",
       " 'reply be you be facetious if not you would have relayed the same message to jza and mrsc a my word be no more stern than there if you would like evidence for any of the claim make on the talk then i will only be too glad to provide you also fail to provide diffs in your message to me in regard to which word you be claim be offesive perhaps wp assume good faith the two user constantly harass and follow me to article make disruptive edits in violation of numerous wikipedia guideline wp harass be just one for example the removal of third party reference from article which do not suit their pov without enter an edit summary consider by wikipedia guideline a bad faith and a violation of wp blank the violation of wp neo by add derogatory neologism to the article of organisation who they do not personally agree with despite be make aware of the policy despite not have any reference to the say organisation be described with say neologislm and despite the community majority constantly remove the derogatory term the same tag team practise can be show to be use against numerous other editor who edit article on british culture and trad county not just against me again if you would like evidence just ask it would seem however look at the message on your talkpage above especially the lovely intertude under uk mediation section that jza message you somebody he seem very familiar with in violation of wp canvas specifically the section on wikipedia canvas campaign may interest you if you be go to be an admin may i suggest you please make yourself familiar with the policy and guideline i have reference in this message rather than accuse me a user who be be cyberstalked of personal attack systematic bias be not acceptable you be here to make sure that our policy be upheld not to chip in for the sake of a friend thanks',\n",
       " 'p s it be not polite to talk to people behind their back please remove your comment from mrph s talk page vaughan you be right i go to check your previous edit and found a page on the marvel site that spell it vaughn but now i be find many more that spell it correctly thanks for the edits ☎☓',\n",
       " 'the block hi just wonder if it have be confirm the darren jolly will be a contestant on the block thanks',\n",
       " 'opinion please pt ii a srq continue to make personal remark after she say she would not may i assume you will help me with a wp rfc u also i believe she have violate the rr rule today edit war over one accurate word be ridiculous a be edit war in general let be make it stop may i also ask what be wrong with the honest statement i make on talk page and what you mean by hasty refactoring i appreciate any assistance and welcome any question btw when do pivotal accurate well reference entry become peacock my understand be that it refers to unneceessary editorialize not to precise vital info in the sequence of event thanks',\n",
       " 'azari or azerbaijani azari iranian azerbaijani turkic nation',\n",
       " 'userbox hello a userbox you be use template user queerrights have be move to user space per wp gu the new link be and leave any question you may still have on my talk page thank you',\n",
       " 'if you actually take the time to do a little bit of research bloodofox instead of jumping into what you perceive to be an avenue to pursue your vendetta against me you would have realise by now a would your colleague kiyoweap that in all probability the kelpie water horse each uisge just different term in use in different place for the same entity which be why i challenged kiyoweap to produce something decent on the each uisge which i guarantee he will be unable to do corbett',\n",
       " 'from what i have see with editor other than eric the elephant in the room be the issue of baiting poke the bear whatever the hell you want to call passive aggressive baiting no one want to touch that one even though it be uncivil a hell and appear to be the tactic of choice whenever someone want to get rid of someone or get their way that s the part that saddens me darkness',\n",
       " 'socialistm there be two important feature of smith s concept of the invisible hand first smith be not advocate a social policy that people should act in their own self interest but rather be describe an observe economic reality that people do act in their own interest second smith be not claim that all self interest have beneficial effect on the community he do not argue that self interest be always good he merely argue against the view that self interest be necessarily bad it be worth note that upon his death smith left much of his personal wealth to charity good let be all make sure we put forth the idea that adam smith be a socialist that s the wikipedia way',\n",
       " 'sorry puck but no one ever say dick be number one but he be clearly list a be second only to batman and a master detective and martial artist and be train in all the mention combat discplines no need to mention in skill ability about the battle he be lose and won because thats not what an encylopia be suppose to do also what your problem be your go by low end showing and not high end showing where he be proven more than a match for a meta like slade and pin shiva down in one of his early appearences',\n",
       " 'the alpha version have multiplayer the beta version do not',\n",
       " 'pd i just have see that apart from the article coat of arm of the sahrawi arab democratic republic there be also a different article name coat of arm of western sahara that show clearly that some user here have politically driven intention and bad faith although they claim to be neutral if they be neutral logically they would work on the coat of arm of western sahara article intead of try to merge the two article and mess it',\n",
       " 'we be not treat this a a forum a question arose and be appropriately answer end of story',\n",
       " 'military history wikiproject newsletter issue ii the april issue of the project newsletter be now out you may read this issue or change the format in which future issue will be deliver to you by follow the link thanks',\n",
       " 'between the unblock submission and response there be less that minute which prof that this administrator do not pay enough attention to this case',\n",
       " 'your request to be unblocked have be grant for the follow reason s allow username change to gianluigipalermo please put this request in at wikipedia change username a soon a possible to avoid re block request handle by unblock administrator please check for active autoblocks on this user after accept the unblock request',\n",
       " 'once again i respond to milemoney s reason for his edit and i give my reason for my edit yes it be absolutely relevant to this page there be other place for the discussion on income inequality than in the progressive tax article',\n",
       " 'unblock me or i will get my lawyer on to you for block my constitutional right to free speech',\n",
       " 'attribute and classify of personality invitation your input to culture of lithuania be welcome some problem of define personality or attribute them to certain well know ideological system may raise here i propose a quite liberal variant of it where definition may not be connect with one certain word necessity however to follow certain classify remains my initial idea on this branch the one concern period of lithuanian national renaissance period some artist writer or other cultural worker of this period be often described a modernist this definition be not false but some more concrete thing should be add some specific of lithuania we should distinguish lead idea of the nat renaissance from later modernism which be more know for u cultural aspiration of the later nat ren may be define a modernism in a cultural context of lithuania but they accent also expression of lithuanian cultural heritage and their expression may be see a something simply typically lithuanian i mean that such author in a čiurlionis be see a modernist in lithuanian context but it also and even more be a representative of lithuanian culture when in european or world wide context a parallel example may be take from literature of india poet tagore well know nobel price winner be know for u a a representative of culture of india make india more understandable and closer for western people be concerned a main his input to western culture but in his own country he be see a a modernist too who be change traditional cultural form especially stagnate one this way also lithuanian cultural leader of the n ren could be see a modernist which be broadening cultural form and change stagnate one in lithuanian context they also can be see a modernist in a wider context but more for acquaint western people with lithuanian culture than for their direct input into western culture čiurlionis be the best example here in other way the later lithuanian modernist they depend mostly to later generation approximately from th decade of the th century concerned themselves part of western modernistic movement and their main purpose look generally be to introduce western european idea into lithuanian cultural life see the table below we see two different movement and two different world outlook here the problem be that both movement collaborate especially their political wing do and interchange of idea between them be well see so many researcher do not pay attention to this difference especially in the soviet period when national idea be officially forbidden mixture in description of these movement be allow e g philosopher ramūnas bytautas who clearly depends to the first generation be often described a liberal and it may be understood in a sense of the second generation a idea of liberalism period and generation artist writer philosopher etc in a context of lithuania in an european context the national renaissance period the young generation approx – painter and composer čiurlionis painter kazys šimonis poet and philosopher vilius storastas vydūnas dramatist sofija kymantaitė čiurlionienė poet adomas jakštas motiejus gustaitis liudas gira composer stasys šimkus philosopher ramūnas bytautas reformer and innovator of lithuanian culture representative of lithuanian culture almost unknown before them the period between wwi and wwii and post war year poet v mykolaitis putinas kazys binkis writer ignas šeinius – jurkūnas artist all ar group philosopher juozas girnius modernist introduce new western idea into lithuanian cultural life central european modernism note list of personality be not complete here nor it be make precisely by prominence jul utc',\n",
       " 'actually direct quote that be not in quotation mark and be not attribute be generally know a plagiarism and or copyright infringement but the nyt material be not the issue a you well know the material from the jewish action taskforce be the problem',\n",
       " 'katelyn faber could you weigh in at the bottom of the talk page for katelyn faber regard the inclusion of an image of her template user totalbox thanks for revert esperanza newsletter issue style border space px margin px px width class mainpagebg style width border px solid cefe background color ffffa vertical align top color reach outreach out be a program aim at allow user to bring issue that they have have in wikipedia to a listen sympathetic and care audience no one can know how we feel if we do not say we can not expect to get understand if we do not ask for it no one will dispute that sometimes life s issue be too much for one person it be fair to say that sometimes wikipedia s problem fall under the same head this be a place where you can bring the bruise that can sometimes be get on this project for attention stress alertsthe stress alert program aim at identify user who be stress alert the community of thier stress and work in tandem with the stressbusters at try to identify cause of stress and eliminate them note from the editorwelcome to this new format of the esperanza newsletter which come about during the last advisory council meeting we hope you like it the major change be that each month right after the council meeting this will be sent out and will include two feature program and a sum up of the meeting also it will be sign by all of the advisory council member not just have an esperanzial end of march everyone class mainpagebg style width border px solid cedff background color ffaff vertical align top width cellpadding cellspacing style vertical align top background color ffaff the last ac meeting full log style color future meeting be to be held monthly not fortnightly a before ban and access level change apart from autovoice in the irc channel be to be report at the new log in the irc channel there be go to be only one bot at a time the charter require member to have edits and week edit why this be the case will be clarify a new code of conduct will be draft by and propose to the esperanza community the npa reform idea be to be drop officially charter ammendments be to be discuss in future not vote on the advisory council be not go to be propose to be expand by the advisory council themselves if others want to propose it they will listen',\n",
       " 'fradulent claim i be most certainly not a sockpuppet of thechief please retract your fradulent claim at once',\n",
       " 'that be quick if we only limit the discussion for change the title but consider the previous discussion for month can have a valid reason for the move',\n",
       " 'july utc p s feel free to leave a message on my talk page if you need help with anything or simply wish to say hello',\n",
       " 'and of course peiser be more than just a social anthropologist he be one whose recent research have focus primarily on the social aspect of climate change and be thus at least a qualify to comment on the state of consensus a a historian regard his study it have not be publish in a peer review journal but the result have appear in many reliable source in effect it should be treat no differently than a if peiser himself or any other scientist have verbally relayed the conclusion directly to a reporter literally ten of thousand of wiki article contain such reference direct quote from scientist which appear in no other source but through the medium of a reputable reporter',\n",
       " 'hi hi good day my deepest apology that i have make the change i have make the change it be because i be there on the day i be there on the day when they be all line up the most straightest one straight line the most big the most brightest and high star in the sky over my head when the clock strike exactly at the noon on that day the date which i provide it be the most beautiful thing i ever see i know many thing need prove but i know what i saw that day it be up to you now but it be okay if black and white prove to be need i do not have any my sincere apology for the trouble i have cause you i be from south east asia i be a asia and i come from a very traditional chinese family have a pleasant day',\n",
       " 'you should be fire you be a moronic wimp who be too lazy to do research it make me sick that people like you exist in this world',\n",
       " 'it look to me like he be violate wp npa but it be pretty minor i will point this out to him and if you two be have a content conflict then you can try the mediation cabal by the way it be generally easy to sign with than type out have a stop by in the irc channel if you want far advice by the way talk',\n",
       " 'a pat on the head kc you be one of the most dedicate wikipedians i know and i be madly in love with you i would give you a barnstar but in the end you would just chew it up and bury it instead let me offer this metaphorical pat on the head that will do pup that will do see you around tropic',\n",
       " 'note that the sandbox be the right place to experment thanks',\n",
       " 'friesers opinion be simple i guess kursk be no turn point german be on retreat before and after i think he correct russian have more personnel before and after they improve their skill glantz this in combination force german to retreat only the loss be not the problem after the battle of kursk the tank and infantry strenghts be more in favor for german then before some week after kursk german tank strenghters be high than before kursk zetterling',\n",
       " 'oh i do not know thanks',\n",
       " 'lois roisman your piece on lois roisman omit much of her background and everything to do with her death i have update it please review if there be anything you want to add',\n",
       " 'know the sex of the foetus',\n",
       " 'i think that your a fagget get a oife and burn in hell i hate you be sorry we cant have any more sex i be run out of conndoms',\n",
       " 'may',\n",
       " 'sorry the link you give me be dead and i format in harvnb so plz help in that matter',\n",
       " 'reply above that be me loser the un defines vietnam to be part of southeast asia and far a i know vietnam be part of asean and use to be part of french indochina with lao and all those shit country anyway your culture have always be more influence by sea than han chinese a in proper yangtze han chinese not the fringe indigenous tribe in guangzhou guangxi just admit that you vietnamese be all a bunch of wannabe crap people all the east asian people i have spoken to think of vietnam a a very integral part of sea and we all think you be backward dirty and speak in a horrible swear language do not matter what crap you spout on wikipedia will not change the way people in the real world think',\n",
       " 'august wow i understand that the sentance i add be not crucial and really do not change the content but what be this have the community not gotten small be it not cause by the automobile have i not source the statement a ask be it not a fact be it not information do it not help inform people a to why forester fall be not a large a it seemingly once be be it not the only peice of information in the article that bridge the span of time between and present be the usfullness of the edit the only criterion use to determine if it will be revert or not if so it should be note that i simply re add the information after it be remove be not the removal frivilous and unwarranted what be the problem why insist on the absence of this statement it be unjustifiable it be negligible i be re add the information a it be a factual b source and c informative i assume that since there be no reason to remove it again or in the first place that you and all other wiki nazi will relax if you be concerned with useless edits please see the edit fom the th i know it be carry out by the great infallable mindmatrix but imho that be the first useless change',\n",
       " 'you be a stupid fuck and your mother s cunt stink',\n",
       " 'eta john d haynes house sarekofvulcan talk',\n",
       " 'new userbox tabtab id tabtab id c white tabtab info this user be a faggot tabtab info c lightblue tabtab border c black tabtab usercategory lgbt wikipedians tabtab nocat tabtab tabtab tabtab nothis template automatically categorizes the user in lgbt',\n",
       " 'december utc mendel do not talk about those change at all mendel be refer to the conspiracy section that use to be there',\n",
       " 'please do not vandalize page a you do with this edit to budweiser anheuser busch if you continue to do so you will be block from edit ✰✰ echo',\n",
       " 'correct dead be dead there be however leves of wound hence the emphasis when they be serious this be not a pov adjective',\n",
       " 'i fix the pic if anyone still feel that it should move it can be do the voice',\n",
       " 'george w bush approval rating graph http upload wikimedia org wikipedia common george w bush approval rating with event svg the circle for the september th attack look too far right think you could update it why be the data point post omit',\n",
       " 'sorry to interrupt but i be at edits now the first be likely just on my own page and because i be ask for help so much so maybe just or maybe less but it still kind of count ♥♥amulet♥♥',\n",
       " 'absolutely use of that word be strongly mislead even with like the structure have nothing to do with mastaba a burial chamber basicly mastaba by definition have entran ceinner space this structure be one solid pile of rock with no inner space or entrance it be ment a a wall fragment',\n",
       " 'i just notice that the neutrality of this article be dispute not by me in light of that i again ask that my post here and my invitation to discus how and whether neutrality can be achieve not be delete it be highly relevant and relatively urgent bearing in mind the rule that there be no emergency on wikipedia in time convergence on truth will be achieve',\n",
       " 'editor do not care about your explanation if they be not accompany by reliable publish source i could explain why i thought dog ate cat but i would get the same reception if i do not provide source stop edit war and present source talk to me',\n",
       " 'about mitch move to yggdrasill i have no idea it be not me on do that',\n",
       " 'sockpuppets and impersonator the two above sockpuppet impersonator account include',\n",
       " 'oh also would not film that be name three or some variation thereof be list on the disambig page and not on here just wonder because it make much more sense to me i apologize in advance for certain individual who be too sensitive to hear the truth',\n",
       " 'review request hi i would like to request klm for a ga class review can anyone do that it seem to have many similar stuff to other ga s such a kenya airway and ethiopian airline cheer breaksfixes',\n",
       " 'i do not at all propose that it should be transcribed a meːn in this or any other article if anything at all just a brief mention of the raise of trap and mouth in a pre nasal environment would suffice i just thought it be an american thing to raise before nasal i do it myself but i often hear aussie do it quite a bit a well and i do not hear english people do it at all the only difference be that american have a tendency to diphthongize it a well a raise it i be not really surprised you do not have a broad accent be a wikipedian i be not say it be not possible you be right i be just kind of think aloud',\n",
       " 'homosexual be intent on legitimize their behavior therefore they will seize any opportunity to suggest that famous person be gay in this way their way of life will be receive a be not only harmless but perfectly normal a generation of people grow from childhood to maturity and be expose to this strategy they increasingly develop a tolerance for homosexuality in this way it be now almost universally accepted a a diverse or alternate behavior or way of be similar to a religion race or nationality lestrade',\n",
       " 'al messier this article be a non notable biography accord to the criterion set out in wp bio aeropagitica',\n",
       " 'link to sacramento i place a wikipedia link in this article where the word sacramento appear another editor who appear to be stalk me and be revert everything that i do claim that i be overlinking by do this i have read the policy and think i understand it and i disagree with him the word sacramento be not link anywhere else in this article before i make the link and i think that my link provide good context for a reader who do not know walnut creek but thought that maybe they knew sacramento be there anything wrong with my link i would like someone objective to give their opinion',\n",
       " 'your blatant pov push neither of you guy have make any contribution to this italian history article other than to shove your unhistorical unconstructive modern pov in my face this be a history article history have you heard of that this be the reason why so many people get piss off about the pedantry and idiocy and triviality of wikipedia j sus get a f cking life',\n",
       " 'reliable source indicate otherwise please do not insert your personal analysis into the article talk',\n",
       " 'i do research thank you very much and it be not in the relevance of the article i think you may have to reseacrh wp el to amke sure you realise the fact about why these link be be delete i be willing to agree with people that only the official site should be there therefore i shall delete the game site and the otehrs now',\n",
       " 'a totallydisputed notice would probably be appropriate give the depth of disagreement that exists here but i can not understand why highlight statement identify by some a dubious would constitute disfigure the article slimvirgin have also use that word recently but i rather think that inaccurate and irrelevant information be more of a disfigurement than be a template notice to answer your second question my side have brought forward a proposal and the other side have not yet respond this be sadly consistent with recent pattern of delay i will make no comment on whether or not this be a deliberate strategy',\n",
       " 'i have abuse nothing your threat be extremely disrespectful to the rule of wikipedia all i have ever do be try to improve the quality of wikipedia article and maintain the standard of quality i should not be treat like a vandal who only register to muck up article my account should not be block i should be an administrator',\n",
       " 'give me a permanat block raseac remember me muslim dont you worry for these image they be try to hurt u but they cant look these image be fake and have nothing to do with islam or our prophet even their article be so lame wikipedia be not an authentic source it an encyclopedia for the kid which have not authenticity anyone can edit or write whatever they think just like raeasc you can see he do not know what islam be and he talk about it so forget about wiki it lame they have no authenticity i recommend they should add piss christ in jessus article they should',\n",
       " 'invite hi i still do not have time to write the article about the fundamental of the romani culture and society that would have permit a normal presentation beyond the stereotype i hope in the near future i will manage to do it from the last discussion i just manage to organize well category romani people by country and category romani people by occupation and create some more article about romani person',\n",
       " 'i ask him a question about recall maybe that would make you less troubled account',\n",
       " 'say no consensus be ever reach a he revert my edits here',\n",
       " 'i find it difficult to control my emotion and i still feel that mr logy wogy be bad',\n",
       " 'fuck you block me you faggot pussy',\n",
       " 'attack another editor how i be try to make a point about how easy it be to edit wikipedia and his piece on george orwell s page prove my point it be common place for wikipedians to help each other make well and a lot lesser bias edits and that be all i be try to do so if you would not mind please could you remove that warn',\n",
       " 'please see ref of this article mention by wikipedia for young patent holder of india moreover i mention about news late book about real life hero by provide notable reliable reference do not you feel dna group be reliable notable reference a it page exists on wikipedia do you really believe that what ever or who so ever provide information for this article be have bad intention in your word sock meatpuppets do i ask suggest anything from you to edit or write i be a free man to send information you be a free person to analyse it be you above wikipedia when ref of this article mention by wikipedia for young patent holder of india for the subject why you speak in bad word your word verbatim any book or review which repeat the india s young patent holder and the young disabled patent holder in the world claim that bhati and his supporter be push fails a a reliable source how can you discourage people from send information which be relevant reliable notable',\n",
       " 'randroide answer to next step guy i do not see you take step to wikipedia request for mediation i can not do this job because i always connect from filter institutional net access and follow those step could result in new undesired controversial truncation of word by the software i do not want that happenning could you please follow the instruction in the link i provide thank you randroide answer to new reference by burgas at last we agree on something of course that the new section be a good idea the false suicidal terrorist from prisa will also be include there come oooooon boy start write that section i do not want all the kudos for myself the new propose article be by now an effort make only by me but remember npov and source all the source just like me cite el país in the section about the doubt about the genuineness of the th bomb cheer indeed a good point and all the remark in cope too and the moral certitude of mariano rajoy publish in el mundo i agree with you larean what randroide omits to mention on the section about the th bomb be that he only add balance reference when i insist that he do so the original version he create be entirely pov a be much of the rest of the propose article also all the source that he add from el pais be only available to subscriber npov it be not you be right southofwatford in your randroide omits section if you have not subscription to el país i be sorry but that´s your problem my institutional access also have some advantage like paid access to el país and many many other publication and book that´s one of the reason for my exclusive use of filter internet access it´s much easy for me to work here due to the easy availability of source do you see the truncation of word be offsett i think by well source btw if you write under a randroide answer section you be invade my space i do not mind really but you be do it risk new truncation on your message to avoid this please write outside randroide answer section if you think that the propose article be pov work in it to make it npov the article be not mine i will take the risk of you truncate the reply and put it here it be very short the issue be not whether i subscribe to el país it whether the people who read an article in the english wikipedia subscribe to it all source use should be accessible to all reader of the article put in a source that reader will not be able to see just so you can claim the article be npov be to my mind completely unreasonable all source use should be accessible to all reader of the article very funny southofwatford i be go to follow this joke of yours please propose also the deletion of all book a source because do you know there be always someone without this or that book delete all reference to tv or radio station because that user in brazil have no tv and no radio at home delete all the reference in spanish because do you know there be user who know no spanish it´s a pleasure to read this kind of funny joke really i have a good laugh user southofwatford how strange that you should find it so funny after all most of the source we be provide should enable user to find out more information about what be be source so to deliberately choose source that require those user to pay to see the information be not funny it be simply bizarre equally in the english wikipedia i would argue that choose a spanish or other foreign language source when an equally valid source exists in english do not make sense except perhaps to those who be too busy laugh your cynicism be evident in your response',\n",
       " 'hence why i remove it content of that nature be not suitable for wikipedia proscribed by wp not but perhaps for one of it sister project such a wikia',\n",
       " 'pirate incident i have remove this statenment a it do not really relate to the episode much plus it be kinda off topic',\n",
       " 'and check this out http www cla purdue edu blackmon c critical html bio',\n",
       " 'kill all nigger i have hard that others have say this should this be include that racist sometimes say these',\n",
       " 'new user hello gogo dodo i be a new user on wikipedia and just want to ask if my new page could be remove from the deletion list my new page be kaburst and i still have a lot i want to do with it i think the reason it be consider be because it start off like it should be in wiktionary but yeah just give me some time to make it well thanks',\n",
       " 'regard edits make during december utc to josé mourinho thank you for experiment with wikipedia your test work and it have be revert or remove please use the sandbox for any other test you may want to do take a look at the welcome page to learn more about contribute to our encyclopedia if this be an ip address and it be share by multiple user ignore this warn if you do not make any unconstructive edits',\n",
       " 'december hello and welcome although everyone be welcome to contribute at least one of your recent edits such a the one you make to smoke bomb with this edit do not appear to be constructive and have be revert or remove thank you',\n",
       " 'you be wrong although i be block on some occasion i be never block for sockpuppetry or vandalism it be because of dispute on multiple topic with various sock of user hkelkar user vandalpetrol both of which be permabanned i have never use any other account if you be permit to edit then you should get other account delete which say you be indeffed no blast',\n",
       " 'i only delete personal attack',\n",
       " 'please please continue tell me what you really think',\n",
       " 'an important message block me i can live with it the mess that s be make of parker v district of columbia be why wikipedia can not rise above the level of a sophisticated blog the controversy section do not belong there in the first place and the fact that you and other non expert be issue warning indicates wikipedia have become a sandbox for idiot sorry i can not be more polite but that s the long and short of it',\n",
       " 'i be move this to the talk page',\n",
       " 'very well i see that consensus have form to show that they be indeed not pov but bad judgement on my part thanks for the comment anyway coldplay expért let be talk',\n",
       " 'http www user bigpond com montdale page html heritage from village κρανιώνας in macedonian дреновени source claim that the village be pure slavic',\n",
       " 'the organization of sub topic culture be thrown way down towards the end after economy and tourism which be inappropriate the information section be unnecessarily load with history and detailed geography which make it not only uninteresting but also repetitive information be intersperse all through the sub section without regard to whether or not they fit there eg the geography section start with the fact that up be the th large state that be not strictly geography and belongs in the introduction climate belongs towards the latter part of the page perhaps before toursim region and city be not such an interest combination in any case city of uttar pradesh can be an interest topic on it own because up have several interest city and region each with speciality of it own like the copperware of moradabad ceramic of khurja and carpet of bhadohi in fact i remember there use to be such information in the article before',\n",
       " 'i do not know the answer to this but legally how be it possible for a private citizen to violate another private citizen s civil right i do not know if this be the section nelson be charge under in the federal case but if anyone could explain this i would appreciate it you can argue whether or not the outcome of the state murder trial be justified that s really not my concern here since it be a dead letter i be concerned about whether the subsequent civil right prosecution be legal if the state murder acquittal be a miscarriage of justice it be not the first time look at issei sagawa part of have a mature understand of this sort of thing be to realize that the criminal justice system be not perfect and that it be inevitable that innocent people will be convict and that guilty people will be acquit from time to time that s the price you pay for have a legal system in the end someone have to make the decision and sometimes they may not necessarily get it right i do not think it be go out on a limb to say that the sagawa case be completely beyond all reasonable belief',\n",
       " 'burn deck if that would guy s burn deck be like what i think it be than he be in for a blrude awaken leviathan motherfucker',\n",
       " 'decesed group member i have see a few article where band member have their name sollowed by decease whats wrong witht that it be just a little extra information for people who do not already know this surely this be the main reason such the article exist in the first place or even why the whole wikipedia site exists what be so bad about add this word after people s name if they be no longer with u it be factual non opinionative and do not slate them in anyway',\n",
       " 'fatima bint asad i notice you add a large chunk to this article recently could you post your source webpage book etc it would be really helpful thanks july utc',\n",
       " 'i add information about mayor de blasio s announce decision about charter school but someone remove the factual information because they say it be not reference it be factual but not reference i tire to add the information again with reference but be not successful i correctly add the race and sexuality of chirlane mccray once but someone the same person who remove the factual information i provide under charter school be incredibly rude and state it be vandalism and report it how can this be and why be these description consider negative who decides what be revert on chirlane mccray s own wikipedia site the word black i prefer african american be mention six time and her sexuality be mention over and over again these be not assertion at all and can be reference by an approve wikipedia site and chirlane mccray s own important writing what be the problem',\n",
       " 'please stop add nonsense to wikipedia it be consider vandalism if you would like to experiment use the sandbox thank you',\n",
       " 'well i will use my user page then do not tell meyour gon na remove it too because that will piss me off and drive me nut also i be not make a personal ttack on jimmy wale i be say he be a bit to greedy dont you think he be get million dollar already and now he be ask for more',\n",
       " 'i thought i would offer you some advise aswell no wikipedia edit war no argue with wikipedia administrator may i also remind you of the three revert rule',\n",
       " 'u r a tw fuck off u gay boy u r smelly fuck ur mum poopie',\n",
       " 'it also expressly against guideline to sneak in disallowed link in the discussion section a froman have do with his youtube propaganda link above but a evidence throughout this page the rule do not seem to be apply to froman why do not you just go whole hog and add it to feith s main page there be plenty of unencyclopedic source there now and no admin seem to have a problem with any link anonymous left wing blog whatever you care to use seem to be fair game for froman',\n",
       " 'deletion of account ok blueboy edit from l gng l have be disabled by blueboy for the follow reason s come back from hour block and picked it right back up again and judging by history not likely to get it for this this be to call attention to a topic which be resolve before any of the matter be address there be moderator delete wikipedia history item and moderator borgqueen s edit of cuisine of hawaii be simply a provocation and nothing more i be a reknowned chef of pacific rim cuisine and the cuisine of hawaii and the cuisine of hawaii be not local plate lunch that be like say the cuisine of mexico be frozen burrito or that the cuisine of canada be starbucks pastry or that the cuisine of america be mcdonald s it slanderous vicious and spiteful the main point here be why do the admin in question delete the history and no it be not resolve until that problem be address and i try discuss it with that user directly and my account be lock that user be not open for discussion or ddebate that admin suffers the god complex and lovcked me from even edit my own page hence the reason i have to wait to be unbanned to post here and i be not leving here to back and become corrupt admin fodder back aon the topic page until thius matter be resolve between borgqueen and myself a i i will not subjegate myself to any far discrimination haze or personal vendetta not likely to get it eh buddy listen up you will delete my user page and account from the wiki grommet you be not go to lock me and keep my name content or profile i be out of this facade which be wikipedia for good delete it all now grommet',\n",
       " 'listas sabina of bavaria',\n",
       " 'bad redirect please remove the redirect from the x c page that aircraft be distinctly different in design builder mission etc and restore that aircraft unique content to it page',\n",
       " 'more info thanks for enter this article there be a few error which i have correct it would have be nice if you have not simply cut and paste the text from the clear lake article',\n",
       " 'his name be troy tedford not troy telford i be look at his orginal discharge paper right now i also have his orginal purple heart with olc the man be a war hero in the big world war ever i myself be a historian history degree recieved dec of from atu',\n",
       " 'it be interest to note that both aircraft land at the same airfield in hawaii',\n",
       " 'thanks for fix that again an exquisite picture',\n",
       " 'and i would like to clamp down on them',\n",
       " 'and man have also create new word even after modern language have already be establish',\n",
       " 'it be in the history or more conveniently in your own contribs thank you for the explanation but that be not a big deal i be more upset by your second post—waving me off with a sneer about grow a thicker skin and a finger waggle about profanity —treating me a an insensate piece of internet polemic rather than a fellow human attempt to give an honest account of herself an account which mackensen promptly remove a you say well i understand that try to contribute to the workshop be a bad idea in the first place—running full tilt into tony sidaway after manage to avoid him on irc for a whole month to the immeasureable improvement of my quality of life anyway i have always see you a somebody who stand up for the underdog — i remember praise your addition of this edit to the harassment guideline—and i be sad to see there be no mutuality of respect talk',\n",
       " 'some type and be on a soap box',\n",
       " 'yes they be indeed i have replace that second one with a summary of woman s right talk',\n",
       " 'anyone can do an in text search for and and see the article do not rely mainly on one source the publisher in fact the grand total of two citation reference the publisher be for pure fact issue such a the number of item that be in the part library',\n",
       " 'gore response can anybody find gore s response to bush s malaprop why do not gore a the inventor of the darn thing club him silly after that one',\n",
       " 'pls give a reply yes or no',\n",
       " 'neither of the two add cite support the assertion misconception hyphen and dash be the same glyph it remains unsourced and a near a i can tell there be only one person make this claim despite all the claim of consensus unsourced material get remove that s wiki policy i have give you a month to find a source or reword the entry so that it reflect what the source actually say i be restore the citation need tag and if there be no source in a day or so the entry will be remove',\n",
       " 'a short summary of reference essential faq for organization i notice you have also disclose an association with frank on your userpage thanks for that it make work with you and know where you be come from a lot easy if you have any question about my review of your article do feel free to leave me a message or send me an email cheer sonia♫',\n",
       " 'for your information you have already be report fair mind talk about yourself and your refusal to allow for relevant information which be factual from be post you be obviously the bias party and an inappropriate representative for wikipedia',\n",
       " 'same for file seankilpatrick jpg and file connorbarwincincy png',\n",
       " 'y r we do this pat',\n",
       " 'thanks for the copy edit omg it read so professional i appreciate it a lot yeah i knew that that would be a problem okay here s the back story to it danny have body paint while he be a robot during a sketch during the after party in which the theme be a black light one everybody could see that danny still have paint on him a it have not wash off or something to be sure jack have a black light switch in his apartment and when liz come in he turn it on which result in liz have the paint all over her see here or if whatever i just say do not make sense read here and here about the paint still on danny and the black light attack yeah i thought maybe if people saw that the ga note they will not leave me a message though that do not work a a user left me a message regard an article i review this have to work in the future i be a have to make it well i still have not gotten the chance to see it but i have to see it i need to know what happen and stuff well after i get the news that he lose i start watch his dvd and tell myself that i will never see his wrestling move again i do not cry i be just sad the night on raw i lose it and cry whatever i do not think that be cool shawn do not mind but i do not really i still do not see that face like quality to him i think they will play randy out like triple h you know good with the crowd but still have him heel ish maybe cause all the new people be heel and they need some face who know speak of randy today s his birthday turn well if you remember his first punt victim be shawn so nice to see that he do that to cody all in the storyline nici you be welcome for danielson and miz i guess hit',\n",
       " 'if width style background transparent width style background color style width border px solid background color vertical align top hello lceliku and welcome to wikipedia please remember to sign your name on talk page by click or use four tilde this will automatically produce your username and the date also please do your best to always fill in the edit summary field below be some useful link to facilitate your involvement happy edit width style background color style width border background color vertical align top get start introduction the five pillar of wikipedia how to edit a page intuitive guide to wikipedia find your way around table of content department directory edit article how to develop an article manual of style style width border background color vertical align top width cellpadding style vertical align top background color get help style color frequently ask question cheatsheet where to ask a question help page new contributor help page article wizard a wizard to help you create article',\n",
       " 'i do not know how that get to be but i be a big supporter of the x file and i have like see almost every episode and not once do it mention mulder be the father of scull y baby can not have watch very carefully can you william be mulder s son be frequently reference to in the final episode just off the top of my head guard what be you think about mulder my son his mother scully our son mulder i give him up our son i be so afraid you could never forgive me not to mention the meaningful look that mulder and scully give each other when the officiator at the hearing asks agent scully be not it true that you and mulder be lover and you get pregnant and have his love child',\n",
       " 'citation rèf saumur v the city of quebec s c r § endorsement rosemary decaires',\n",
       " 'education please keep the list of college in pittsburgh a list of college in pittsburgh if you be not familar with the area do not edit this list greensburg washington mccandless and california be not in pittsburgh please do not be offend when i enforce this also a pittsburgh mail address do not mean that the school be in pittsburgh the address extends far in some place a minute ride away thanks',\n",
       " 'until you find the way to put the cite that be in the page back i be throught here',\n",
       " 'we descendant of otman baba trough mehmed ali karakoç be sunni muslim s and not alevis',\n",
       " 'could you clarify do you want me to start an rfc i do not see that one be list in the page history of talk rasmussen report',\n",
       " 'atheism be full of bias shit',\n",
       " 'you beat me to it just want to say good work for beating me to the revert on the ned kelly article i always enjoy it when i know someone else be on the hunt for vandal happy hunt cheer pro',\n",
       " 'you remove the link to the same reference use in the health study which say that a reduce use of the mmr vaccine be why waldorf kid have few allergy from the section on immunization wtf would data from the whole of california count for you the private and public waldorf school in california have personal belief exemption rate of to of their kindergarten class regardless of what the official position be and i assert here but would not do so in the article that the official position be a lie in order for waldorf education to not appear like a complete cult waldorf student be grossly under vaccinate that fact should be in the article',\n",
       " 'thanks for that i will take a deep breath and have a go at an intro tomorrow i identify the source of the phrase london over the border and show that the boundary be contest in the footnote i have clarify the diaspora section and will justify the statement by reference to the victoria history article on west ham and east ham hopefully i will struggle to a justification without substantially change the outcome of the previous discussion then move onto to standardise the reference probably section by section',\n",
       " 'german article of the day dear jimbo german wikipedia be proud to present the article of the day http de wikipedia org wiki wikipedia hauptseite really thrill really amaze worth a glimpse http de wikipedia org wiki fremdk c brper in anus und rektum you might improve your german reading it there be a lot to learn yours sincerly',\n",
       " 'i agree like i aready have state that this be peripheral to main article but nevertheless important because i merely underlienes the mythomania propagate by both side my only interest here be historical reality dab why do not you actually analyze the situation rather than offerring your usual smart alec remark lontech s arguements have be shot to piece summarily and everytime this happens he engages in tangential and irrational behaviour commonsense will tell you there be no long last state or kingdom in dardania before roman time we can t just allow the intro paragraph to read like some kla recruiting web site',\n",
       " 'i found one sort of anyhow the web site for jewsforlife org be not load but i have an article from them in a catholic source i be go to remove the erroneous sentence now in hindsight it would have be great if this minor content issue could have be resolve with reference in the first place',\n",
       " 'i have provide plenty of reference material yet you have provide none all writing in chamar section have come from source that be verifiable yet you have provide none you be the one with the eccentric idiology you still have not provide any verifiable source to show that ramdasia and chamar be different chamars that take up weave be know a ramdasia s a simple google search on ramdasia chamar will provide you with countless link bal',\n",
       " 'block evade ip block guy',\n",
       " 'i see that it have a number of citation on pubmed',\n",
       " 'hey why you be spread misconception and try to spread false information to the people you not even know who won the battle and who lose you be the cheapest person on the earth bloody ignorant fool check source before spread rumor',\n",
       " 'i should add here for any admin consider that i be block for hour by user sarek of vulcan week ago so there be more background if thats relevant and i should have learn my lesson then pax talk',\n",
       " 'change of username usurpation request request still in progress mb m → mmitra hi i have request for change of username use usurpation from mb m → mmitra it be almost day from the date of request but still it show in progress i would like to know how much time do it take to complete the request and how long would it take to complete please reply a soon a possible thank you link mb m → mmitra',\n",
       " 'utc december',\n",
       " 'because otherwise be pov look at flemish linguistics case',\n",
       " 'yes mainspring be use in some clock a well please feel free to be bold and help improve the article',\n",
       " 'get normal term be use by a german politician by the way i get it from there',\n",
       " 'keep the original title at xbox although you can have additional like like xbox and x box that redirect to this article',\n",
       " 'and you be let me know when you have crawl out of their arses dick laurent be dead',\n",
       " 'the problem be that people keep try to state that bsas policy be this and that there be no policy that say homosexual scout can not be member to state otherwise be a lie and or just be it be a contraversy page do not allow you state lie or add or you can list thing a misinterpretation of the rule and thing like that but it you try to say scout do this or scout do that then you need to be sure scout actually say that even the misinterpretation of the rule need source just because an editor might misinterprete the rule do not mean anyone in mainstream have can you find a source for somewhere where a homosexual youth be remove from the program just for be a openly homosexual youth then insert it unless you have it or an actual policy from bsa that say you can not be an openly homosexual youth member then what be be add be or',\n",
       " 'level message hello and thank you for experiment with wikipedia your test work and it have be revert or remove please use the sandbox for any other test you may wish to do i encourage you to also take a look at the welcome page to learn more about contribute to our encyclopedia thank you for your interest in wikipedia',\n",
       " 'i be focus on do science at the moment lead the revolution',\n",
       " 'another question do this style information strip occur only whenever a shape itself be edit or for less intrusive edits such a move a shape around if even highlight and select the shape in inkscape make it unusable then i should not even be mess with inkscape at all',\n",
       " 'article about ed morrissey hi i have just move our article about ed morrissey and captain s quarter to ed morrissey and start bring it up to date would you be able to take a look at it and please fix any defect you spot thanks cwc',\n",
       " 'i can see that you have be run around several talk page accuse me and several others of edit war please go on and prove the same or else you will be the first one to be block moreover you can not prove your pov and when defeat go around make accusation be a good way out communist',\n",
       " 'yes i receive the confirmation e mail on with username my e mail address and password uuuh it be',\n",
       " 'i be currently block from edit so i will be unable to add that tag however i do take that picture',\n",
       " 'this user be such a worthless goddamn faggot fuck you faggot',\n",
       " 'it be an unsourced aesthetic opinion and therefore violates wp nor and or wp npov',\n",
       " 'image popclassic jpg i have tag image popclassic jpg a because it do not provide a fair use rationale if you believe the image to be acceptable for fair use accord to wikipedia policy please provide a rationale explain a much in accordance with the fair use rationale guideline on the image description page please also consider use or one of the other tag list at wikipedia image copyright tag fair use thank you man',\n",
       " 'fuck off you be not an administrator you do not have the authority to tell me what to do',\n",
       " 'how adorably disingenuous → ₪',\n",
       " 'well you be ridiculous in fact i suspect that you be calton please block me i dont care',\n",
       " 'orangemike time to move on to collateral target i suggest user fisherqueen the girl who protect him',\n",
       " 'window phone upgradeability hi gregory i revert your change on the window phone article neither microsoft nor it partner have make any official statement on whether device run window phone will be upgradeable to window phone the reference give by another user be blog that be rely on hearsay',\n",
       " 'btw whatever decision an adminstration wish to take he should remember that this block be too harsh give that it be his first violation since he join wikipedia',\n",
       " 'i have try to be a objective a possible and treat the author in my head a someone who s first tongue be not english i think davy be borderline notable but the article be not i spent an hour google davy earlier today and found nothing except that he have translate a lot of stuff well i have do a lot of stuff in my life i be even borderline notable in a small field but nothing to warrant an article on me especially one that precisley nothing link to like this one frankly i hope the author just make it notable i will respond to him with gentlemanly politesse but i can t help him any far',\n",
       " 'shiny thing what a brilliant idea barnstar for actively seek every possible way to help other user especially those i honestly do not think would work but do i hereby award c',\n",
       " 'will you make the change to both engineering article',\n",
       " 'thanks and i apologize for my comment i would like you to know that i understand your position nov utc',\n",
       " 'appearance in historical fiction the young richard steele appear a a character in william makepeace thackeray s novel henry esmond be this appropriate to mention in the article do y all reckon',\n",
       " 'cu and scibaby why be you waste time cue scibaby account which be wp duck i be just indef block them on sight but the cu request make reference to some politics which i do not know about talk',\n",
       " 'per wp ae you have be block indefinitely for persistent disruption to the project include vandalism disruptive edit and sock puppetry a per wikipedia request for arbitration macedonia discretionary sanction if you believe this block be unjustified please request one in the normal manner talk',\n",
       " 'i be sure if you work on article other than arcayne you would do fine you two seem to have a problem with each other so why do you seek him out and edit where he do –xenotalk',\n",
       " 'fuck you fuck you award go fuck yourself',\n",
       " 'sorry about the edit conflict i be glad you be able to salvage my edits a to your question about structure yes i think we will have to think of a way to divide the article into section and subsection also the intro may need some flesh out before confront the reader with technical term like dendrite and axon i will look at it smithfarm apr utc very cool happy to hear you be still on the article i will also do some research to extend it talk contr apr utc',\n",
       " 'february utc comment do the proposal change or something someone add request move banner to this section when it be clearly not one',\n",
       " 'best clan in runescape the gladiatorz be the best clan in r for year now nothe clan the british elite damage inc an average clan',\n",
       " 'i do not even know where to begin on reply to talk',\n",
       " 'please do not vandalize page a you do with this edit to hyperopia if you continue to do so you will be block from edit fisto',\n",
       " 'keep your eye on it no one care ok people can put what they want on here and clean it up all you want but no one care god you be so freakin stupid omnigan',\n",
       " 'the episode list to keep the episode list above the reference',\n",
       " 'over the next hour or so',\n",
       " 's rant presently we be witness an open war against croatian dinaric culture croatian left often portrays this culture a primitive and rural even fashist be in service of conservative hdz party croatian writer predrag raos for instance perform on gusle instrument in zagreb on several occasion this year with only one intention to ridicule the same instrument and it rich poetic tradition another apostle of croatian left miljenko jergović refers to his political opponent on the right a gusle player some even claim the serbian origin of croatian dinaric culture follow the line of traditional great serbian propagabda all štokavian people and their culture be serbian however croatian dinaric folklore and it rich gusle heritage be primarly croatian dalmatian costal region have be historically associate with this culture for example the first write document about the most popular folk hero of traditional gusle music marko kraljević be associate with dalmatian island hvar through petar hektorović s book ribanje i ribarsko prigovaranje also the first historical document which mention gusle player and it instrument originate in dubrovnik even now a contemporary croatian writer born in dubrovnik stijepo mijović kočan tell u a story about his uncle also from dubrovnik area who could memorize numerous gusle song stijepo mijović kočan gusle glasnik may p dubrovnik be also a home of anica begin born kalafatović a daughter of famous gusle player ante although illiterate she be able to recite by heart an immense number of gusle song some of which be record in antology of croatian folk poetry not far from dubrovnik another coastal city makarska – be also a bastion of croatian gusle music actually this region could be consider the capital of all croatian gusle player this mediterranean area also give birth to andrija kačić miošić th century catholic priest who be view a the father of all gusle player of croatia and beyond to honour kačić s work ivan meštrović the most famous croatian sculptor built a sculpture in america show kačić in his priestly clothes play gusle instrument in addition to kačić makarska littoral produce a great many other follower of croatian gusle music accord to dr fra karlo jurišić who quote the work of croatian folklorist stipan banović zaostrog alone produce a great number of gusle player start with stipan kosović kudrić and culminate with the most know mate banović – trliš a for dalmatian woman they do not play gusle it be consider a male activity only yet they be actively involve in spread gusle music by imitate it sound olinko delorko the researcher of dalmatian folk poetry in the s state in his book ljuba ivanova that most of his dalmatian folk poetry collection be obtain by woman especially the one from the island of hvar the zadar littoral also witness strong gusle tradition english writer maude m holbach travel through zadar region in the first decade of th century state in her book dalmatia the land where east meet west that the gusle be the national instrument of the region a for dinaric dance which take place at market and certain festival they be very picturesque and interest and worth go a long way to see be a survival of ancient custom probably unique in europe p this admiration for dinaric folk music particularly gusle be see in both dalmatian litteral and hinterland matija murko the researcher of this literary music form have report that during his trip through dalmatia in the s he saw a child barely three year old play gusle eduard osredečki “ hrvatske narodne junačke pjesme ” željezno beč p now let take a look at the name of some dalmatian sport club and organization hajduk junak gusar alkar uskok sinjska alka etc what do they have in common of course their name refer to the heroic gusle tradition of the region have this in mind one wonder why this proud croatian heritage have become almost extinct why do we have so few gusle player today be it a result of unavoidable urbanization of modern croatian society where peasant culture be be consider inferior to global rock n roll culture if so why have tamburitza music of northern croatia gain wide acceptance from the croatian establishment while it dinaric counterpart gusle music be look upon with suspicion and open hatre',\n",
       " 'the total population million do not match with the e sum of the reference populationsbelow in the infoboximages in infobox',\n",
       " 'to a convict felon',\n",
       " 'matt hardy be so fucky italic text medium example ogg amatt hardy be so fucky',\n",
       " 'lol censorship you be really disappointed that npov be a core policy be not you talk ⋅ contribs',\n",
       " 'mfd nomination of wikipedia try your best wikipedia try your best a page you substantially contribute to have be nominate for deletion your opinion on the matter be welcome please participate in the discussion by add your comment at wikipedia miscellany for deletion wikipedia try your best and please be sure to sign your comment with four tilde you be free to edit the content of wikipedia try your best during the discussion but should not remove the miscellany for deletion template from the top of the page such a removal will not end the deletion discussion thank you contribution talk',\n",
       " 'redirect talk list of south carolina stingray season',\n",
       " 'who care if i be block on myspace or pulse music board then i would be more concerned',\n",
       " 'http www theatlantic com entertainment archive linsanity how the internet make jeremy lin a star in less than a week source explain why he be a star',\n",
       " 'god be dead i do not mean to startle anyone but god be dead we should not worry about him anymore just thought i would let everyone know well goodbye and good luck with your newfound crisis of faith',\n",
       " 'hello i be back bongwarrior s user page will be attack in minute',\n",
       " 'i be always on the request for page protection if i detect any miss errant template to see if the administrator can correct them',\n",
       " 'unsure at this stage it not very clear what word be actually be discuss',\n",
       " 'marvin kitman s do not make me laugh do not appear to exist the citation for much of the early history of the laugh track appear not to exist the publication channel of communication do not exist in the three journal database i have search',\n",
       " 'have you see the reference to their claim you moron this be not a source it´s their pov once i have more time i will reduce your pashtun nationalist povs here on wiki and give order to my uncle and cousin the execution of pashtun in the entire northern afghanistan down to gardez jalalabad lashkargah logar paghman laghman kunduz herat farah whereever immigrant descandants of violent kuchis settle and take non pashtun land away and traditional tajik country',\n",
       " 'rfa question simply curious what be the question you intend to submit here talk',\n",
       " 'when you say irrigiation structure what exactly do you mean i live on an irrigate block which us overhead sprinkers and i be not far from the near channel thye all look the same throughout sunraysia i have get a little spare time now to grab some more shot though i do not think i will get out a far a dareton get any request talk',\n",
       " 'this wiil be my last use of this acount please delete it',\n",
       " 'rr violation by patrickflaherty user user patrickflaherty be revert a source post he be also violate the rr for raila odinga',\n",
       " 'i wasnt really attack him her regard the lisa williams article hmpzzz do you know if lisa can see dead people too i have psychic power too you know i can see the future send all these lisa williams to finland and they will all be lock in jail for be scam artist',\n",
       " 'yes there be definite value in document the scientific instrument module but i do not believe it belongs with the service module sector subsection it be really a payload and not actually part of the spacecraft service so it interrupt the flow i plan to move it to the apollo program mission type section where i think it really belongs when i edit the sector subsection to improve the word flow a bit',\n",
       " 'thank you hei it be me the william hope fan guess what i be back at a new ip ready to vandalize everything regard william hope and you can not do sh t to stop me maybe delay me but no stop me so let salute to some more william hope lunacy by shove his p ni in my mouth',\n",
       " 'yes quite persistent i be about to just create the article myself other new user be go to get lose in this discussion t c',\n",
       " 'fuck you user the bohemian shinobis yeah that s right bitch you be all piece of shit',\n",
       " 'yes it look much well than before at the top of the page it say this article need additional citation for verification may be britannica encyclopedia could help add citation i dunno cheer',\n",
       " 'okay i will give it another whirl via email if bad come to bad i e if i do not get a reply soon than i can always just use new account if i be ignore and that way it will just keep those who have be stalk me tie down busy chase me around rather than try to delete content take care',\n",
       " 'north eastern region of jharkhand wiki say north eastern region of jharkhand be angika region however official language of thesis district of jharkhand be not angika but hindi santali this be confuse so it need some clarification a to how come district of jharkhand where the official language be hindi santali could be angika region only those district would be in angika region where official language be angika',\n",
       " 'the vote be on the campbell case but the primary reason be the russian treaty baldwin be careful to emphasise that the treaty be the substance of his objection standfordham write to the king on october i saw mr baldwin who in reply to my question do you want to turn the government out say yes but not on the campbell issue but on the russian treaty which the country generally condemns he see no alternative to a dissolution it have always be expect some wish for it before now though he be oppose to hasten the government s fall and it be true that only in the house of common be baldwin s stricture base on the campbell case – at newcastle on october he congratulate macdonald on the agreement achieve at a conference in london on the dawes plan for reparation and then spent the rest of the speech alternately pour scorn on the labour party s subservience to it extremist and tear to piece the russian agreement but the final debate on october be a mean parliamentary occasion two day before in a meeting which be something of a suave qui puet the cabinet decide to take it a a vote of confidence prefer to go out on the campbell case to a defeat on the russian treaty which might give the left wing too much prominence —middlemas and barnes p',\n",
       " 'jayjg stop the spin public relation tactic',\n",
       " 'no i just quote bryant that talk about popular and secondary creator they be literally in the same paragraph talk',\n",
       " 'future perfect at sunrise ☼',\n",
       " 'in general the outside source should exceed the inside source if there be an entire section without any reference you do not have enough the lede refers to a dire need this would generally be see a over the top look at the apo article for idea on how to speak about your group',\n",
       " 'that s a rather feeble premise to argue show an excessive number of photo prominently show different woman s vagina compare to one human male penis of the way down the page on the equivalent article for male genitalia this demonstrates the overwhelm male bias in editorial content on wikipedia',\n",
       " 'okay i have now try to just delete the offensive sentence in the begin about mr irving be a socalled holocaust denier he say himself he be not and acknowledges that many jew be kill during the war however he do not go along with the million jew kill figure a he reckons the number to be low and it really come down to that david have the right to question anything relate to history and ww be his speciality and he actually make a living of question and critically examine source i also decide to delete the account about him loose a court case in david have launch several libel case before in he won £ libel damage against an english sunday newspaper the fact that he this time lose be not something that should figure at the head of his cv many people also find it extraordinary that a judge can deside what a person be or be not and what belief he hold',\n",
       " 'there i have make him bold thats well lemmey talk',\n",
       " 'after that my father start take melfalan now it be nearly and half year and his health condition be not good i be consult with the doctor',\n",
       " 'i be pretty sure the incident have already be include and i know how to handle my own at riot too',\n",
       " 'i be afraid that s a broken link for me',\n",
       " 'ok maybe you want to comment on the talk page about that it be interestig to know',\n",
       " 'oppose i find it hard to believe this require an rfc but such be the wikiworld 連絡 見学 迷惑',\n",
       " 'history can someone provide some information regard the contract of the ac service area ac transit use to serve most of the city of the corridor but the city basically kick out ac transit and now run their own service part of the reason be that ac transit be under serve the suburb while spending their money on underutilized service in the urban area that history should be reflect in this article talk',\n",
       " 'please do not create any more elephant nonsense page talk',\n",
       " 'i and —preceding undated comment add i and talk ⋅ contribs we do not care that wikinews even considers dr rafizadeh a an expert and interviewed hin here http en wikinews org wiki wikinews interview scott lucas eyal zisser majid rafizadeh about risk of u military intervention in syria we simply do not care we do not care even if he publishes on cnn or nyt or quote on cnn and new york time like here http www cnn com opinion iran rouhani syria rafizadeh index html http globalpublicsquare blog cnn com job key to middle east revolutionary wave http edition cnn com world meast syria shiite do not matter even if bbc world service make bio of him here http www bbc co uk programme pgsjfk do not matter if cnn and france international write about him and his family member be kill here http www france com en syria majid rafizadeh kidnap family targetted civil war shabiha opposition bashar assad i and talk ⋅ contribs will never change our opinion talk be always right we also dont care that he publish in almost all national and international outlet include scholarly and academic work like here http scholar google com scholar hl en q majid rafizadeh btng a sdt c a sdtp i and talk be right we be jewish and we be right and we will never change our opinion whatever evidence you show',\n",
       " 'be you ok dear i notice that you have be absent from wikipedia for a few day it be uncharacteristic so i hope you be not ill please accept my good wish i just want to see if you be fine regard',\n",
       " 'congratulation for the third of may reach fa and it be still april thanks for your input',\n",
       " 'paula white joel osteen marble cat and a few others these image be correctly retrived and all information be give about the image that be necessary some be even my own and i give full permission for their use on wikipedia mcelite',\n",
       " 'it be not about success it be a phenomenon that go back at least year to the day of sousa and johann strauss however if you look at the article milestone section above you will see it have survive no few than four deletion discussion and we do require credible source and fancruft be remove on sight andemu',\n",
       " 'hate be my topic be hate if you hate a person mean you like that person your hate can turn into your love',\n",
       " 'page i try to create be now an actual page lol you ban me for nothing',\n",
       " 'your report thank you for make a report on wikipedia administrator intervention against vandalism reporting and remove vandalism be vital to the function of wikipedia and all user be encourage to revert warn and report vandalism however administrator be generally only able to block user if they have receive a recent final warn one that mention that the user may be block and they have recently vandalize after that warn be give the report user have not yet be block because it appear this have not occur yet if this user continue to vandalize even after their final warn please report them to the aiv noticeboard again thank you talk',\n",
       " 'npov please stop add not related moroccan issue to sahrawi article while try to look neutral i will revert it again again a that edition be clear pov push',\n",
       " 'upgraded human language family wikicolors png human language family in wikicolors file',\n",
       " 'a kitten for you you be a good person',\n",
       " 'ok here it be peer view for month and publish at academic archive on line diva on a permanent uri urn nbn se kau diva wallin h p an investigation of friction graph rank ability regard the gall phenomenon in dry sofs contact adhesive material transfer and friction a free pdf document available here or www diva portal org found here or at www uppsok libris kb se here use search word gall harald wallin or the direct libris link here',\n",
       " 'pov push faustian insert this in the article the upa s cooperation with jew be extensive enough that accord to former head of the office to counter soviet disinformation at the usia some soviet propaganda work complain about zionist membership in upa seem to be a complete pov to muddy the water and picture upa a an organisation friendly to jew instead of an organisation which collaborate with the german on exterminate the jewish people',\n",
       " 'redirect talk a voice within album',\n",
       " 'wp blp violation i just remove another of your reverts which place defamatory and uncited material into cherokee freedman controversy wp coi may apply to you since you seem to edit african american related article and freedman controversy your dishonest edit summary be over the top',\n",
       " 'be they the anderthals be they the anderthals the same discription a in quran have anybody thought of this',\n",
       " 'the discussion of when there first be outdoor tree with electric light be very strange be you kid and some obscure town in nc i do not think this make much sense especially since the sentence immediately precede these establish that other city have electrically light outdoor christmas tree in the early year of the th century the article cite for the north carolina town if read carefully really only state that the tradition of have outdoor light tree in that specific town begin in not that the town claim it be the first place to have such tree i be old enough to have be around in though i be a small boy and i can tell you that we and our neighbor in southern california have light outdoor tree prior to and no one thought it remarkable or unusual the history here be questionable to say the least',\n",
       " 'what come next once we feel like we have gotten past the dispute stage i would say we have someone should post a request for page unprotection so that we can move the new version in you might also mention that the admin should merge naked short sell workshop in so that we can keep the page history or i will do it later tonight it do not really matter talk',\n",
       " 'redirect talk the best of apocalypse',\n",
       " 'just drop by i thought i would leave a little feedback too a feature picture be not always put on the main page a note by wp potd for example the semi nude michele merkin be not use a it be found too cheesy wikipedia picture of the day unused note several picture that be not use because they depict too much gore or be of a scatological nature a feature picture rating be essentially indicate that the community feel that the image be of high quality and high encyclopedic value on a side note potd seem to be up to thanks for take up the trace pink oboe',\n",
       " 'some of the source list a ny mag cbs news fox news an interview with leighton speak of the subject directly in teen vogue and u weekly a tv guide interview an article in the san francisco gate the newspaper from the town leighton grow up in naples daily news if you do not consider those reliable source you have a problem if you want i can find more source from valid reliable newspaper and magazine everything be valid and source and should not be remove a it be the story of her life wikipedia be an encyclopedia for fact and what be post be fact',\n",
       " 'the reason be the presence of a template base on inconclusiveness on my user page the far presence of the template be to be contest',\n",
       " 'ho ho ho merry christmas i shoulda know the piccirilli brother actiually execute ward s pediment sculpture at the stock exchange happy christmas carptrash',\n",
       " 'i saw that reference and i add a note see note by the name republic',\n",
       " 'hey jim good to see you around you be right i be on a no consensus tend towards delete but not a clear delete because of the two time of india source and one more source again from the time of india that be visible on the search engine what would you like me to do here i can re list the afd if you might prefer that message',\n",
       " 'and if he be a mere fellow editor i would not have any problem with him but since he seem to let the power of be an admin go to his head i have an issue with him please read what remains of his talk page if you need example of this i be a moderator on a very popular internet discussion board and i would never ignore a valid question from a user',\n",
       " 'be gon na help u to he be log in if you want to talk to him on his talk page',\n",
       " 'they look great to me — mar utc',\n",
       " 'april utc wikipedia colour much thanks for fix improve the table code no reason maybe add the info where you found the value be that in common cs all the style be embed highly repetitively if you know your way around mediawiki i have be ask everywhere for a cs guru to clean up all the redundancy on the main page wikicode like we dont all have enough to do already eh so many project so few minion',\n",
       " 'dear mokele you have no right to tell people to die in a fire just because that ip address be be use for vandilism do not mean you can talk to people like that you be in fact a big loser than the person who you block',\n",
       " 'you have new message last change and the notice below result from user arkyan and user avraham target this website a a result of an editorial dispute a to whether to include theodore roosevelt s view of u political corruption on the unholy alliance page i e the unholy alliance a phrase use in the platform of the progressive party united state write by him the unholy alliance a concept elaborate upon in his autobiography their recent edits may be review at special contribution arkyan and special contribution avraham and revert where appropriate',\n",
       " 'peter the roman can some one place this and remove the argentinian chap from the prophecy which be not part of and replace it with this information and place his coat of arm any question just e mail me tarcisio pietro evasio bertone be incharge of the vatican from february to march thus the prophesy of st malachi be fulfil',\n",
       " 'rfc you pretty much blew through my respect when you try to demand i give up my adminship my position be very very simple the afds be invalid they should not have be file i fix the mistake',\n",
       " 'i do not delete material that complies with wp policy accord to your own pov interpretation wiki badass woo u',\n",
       " 'and revert his edits',\n",
       " 'canonicity in general i have be involve in a long discussion over on talk stargate device over whether the stargate in the movie be the same thing a the stargate in the series with centrx argue that they be not and that discuss the stargate in just one article be deceitful i do not think his argument be at all valid but in the course of look stuff up on the web i have discover that some fan of the movie apparently consider the sg series to be somehow illegitimate or non canon i be not familiar with the stargate fan community just the show itself so i do not feel comfortable add discussion of this directly to the article do anyone know any detail about this such a how widespread this apparent schism be jul utc',\n",
       " 'capitalization please stop change low case common noun to upper case a in the company have the company have wp moscaps note that wikipedia avoids unnecessary capitalization proper noun and the first word in a sentence be capitalize and not much more yack',\n",
       " 'see claim three here http onlinelibrary wiley com doi mepo full s that be a reliable source',\n",
       " 'if he be the community manager then first of all it be a conflict of interest for him to be edit this and second of all he have the power to say explicitly on his site that there be no release date otherwise despite who he may be his position be incompatible with wikipedia policy swatjester son of the defender',\n",
       " 'please do not vandalize page a you do with this edit to boil point elevation if you continue to do so you will be block from edit',\n",
       " 'rant to policy hi i think that you should reformat user shanes why tag be evil the vandalism protection tag or at least the idea into some sort of proposal to reformat multiple distract protection tag to less distract corner icon for example redirect to well probably move the later to the former for this case the corner icon work beautifully be much less distract and click them will follow you to a page explain what the lock be for i fully agree that the large box with text be very distract and unnecessary this be especially true when non user wikipedia user read the article which probably constitutes the majority of wikipedia reader they probably do not care that they can not edit the article nor would they and of most concern—they may confuse the tag with the article content thanks',\n",
       " 'hi collectonian it obviously be not appropriate and i agree with the warn give by vicenarian',\n",
       " 'a request in the future please sign after your tag on the photography workshop page while a bot be currently do it for you i e — precede unsigned comment add by',\n",
       " 'i have revise the translation from the spanish by go back to this earlier edit subsequent edits on the spanish language wikipedia seem to have be intend mainly to insert link but have primarily succeed in delete chunk of the original text render the result both ungrammatical and somewhat insensible i have take s translation and incorporate the previously omit text and go over the whole to make it more idiomatic in english it be not quite there yet but be hopefully now serviceable',\n",
       " 'i be sorry if you will not like the answer but i can not accept any word indeed any word in the article that do not reflect or be reflect in source would any of your patient be happy with an almost successful operation i care even less about the yugoslav medium then i do about yugoslav politics it may not be what you want to hear either all i can do be repeat that there be no way in this world that the yugoslav troop be operating under independent command during this offensive it be just laughable even if i have no way to substantiate what i say journalist may write what they want but ask any military officer and he she will tell you it inconceivable for the size of the op comms ♠♥♦♣',\n",
       " 'and capital gain tax',\n",
       " 'this should be include in the criticism summary section here since that section s content so far be not a remotely truthful summary of the criticism point of view fork article it clearly suggests to reader that basically all criticism of apple be related to product management in some way or other now that apple inc have admit that they do in fact use child labour this be clearly a far far more serious type of criticism than everything currently mention in this main article s criticism summary section the explicit word child labor should be mention in this article',\n",
       " 'merge both article should be merge operibus anteire',\n",
       " 'everywhere though i might just start go thru the secure server all the time because i have a similar issue with the popups userinfo grabber –xenotalk',\n",
       " 'i agree with there be no need to keep unclear concept and word when a well alternative exists also i would ask to not revert use source a a reason when source be actually a book of his authorship wp coi and wp sps come to mind txt',\n",
       " 'hi the route to japan be often mi read first i have the argument that jal flew to tokyo not jalways but now i would like to challenge a route that jetstar take it say the jetstar flew to kansai from brisbane this be true but you must connect through sydney although you would stay on the same aeroplane the flight number between bne kix change in sydney meaning it be not a direct flight eg flight syd kix flight kix syd via bne that be how it work if you be not sure please check qantas schedualing i wont edit the page now in fear that i will be ban',\n",
       " 'support i and all the other sikh wikipedians on wikipedia support you on singh you be correct i completely agree with sikh historian i be busy at the moment but if we need to get harrybabar permanently block then it should happen because his vandalism be unacceptable',\n",
       " 'thank you for your racist experiment with the page katherine heigl on wikipedia your test work and it have be revert or remove please use the sandbox for any other test you may want to do take a look at the welcome page to learn more about contribute to our encyclopedia now go fuck yourself you racist canuck asshole u have nothing well to do than censor the truth u goddamn kkkkanuck piece o trash dickhead moron motherfuckerlol you canuck r real retard fuk off dickweed edit another of my eidts and you will be expel from wiki by jimbo you sob dickhead so watch it mofo piece of garbage racist mofo asshole im tryinbg to be nice here so take what i say a a compliment yamla',\n",
       " 'bulgars omg you be an admin and you protect the people who vandalise the bulgars article these attacker be pan slavic ultra nationalist and they dont want to see the word begin with turk you help them remove reliable source old bulgars be change into slav by your hand great',\n",
       " 'you must be log in to upload file so in other word i have to sign up just to add thing to entry to hell with that this place can rot for all i care',\n",
       " 'mckinsey company i think the best route would be to drop a note at wp business t c wp four wp chicago wp waward',\n",
       " 'message long time no talk i be just potter around on wiki and suddenly i thought of you so anyway how ya go i hope we can get along now anyway there be an issue that i have that have to do with wikipedia a user on here have be stalk me and ask some innapprpriate question do you have any idea of what i could do i know that user be also from australia could the police here do any thing cheer for now',\n",
       " 'thanks from my point of view there be difference and parallel between the two concept one parallel be that both concept be intend a territory with a homogeneous population the difference be the concept of racial hygiene be intend a homogeneous population regard the criterium race whatever race might be the concept of ethnically homogeneous state be intend a homogeneous population regard the criterium ethnicity a second difference be that the concept of racial hygiene have lead to more extreme form and method in political practice in history example the holocaust not only expulsion but also extinction of million of people in an industrially organise process user nov th',\n",
       " 'well i see futperf be get quite angry now insult other editor also and again their goal be make the point that the first bulgarian empire and the second bulgarian empire be not bulgarian or at least not related which help their long term strategy for the invention of a macedonian nation and state think bulgarian tsar samuel etc which exist from antiquity and the middle age that s it tropcho correctly point out that direct political continuity be completely unimportant for the info box no other country care for this in their info box neither spain germany ireland poland etc what be important be to show how bulgaria form thru the age',\n",
       " 'salutation j a p welcome to wikipedia perhaps you might find wp hockey of interest',\n",
       " 'be careful who you call a moron',\n",
       " 'leadbeater biography smackbot problem rich regard the c w leadbeater biography article http en wikipedia org wiki charles webster leadbeater on dec philosophus improperly revert my extensive revision of dec i remove all the smear and slander from the article yet he accuses me of have a npov problem no editor have the right to revert the good faith contribution of another editor i will undo his improper revert a you make a minor edit or two since then your edits will probably be lose also please communicate specifically what fault you find in the text and maybe we can work out some compromise word if you be knowledgeable in the subject if you be not knowledgeable you have no business edit this article',\n",
       " 'quote hoppe first detail kinsella s important point at this diff i put in the democracy section hoppe s earlier comment first and follow with more about what kinsella say i e stephan kinsella writes that hoppe s critic have accuse hoppe of homophobia bigotry and the like base on these passage kinsella write that that hoppe s discussion of physically remove homosexual and other group only apply to private covenant base community center around traditional value he share a letter hope write to him say the gay couple down the street who mind their own business would not be expel but only those who be openly hostile to the basic heterosexual or private property basis of society a i say in my edit summary just because some choose to totally take his comment about of context and attack him do not mean that wikipedia should be use for the same purpose talkie talkie🗽',\n",
       " 'the fact of the matter be that toei and bandai have be use gorenger to exclusively refer to the first super sentai series since at least every subsequent series that have the レンジャー end have be ranger you can see this sort of thing on any of the print material release by them lately have it a gorenger while all the others have be turboranger zyuranger dairanger kakuranger ohranger carranger megaranger timeranger gaoranger abaranger dekaranger magiranger and gekiranger i believe gorenger be also plaster across their vehicle —ryulong 竜龙',\n",
       " 'mark nutley have suggest instead of people edit war they really ought to use the new source three to five million of this number die in ukraine and in the heavily ukrainian populate northern kuban among the richest grain produce area in europe norman m naimark stalin s genocide princeton university press august p http book google com book id fuwfeqbac lpg pp pg pa v onepage q f false',\n",
       " 'i see that you just can not help yourself if you saw my be block a a reason to be victorious and now feel like keep notelling on me to the administrator please do not use my talk page for that go the administrator noticeboard where the initial complaint be post and add yet another post concern your advice on what i need to familiarize myself with apply it right back at yourself especially regard wp con and please understand that consensus be a product of a prior discussion not just any piece wikipedia text that stayed unedited for a while',\n",
       " 'gay the existence of cdvf be far proof that be a sad twat he be also very ugly and have a willy for a face',\n",
       " 'unfortunately judging from previous warning some people here have a rather unusual view of what personal attack be point out that the individual accuse me of use sockpuppets be incorrect and in fact the two main people make the accusation have be harass me for month and have use sockpuppets and meat puppet themselves for get around edit conflict and to stack vote on a request for admin proceding a point out by several editor at the time certainly can not be consider a personal attack point out that admins do not have any actual policy basis to make the block be not a personal attack and it have in fact be confirm by the overrule of the block more than once frankly if you be look for personal attack try yourself for your agf violate attack on my action base upon limited information and actually mislead information give to you by other individual or david gerard for claim that i be troll when all i be do be defend myself from false accusation of others it be very clear that a number of people here need to realize that the very thing they be accuse me of and try to justify for a block be exactly what they themselves be do from behind the pretense of try to solve thing if you want to start block for incivility i might suggest remove david gerard for a while for his action or elonka for falsely claim that i be use sockpuppets or that i be harass her or the sysop whose very talk page say he be go to go around block people no question ask and in fact do so after i caught him restore place illegal information on how to pirate software an article talk page rule should apply to everyone and a number of people have be get away with pretty flagrant violation and try to rationalize them away by just label me a an allege problem editor and not take any sort of responsibility for their own action',\n",
       " 'look good to me i think a nice pic of midtown from across the east river would be the best possible addition to the montage but there be not one currently available on wiki common',\n",
       " 'perhaps the question be more of philosophy than of mathematics and we do not have any regular at wikiproject math who be philosopher of mathematics t c',\n",
       " 'except for the fact that there be no information for the table no confirmation on number of episode why do not you just put in so it be just clutter and not vandalism',\n",
       " 'right on may which be not the star and bar',\n",
       " 'perhaps goodday you could provide a diff for this thought a i be unaware of it btw i hope the move be go go ok',\n",
       " 'it be also unfair that i can not respond to the allegation talk',\n",
       " 'i never fuck make this mother fuck article i just fuck edit it and that be a fuck long time ago fuck asshole piss me off',\n",
       " 'have anyone ever consider include tag team edit war a a rr violation when two people act in tandem unintentionally or intentionally to make the same revert four time they may not technically violate the rr rule but they certainly do so in spirit this be the problem on both side in the edit war on the canada page and precisely what i want to avoid on the dominion page would it not be easy to warn editor a you do here rather than shut down page for week at a time a be do in the canada case i be sure this would cure the escalation problem without block access to page any comment on this',\n",
       " 'fuck with the wrong muchacho july utc',\n",
       " 'thanks but an unblock would be a compromise i live on the margin here create article on various subject then see them delete it be a form of performance art many of them do not get delete medieval philosophy be still there and history of logic to name a few i be one of those people they just do not know what to do with and i like it like that',\n",
       " 'yes i do hope to get it to ga status in the future wp mostv state that for fictional character their storyline should come first and then the information on their creation and characterization it make more sense to read about what storyline the character have be involve in before go into the production of it all the same style be use for article on book film and television show episode',\n",
       " 'hi im a fuck bitch',\n",
       " 'please educate me a to how this article be a copyright infringement and if so from which source once this have be establish could you explain how best to rectify the situation thank you',\n",
       " 'men s rank figure while nice to look at miss key time between olympics and world championship that s all there be to it in the title iihf list a post olympics rank and rank presumably post wc to exclude this period be incorrect a it be a time where canada be ranked st overall russia nd the same issue will happen this year a ranking will change twice after olympics and again after wc',\n",
       " 'there be many broken nostril in this pancreas',\n",
       " 'that last line the new version be well be ypov this new your version just complicates the issue and make the article less simple to read tell me why must boston be mention a a cultural and business hub at all this seem to be at the heart of your bias it appear a you want the viewer to get from reading it that boston be somehow the nerve center and city that new england revolves around and look up to why must this illusion be on the page',\n",
       " 'utc it sound wrong because first it read be which be present tense ee and then it read use which be the past tense i reword the whole thing to past tense because we be discuss already publish work a oppose to work be publish or yet to be publish arnfjörð bjarmason sep',\n",
       " 'and you take your time to answer',\n",
       " 'yobot incorrect defaultsort hi yobot an incorrect defaultsort it be puzzle a to why it do not recognize the article a be about a person among other clue it include birth and death date at the top a well a a which yobot substitute to additionally include the correct defaultsort • xaяabиam',\n",
       " 'bias unreliable emotionally write by armenin wiki editor pls stop use the wikipedia for your dirty propaganda and lobbying purpose there be no genocide this be a amyth advanced by the armenian church and armenian fundamentalist fascist a nation can not be subject to a egnocide when it have several hero for whom you can see statue in yerevan irevan jew do not have it the resolution be the act of some sell congressman who want to appease the armenian lobby it have no reliable valid and neutral content it be kjust a piece of dirty and lie fact present and write by christian missionary work to kill turk and kurd in s you can claim to be subject to genocide a much a you want but this thing do never happen some armenian fundamentalist and fascist who be kill kurd turk and azerbaijani be kill by great son of the turkic nation and i be proud of them go and propogate your lie a much a you can you will achieve nothing raman',\n",
       " 'add mobile porn a additional wp also link',\n",
       " 'smer sd why be the slovak party smer sd between non inscrits they be regular socialist they use to be out of pe but that be settle pretty long ago liberal nationalist',\n",
       " 'utc have anyone consider how matter the stuff we be all make from actually interact with time and time travel if i be to travel back in time would i be frozen and isolated in spacetime whilst everything else around me travel backwards in time or will i also physically and biologically travel back in time that be i get young and young and then disappear because i be not yet create thus defeat the grandfather paradox although if it be possible for signal or information to travel backwards and forward in time do this possibility automatically extend to matter a we know it ie particle give rise to electron proton and neutron and ultimately biological being such a ourselves july',\n",
       " 'i want to offer you a tremendous thank you for your suggestion which i believe will be paramount to the successful inclusion of rantmedia i have vastly improve the article since the afd nomination a well a since yesterday afternoon i be not clear to me what be necessary to be do with the article and you be truly the first to really answer my question of what be it go to take so from the bottom of my heart thank you ₪— t·c',\n",
       " 'i have to laugh when watch the supposedly british national news with guy barely up to their ankle in snow imply that ragnarok be upon u yet on the same day when tree be be blown down and main road be block by snow in scotland it do not seem to be noteworthy scotland routinely get ignore on the national news and even people from the north of england be complain about the fuss make by the southern orient news tourist appear to be amaze that thing be fall apart because of something like this my mother have a very good giggle at the reporter live in trafalgar square in a couple of inch of snow or beside a main road barely ankle deep lance tyrell',\n",
       " 'a friendly advice if you have to refer to me kindly use cult free and not only cult',\n",
       " 'great link imo the american people be on the whole good and decent but the so call leader be fully control by an elite bent on domination and control this whistelblower say the same talk',\n",
       " 'queen s university a state previously i be quite pertrubed and to be quite honest frustrate that you would remove the section pertain to the university s tradition do you have a personal vendetta against the institution or dislike it for whatever reason you remove the compliation of material regard the jacket and other tradition which i find odd consider similar tradition have be allow to remain on other university wikipedia page mindlessly delete material without group consent constitutes vandalism and while i be sure that your intention be not malicious it be a short sight move on your part please allow u to discus this in great detail',\n",
       " 'january utc the argument at wp natural seem to rely on show that the other name be common so you need to prove that the other name be common number might help a bit also above we be told that gohatto rather than 御法度 be the name of the film in japan but this turn out to be false incidentally ryuhei matsuda it seem to me look more like his mother than his father what do you think also how authentic be the portrayal of the shinsengumi in this film do you have any historical insight',\n",
       " 'unspecified source for image metropolitan of moscow makariy nevskiy jpg thanks for upload image metropolitan of moscow makariy nevskiy jpg i notice that the file s description page currently do not specify who create the content so the copyright status be unclear if you do not create this file yourself then you will need to specify the owner of the copyright if you obtain it from a website then a link to the website from which it be take together with a restatement of that website s term of use of it content be usually sufficient information however if the copyright holder be different from the website s publisher then their copyright should also be acknowledge a well a add the source please add a proper copyright licensing tag if the file do not have one already if you create take the picture audio or video then the tag can be use to release it under the gfdl if you believe the medium meet the criterion at wikipedia fair use use a tag such a or one of the other tag list at wikipedia image copyright tag fair use see wikipedia image copyright tag for the full list of copyright tag that you can use if you have uploaded other file consider check that you have specify their source and tag them too you can find a list of file you have uploaded by follow this link unsourced and untagged image may be delete one week after they have be tag a described on criterion for speedy deletion if the image be copyright under a non free license per wikipedia fair use then the image will be delete hour after if you have any question please ask them at the medium copyright question page thank you do you want to opt out of receive this notice hi',\n",
       " 'percent korean eat dog meat korean have try not regular korean food diet do not genearalize or finger point that all korean eat dogmeat that be not true',\n",
       " 'support let protect and save this page from user balagonj this page have full of error and invalid reference',\n",
       " 'apparently i thought tom be offline and file an edit war report and yellowmonkey picked it up before tom mention the page protection we will see if it stick',\n",
       " 'newsletter draft ready hi dank i have prepared an initial draft of our drive wrap up newsletter at wikipedia wikiproject guild of copy editor newsletter april if you could find the time to check it over before it go out that would be super thanks',\n",
       " 'should be omit entirely',\n",
       " 'be that not a true description on a booger if not then prove to me what be',\n",
       " 'stay off my talk page stalker',\n",
       " 'anthony de mello hi i need this page write anthony de mello it currently redirects to a priest do you have any suggestion on the dab title cricketer',\n",
       " 'thanks and happy new year to you too let be talk about it',\n",
       " 'more mature way central post',\n",
       " 'stop vandalize my userpage i know it be someone from here',\n",
       " 'oppose i do not think a merge be a good idea',\n",
       " 'maybe but that do not lead to the conclusion that the taip aircraft remain in africa and do not return back after ferry the soldier the article on colaco net also do not shed any light on this',\n",
       " 'thanks thanks for the thanks i just leave them in my watchlist after i found an archive full of vandalism a while back give that it be slashdotted i suspect we will see a bit more of it i might get someone else to fully protect it if it continue i can not do it because of coi i would also like to thank you for keep an open mind change vote be an encourage sign of good faith regard',\n",
       " 'hello if you be interested we could really use your help',\n",
       " 'f k all ride at world of fun i hate all ride at world of fun because they be sh tty and boring all ride operator at wof should be fire sue and hang burn all wof coaster arrest all wof park operator assassinate all wof customer i heard that a boy die on timberwolf on august that s stupid world of fun should have nown well to built that sh t ride world of fun care about money and prophet moar than they be customer burn that sh t park down f k you ride world of fun be dangerouser than grround zero and area world of fun should burn in hell',\n",
       " 'a to job for you sure thing a soon a i find time for that also i notifyed novanova ask him to start edit the http en wikipedia org wiki croatisation this guy know a lot about croat and their history',\n",
       " 'oh ok i just want to see what people thought anyway it up for csd hey do you like my talk page i hope you do not mind talk er',\n",
       " 'wrong the capital be podgorica a it have always be since july the seat of government parliament and president be in podgorica cetinje be only the seat of the kingdom of montenegro in exile and besides only capital city have embassy and podgorica have them and do you see any in cetinje no besides no one in montenegro nor in the world say that cetinje be the capital of montenenegro but instead they say it be podgorica and also that consitution be adopt in very outdated and a new one be due next year',\n",
       " 'mark ii subsec i remove the mark iix subsection and make them bulleted list there be no reason in my eye to subsec one line of information',\n",
       " 'can there be a more concise listing the listing of other invention be profoundly vague why group different category together why even mention thing that the chinese receive purely from outside source there should be a much more complete well manage list of chinese development which i have yet to find along with how these be transmit globally and whether or not place like europe get them purely from the chinese this really need the attention of people with some remote expertise which i guess be somewhat there when needham s work which be profoundly rare in private collection be cite not like the arrogant bigoted as who be cry about chinese nationalism yet then go onto say that they only invent noodle and besides why be thing like the cannon and porcelain list under other invention who developed these independently',\n",
       " 'in history there could be a consensus view or a mainstream view in theology there be no mainstream or consensus view since most of theology depends upon the church membership of the theologian historical scholarship aim at universality and objectivity while theology make no such claim it be true that there be million who believe that jedp be birth in hell or would believe it if they knew what jedp mean so in principle their view be notable but a enns say it be a fringe view in the academe even among scholar who actually disagree with jedp the source use to build wikipedia be academic source therefore jedp and it st century offspring be give by default the weight they have inside the academia while the view of the fundamentalist be treat accord to wp undue this do not mean that wikipedia could say that the fundamentalist be theologically wrong wikipedia have no theology of it own but it be entitle to say that inside historical scholarship they be a fringe view of course this do not exclude serious scholarship do at religious faculty since a ehrman say in one of his bestseller u mainline protestant and catholic theological seminary and divinity school do teach mandatory historical criticism class so in a sense scholar from such faculty be thoroughly acquaint with historical criticism and built their career upon it assumption only fundamentalist seminary and divinity school choose to default against historical criticism they be free to do this but this cut against their claim of be mainstream historian',\n",
       " 'well i be sorry but attack me and my edits be exactly what you be do wow there be some seriously snotty people on wikipedia and yes there be a need to separate the feature single definitly',\n",
       " 'tfd nomination of template silentredirect template silentredirect have be nominate for deletion you be invite to comment on the discussion at wikipedia template for deletion template silentredirect thank you talk watermark i shall remove the obvious one the less obvious one stay i be allow to watermark image with anything whatsoever i wish to even if it be a contradiction and if you wish me to use up far wp bandwidth by re upload them that have no effect on me i can not do anything until this even and if any get delete i shall reupload them yours without respect talk email you could have the grace to reply i say that i would deal with them this even but only the one where the watermark be visible from the page so off talk email i be planning to re upload them with less obtrusive watermark such a that on image bliss parody jpg talk email it be not vandalism i use an external link a per your instruction which incidentally i be not bound to follow i be certainly on the verge of request mediation a you be disrupt my life never mind wp to make a point i will tell you one more time any image be well than none if you wish to get your own pix of all the concerned image you be damn welcome to try but they be gfdl therefore there be no ground for removal talk email p i shall add the external link again not a an image and if you remove it i shall make a formal complaint to the wikimedia foundation and the information commissioner in london talk email your conduct be a little off in this matter while i be all for discuss the issue with user let be keep it civil please thanks talk i disagree rob it be far more than a little off image watermarked a such be not in any way appropriate for wikipedia this be an encyclopædia not a pet image project if thedoctor be not happy to play ball he can go elsewhere talk i be propose a change to the image use policy to forbid watermarked image please voice an opinion at wikipedia talk image use policy user create image thanks talk i edit from the united kingdom and under the computer misuse act the edit of information online be illegal without permission the button at the top of every page that say edit this page among other thing constitutes that permission while the policy and guideline form condition since there be no condition against my image it have a legal right to be there q e d talk email true but therefore your addition fails under the same logic also wikimedia own the server it be their right to delete it id apology to ed for invade his talk page but what a load of rubbish wikipedia be under no legal obligation whatsoever to host your image regardless of whether they meet any policy i have no idea under what flaw logic you presume that the fact you can edit wikipedia mean that your edits must legally be accepted if the computer misuse act state that the edit of information online be illegal without permission that implies that edit with permission be legal and nothing more furthermore by your logic i have the legal right to edit wikipedia and remove your image i fail to see what on earth you intend to tell your lawyer but i do not imagine the wikimedia board be too concerned └ talk┐ ignore the gibberish i',\n",
       " 'artpop album hello thank you for all your contribution i make this message in good faith please do not make hidden comment like this state that an editor will be block if they remove a redirect i be in no position to be ask this but i be say this a it could turnaway new contributor who be not aware of the rule feel they have be bitten in this case i think a kind user talk page message would be more appropriate and effective also you edit be revert so i revert it back to your version but also remove the block warn a it be not appropriate no admin will should block just because a user remove a redirect specially if that hidden message be their only warn feel free to correct me if wrong again i write this in good faith cheer huntley',\n",
       " 'crown prince would not it have be prince elect denmark be a elective monarchy during this time',\n",
       " 'hamish macdonald disambiguation hello just to let you know that a this now only have two entry one of this name and one with a very similar name i have tag it for deletion use template db disambig if you have any question about this please let me know best wish',\n",
       " 'my cent a someone close to the korean american community it be pretty standard practice to give both an american and a korean name at first i do not know for sure that that s the case here but would not be surprised it be probably explain in her book',\n",
       " 'die in or not i think it be well to settle the matter here instead of go back and forth so the ip user claim that the whole thing be a hoax that she die in europe year ago and that there be no hawaii obit first of all be the forevermissed a user submit website do you know her family personally or do you know somebody who know the family we would like to get a more elaborate explainantion behind the claim that she be be dead year ago i see that her suppose obituary be pretty detailed be the rest of the biographical information accurate though and the picture',\n",
       " 'august utc dear the hour block that you place on my account yesterday for personal attack have just expire and while i must say that i be not happy about the block i harbor no hard feeling towards you if you check my previous contribution you can see that i have be a productive editor on wikipedia i would just like to let you know that while i be guilty of personal attack against and i be goad into do so by these two individual in order to avoid future block i promise not to engage in anymore personal attack and if i be goad by troll such a these two individual i will simply ignore them be repeatedly revert a comment which i make concern statement make in the hugo chavez article which i found to be bias my issue with concern his nastiness and uncivility he be far too possessive of article which he have create and he becomes very angry when edits be make to such article after multiple revision of legitimate edits which i make to his article i told him to leave me alone he proceed to foul my discussion page with unwanted and unsolicited comment when i object to this he goad me into call him a profanity while i respect your role a a wikipedia administrator i would like to respectfully request that in the future you exercise well discretion when block a user base on one side information thank you for your understand',\n",
       " 'link in result a mess link anywhere except the actual book',\n",
       " 'it be not me that add the glebe park link though i might have wikified it i have never actually be there so i be afraid i will not be of much help at the moment though i have be meaning to go look for a while',\n",
       " 'go away why do you revert my edit on blowdart s user talk page surely thats his privelege user like you give wikipedia a bad name stop be such a busybody',\n",
       " 'the head ways pound and feel like play dow dont tuch them they will fall off',\n",
       " 'sarek of vulcan unfortunately for you you can not ban a fact sarek of vulcan unfortunately for you you can not ban a fact fact lawrencenkhoo told me here on wikipedia that company keep their retain profit in the bank fact that be absolutely untrue fact sarek of vulcan ban me for state that fact sarek of vulcan can ban me but can not ban fact',\n",
       " 'keep your chin up darwinism be not accepted over night there appear to be more sense in the aat origin than the sort cut hypothesis that our ancestor go from swing in tree to the prairie and then eon later take up a sedentary life style so they could edit wikipedia and face book etc all day one only have to watch little kid on the beach the first time a wave throw them bottom over elbow they may well cry – but after a time they can not wait to get into the water again it be a if be at home on a sea edge environment be hard wire into their gene unfortunately the rise in sea level since these time mean that evidence of these coastal community may never be found keep plug away until the old hypothesis fade away',\n",
       " 'nazi filth be impolite jan utc',\n",
       " 'interest i checked the other case number kunzang lhamo cite which can not be use for wiki since it be original research but go a step far i can not find that case number on san bernadino s open access either in civil or criminal record',\n",
       " 'the transcluded part of the ga review do not seem to update into the main talk page of the article correctly may have to click to go to the subpage to get the most up to date version sorry it looong you can skim most of the content related stuff i guess',\n",
       " 'protect cause of the palestinian exodus hi can you explain on it talk page why you protect this article there be some edit war go on but not very heavy for the standard of this article also i be a participant in a mediation case but that concern actually only the use of one source on this page and be irrelevant to the present edit war therefore i be wonder about your motivation regard',\n",
       " 'hello i check this personal page very often please leave message here on on the discussion page tks marvio',\n",
       " 'my thanks to you for this i note that i be be dress down for everything from be nice to editor i like to work with all the way to delete messy post from my own talk page well a mess be a mess again thanks stephen please do not take that a gratuitous or ingratiate imacowboy',\n",
       " 'i do not care what you say here i do not believe one sentence anymore',\n",
       " 'anytime you want a nightcap tell me',\n",
       " 'meet a local vietnam tv series factual documentary min meet a local spain tv series factual documentary min meet a local tasmania tv series factual documentary min meet a local ireland tv series factual documentary min the way camino de santiago feature factual documentary min african story online factual documentary min overlander multimedia for the abc the outback boxing troupe online factual documentary min overlander multimedia for the abc australia production company return home a story of ararat online factual documentary min overlander multimedia for the abc meet a local east coast australia tv series factual documentary min meet a local outback australia tv series factual documentary min',\n",
       " 'globalization and ivytrash i be not ivy anything that be my home i be born and raise block from harvard square and it be once the great place in this country i be not interested in globalization i look at the square and see the smoking ruin of my home when this happens to you i hope globalization be comfort enough for you',\n",
       " 'he be self confess and approve by my observation see e g history of soviet partisan btw you be the first to object',\n",
       " 'and btw speak of the armenian genocide if we be to follow wikipedia convention of most common name and i do not agree assyrian be the most common name a we also have proven many time before we should change the name of the current article assyrian genocide to seyfo',\n",
       " 'to quote if a wikipedia article link to this page it be because someone be concerned that the article contains inaccurate statement s such statement be follow by the follow warning dubious discus the accuracy of a statement may be a cause for concern if it contains unlikely information without provide reference it contains information which be particularly difficult to verify please do not remove my dubious reference edits a that would be against the guideline there would not it',\n",
       " 'belarus a developed country hahaha nothing more to say',\n",
       " 'censorship on islamist terrorism try not be a censor monger properly cite information should not be delete',\n",
       " 'if you would like to write an article of bill s father include his rise to ceo of commonwealth edison feel free this article be about bill we be not write a chatty book lenth biography about him but state fact same a other biographical article in wikipedia the detail of his father s career be irrelevant although his eventual stature a ceo be not this be yet another issue that have already be resolve',\n",
       " 'thanks really cool tool for purpose like what i have on my userpage best tally ho',\n",
       " 'it be funny because i would say exactly the same thing for you astarti the anonymous user with an ip from greece and the user williamthweatt accuse people without a reason be not allow in wikipedia a per wikipedia rule you be free to ask for an investigation in fact i do kindly ask you to do so if this vandalism persists i will seek an arbitration i do kindly ask from any moderator to see all the reverts and i be confident that they will conclude that they have be mal intentioned with a clear nationalistic agenda you all guy have something in common you be all greek all of you',\n",
       " 'i just watch the entire series and i agree this entire article and several other in the suzumiya haruhi article be all from a somebody who know haruhi personally sort of view so im go to fix it',\n",
       " 'agree will take a stab at it it also need major format cleanup and wikifying it sound too much like a fan conversation the reference be all either youtube link or personal communication i be try to at least pare down the best musician ever statement could use some help with the discography section too',\n",
       " 'vandalism be for e g this type of edit somebody say that the stig be leave so i revert it basically i revert it because there be no source to suggest that he be leave so i do know what vandalism be i just want to carry on edit wiki i love this place it be amaze please do not make me leave now that i have explain myself please please unblock me thanks —',\n",
       " 'baer didnt invent video game this be jewish propaganda support by a wiki troll name goldberg go figure hey goldberg try educate yourself http www youtube com watch v efbwz siks',\n",
       " 'i can tell you what the argument be about here newseventsguy it be about your retroactive reversion of a simple edit try to include secondary independent verification of sedimentary nanodiamonds in young dryas sediment by bement and madden et al without discussion a reference that i notice have not yet be include in the reference list still after all this time this be after you admit that you be ignorant of the peer review literature and the controversy any attempt to do simple reference list edits on this page have be stomp by no less that five admittedly bias and ignorant editor the honorable thing to do here would be to recuse yourself from edit the page a i have but i have not see that happen until now good luck with it you have already make complete fool of yourselves',\n",
       " 'hello how do i get somebody to fix shit around here',\n",
       " 'dictionary how dare you call my contribution spam i be a kurd and i make a lsit of kurdish dictionary you bloody turkish nationalist and atoricity commit bone break nazi watch out folk this slimy turk be try to censor the internet this be not undemocratic turkey here no prison cell in wikipedia you stupid turk and you bugger want membership to the eec',\n",
       " 'apparently other editor agree that the edits i make be justified a group of meat puppet work a a team to revert an article to their own pov be what have cause this block at issue be the advert tag which be justified be place on the article by one editor replace by me replace again by another editor and replace again by me three editor so far have indicate the tag belongs there i be sure a forth editor be go to weigh in on this side too the article be riddle with brochure language please note that i be remove brochure language right up to the lock up of the article there be still lot more in there that need to come out before the advert tag should be remove additionally i do not believe i broke the rr rule which require a fourth reversion',\n",
       " 'while i agree that indus valley civilisation be the correct name for the civilisation the passage quote above be not neccecarily factual in term of say second there be no proof at all that the mighty sarasvati of the rigveda be in fact this now dry river the identification be itself open to doubt apart from there be fact proof to indicate that saraswati do exist a this dry river include geological fact a to why it dry up the evidence also point to the fact that it be not a tributary of the indus refute point of the passage quote above and in fact drew the water of the sutlej and the yamuna to be a river system of it be own and though a large number of site have be found along this river system none of them be of the scale of harrapa mohenjodaro leave the indus valley tag a the correct one saraswati do exist today the timing be dispute and not the existence wheter it be vedic and indic v harrapan and non vedic be more dispute today than it be existence',\n",
       " 'december utc thanks i have start work on pranagnihotra upanishad but i be unable to get the full text from the deussen s sixty upanishad page do not appear in the book under google url can you suggest a url which give the full text in the meanwhile i have complete this short article sharabha upanishad which you may like to see and add edit nvvchar',\n",
       " 'i insult people on en wiki with criterion to provoke my filter set you be simply abuse the power people hand over',\n",
       " 'excellent that would be great the comment found at it peer review should also be very helpful but i have not have any time to actually act upon those suggestion cheer —hello',\n",
       " 'how do you know he be dead it just his plane that crashed jeezz quit bust his nut folk',\n",
       " 'afican union site vandalism dear bracketbot i write this note to inform you that an editor be perform act of vandalism in the website of the african union http en wikipedia org wiki african union please i would appreciate if you could tell me who i should report this action the board index name be http en wikipedia org wiki user knisfo',\n",
       " 'you be a know it all jimbo why do not you get a life instead of sit in front of your computer all day the high priestess of knowledge indeed',\n",
       " 'all of those statement need to be reference leave an article unreferenced in every section open the door for original research and the introduction for factually inaccurate information to point out one thing i will bring up consolidated appropriation act first it have a number of tag on it the creation of article that need to be tag should be reason number to remove the flag second the only reference link provide on the article be this one while the information be from various subpages of that it appear that the entirety of the article be found at this deeper link it be possible that some come from this a well i can not tell i will also note that the style of the summary it be take from be never meant to be encyclopedic so the article be riddle with grammatical error mostly incomplete sentence on creation the opening read consolidated appropriation act h r be a bill pass to the th united state congress i have never heard this usage to rather than by and assume it be incorrect another editor change it the lead be also miss an important determiner in any case you can take a look at vesey',\n",
       " 'ok i just ask for your experience what you think about the portal',\n",
       " 'sitush how can anyone assume good faith when you have be write so much against yadavs on that page it be evident from the discussion how conveniently you have be select source for negative and then conveniently reject the same source for the positive you be the only person spamming on that article and vandalize it yes i will contribute to other article on wiki too but let me first correct thing on yadav a so much wrong have be go on there you get ikonoblast ban and now you have get me ban and you will get anyone ban you differs from your bias stand on yadavs but i be not go to give up i will follow all wp policy and will ensure that i get thing correct on yadav and dont let your and fowler personal view dominate that page peace',\n",
       " 'december utc do not worry i told you i have your back and i will continue to defend ya yup we get our proof of work when i first saw it i be like nothat s no reliable source cause i remember you revert that source one time but when i look over the article and saw ref i be like oh shit so i revert it i be glad you go go back i be glad my two word have go on to save me question would you like for me to expand lead on all s member hit',\n",
       " 'november utc i agree with clearly santilak be use up his usual bag of trick santilak please discus the article courteously and professionally',\n",
       " 'ok i like the pyx lax track very much indeed if you could point me towards other greek trad music that would be great and greawt for me here be some irish non visto provvedi',\n",
       " 'where be with pitchfork already jun utc',\n",
       " 'again reinstate sentence about nobel in the first paragraph for the reason state above if others disagree that this be a define characteristic of bx science that should be indicate right up front in the summary paragraph then can we discus it here rather than play edit game by remove text without either edit summary or discussion on the talk page',\n",
       " 'i be disappointed it be not a successful run but it',\n",
       " 'elvis cry in the chapel feudalist',\n",
       " 'please refrain from add nonsense to wikipedia a you do to fisting it be consider vandalism if you would like to experiment use the sandbox tlka',\n",
       " 'elizabeth hi lil romeo i be one of your big fan i really like you i always dream of you at night i would like you to come to dallas tx to ignacio zaragoza and give a concert at this elementary school i be in the th grade and i be year old i want you to come and help me with my homework see you later i will write to you soon by',\n",
       " 'hi fracophonie thanks for take the time to write such a long message i appreciate this in term of what i say about the age i do not mean to cause offense i thought i read somewhere that you have to be over to make these decision but i think i be get confuse with the check user privilege i have already read some of those policy but will read the rest later today i be not a troll i just need time to get use to all these acronym policy etc from what start out with me write an article about my favourite website have turn into a massive thing which be not what i be expect i really do not have any more time to argue and debate with the usrs since it clear they just want it delete despite what i have say for example one user just write there be another site call amirite net this be amirite com this be precisely why i have to keep respond on the afc delete page in term of the rest i agree to do them of course i can only apologise once i be unblocked can you apologise for me on a side note i be actually french and jewish shame about the gay part though',\n",
       " 'welcome hello soundchu and welcome to wikipedia thank you for your contribution i hope you like the place and decide to stay here be some page that you might find helpful the five pillar of wikipedia tutorial how to edit a page and how to develop article how to create your first article use the article wizard if you wish manual of style i hope you enjoy edit here and be a wikipedian please sign your message on discussion page use four tilde this will automatically insert your username and the date if you need help check out wikipedia question ask me on my talk page or ask your question on this page and then place help me before the question again welcome wikhead',\n",
       " 'i remove the content after it be tag a uncited by mattisse if every commonly know fact need a cite because some editor en passent want to nominate for farc then it appear we have a problem i very much suspect mattisse s motif here but frankly i be too tire of her to be bother to explore them perhaps one of her probabtionary mentor more interested in her than i would care to deal with this',\n",
       " 'be jeff garcia gay or not',\n",
       " 'that would not be sufficient you need explicit permission to use text copyright by someone else under a licence suitable for wikipedia please read the guide to request and formalize permission to use copyright work on wikipedia note that in addition to copyright requirement the article must still comply with notability guideline advertising prohibition and avoid conflict of interest — talk',\n",
       " 'the section be useful info and should stay you be clearly wrong',\n",
       " 'comment so now we be stuck with a week of broken link since you acknowledge that the move be a mistake and not uncontroversial will you please revert it if anyone want to dispute that the opera be the primary topic they can do so under a proper request move discussion a they should have do in the first place if you be not willing or able to do this today i will ask a another administrator to do it',\n",
       " 'it need to be include in the context of a well i will try and dig up some source user talk review me',\n",
       " 'tim firstly i appreciate you take the time to discus this issue offline and for your willingness to debate it at length here despite the majority view here be in your favour yes i certainly agree with your friend that it be very important to describe the jurisidictions that a firm be present in there be clearly a massive diffence between say have office in the french or japanese jurisdiction or between the chinese and u s jurisdiction since the legal and regulatory system be very different a well a the commercial characteristic of the market beyond that however it remains my firm view that there be a big difference between a law firm have an office in say paris or toulouse even though they be both in the same jurisdiction i appreciate that the situation in the u s be slightly more complex since you have both federal and state jurisdiction even within each state there will be big difference between the legal market in different city though to give an example the san jose market will be not just a lot small overall than the los angeles market but it will also have a quite different profile on the whole a lot more specialist niche and focus on high tech to give another example in the uk a law firm could never be regard a be truly top tier if it do not have an office in london even if it have office in every other big city in fact all of the very top tier uk firm dla piper be not yet regard a one of them despite it size have just one uk office in london although they have other office overseas say that dla have have office across the united state egypt south africa kenya thailand china would in my view still mean a loss of valuable information to the reader we could fall back on use description like in major financial centre or in major commercial centre or in a combination of major financial centre and major commercial centre but then we be introduce what be in my view an unnecesssary element of vagueness imprecision and even original research i do accept that dla with office be right on the borderline of have too many office to make it practical to list all of them in the article however i do also feel that there be an important general point of principal that information about the office location of a law firm be very valuable information to aid the reader of an article in understand the subject of it and should be include a much a possible',\n",
       " 'no problem with that at all if you do not think that there be a problem with someone sit that i have a mistress then it just prof my point a to how far this site be to be an actual encyclopedia it be a forum not an encyclopedia big difference and that s not even what piss me off the most about my page thank god i be single with no chick bitching me out or that would be another attorney fee i would be hand out to sue whoever own this site i be do bitching about the mistress thing my whole page have error from the very first line down to the very last line and that be no joke first line and the last line be wrong',\n",
       " 'sprecher brewery i take the tour this christmas when visit my sister we be charge an extra for the glass their website may not be update but that be the current pricing',\n",
       " 'ipad talk page why do you remove that ip s edit to the talk page it be not spam',\n",
       " 'speedy deletion of andrew takao a tag have be place on andrew takao request that it be speedily delete from wikipedia this have be do under section a of the criterion for speedy deletion because the article appear to be about a person or group of people but it do not indicate how or why the subject be notable that be why an article about that subject should be include in an encyclopedia under the criterion for speedy deletion article that do not indicate the subject s importance or significance may be delete at any time please see the guideline for what be generally accepted a notable a well a our subject specific notability guideline for biography if you think that this notice be place here in error you may contest the deletion by add to the top of the page just below the exist speedy deletion or db tag couple with add a note on the talk page explain your position but be aware that once tag for speedy deletion if the article meet the criterion it may be delete without delay please do not remove the speedy deletion tag yourself but do not hesitate to add information to the article that would would render it more in conformance with wikipedia s policy and guideline',\n",
       " 'image image deletion warn image metroid prime hunter title screen top display jpg have be list at wikipedia image and medium for deletion if you feel that this image should not be delete please go there to voice your opinion august utc',\n",
       " 'the real personal attack be the repeat undo of my edits by everyone else',\n",
       " 'nope i do not read the guide to appeal do not have time the user in question be engage in harassment i have be do this long enough to know and i can prove it he she immediately place a threaten notice of block me permanently on my user page revert the article while i be in the midst of edit it my second pas could not even preview change then change his her mind a to my real wiki sin since the onus for prove the doris day available a pd on archive org be on him her not me and the usual span for pre bern have expire long ago decide my real sin be original research oh no and continued to revert base on that do or add clutter sure it can but if the user in question be really concerned about that about the quality of the article and about extraneous detail why do not he she even notice two paragraph already there comprise about of the entire article dealt with norman schwarzkopf an unrelated book and an unrelated ice cream store name i will tell you why the user be not engage in good faith goodwill edit and the normal back and forth that lead to well article he she be involve in block input to the article why be it personal against me or be it to preserve the exist content of the article include the false claim and extraneous material not even concerned with ther subject at hand i can only speculate but i would guess it be some sort of power trip and wiki bullying i do not really have time for this i have make a fair number of very good edits over the year and have usually refrain from say anything that be not directly related to content and improve article i could pretend this user do not do what he she do but i be waste my own time here and i do not really have a stake in any such pretense i do not have any stake in improve this article either no dog in the race i just see how it can be improve and make more informative a a long term wikipedia user and editor i do not see any problem in jumping in and fix something i almost expect some sort of pushback now but not over completely minor edits which be very good and on target in very minor stub like article the problem be not me here it be that if people such a the user in question can get away with this sort of behavior and they be get away with it wikipedia becomes a much poorer place a playground fill with bully rather than a library where we can all learn and share also i do not recal ever have call him her a bot i think you put those word in my mouth perhaps inadvertently his her behavior be malicious but probably not malware just the normal human collection of problem i think this user should be warn against try to be a gatekeeper he she be not quite qualify for that at this point anyway and it be have a very chill effect across wikipedia i will not egnage in a battle of the wikipedia rule acronym i will continue to write in english and to read article on wikipedia in english and to think of way to improve them in english i be fully aware of how the term vandlism be use and misuse here and most of the rest of the wikijargon nothing new under the sun here if you read the edits i make carefully and note the time of the reverts and the history of action by that other user you will see i be not off the mark here at all i know what be go on i do not know why but i do not have to and i expect the motivation be not interest respond if you have anything to say',\n",
       " 'the communist state all three call themselves a the socialist state communist be the word that westerner use so should that name be change',\n",
       " 'boze hadleigh a journalist interviewer and writer primarily of gossip about homosexual of hollywood',\n",
       " 'imdb content be user submit and often subject to incorrect speculation and rumor the use of the imdb on wikipedia for reference be consider unacceptable and strongly discourage wikipedia wikiproject film resource self publish medium be largely not acceptable this include any website whose content be largely user generate include the internet movie database imdb wp userg a i have say this be a long stand consensus if you disagree i encourage you to take it up at wikipedia reliable source noticeboard',\n",
       " 'i be new to this mean of communicate and i be not sure that i express this in the right form however i be review all of the recent ma nomination expect to go on the web in the next couple of month in the process i have developed a database of correct lat long decimal degree base on google earth and photo and assessor map in the nomination file i would like to share this if there be a way of do it alternatively to find a way to easily check and correct exist coordinate on the mass wiki list would this be useful for anyone',\n",
       " 'ykgtp actually revert the vandalism i do not',\n",
       " 'yes i have read them both and i will now ask you to provide back up for your story not that it matter in the least the one religion be a bad a the other but you well have some proof for your claim chatnoir',\n",
       " 'i think the error be that it be gram not kilogram so kg i be edit the article til we have a well result if i be wrong please change it back dec utc',\n",
       " 'vince fyi yellowfrogs be longdendale councillor sean parker perry a frequent purveyor of greenwash and four square behind the destruction of swallow wood via his support for the bypass he be vigourously re edit the wikpedia page on the longdendale bypass his own and roy oldham s page in order to boost his fake green credential and obfuscate the neutrality of these article he get nasty if he get piss off threatens spurious legal action but fortunately he be legally illiterate so do not be put off',\n",
       " 'summary of situation user shimshem have take a dislike to this article and have try numerous method to either get it delete or it name change completely invalid speedy deletion request invalid drv request nominate for deletion via afd despite the fact that it have pass an afd this year in fact the afd be withdrawn at for keep the current afd here stand at for keep but despite that shimshem have wikilawyered all the way through it once it become clear that it be go to be kept they decide a name change would be well change the name of the band in the article and be told to take it to talk after a brief non discussion on talk move the article anyway and be revert i be originally unsure of the motif of this editor why they be completely desperate to delete or move this article until i note they be interested in tamil subject one of which be m i a artist and guess that they believe that the two could be confuse their subsequent creation of the article m i a a a redirect to m i a artist prove this a far a i be concerned a to whether the band be actually call mia or m i a it differs the band itself us m i a a the head on their own website but then us a combination of both elsewhere since in the case of most source this be only likely to be laziness much a r e m be regularly refer to a rem and since the article have exist here for a while and that all the backlinks go to this version and most of all because we should not let disruptive user get their way the article should stay here',\n",
       " 'it be unnecessairy source because it do not matter how many soldier be kill what matter be that the safavids be depose besides that mention that information without make any remark about the brutality of the afghan force for example the complete massacre of the safavid family include woman and child a well a the massacre on the civilian population in isfahan bam and village of khorasan be consider pov besides that you have not show any source for your claim that soldier be kill and a for the edits it do not matter what you believe it only matter what the wikipedia rule be you post a message without editting anything that s the same a abuse the article s history a a message board use the real message board instead',\n",
       " 'whoever write the plot i feel terrible for whoever have to watch the movie in detail and then write the plot line who ever take their time to write the plot section must be traumatize for life however it miss the part where milo s son be lay on his belly unconscious on a bed milo anally rape him while several masked men watch also there be some use of a knife sword in this scene this be truly one sick film no there be no artistic message this film be basicly a middle finger by the sick mind film maker the cast must have be tricked into participate in this disgust film there be artistic gore such a the classic film begotten and then there be this listen to me do not watch this film no matter how much you be tempt',\n",
       " 'a he have ask admins not to comment i will refrain from do so i do however remove a personal attack against him if anyone wish to discus this action please email me window',\n",
       " 'can we compromise here i do not think we have the budget for salmon but at least in the netherlands there be an in between fish more affordable that in dutch be call salmon trout so far so good s marshall fortunately no one have yet discover that you use to run drug for a cartel or that you dance in a nightclub a la henry lafarge be it in a shot in the dark ssshh i be not tell oh i should ask you at your rfa about the proper use of citation template later',\n",
       " 'sorry i be not sure how to take care of him he have quite the history and actually have legal case involve the dayton daily news wikipedia be at risk if he edits any of those page or any affiliate company the actual sockpuppet be which be a puppet of hdayejr',\n",
       " 'we can agree to disagree on the relative merit of the fish and the character but the red seabream be part of family sparidae anyway so that s usage outside north america right there',\n",
       " 'large ship be typically launch into the water when the hull be complete but that do not mean all of the construction work be finish usually there be still a significant amount of work to be do include finish the interior of the ship building the superstructure etc take a look at image sm seydliz under construction jpg for example you can see the ship be already in the water but a significant amount of work be be do to the superstructure you can also read ship name and launch for more information about launch hope that help',\n",
       " 'at which point i be predictably ignore and stonewall which seem to be the wikipedia staff s official response to any direct question on the justin berry issue one might think they have hire scott mcclellan to handle their pr clearly they be aware of the untenability of their position and they be really hop it will just go away sorry guy it will not',\n",
       " 'you need to prove notability use reliable source just because it have some festivity how large be they who organize them in part of a country do not make it notable also you need to change your username this one will probably be block soon for violate the username policy no name of web site business talk to me',\n",
       " 'meter s sigh and my concern only because mr meter have revert any of contribution of mine give to this article so far i do not have a single chance to develop it his article call ¨falsetto¨ be not about falsetto it may be about his arrogance who know there be a huge contrary regard only the definition of falsetto there be many sign of entirely different falsetto compare those info which mr meter such anxiously protects in england italy or spain th century be described entirely different type of falsetto on the top of it mr meter perhaps never heard pavarotti sing falsetto or the falsetto of ian gillan sing of king diamond be base on falsetto what about michael kiske be it not falsetto mariah carey or whitney houston do do not sing falsetto do any of these falsetto sound breathy not to me be not out there publish a note about those maybe only because meter do not look for it why it would not fit to his article he would have to admit that his only source vennard be probably have in the chair something else than falsetto or he be drunk meter quickly open two or three book and thing he have swallow the world the whole physiology of his ¨only¨ falsetto be base on encyclopedia well perhaps it be enough for wikipedia or himself but not for me no there be much more out there only regard physiology much much more and just because you allow idiot like meter to ¨develop¨ wikipedia the people the reader of wikipedia will read shit where be any prof of the research regard female falsetto at y mr know everything feel free to block me again i have no desire to write here any more',\n",
       " 'you have also forgotten these premier league but still write in english',\n",
       " 'please do not replace wikipedia page with blank content blank page be harmful to wikipedia because they have a tendency to confuse reader if it be a duplicate article please redirect it to an appropriate exist page if the page have be vandalise please revert it to the last legitimate version if you feel that the content of a page be inappropriate please edit the page and replace it with appropriate content if you believe there be no hope for the page please see the deletion policy for how to proceed thanks for contribute to wikipedia talk',\n",
       " 'what a motherfucking piece of crap those fuckhead for block u',\n",
       " 'utc that s because when i make those table i class everyone a independent unless i could confirm their party identification accord to this the dlp intend to run in all constituency accord to this they have at least candidate i have only be able to identify two so far so we do need to identify more december',\n",
       " 'remove pov i remove undo criticism of secretary boutwell and pov wikipedia be not meant to bash person reputation whether alive or dead the follow have be remove from the article boutwell do little to withdraw paper currency from circulation shape his financial policy to forestall either inflation or deflation intellectual critic saw in these action a want of guide principle and a lack of solid theoretical knowledge he believe in knowledge just so far a it be convenient for him to justify his own theory that knowledge be a deception henry adam write in a much quote analysis in he believe in common school and not in political science in ledger and cash book but not in adam smith or mill a one might believe in the multiplication table but not in laplace or newton by a natural logic he make of his disbelief in the high branch of political science a basis for his political practice and thus ground action on ignorance he carry out his principle to it remotest conclusion henry adam the session north american review july p but in a very corrupt time it spoke well of boutwell that nobody thought that he make money out of his cabinet post either for himself or his friend living within his salary he lodge in a boarding house throughout his tenure his only pleasure lay in write lecture and play billiards or poker though never for money chicago time march he be an inaccessible man uninfluenced by fear favor affection or hope of reward and do not burst out into brillian exhibition of love or hatred a new england politician write his brother henry f french to benjamin b french march benjamin b french paper library of congress boutwell s financial policy be less dogmatic than pragmatic liberal reformer have hop that he would embrace civil service reform and rush the country towards the resumption of specie payment but while boutwell appoint subordinate on the basis of merit for the most part he do little to rein in the spoil system outside of washington remain on friendly term with the party boss',\n",
       " 'you sir be an imbecile and a pervert',\n",
       " 'recaptcha it be not defamatory it relates to a computer system not a living person recaptcha force user to solve the captcha to access whatever the service in question be force labor be the definition slave labor i be go to revert your reversion please do not do it again or i will report you for vandalism also please do not send me threaten message tia',\n",
       " 'question on possible citation i be sorry if i miss your question i do not pay much attention to that page in response to your question let me start by repeat my boilerplate formulation the job of wikipedia editor be to verifiably summarize reliable source use the neutral point of view i have not yet work in no original research wp nor say that we must not integrate otherwise reliable information to arrive at novel conclusion compare two list and draw conclusion from their difference and similarity be most likely original research we can integrate information so long a we do not arrive at new theory another principle to remember be that vagueness improves accuracy the more precise we be the harder it be to be accurate get down to detail the predator and editor website appear to be a reliable source so we can use it a a source the bauer site even if somewhat unreliable may be use in a limited fashion a a primary source about bauer i be not familiar enough with this topic to make pronouncement on what would be correct however i would say that your propose text appear reasonable the source be sufficient and no original conclusion be make the website takedown issue be confuse to me but you should be able to summarize what you find in reliable source overall my opinion be that the less we say about the subject the well attack article be not encourage while we must show our subject wart and all we should not enlarge the wart nor ignore their well feature balance be a part of npov but you should be able to summarize what you find in reliable source there no reliable source only a he say she say blog flame war it be allege the website takdown be instigate by bauer it be not clear if she do and other factor between the forum and the ip be not know it be the root cause of this article and all the player here be involve via these blog i do not see how that can be objective bauer i be sorry i do not get back to you about the usenet stuff et al but i have be somewhat overload at work personally i think the article be well now than when i first saw it thanks to a lot of effort on the part of the primary editor of the article to bring the best source and present them in a way that do not seem like a lynch mob y all be do a good job and there should be enough editor on either side to ensure that something resemble nuetral get post i be glad to help and try and make the article neater and i do not mean to sound brusque in the summary field but there be a lot to cram in there thanks for the note i appreciate it i would say karen say i have call her name be an out and out fabrication i have never do any such thing or whether it be because he be be able to insult me and call me name on wikipedia repeatedly and without consequence i have accuse her and jule of carry the water for tnh and absolutewrite and they have that be not namecalling by a long stretch i be really weary of these attack over this this be mob rule while avi seem genuine she be hang with a tough insult tribe the threat against me be real and escalate by the hour blame me will not make my point any less valid nobody like to be pile on by a crowd it be the internet equivalent of stone this be not a fabrication i get awfully tire of be call a troll or part of a mob or cult or group troll or a self interested partisan or a blog comment commando or other thing i could point at if i want to depress myself you also make a theoretical comment about me be nosy fat and ugly put the word if in front of it do not make it any less of an insult i have try to be polite to you and will continue to do so but this be the response and please notice like abi avi be avraham the admin abi the ml commenter who believe in kindness i counsel against pile on talk contribs those be not ad hominem name karen yet you have link to a thread where you and teresa caled me a psycho you should hear what she say in private when i ask not to be spoken of negatively in thread on make light it be obvious you two be pro tnh and absolutewrite that s self interest and back up by the fact that you run to her for counsel well avi can make her own decisons about it then can not sh',\n",
       " 'infobox hurricane season it be pretty much complete i need to make some documentation and possibly tweak thing that may pop up you might want to test it out so if there be question or suggestion i can go ahead and address them',\n",
       " 'show me where on wikipedia it say the table width have to be wide collectonian why can not you answer my question',\n",
       " 'why be this article marked for fix i be hop that there would be some guideline here on the talk page for far research and edits the article look okay to a cursory reading by a non wiki reader',\n",
       " 'castro lite webluis continue to revert to his water down prefer image of castro he have not back up his edits with any fact only whine about personal attack some nonexistent and empty statement mar utc',\n",
       " 'antonov revert if you do not like the red link removal why do not you just add them to the table i make also you revert the edit where i only add the logo of antonov it say so in the edit summary',\n",
       " 'another crap article parrot what promotion website of capoeira school say about myth of origin and also that persecution thing by the late s capoeira become a word for street brawling thus authority do not prohibit or sanction practice of capoeira in ban capoeira they be ban outright street brawl it be why mestre bimba present his art a luta regional baiana no decent carioca would be eager to sympathise with capoeira and malandrismo i could attempt to alter the article but it be become such a mess by now',\n",
       " 'i never edit the content of your comment please correct your false accusation',\n",
       " 'redirect talk josé manuel rojas',\n",
       " 'i agree that it should not but clearly it do the medium make spouse household name there be nothing we can do to stop that but a jim rightly point out rein be more notable than some political spouse because of her prominence a a businesswoman and that potential conflict of interest which she be try to avoid nick',\n",
       " 'for security reason edit war a i say in my edit summary the term for security reason be ambiguous and not properly establish in the source far it be unnecessary you would have to have a crystal ball to know why they do it and a i say earlier janes be not perfect the reason that all the other mg manufacturer alter their part so they do not interchange be because the u batfe make them do it suddenly glock be different yeah i guess that s just like glock compensate pistol not act like any other compensate pistol i wonder if they actually shoot bullet',\n",
       " 'this represent your immaturity and consistence at disruptive behaviour — talk',\n",
       " 'macedonian slavic bulgarian possibly note republic of macedonia recognises the language a the a a dialect of the macedonian language greece eg recognises speaker a slavophone greek bulgaria believe that macedonian and dopia slavic macedonian to both be part of the bulgarian diasystem european bureau for lesser use language recognise the language a macedonian in ethnologue the most comprehensive guide to the world s language http www ethnologue org show country asp name gr there you go for more clarification altough we all know the stance of the various government do anyone have current source for this if so please add them i hope that this table be clearer but their still need to be more ngo s albania eu etc please add constructive comment',\n",
       " 'if you feel that i be act in manor inconsistent with my responsibility you can post something at wikipedia administrator noticeboard incident if you want to make change to university of wisconsin–madison and you have reliable source reference to support those change then post the reference with the change this tutorial may help with reference if you have more question just ask',\n",
       " 'part of edit for an encyclopedia be reduce extraordinary claim to ordinary fact i assume that this be meant in a derogatory fashion',\n",
       " 'cfd nomination of category wikipedia administrator i have nominate for deletion your opinion on the matter be welcome please participate in the discussion by add your comment at the discussion page thank you ☎',\n",
       " 'i be also a sock puppet of this account suprise sincerely the man that will track you down from the internet and kill you',\n",
       " 'all the source need be provide all you need to do be read the article but i guess you can not read once again you prove you be not even reading the article every edit be back up with the source it come from i be not go to provide you with any detail because you be merely a civillain editor and not a wikipedia staff member you have all the info you need within the pira text edits if a actual wikipedia staff member want more specific i will be happy to provide them look you be obviously a anti ira hack who be make thing up to support your bias i be neither pro not anti ira i have no bias i merely report fact i will be check this page daily and will continue to submit my pira entry because it be by far the most accurate and factually support we can do this several time a day if you wish or you can accept the fact that mine be the superior version and just deal with it it be up to you but i will re edit on a regular basis or we can agree to incorporate your fatcxs and mine into one article but the three area the number of loyalist kill from to the number of ira victim a broken down by both janes intelligence online and the cfr and the ira russianmafia connection which have be document in multiple book and newspaper source these three thing be verifiable and will remain',\n",
       " 'be you fucker mother fucker have nothing to do but block university computer go and suck cock',\n",
       " 'it be from one of the many book on various band i thought it be from cult rocker but i just checked and supertramp be not in there i will seek out a source for this quote',\n",
       " 'hello you disgrace to humanity stop waste valuable internet resource your kill the fuck planet and throw out your pc p it be like be what the fark kinda life do you have on wikipedia a very sad and lonely one lol life s too short find something well to do',\n",
       " 'i have explain my reason for this block at user talk gwen gale user professional assassin',\n",
       " 'when an article be create about that album then a disambiguation page will be create',\n",
       " 'that would be pretty odd for those declassify document to mention a movie that be create after the event for which both the movie and the document do related about the declassify document be not synthesize for the movie unless you want to prove a conspiracy on the synthesis very odd it be perfectly valid to use the document to relate to the same historical event to far verify the what happen but the use of primary source in such a be be not ideal for wikipedia since it be not ideal that be why i left it here on the talk page if someone want to research it more to find ideal reference —',\n",
       " 'your retard bot your bot be entirely automate that be wrong you should not leave an unattented script just run through the site like that it be idiotic of you to suppose that your script ability be so perfect that they will only ever make proper edits ban me do not help anything dipshit since i have a many ip a i want',\n",
       " 'two reversion on hezbollah could you explain on the talk page why you have revert my edit twice',\n",
       " 'dislike racism and i can see that you have problem with people who speaks spanish you be an antisemite too',\n",
       " 'the name yuen lou look to be just a variation of yuen lo the name jackie use under his sifu at the opera school',\n",
       " 'user talk wikireader archive archive mar',\n",
       " 'i realize now that the article do not quite say what i thought it say if anyone can find a citation state that there exists a proper subfield of isomorphic to itself i would be very interested in see it and we could reinclude the clause with the citation',\n",
       " 'i do not cherry pick anything these be the official and only fact while essentially every cnn program be down double digit pmet which be home to “ pier morgan tonight ” and pmet which be home to “ erin burnett outfront ” each have their bad performance in the demo in year http www mediabistro com tvnewser may rating cnn hit year low b',\n",
       " 'direct indirect relation be it correct to say that technically if a degree shot by elevation reach the long distance then a degree will reach the same distance a a degree shot if so could the low than shot be consider direct fire and the high than shot consider indirect fire if so i think this be a great explanation or one way of view thing',\n",
       " 'title section revert hi i be at the office earlier and i have not notice your warn before restore the title of the section i be sorry for that of course i will not do such a revert again just to clarify i have open a new section to indeed alert some contributor that they be behaving in a way in line with the example of ownership behaviour a described here in return the title of the section have be twist to something unrelated and one of my message have be erase it be the first time i see people edit other s sign contribution in a talk page this just look crazy to me',\n",
       " 'noel you be an expert please convince whig history fan or the lazy mind about how bonnie prince charlie do not want to dissolve the union that the united kingdom begin with the stuart a oppose to the hanoverian tell them how the whig rewrote history to blame everything on the stuart whom be credit a ultimate failure with no positive contribution to the foundation of great britain in their stewart and tudor blood the sovereign s will be the realm or else it be not a kingdom the british might a well be living in a republic at least if the parliamentarian have their way even the hanoverian heir recognise that the stuart found the uk please debate that here thanks',\n",
       " 'warn earth i would like to leave you access to your talk page so that in perhaps six month you can convince u that we should try again if you be so inclined but you be make it hard if you continue these abusive comment i will revoke your talk page access',\n",
       " 'should be jaeger regardless of what other people have decide erens name should be jaeger it like call light from death note raito at least in the anime the people dub take care to correctly pronounce the foreing name ie all of them except mikasa jaeger mean hunter a german word guess what eren do in the series',\n",
       " 'thank you for experiment with wikipedia your test work and it have be revert or remove please use the sandbox for any other test you may want to do take a look at the welcome page to learn more about contribute to our encyclopedia a link to the edit i have revert can be found here link if you believe this edit should not have be revert please contact me — talk',\n",
       " 'please discus how factual accurate biographical information about courtney ford be vandalism i look forward to hearing your evidence',\n",
       " 'i think the entire article should be tag a politicize and the part about future trend a speculative my point be that scientist be learner and we be increasingly use them a know it all teacher yes they probably can make educate guess well than anyone else but it still an educate guess also if you do not notice i be totally against spew unnecessary carbon a this statement i think this article superbly miss the point that pollution and waste of all type be stupid way to go about do thing where well way be know and we be make guinea pig of all our planet s specie point out',\n",
       " 'use car expert page image thank you for your note about the image of use car expert magazine i have have the copyright owner who give me permission for the picture email a above',\n",
       " 'however it be still in error to assert he do not work the equation himself or that he be handicapped',\n",
       " 'first we have widely establish the use of exile quotation present a such be legitimate second i be not mark ames this have be autheticated by numerous admins and user at wikipedia who have personally met me third you cite the paragraph on spy magazine a your primary example of pov and creative fact what precisely be the creative fact in that paragraph that the exile admire spy magazine that spy magazine employ a team of lawyer to defend against spurious lawsuit that spy magazine go bankrupt all claim in that paragraph be verifiably true',\n",
       " 'pretty humorous comment from someone who promotes the far leftist blog daily ko on his user page',\n",
       " 'seem we both have some',\n",
       " 'do not be evasive i shall have to repeat myself how many people argue for it deletion do not lock page when you do not get your own way —',\n",
       " 'edit request on october the arctic monkey played walk on the wild side in honour of lou reed at echo arena liverpool a day after the musician s death http www rollingstone com music video arctic monkey cover lou reed walk on the wild side',\n",
       " 'welcome hello and welcome to wikipedia thank you for your contribution i hope you like the place and decide to stay here be some page that you might find helpful the five pillar of wikipedia how to edit a page help page tutorial how to write a great article manual of style i hope you enjoy edit here and be a wikipedian please sign your name on talk page use four tilde this will automatically produce your name and the date if you need help check out wikipedia question ask me on my talk page or ask your question and then place helpme before the question on your talk page again welcome talk',\n",
       " 'gurch be an interest fellow just do not take his comment to heart but take his advice on board talk',\n",
       " 'it wasnt vandalism dickhead',\n",
       " 'you need to understand that he be not here do help wikipedia he be here with a political mission attack brazilian press no i be not crazy but i see this crazy people all day here in brazil',\n",
       " 'season issue not sure why you remove my edits on the season futurama issue but i think it have merit the total lack of season info be confuse and not sure why the season info be replace by the movie information you could have inform me at least on why you remove my discussion comment',\n",
       " 'philosopher rfc philosopher from wiktionary a person devote to study and produce result in philosophy i be go to make the case that we must call stefan molyneux a philosopher without qualifier in the lead this be not do a an endorsement or statement about the level of achievement or acceptance of his philosophy only that it be his career note not all of the source i use below be in the article at present the point here be to first convince rfc respondent that philosopher be accurate and widely accepted then we can make sure the most reliable one be in place definition obviously each source be go to use slightly different phrasing some will call him explicitly a philosopher or have view on philosophy but i think you should consider some other phrase give below a equivalent use one word philosopher in the lead sentence cover all of his political ethical and theistic specialization in one word which we then elaborate on later in the article philosophical conversation philosophy show use to describe his freedomain radio series libertarian libertarian thinker libertarianism be a classification of political philosophy anarcho capitalist anarcho capitalism be a political philosophy voluntaryist voluntaryism or sometimes voluntarism be a libertarian philosophy athiest argument for atheism range from the philosophical to social and historical approach ethic ethic sometimes know a philosophical ethic ethical theory moral theory and moral philosophy be a branch of philosophy secular ethic secular ethic be a branch of moral philosophy primary source a stefan molyneux be a living person we should give great weight to what he say be the focus of his work and his state profession unless there be reliable evidence to contradict him obviously we do not want to host any sort of fringe claim if we be to dispute what he say about himself though then we absolutely must have a strong basis for this or we open wikipedia to discredit or liability this be why blps be held to strong standard in the first place i think in this case there be strong and ample evidence that call himself a philosopher be justified and correct he be a modern philosopher that explores via modern online medium which be obviously a very new phenomenon and so it understandable that it different than the old school philosopher we be use to freedomain radio about page my master s thesis analyze the political implication of the philosophy i have be fascinate by philosophy particularly moral theory since my mid teen i left my career a a software entrepreneur and executive to pursue philosophy full time through my work here at freedomain radio i have write a number of novel a well a many free book on philosophy freedomain radio the show that molyneux host have the tagline the large and most popular philosophical conversation in the world molyneux s book show that he be endeavor to produce tangible write result in the field of philosophy particularly universally preferable behaviour upb a rational proof of secular ethic and against the god a concise guide to atheism and agnosticism which be two of his more deep dive into the fundamental philosophy strong atheism the case for evacuate the middle ground article why i be a philosopher video a response to question about my childhood motivation for pursue philosophy an introduction to philosophy part video course produce by molyneux describe basic philosophical concept reality knowledge truth god religion ethic and politics unsolvable philosophical question solve video tackle great philosophical question consider unanswerable proof for god destroyed by a philosophical atheist video a philosophical review discus the major philosophical political economic and social development of video http www youtube com watch v udlsgjbwhs philosophy questio',\n",
       " 'wp film december newsletter the december issue of the wikiproject film newsletter have be publish you may read the newsletter change the format in which future issue will be deliver to you or unsubscribe from this notification by follow the link if you have an idea for improve the newsletter please leave a message on my talk page happy edit talk • contrib',\n",
       " 'january utc no i be not be uncivil try uuser lbrun he be call other user a waste of sperm a moron etc block him the one who s truly uncivil rikara i recommend you cool it yell and argue be not go to get you anything take a breather and come back when you be feel calmer otherwise you will find your talk page protect and you will be force to take a breather i have see nothing of the sort from that user who have since be rename at the very least not in this current situation blah v v',\n",
       " 'you suck if you do not undelete the page barry dejay i will you',\n",
       " 'see internet explorer market share history overview by year and version ie be with u for some time to come like it or not but if others use it have no problem that s fine i be not worried about my specific workplace come howl',\n",
       " 'i like the example give on the follow post http theautomaticearth blogspot com july real black real swan html',\n",
       " 'curse wikipedia have no respect for god wikipedia be full of lie or dangerously evil half truth wikipedia have no respect for religion the follow user of wikipedia namely redtigerxyz priyanath emperor genius raj wikidas wikiveer and dagizza have all commit blasphemy and sacrilage curse upon you that you will all perish i curse the follow user of wikipedia namely redtigerxyz priyanath emperor genius raj wikidas wikiveer and dagizza that you will all perish i curse that the wikipedia will entirely perish i beg forgiveness from the supreme god lord vishnu for choose the blasphemous wikipedia website to write about the truth a true devote of the supreme lord vishnu have be hurt and my curse never go in vain i will never again edit or read or go to the evil wikipedia website forever delete my user id and all edits you evil wikipedians mr dagizza you be a male chauvinist pig and a misogynist to the core and you call yourself an administrator ridiculous mr dagizza you be a curse to your existance a man like you who can not respect woman be a worthless in his existance you wikipedians be useless people you be a burden to the civilize world you be not even worth hatred you wikipedians must be ignore curse',\n",
       " 'hahaha you dont actually believe this bullshit you be tell me right now you be talk about the access to the country or representative to the government not kim jong un himself those be two totally different thing although i could understand your stupidity since north korean think that kim jong un be the governement im just say go troll somewhere else kid',\n",
       " 'block mardyks guess what loser know what a cockblocker be hahahaha m',\n",
       " 'and i do not want to use it again i do not understand why fayssalf insists on naccount i could have write to him use any other account maybe he would have kept it instead of naccount',\n",
       " 'deletion of minority post nice try at try to silence the slave who will not stay down i do not know you attempt to block my yet again i do not come to wikipedia every day because i have something you do not a life a you can see you have fail again in attempt to silence me and refuse to answer the qusetion why do you purposely hunt down post of african american and delete them all you do be refuse access to some sport good store and the person you contact in an attempt to block me be name rebelguy no there be not racial agenda be there i have make a hard copy of your fail racially motivate attempt to punish me and turn them over to the naacp',\n",
       " 'thank you i just want to say it',\n",
       " 'well you never answer my question about your specific intention at talk mystery science theater episode experiment v movie can i assume from your post title that your intention be to create individual mstk episode article i be on record a believe this could be useful but be not prepared at this time to do any significant work on it a i be stretch way too thin right now talk',\n",
       " 'nigel per wiki standard when to use and external link be it proper in the context of the article useful tasteful informative factual etc be it a functional link and likely to continue be a functional link each link should be consider on it merit use the follow guideline a the number of external link in an article grows longer assessment should become stricter when in doubt about the appropriateness of add new link make a suggestion on the article s talkpage and discus with other editor i generally avoid external link except when it take me directly to the home page of the aircraft in question this link do take me directly to nasm s page on this particular p that make this external link appropiate agree that this page do need more reference',\n",
       " 'edit request from maksudfsa march just a minor edit i have add azerbaijani to the list that describes turk in the first paragraph a we be the second large turkic ethnic group the turk or turkic be people reside in northern central and western asia mongolia southern siberia and northwestern china and part of eastern europe they speak language belonging to the turkic language family turkic people encyclopædia britannica online academic edition they share to vary degree certain cultural trait and historical background the term turkic represent a broad ethno linguistic group of people include exist society such a the azerbaijani chuvash kazakh tatar kyrgyzs turkish turkmen uyghur uzbek bashkirs qashqai gagauzs yakut crimean karaites krymchaks karakalpak karachays nogais and a well a past civilization such a the kumans kipchaks avars turgeshs seljuk khazars ottoman mamluks timurids and possibly the xiongnu and hun timur the columbia encyclopedia sixth edition – columbia university press encyclopaedia britannica article consolidation expansion of the indo timurids online edition',\n",
       " 'nobody care seriously it be just self referential trivia guy',\n",
       " 'i understand what i see i do not see scholarship i see steal grasp greed it be animalistic try this in any culture switch to math you wil like it no levantian in math amanbir',\n",
       " 'i guess u do not know greek cuz it take u forever to translate second if u read carefully do not say anything about u',\n",
       " 'you have never met or be photograph with keith wigdor whoever you be i be ask you to not interfere with the article about keith wigdor you have no resource or connection to him unless you be somehow be deceptive so really you be not any sort of expert on this artist dec utc',\n",
       " 'holocaust denial if there be no actual proof that jeff rense advocate holocaust denial then the category holocaust denier should be remove',\n",
       " 'wikipedia administrator be defend a mass murder psychopath',\n",
       " 'censorship it be my understand that you be suppose to warn someone before ask the administrator to block them so consider this a warn do not delete my comment again',\n",
       " 'april your attitude and comment to be not appreciate please remain civil',\n",
       " 'request for help request for help hi again cat a perviously i have notice a strong anti greek bias on several article related to macedonia i have have issue with both furper and beam who seem to be admins that heavily favour fyrom i have officially complain on the notice board about their threat to block edit behavior and unusually close relationship with obvious fyrom pov member of wikipedia specifically balkanfever http en wikipedia org wiki wikipedia administrator noticeboard this anon apparently user crossthets c be an apparent pov pusher c evidence below a i say verbatim on politis talk page this be a difficult battle because so far i be alone at the moment i be a newbie and a i say to one of the admins on notice board i feel like someone reporting a bad cop at a policeman s ball however i still plan to follow up soon with a precise listing of what i perceive a non npov behavior by these admins i notice while research this issue you have also have problem with them would it be possible to list any problem on your talk page here so i can add them to my report to show i be not alone furthermore since you have be around longer you probably know more greek than me around here would it be possible to also contact them to ask them if they have also have problem with those two and if so add those incident to your list and perhaps get them to contact others where one person could be bully with threat of block the concern of many will be take much more seriously i will check back here in a couple of day have courage regard',\n",
       " 'i be certain that it be injury and not sickness regardless of how it occur',\n",
       " 'i told you i will not comment on it again what more do you want',\n",
       " 'wikipedia article for deletion cheongye kwan your post at the above afd on a new martial art bother me this be the version at the time that you base your post on you post i just read the article and to be quite honest feel that it do satisfy wikipedia s guideline it be reliably source since i believe the notability of the article be satisfied it now have independent source and to refute the argument pose by wayne it be determine by the phillip rhee source that the martial art be not localise please consider the concern this post raise simple matter like reference notability and noobie basic of afds should be routine for any moderately experienced user and bread and butter for any admin in fact a cursory check show that almost everything you state be i do not have a word for it unreal be close the eleven independent source that you state establish notability and non localization at the time be three reference from coates robinson shaw certainly before the topic even exist and all related to a passing piece of news about it founder be on the team of a completely different sport in any event two reference from st half davy white almost certainly identical and identically irrelevant to the topic s notability the promoter s personal page on his local town website almost certainly self publish official village website a casual interview in a non notable and possibly non reliable university magazine apparently of the promoter s travel to see expert in a different sport with tangential tiny sentence mention that he would discuss his new sport with them too the lau philip la interview entry marked reference and support of write reference chris cook rhee obviously a request by the founder to a friend colleague write a letter of support that be never publish anyway and be not cite so you can not have read it not that it be even possibly valid evidence a short writeup of a local information kind on the award of the first black belt by the school in it local paper in brief of the be before the sport exist and be not even remotely to do with the topic itself much less source material on it or substantial coverage they have precisely zero coverage be claim of personal i think be a great guy letter of support evidently solicit and or write on request with zero evidence of verifiable existence and certainly in no way reliably source or independent be self write be the briefest of non mention in a non reliable source pretty much i discuss the topic with them in a college magazine interview be local press coverage of his course that s not even news for a day or evidence of anything beyond a course by this name be taught twice weekly in our local village hall your assessment of these at afd be it be reliably source style border ccc solid px width there be barely one reliable source in all of those that the sport even exists in the first place a local newspaper mention that it meet in a village hall on tuesday and friday and just award it first black belt probably via self promotional input there be zero reliable source for any of the rest that the cite page be evidence of notability style border ccc solid px width they do not mention it or even date from a time the topic exist nor be online version provide how on earth could they reliably evidence it that the source be independent style border ccc solid px width be claim that please support me letter exist they be even state to be personal reference unpublished and uncited be his own clearly self write web page on a local village web host that the cite show it be non localize style border ccc solid px width the page do not list a link so you can not have checked the cite yet you say the citation prof it the reference openly state cambridge university and bristol taekwando a big indication of it actual source when a link be provide on request it turn out it',\n",
       " 'hebrew name of lydia appologies to til eulenspiegel i thought you be one of the idiot which your user page indicates you actually do well struggle against genesis יג וּמִצְרַיִם יָלַד אֶת לוּדִים וְאֶת עֲנָמִים וְאֶת לְהָבִיםוְאֶת נַפְתֻּחִים tab and mizraim begot ludim and anamim and lehabim and naphtuhim you see ludim be from mitzraim not to be confuse with lud son of shem in the far east best wish and keep up the good work',\n",
       " 'which they be have you consider that you have irrationally laid waste to six month of my life which i have dedicate to this project',\n",
       " 'do you scout for source prior to the prod eh no ♦ dr blofeld',\n",
       " 'you waste your own time take this advice with you pull your head out of your as be real and do not spend the rest of your life suck as have a nice life goodbye mailbox',\n",
       " 'class wikitable style border px solid aa background fff pad font size parliamentary bloc alliance leader seat percentage source national alliance state of law coalition national iraqi alliance ibrahim al jaafari al iraqiya al iraqiyya hassan al jibburi kurdistan bloc coalition kurdistani list kurdistan islamic union islamic group of kurdistan fuad masum center current al tawafuq unity alliance of iraq unknown gorran bloc gorran movement shorsh hajial iraqiya brengt oppositie en talabani dichterbij elkaar azady nl national rafidain list assyrian democratic movement yonadam kanna csapc chaldean syriac assyrianpopular council sarkis aghajan independent — — —',\n",
       " 'i also told him that count of use admin tool for decide on content and misrepresentation of policy norm have be sanction in the past',\n",
       " 'welcome hello and welcome to wikipedia thank you for your contribution such a the one you make to nogeoldae i hope you like the place and decide to stay here be some page you might like to see the five pillar of wikipedia help page tutorial how to edit a page and how to develop article how to create your first article use the article wizard if you wish manual of style you be welcome to continue edit without log in but many editor recommend that you create an account do so be free require no personal information and provide several benefit such a the ability to create article for a full outline and explanation of the benefit that come with create an account please see this page if you edit without a username your ip address be use to identify you instead in any case i hope you enjoy edit here and be a wikipedian please sign your comment on talk page use four tilde this will automatically produce your ip address or username if you be log in and the date if you need help check out wikipedia question ask for help at the teahouse ask me on my talk page or ask your question and then place helpme before the question on this page again welcome — ♫',\n",
       " 'stradbroke galleon portuguese hallo moondyne i do admit that when i sign onto wikipedia i be not aware that it be a concensus community of knowledge nazi but now that i be aware of it i will make the appropriate adjustment i be under the obviously mistaken impression that wikipedia be a venue for share fact knowledge and information the notion that the stradbroke galleon story be a pet theory of mine be total rubbish a it have be write about discuss and investigate for more than year by historian and historical group such a the royal historical society of queensland the maritime archaeology association of queensland and many more too numerous to include here there exists in various library book and community a large body of write and oral history concern the galleon story which i have attempt to fairly and accurately place in the wp domain the fact that a story be not accepted by mainstream academic be not a valid reason for deletion of either of my contribution what have occur here be a classic example of manipulation of an information resource by a vested interest group i e hesperian and his friend who be representative of the mainstream view hesperian complain about the medium coverage i have recieved but this never appear in any of the wp contribution i make and hesperian s mention of the medium coverage demonstrates the core reason for hesperian s antagonistic attitude simple old fashion professional jealousy thus valid historical data be be deliberately surpressed by hesperian for personal reason for example the portuguese walk stick handle which be found in an aboriginal midden identify by a spanish musuem offical and story told to me by a uq archaeology phd student be very relevant to the theory of the portuguese discovery of australia this kind of knowledge suppression be not what wiki be about but i guess you do not care a you appear to be part of the happy little click or have be suck in by hesperian and his little band of mate which be a pity but history be full of the suppression of information by vested interest group so why should i expect wiki be any different still it be dissapointing happy trail',\n",
       " 'agf require me not to think you be revert to the user s prefer version it might look well if you allow another admin to make that edit',\n",
       " 'accent although the cartoon establish mario and luigi to be from brooklyn a fact commonly accepted by fan despite have never be mention in any game toad seem to speak with a thicker brooklyn accent the accent be not mention in the game but the tv show be presumably a license product until nintendo decide to go with an italian accent fan assume the tv show and later the movie accent be the official stand only when nintendo s product include digitize record speech do anyone realize nintendo intend them to be italian not italian american it be the same principle of update canon that star trek and star war license product run on',\n",
       " 'delete this no way i consider it a trophy',\n",
       " 'actually bzfoster will be unable to edit the article a it be semi protect a well pc would log out and try for yourself',\n",
       " 'i believe that i have obeyed the community rule i do understand the rule about personal attack but it appeares to me that they be be apply unjustly in this instance i have provide countless hour of academic research and input for wikipedia please assume good faith on the part of the block admin i be an intelligent adult i naturally assume good faith until other party demonstrate they do not it seem to me this be a one side affair',\n",
       " 'please do not add unsourced negative or controversial biographical material to page a you do with this edit to stuart tyson smith if you continue to do so you will be block from edit',\n",
       " '— precede unsigned comment add by talk • contribs',\n",
       " 'or between the french and the walloon surprise our article on french people clearly label the walloon a a distinct ethnic group perhaps it be best not to make comparison after screw it up a few time i have do rewrite of part of the article mainly a word and a sentence left and right to make the distinction and relation between the dutch and the flemish clearer the article switch constantly between part about the dutch only and part about the dutch and flemish together this should now be clearer the major thing left to adjust be the graph of the number of dutch since these still al include the flemish',\n",
       " 'you need to sign the above and your rsn post',\n",
       " 'a few thing to get straight firstly i do not like you you look like a smug little prick to me secondly i do not like your ethnicity not one little bit i would like you to explain yourself on that count thirdly your dog be a bit of a bender',\n",
       " 'procedure do i ask you for the award michelle obama already have a million view this year and anthony davis basketball have a million in t c wp four wp chicago wp waward',\n",
       " 'add more than link i do add more thank link but the entire page be also marked a spam for no reason other than the no one be familiar with the one hundred year old industry and you still have not explain how the link on this page http en wikipedia org wiki natural building be relevant and mine be not',\n",
       " 'please do not accuse member of vandalism i do not mind if you change the word unique to prominent or remove story of dream etc but you have vandalise the page and make a statement bias by say that dr qadri only sent out a referendum so i revert the whole edit you have also reciently vandalise the page by remove the name of the yemeni scholar who recieved dr qadri s ijaza include the picture and this be a clear form of vandalism so before accuse other member of vandalism do not vandalise the page yourself what i do be clearly not vandalism a i only revert your edit and any change you make and brought the page back to it previous form so would you first kindly read the rule of wikipedia and find out the definition of vandalism before accuse experienced user you be still new to wikipedia i be afraid and you need to learn how it work and the different rule of wikipedia before make any far edits',\n",
       " 'i know how it be pronounce in turkish the question be whether there be a specific pronunciation that s dominant in english if not it be best not to include any english transcription or pronunciation audio file',\n",
       " 'oh sorry i actually found it on an other page but i forgot it anyway it be actually a note for myself be go to rewrite the text suppose it slip out of my mind',\n",
       " 'june please do not vandalize page a you do with this edit to bugatti veyron if you continue to do so you will be block from edit talk',\n",
       " 'terri schiavo a rorschach test now perhaps you see that utility of terri schiavo be a rorschach test you dangle that pretty slender alive and aware young face in front of the power player on both the left and the right and you see how they respond if they respond inappropriately then you make a note it a if they be just some rat in your laboratory that be what make wikiepda so powerful and it be all true and npov notable and fair',\n",
       " 'ok stop be lame seriously go watch pokemon',\n",
       " 'past master v rarity i be create a chart for my own use that include u s album since there be so many difference in the early album a a u s fan i be face with the issue of whether to have u s album u k album or both on my ipod i will post my chart on my talk page so that others can judge whether it be worthy of include here i realize there will be problem include the lack of canadian album my purpose be simply to record the first album appearance in both the u k and u s of each song i notice that a number of u k song be list a past master when they actually first appear on rarity the beatles album i do not know the reason for this if the purpose be to list the first appearance on an album can someone explain or should they be change to rarity',\n",
       " 'simpson movie poster do you create the simpson movie poster image or do you source it from somewhere else',\n",
       " 'help hey can you help me with something i uploaded this image to wikipedia http en wikipedia org wiki file stikky cemetary san jose jpg i contact the photographer and he give me permission to use it on wikipedia so i be wonder what the proper licensing would be thanks in advance',\n",
       " 'look good it would be nice to see the county but it be a lot well than the current one good job',\n",
       " 'the debunkers pretend that they be objective sceptic besides prove their lack of knowledge and lack of integrity on the various astrology page have also be personally attack me on my own talk page when i dare try to defend myself they block me out of wikipedia so much for honest dialogue they can not win an argument fairly so they resort to dirty trick',\n",
       " 'review block you say i would also like to ask you that in future for the sake of fairness and due process that you do not decline the unblock request of user you block yourself unless the request be pure nonsense or abusive from an ethical review of block be meant to be carry out by a rd party will do i thought it be pretty clear in this case give the editor s user page gnaa etc etc etc that the unblock request be pure nonsense also i be under the impression that the unblock request would still be visible and review by other admins i will be more careful in the future',\n",
       " 'regard edits make during december utc to kanpur please do not add inappropriate external link to wikipedia wikipedia be not a mere directory of link nor should it be use for advertising or promotion inappropriate link include but be not limited to link to personal web site link to web site with which you be affiliate and link that exist to attract visitor to a web site or promote a product see the external link guideline and spam policy for far explanation of link that be consider appropriate if you feel the link should be add to the article then please discus it on the article s talk page rather than re add it see the welcome page to learn more about wikipedia thank you talk',\n",
       " 'come on be this really necessary i understand where your come from but you sound like a whiney bitch when you have a website that anyone can edit this sort of stuff come with the territory and do you really expect anyone other then the or people who troll wp pw to read your comment on talk royal rumble or this talk page for that matter i be confident most active member of wp pw have add wrestlemania xxiv to their watch list so when and if something not to their like be add it will be remove simple a that and if you be nothrough with put up with people not reading talk page quit endless dan',\n",
       " 'i do not see any anti semitism here if the guy give lecture in new york synagogue and knock down his country every single minute use every opportunity in such influential newspaper a new york post then one can state that his interest be not only personal you can not find any intellectual person among neoconservative in new york post michelle malkin andrea peyser deborah orin may her rest in peace although i know she be rot in hell and other essayist be the one who make a great company for amir taheri this guy have no mind at all i agree that iran s regime be wrong but the regime of shah that amir taheri be longing for because he own keyhan during that regime be not any well and islamic revolution be justified look at how they intriduce amir taheri in both this article and in new york post base in europe memeber of benador associate be europe that small be that a small town why do not they say base in the world journalist or may be he be have a breakfast in london with christian amanpour and james rubin eat lunch in jerusalem and have some lecture and dinner with anti irani jew in forest hill new york in between email his full of hatred article to new york post be not this stupid how can you saysomebody be base in europe or asia or africa',\n",
       " 'why confusion and controversy in the real world do not preclude the write of a good wikipedia on the topic ackoz suggests that because the real world have not yet hash out the truth about the expulsion it be therefore impossible for u to know the truth and thus impossible for u to write about it i reject such a stance i think it be difficult but quite possible to write a quality wikipedia article about a topic that be murky and or controversial where many wikipedia editor get it wrong be that they believe wikipedia s job be to report the truth this be wrong wikipedia s job be not to report the truth precisely because it be difficult to determine what the truth be any attempt to do that be original research instead of truth wikipedia aim for verifiability put a different way wikipedia be commit to record the state of human knowledge and opinion not our opinion but those of reliable source if the truth be clear and uncontroversial it be easy for u to report that if the truth be murky and controversial it be more challenge but possible for u to report on what different reliable source assert and think about a topic even if these reliable source conflict where wikipedia editor get into trouble be when they start side with one side of a controversy and assert that the side that they have select represent the truth and not just one perspective or pov on the topic at hand i have be try to hit this npov sweet spot but it be difficult to do so in the midst of a run polemical debate between the two side obviously be because some user jadger and wikiferdi do not want to discus in fact they want u to agree with their pov that s not discussion about the npov edits that s why i quit from the discussion about the form of the article ≈talk≈',\n",
       " 'i do not intend to be disruptive i be genuineley upset by the word constantly i only try to make it look like an april fool joke after you explanation make me look like an uptight weirdo',\n",
       " 'regard loyalmoonie and lgbt category look into it and this editor seem to be push an anti lgbt agenda they have do similar stuff over at sailor moon and make official look warning to other editor this quote be bizarre and be quite tell to insert those category would ultimately give other people who may not even support the lgbt movement reading the article the assumption that every person who do enjoy sailor moon be a homosexual and or support ssm i do not personally watch read sailor moon or know much about it so i be not confident enough to re add the category but the reason for their removal be flaw regardless and there be a source part in the article about female homosexuality talk',\n",
       " 'matt when mattsanchez info go live on monday among other thing you will see an invitation to be interviewed this time you will have nowhere to hide let be see who s a victim and who s a coward',\n",
       " 'okay i found a document that demonstrates the scimd listing by the who on the who site now there should be no trouble with include the above text',\n",
       " 'valerie poxleitner valeri poxleitner a k a light if',\n",
       " 'shamash be sun i agree to merge sammash in to shamash since shamash be more likely to be correct track the root of the word clearly it be of assyrian origin in addition it be a common vocabulary morph to substitute “ sh ” to “ s ” and thus nowadays it be spell a sham in modern arabic',\n",
       " 'i feel like i be out of idea for now so maybe some other user will come up with thing that address both our concern – talk ⋅ contribs',\n",
       " 'october utc the original nominator and i have be try to restore the article but others have be say it be found to be merge by you so it have to stand with the original nominator for deletion work to keep the article and admit he be mistaken in nominate the article of a noteworthy character can we restore it now if someone want to make a legitimate nomination for deletion that s fine',\n",
       " 'what chart be you look at i do not see anything portray that timing user talk spinningspark spark',\n",
       " 'agree although it mean bloating the alternative title by yet another word i be concentrate on the polish attitude here a it clearly provide the start point for the article at hand obviously if the article be to be write from a supra national perspective at least the czech experience need to be include czechoslovakia be the only function democracy in the region by the s have closer tie with the west than poland do and be betrayed in a much more obvious and tangible way than poland be the west politically accepted the country s territorial mutilation which be not the case with poland that say i be not sure if the inclusion of country such a finland the baltic yugoslavia or even ukraine which have never be independent in the first place be a good idea while the west could have arguably do more to assist any of these society before and after the war i think that the article s focus should be on poland and czechoslovakia in order not do dilute the whole issue after all there be dissident in germany and the soviet union too who be harbour grudge towards western politician because of their appeasement policy oct utc',\n",
       " 'hello setanta can i ask you what you think of the proposal first put forward by matt lewis in july at template talk country data northern ireland i confess i be no expert on n ireland but i believe this could solve the problem of n ireland have no flag to represent it on wiki i have make a comment at that article cheer',\n",
       " 'american psychologist a additional resource i do not see list in the reference any citation of the american psychologist article in january some of which discus this subject',\n",
       " 'regard the verifiability mediation you will appreciate that due to recent event user talk newbyguesses february that i be jn a pickle be it just me or be it you too i do not know what to do how can we go forward what be to become of me and all my belief and need who be there who care to take in to account my position be there no accounting for our difference and each of u what it be that you see that we stand for in the high degree a individual really individual a we all be individually in our own way a real people different but the same but definitely an individual just like every body else believe they be despite all evidence to the contrary comment on content not on contributor or do i just dream that either way or whatever just do not scare the horse or wake the kiddy comfortably snooze you know it make sense to me cause i say so irrefutably talk',\n",
       " 'you have no authority to be threatning to block me about say information about a company i work for you do not even know anything about airliner bello that be all i basically say if that be so hard to comprehend',\n",
       " 'the real problem be the sneer and contemptuous attitude that you reveal in your first sentence in the last post it be originally follow by others in similar vein which you have delete yes i can cut and paste quotation i can also select appropriate one in this case one which you would do well to consider i will return to this when i have time probably this weekend',\n",
       " 'he do appear to be a bit of a fantasist to be fair he have carve a nice little career for himself and more fool the mug that buy his book and believe what he say but like many people contribute to this page i come from that background and whenever his name be mention the response be always dave who no one have ever heard of him at all until the book start come out',\n",
       " 'dar ok bear with me penelopism be a religion it be a new religion but it be a religion penelopism be extrememly important to penelopists we want the word about u out there people be not too fond of our belief we just want a way to show them that we mean no harm now you have the spaghetti monster church in here that be not even a real religion penelopism be so please tell me what the spaghetti monster have do that penelopism have not what can we do so that penelopism can be on wikipedia because i be have trouble understand and i apologize for the wouldar dar dar however much fun it be i should not have do it whatsit',\n",
       " 'i intend this to go the page',\n",
       " 'dxraw come out come out where ever you be how odd that dxraw go away and then in the follwing article extradry appear in the edit list aussie aussie aussie oi oi oi free hug campaign newington college australian army cadet john cena so you really be that cheer love free hug newington teacher and cadet master who have the hots for john cena with his shirt off it be time you come out dxraw',\n",
       " 'this accusation be uncalled for i have only revert one edit my second edit be to add the reference not a revert',\n",
       " 'do not help the jew schnider final warn',\n",
       " 'kudos for destroy article copyright superstar you really deserve nobel prize for copyright',\n",
       " 'welcome hello and welcome to wikipedia we appreciate encyclopedic contribution but some of your recent contribution seem to be advertising or for promotional purpose wikipedia do not allow advertising for more information on this see policy on neutral point of view guideline on spam guideline on external link guideline on conflict of interest if you still have question there be a new contributor s help page or you can write helpme below this message along with a question and someone will be along to answer it shortly you may also find the follow page useful for a general introduction to wikipedia the five pillar of wikipedia how to edit a page help page tutorial how to write a great article manual of style i hope you enjoy edit wikipedia please sign your name on talk page use four tilde this will automatically produce your name and the date feel free to write a note on the bottom of if you want to get in touch with me again welcome',\n",
       " 'the spell tacarimba la tumba del fuego santa maliga sacategas lo onto del sol y cruz be the one state in the lyric in the vocal score of side by side by sondheim available for rental only this version of the song however misspells llanfair pg presumably to approximate the pronunciation and have the lyric today s the last i will be spread rather than spending it would seem therefore that this source can not be consider canonical this render of the place name do accord with millicent martin s record on the side by side by sondheim cast album however the publish version of the song a contain in the hansen treasury of stephen sondheim song charles hansen music book have the lyric print a tacarembo la tumbe del fuego santa malipas zacatecas la junta del sol y cruz and be a print source a oppose to handwritten a be the vocal score can presumably be consider definitive linda lavin s pronunciation on the original cast record of the mad show for which the song be write follow this spell which would suggest that the print version be correct a it be a fictional place name however any discussion of correct spell pronunciation be an academic one at best',\n",
       " 'do not peddle your crap please hate to see another article get dispute for neutrality due to you',\n",
       " 'howd homeonttherange your typical problem be that you be be too literal the term personal union be a very special and limited constitutional term it refers to two or more state i e country that recognise the same monarch a there head of state however their be no union of their parliament some example be i the union of kalmar it member be the kingdom of denmark norway and sweden this give rise to the termunited scandinavia in i believe sweden left the union the result left over union of denmark norway be dissolve in a be allied with napolean tunrned out badly',\n",
       " 'i think this one should dayz mod the other one should be dayz video game and dayz should be just a disambiguation page',\n",
       " 'by those push an anti mrm pov',\n",
       " 'you really be a rebel guy rebelguys time to get oral from a prostitute',\n",
       " 'fine smarty pant but just wait until they finally announce it then you will see i be right and that you do not know everything',\n",
       " 'amber taylor forever amber taylor forever♥♥♥♥♥♥♥♥♥',\n",
       " 'kosovo template hi again can you please take a look at this template should not albanian language be mention first since of the population be albanian i change this but some serb nationalist keep revert my edit i hope i be not disturb you but you be one of few here i consider to be quiet neutral',\n",
       " 'of course a true dub will say wouldepaaarted or more likely f in go',\n",
       " 'i think it be a little disingenuous of zet to claim that a division which have lose most of it fight troop be far from destroyed when it fight capacity be close to nil',\n",
       " 'muslim men harassment of mm page it be amaze how three muslim men jumped all over this page right after i add a number of thing minute after all three men all muslim and clean it up do a woman work for human right in pakistan really get under your skin so badly wow so sweetie if you be so bloody busy why not get busy and stop harass the woman be you that threaten',\n",
       " 'width style background transparent width style background color style width border px solid background color vertical align top hello madstar and welcome to wikipedia please remember to sign your name on talk page by click or use four tilde this will automatically produce your username and the date also please do your best to always fill in the edit summary field below be some useful link to facilitate your involvement happy edit —αἰτίας •discussion• width style background color style width border background color vertical align top get start introduction the five pillar of wikipedia how to edit a page find your way around table of content department directory edit article how to develop an article manual of style style width border background color vertical align top width cellpadding style vertical align top background color get help style color frequently ask question cheatsheet where to ask a question help page new contributor help page',\n",
       " 'august utc hey look like your rehab program do not take and now socafan s be community ban your approach work out real well do not it talk',\n",
       " 'pkk fighter who the past decade enter and living syria for their fight in turkish territory have no match in guerilla war specialized to this against the turkish regime rebel and the army be far behind in ability and training to match the pkk fighter',\n",
       " 'omd thl h depeche mode abc be all not new romantic never have be do not self identify a romantic fan do not consider them romantic yet individual insists on keep listing them on this page fan of the band will just keep remove them because it be simply wrong stick to visage and other blitz band or this article will be in perpetual edit war',\n",
       " 'try to be productive look at my contribution but hit my head against a wall of spoil greek child or probably under pay from greek government that purposely keep vandalize the albania related page and keep iritating the albanian editor until they explode and get ban a a historian i blush with what i find quote a reliable information on the wikipedia page and the quality of the editor and source time to move to the french page a lot of reader there still more language to go till next time wikipedia suck',\n",
       " 'ricky gardiner woody my man thanks for your quick action and addition re this article just a stub i create yonks ago to get rid of red link on bowie pop article what be it that draw people like u to defence and rock i think nick d be a member of the military and music project a well then again the riff for lust for life come from bowie s interpretation of an arm force radio theme cheer',\n",
       " 'triple crown just about clear ok get out the broom and dust off some stuff cheer talk · contribs',\n",
       " 'if you agree with master bigode then what about rule for x image and what about the back side image that be erase without consensus he never discuss the back image he erase it out of the blue what if i go on your user homepage wolftengu and i say that picture on your homepage be too big be within guideline and i remove it place it somewhere else and i also remove another image would agree with someone do that to your homepage or would you be outrage however wolftengu you seem to be play unfair cop here by notifiying over a if a discussion wrong what be your point do you own a dx or if not what be your involvement to disallow a x or any other x image and even any other image of a dx in a small form',\n",
       " 'a a rollbacker that be particularly problematic you should be aware that editor who edit war may lose the privilege regardless of the mean use to edit war',\n",
       " 'what about non american school mosque synagogue etc etc wikipedia be so america centric',\n",
       " 'thanks for fix this',\n",
       " 'no not really we may ask that the mention of fat be the fire source of the cremation of million be reconsider though along with a few other item the fat cremation wiki fact be citable www hdot emory u no less lipstadt but doubtful if the same science be apply to the holocaust a say the tinfoilers or flat earthers the denier would be overjoyed be careful a to who get the nutty fringe tinfoil label in the end you get the permit and we will bring the shovel',\n",
       " 'celebrity talk about your fave celebs and even your crush',\n",
       " 'you know i be think nobody really attack me before i reveal my age here after i announce that i be i be subject to a constant storm of harassment and abuse the same thing go for when i be on the sandbox when i be before people knew my age they do not care after i told them my age they hat me it be just so amuse how the idiot soapboxers think of teenager a be responsible for the decline of the soapbox like it be ever any good to begin with this be funny because the adult be the dumbest people here mauricio chuppah redneckgirl pinky scooby gg foreverlosttinkerbell greenrabbit starrocketsinflight bree robinson enigma cocainenightmares tokyodome chad ocho cinco steve lake all adult the teenage poster here be typically the smartest one let be see g dawg head banging brunette classicage metropolis even though he be a bipolar weirdo chrisscript just to name a few all i ever see adult post be rate my poo my ballz smell funny whoz hawter me or ur mom i like to rape little girl and hey guyz look at me im an attention whore the adult poster here be immature moronic savage bully with the mental capacity of a retard year old whereas most of the teenager here be thoughtful intelligent mature and often profound but they be subject to constant schoolyard bullying by the idiot adult poster who think they be somehow superior because they be born and drop on their head earlier soapbox logic never fails to amuse me',\n",
       " 'tm how astute remember civility be the key that verbal lick you give me really fail to break the skin maybe just maybe we can get along how about that',\n",
       " 'sofia add i be from sofia bulgaria our city have also join this initative so i include it',\n",
       " 'would you mind focus on content s rather then contributer s',\n",
       " 'decline a bit too close for comfort that one try to avoid the company name altogether we get a bit edgy about account that appear to represent organisation',\n",
       " 'weatherman and well write a lot of the change you have make recently to the weatherman page be notably more awkward for no apparent reason i be not particularly concerned about the change in some adjective surround how some organization and event be characterize but at the same time you rearrange sentence to read quite poorly plus you seem to get really carry away with wikilinking do reader really need a link to know what a bomb be',\n",
       " 'non lead should not the title of the page be support or minor instead of non lead',\n",
       " 'i agree with leontes though i begin attempt compromise last night consider no one else be backing me up on this in the interest of building consensus however i will note that political descriptor in the absence of reliable third party source be inappropriate in this article i will also note again that some commenters here appear to be confuse the electoral vote website with the electoral vote author this wikipedia article be about the website not the author who have an article of his own',\n",
       " 'dispatch review i add some comment here i think it be a wonderful dispatch very clear we have need something like this for a long time',\n",
       " 'i vote for christ pantocrator though it could be nice with a wider crop',\n",
       " 'here s an idea go fuck yourself cumshitter',\n",
       " 'your assistance please the record show you delete file hmcs fennel k jpg the entry you left in the deletion log say list on wp pui more than day i strongly suspect that this be a free image crown copyright canada protects image for their first year ww end year ago so if this be a crown copyright image it would be a free image i would like to request userification of the information template and other information associate with this image to review for possible clarification of whatever problem get it list at wp pui in the first place could you please userify it to',\n",
       " 'listas manos family',\n",
       " 'so despite your equivocation you be still wrong people do remove vile vicious hate speech whilst remain on the right side of policy you make a very clear statement about wikipedia policy and i prove you be wrong and you deny my unblock request a a result of your misinformation i know expect an apology from a wikipedia administrator be a waste of time but in future stay away from me okay i prefer to deal with admins who do know the rule',\n",
       " 'speedy deletion of phi rho eta a tag have be place on phi rho eta request that it be speedily delete from wikipedia this have be do under section g of the criterion for speedy deletion because the article appear to be a blatant copyright infringement for legal reason we can not accept copyright text or image borrow from other web site or print material and a a consequence your addition will most likely be delete you may use external website a a source of information but not a a source of sentence this part be crucial say it in your own word if the external website belongs to you and you want to allow wikipedia to use the text — which mean allow other people to modify it — then you must include on the external site the statement i name be the author of this article article name and i release it content under the term of the gnu free documentation license version and later you might want to look at wikipedia s policy and guideline for more detail or ask a question here if you think that this notice be place here in error you may contest the deletion by add to the top of the article just below the exist speedy deletion or db tag couple with add a note on the article s talk page explain your position but be aware that once tag for speedy deletion if the article meet the criterion it may be delete without delay please do not remove the speedy deletion tag yourself but do not hesitate to add information to the article that would would render it more in conformance with wikipedia s policy and guideline',\n",
       " 'will my motherfucking safety be guaranteed i fuck hope so i be bring my own fuckin weapon pay me when i get back motherfucker oh yeah i have get a joke a family husband wife son daughter dog walk into an agent s office and tell him that they have get a great vaudeville routine he say we do not hire kiddy act and they say but we be really good and so the agent say fine let me see what you have get but if you suck i be throw you out so the family get ready the daughter hit the cd player and circus music begin play the father jump kick the son in the head and stoms his face in the ground until it be a bloody pulp then proceeds to jerk off and cum all over his shatter skull meanwhile the mother begin violently finger fuck the daughter a the dog fuck the mother in the as hole this be the point when the father take the leftover brain matter from the son s head and shove it into the mother s pussy then begin fuck her pussy while simultaneously stick his finger down the daughter s throat until she vomit all over them both then the dog bite the mother s hand off a she be finger fuck the daughter leave her hand in the daughter s pussy a blood squirt all over the place the father take blood from the ground smear it all over the mother s chest bend over and begin shit all over the open wound where her hand use to be before the dog bit it off they take the dog and shove it in a microwave heating it up until it explodes then take the dog remains mix it with the father s shit the son s head wound and the father s cum and shove it into the daughter s mouth then the father rip the son s dick off and fuck the daughter with it a the mother locate s the son s testicle break them open and drink the sperm that come out then the family line up and say ta da there be silence from the agent until he finally say i love it what do you call that and the family say we call it the aristocrat',\n",
       " 'request move canada national football team disambiguation → – there be i recently move the american football team which use to carry the moniker canada national football team to canada national american football team and i consider this move request if successful to be vindication of that move b b',\n",
       " 'i think clockback that your suggest reference to ainsworth ’ s involvement in the img be too long and that something along the line of ‘ brief flirtation ’ would be well i think that the img reference need to be short somewhere in the early career section post after the article have be expand a little otherwise the article might appear weighty i think the last point be important a it seem to be a consensus reach by a number of wikipedia editor after much wrangle and gnash of teeth but bedside this brief dalliance with marxism in an overall consideration of his political career pale into insignificance compare to his be controversially thrust a a third choice candidate into the position of defence secretary at a time of crisis for the british army in term of the number of casualty be sustain and a lack of resource this be simply not reflect at all in the ainsworth article i try reflect it a follow his appointment form part of a chaotic cabinet reshuffle by the prime minister who consider at least three other candidate before appoint ainsworth but this be dismiss a speculative opinion by offriorob above even though from my point of view it be easily the most significant event in ainsworth ’ s biography perhaps we can reach a consensus that if a well reference can be found—which i suspect should not be difficult—that it can be re include i want to stress that this be again not meant to be an ad hominem slight against ainsworth but merely draw attention to the fact that his appointment be the equivalent of throw someone in at the deep end and indeed he have have a very difficult time of it since his appointment actually it reflect bad on brown and the farcical reshuffle',\n",
       " 'greek love i be look for a way to extricate myself honorably from this mess i be leave a note here because you close this afd where i make a commitment to do a you instruct in the closing statement there be two editor who have long sought to delete or eviscerate the article one of whom have use a series of user name unacknowledged on his current user page but available so at first glance it may appear on the talk page there be more than two editor in the suppress camp i complain here about their coordination other editor include and i simply can not do it any longer i have not change my position on the validity of the article but i have be accuse on various talk page and never the appropriate notice board of edit war ownership disruption and even pedophilia by implication all for try to carry out what the community decide i be do i need to limit my time on wikipedia at present and wish for that time to be spent pleasantly and productively when i have make a commitment though it grief me not to keep it i be not ask you to do anything i be just explain why i can not keep my word a give at the afd wow that be a mess certainly no hard feeling on my end it be clear you endeavor in good faith to improve the article i have found that know when to walk away be an essential skill not only here but in the real world sometimes your presence despite your best intention be harmful rather than helpful and sometimes a dispute just be not worth it anymore best of luck in your future endeavor here mailchimp i be not that bother but i think that the mailchimp speedy deletion be a mistake it do cite that it be one of the more important email marketing program so it be state the importance something that be suppose to be the original problem the criterion specifies a credible claim of significance wordpress page be not reliable source however i would certainly not object to it be restore a a redirect a it be for several momnths before today talkback talk just a hunch call it my intuition but i be guess that his username be a direct challenge to patrol admin that you guy will not block him base on the username itself but his contribution speaks volume of his nonsense louder my other hunch be he be a return editor than his username do just my cent cheer ♠♣♥♦™№©♪♫® there be plenty of legitimate reason to be a return editor the username be not a blatant violation of the policy if you have any evidence of sock file at wp spi recreation of article shay carl i would like to request that the article shay carl be recreate see the delete talk shay carl for my reason note talk shay carl be delete because of a not notibility well there be',\n",
       " 'where be the defendant figure come from nuremberg and vietnam an american tragedy by telford taylor u s chief counsel at nuremberg mention',\n",
       " 'oh hey a response that s cool i personally feel that have the fortitude to call out ttn on his obvious flaw should warrant a few dozen barnstars but i see where you be come from if you insist on keep the block i would like to formally request the reason for this account s block to be change to reflect the real reason instead of be note a a common vandal maybe a reason along the line of be a pain in the as like that one guy on nakon s talk page state on that subject maybe he should be block too after all he do use a cuss word and that s technically bad than anything i have ever say',\n",
       " 'no you have the right to express an opinion that you consider it to be hasbara or crap or both you do not have the right to identify it a hasbara crap or both',\n",
       " 'ga review this review be transcluded from talk battle of rowton heath ga the edit link for this section can be use to add comment to the review reviewer yes i will take a look over the next few day and then start to make some comment yes',\n",
       " 'for evidence please make sure you make yourself familiar with note for the suspect before edit the evidence page',\n",
       " 'afd please see wikipedia article for deletion revelation guideline for notability be outline generally at wp n and specifically for song at wp nsong thank you',\n",
       " 'organization class start importance low maindykdate need infobox yes need image yes attention wikiproject',\n",
       " 'action in la la land have real world consequence',\n",
       " 'dean wormer work for the racist in jena la i will continue to update the post for jena la to reflect the fact that thier famous person of note be a segregationist democrat which be in fact a historically accurate description',\n",
       " 'woopsies oh thank you soooo much i do not know i promise that i will never ever do it again ok',\n",
       " 'for everyone s info particularly admins i believe the late sock puppet for igor be just a head up',\n",
       " 'why be you give me warning before someone mark this a vandalism i want you to at least read this why be this vandalism i do not understand i be new to wikipedia and i be try to figure it out please do not mark this a vandalism i be be not do anything wrong i just need answer from somebody please help',\n",
       " 'gift card for downloads re a of december it be not possible to use gift card to purchase mp even though the gift card faq claim yes amazon com gift card can be use to buy amazon mp and unbox downloads strictly speak this be a false statement a be able to pay for order with a gift card at that time one person already remove that line but it be revert be there a good way to go about provide verification',\n",
       " 'i be think about delete war on terror operation endure freedom horn of africa and operation endure freedom phillipines because they be redundant i would like for people vote on it',\n",
       " 'no it be not useful information about the topic and it be a good idea only screenshot be allow per game at most if they really relay something',\n",
       " 'my experience come up on the talk page but once i understood wikipedia i do not post anything on the article related to my personal experience that be like the nd day almost two month ago all of my reference be verifiable there be nothing in the article about my law suit or my be put in jail for engage in pro se litigation i do not put my experience in the judge edward nottingham article either although he be my judge i go out of my way to search for reference express all the various side of the issue for instance i write to the aba and ask for their input and in fact ask them to work on the article i also post about issue involve with mediation and settlement with pro s cite reference from a lawyer point of view those reference be delete by someone i can not remember who and do not know why at this point the only reference that i post that be soft at all be a blog quote a transcript quote a former federal judge and i know for sure that be a valid transcript the guy who run the blog be a rd year law student and have a business sell data service exclusively to lawyer even the stuff that be delete about pro se frustration i have reference for i read in the wikipedia discussion of source that blog can be use in some context i do not believe that i do any original research all i do be search the internet for reference for the article i really do not know about unbundled attorney service or the amount of pro se litigation before i start work on this article i have already be think about form base filing but i start think about that anyway because of my experience with ecf which date back to also when i be young i work a a system analyst i do get the info on the law and liberty of ma year ago but wikipedia already have an article on that and it probably would have come up anyway same a the u n covenantcan not really hide that i do not add a and b together to prove a point at least not consciously like today i be review appellate procedure and it seem that the th circuit have a more pro se friendly tone which i think be because of judge learn hand who be in the fifth circuit and the only reason i know about that be that one time i go in every federal circuit and search on the word pro se in the s because i be try to see if there be a history of put pro s in jail for be pro se no there be not what i found in the s be that some circuit deny all the pro se appeal without even say why but judge learn hand seem pro se friendly i believe that your post thing about pro se litigant get an unfair advantage be soap boxing i do understand your want to win thru competition though and about law a a business i have be an entrepreneur i do not know about the federal judicial center until i start work on this article that book on appellate procedure i found look for reference for this article the manual on complex litigation i found look for reference for this article argue with you help me to clarify the issue for myself one thing i start think about a lot in the past few week be slavery and how that affected the history of pro se litigation i order the book slave nation at the library but i have not get it yet but now when i look at pro se law in the different state i think free state slave state border state also there be issue related to indian in some of the western state the labor union movement have a lot to do with it too i think so do the history of workman s comp which be of course related to union',\n",
       " 'try passing illegaly the border from usa to mexico you will end in prison too but the be no communist there',\n",
       " 'unsourced personal commentary a new account have re add this it look like unsourced personal commentary',\n",
       " 'your comment be indent a if it be a response to mine but i be not the one who remove the discussion',\n",
       " 'when i look at the cato edit it be simply a removal of the reference the addition of another donor and a change in the language without an edit summary to explain the change be unjustified your clarification certainly help thanks also for add the reference on summer frankly i do not look at the source remove or add my main concern be the unexplained edits summary be important and then i saw that the message about these same concern from a while back so my message be more of a reminder most importantly you be incorrect if you think it be not against the rule to add unsourced material one of the core content policy be wp v and wp r allows u to carry out that policy happy edit –',\n",
       " 'we all know that just about everyone here watch the update there a reason they be not list ► complaint',\n",
       " 'i have be though the article it be simply untrue that only men be consistently refer to a jew but womabn and child be not many passage refer generally to jew clearly meaning men woman and child only one sentence corresponds to your criticism the screen of the population however result in jew jewish woman and jewish child of which jew and jewish woman be shot in co operation with the security service this particular sentence should be rewrite i will just do it but the sentence itself be grammatically confuse so whoever write it may wish to check that i understood it correctly',\n",
       " 'hello long time no shart',\n",
       " 'other bush article not reference in george w bush none of the follow article be mention in the george w bush and perhaps should be bush s brain how karl rove make george w bush presidential domestic policy of the george w bush administration early life of george w bush economic policy of the george w bush administration electoral history of george w bush fictionalize portrayal of george w bush foreign policy of the george w bush administration george w bush and the iraq war george w bush a governor of texas george w bush cabinet george w bush presidential campaign george w bush presidential campaign george w bush presidential library george w bush pretzel incident george w bush substance abuse controversy george w bush supreme court candidate george w bush s first term a president of the united state george w bush s second term a president of the united state list of book and film about george w bush list of george w bush legislation and program list of nickname use by george w bush list of people pardon by george w bush mahmoud ahmadinejad s letter to george w bush movement to impeach george w bush presidency of george w bush professional life of george w bush public perception of george w bush religious faith of george w bush the lie of george w bush master the politics of deception',\n",
       " 'a third term be significant simply because it be rare the electorate and party often on behalf of the former be disillusion with the party leader by this time thus they kick him her out read about margaret thatcher',\n",
       " 'some baklava for you a gift in the hope that you reconsider my indefinete block a traditional food from the middle east make best in afghanistan metalman',\n",
       " 'refer to her a catherine i be told in no uncertain term that i could not refer to anyone living or dead by their st name on wp if a female have a title she have to be refer to a that throughout her article ie lady amy or lady dudley for amy robsart even though lady amy be wrong before she be married a she be the daughter of a knight have no title wrong after northumberland be attaint all his child lose their style a offspring of an earl a duke she do not become lady dudley until elizabeth i knight robert dudley near the end of amy s life nor be she then lady amy dudley a legally she be no longer the wife of the son of an earl duke i thought it be simpler to refer to her a just amy throughout rather than explain the change that occur with her name style but be told it be against wp rule though i be not point to a link for it noblewoman be usually call by their st name round here a far a i can see even when they have surname be not of something mary boleyn be call mary not lady carey or lady stafford catherine neville be call catherine not the duchess of norfolk etc they be not royal a for male i be told they have to be refer to by their title ie leicester or last name ie dudley i be banging head on keyboard go but no one just say the king all the time or refers to them a plantagenet or keep change their title ie henry of bolingbroke go from earl of derby to duke of hereford to duke of lancaster to king of england so how do kate get to be consistently refer to a catherine throughout the article without her title append i have only be here a few month i would appreciate it if someone could actually explain this to me a my main interest be british history i be quite confuse',\n",
       " 'mevins say i will be change your elegant profile shot of bruce to a well picture a soon a i upload it i appreciate ordinary jay bruce fan but i be jay s big fan thanks for your attention i think jay would agree that a picture on wikipedia have little to do with further his career but nice try',\n",
       " 'they be all cunt it be not worth edit article here concern any serious issue all side consist of either people employ to edit or people with very strong opinion that will never ever change they advocate their stance a something that be interest to them instead of use the encyclopedia a a book of knowledge and contribute what they be sure to know soon with the centralization of the net into large and large site independent information in general will be extinguish wikipedia a project that start by nerd and professional within their set field will become the altar of knowledge where depth and true insight be sacrifice for become the sound magnifier of yellow press and popular science the new tool that be intend to auto translate article from one wikipedia to an other will extinguish the few national wikipedias that through their niche provide those of multilingual capacity an ability to cross check fact through other perspective with few small independent site left with no or few free university page left real knowledge will be the privilege of the few that know how to use academic search engine and have the money to pay for them',\n",
       " 'i have say once i say it again if you don like thugstep that s you bizness if you think that quite a range of refenreces to web page stay it non notable you be welcome to tell it to admin for it to be delete',\n",
       " 'although it do not extend to the modern era you might want to look at ancient high learn institution to see how it relates to chinese high learn institution',\n",
       " 'do not harass other editor with no basis you have post a baseless warn threat on my user page do not post any more thing on my page otherwise i will complain to the administrator or even jim wale if i have to',\n",
       " 'the comma be not the correct title for the first series yes minister without the comma i believe it be only yes prime minister that ever have the comma unless there be objection i will be move the page',\n",
       " 'excellent and please do not damage your book on our account for sure it be an interest question where be the camera that s a fair question to jump to the conclusion that it be impossible be ludicrous but that s typical for the moonbats the picture be useful for another reason a it show a similar relative position of the lem and the antenna for this apollo flight a on that web page that argues about those object in apollo in both case the antenna be at a degree angle away from the lem and both the near photo and the distant photo on that website be consistent with each other despite the website s claim to the contrary the moonbats isolate on specific item a their evidence but the more one see the broader picture the more their phony argument get show up',\n",
       " 'content subsume into maneesh page same entry different spell and redirect',\n",
       " 'ditto congrats and all the best to you',\n",
       " 'be when that part of the video show it it say lot of small village have prostitution in karaoke joint and that this one have a single orangutan in it it do not say it common everywhere though',\n",
       " 'fuck you smith please have me notify when you die i want to dance on your grave',\n",
       " 'i have see your post now but i replace the pop punk reference which be there again with rock a few day before',\n",
       " 'please avoid use abusive edit summary a per wikipedia civility and wikipedia no personal attack thanks and happy edit please do not make personal attack on other people a you do at minneapolis minnesota wikipedia have a policy against personal attack in some case user who engage in personal attack may be block from edit by admins or ban by the arbitration committee comment on content not on other contributor or people please resolve dispute appropriately thank you',\n",
       " 'dect be not really a new technology it be a newer standard but tdm tdma fdma digital telephone have be use for a lot longer than the life of dect dect be itself a successor to ct japan s ph be very similar and of course gsm d amp and others have be extensively use across the world for a decade and a half to suggest there be special health issue with dect would most definitely be place undue weight on the subject dect be considerably low power than the analog system it replaces both during transmission and inherently because even when in use the td nature of the system mean the system be not transmit continuously a i believe i have say before there be nothing wrong with there be a properly research article about the health effect of low power radio technology and there be a link in the see also section of this article to it that article of course should look nothing like the section i yanked there be nothing about dect however that merit a special section on dect s danger especially when new technology or otherwise there be no serious level of concern be express by anyone authoritative on this issue',\n",
       " 'i shit on your face fuck you',\n",
       " 'you be so retard',\n",
       " 'user use sockpuppets in this discussion note that user nightscream be solicit sockpuppets of toure neblett to join this discussion http en wikipedia org wiki user talk halaqah hi halaqah this be not surprising consider nightscream s slimy debate tactic and ad hominem smear it look like the reality be that there be only one or two actual people oppose to teh inclusion of the last name and the rest be their sockpuppets though i guess it demonstrates that nightscream be not one of toure s own sockpuppets fyi i be not use a user name in this simply to make it clear i be not a sockpuppet',\n",
       " 'thanks stephan my interpretation be that mr nice guy remove the content before discuss it on the talk page if he be concerned about content reliability i thought i read that editor be suppose to bring it up in discussion first and reach a consensus instead of delete source material',\n",
       " 'which i make up by fix stem article',\n",
       " 'alex albrecht why have you remove my addition to the alex albrecht page they be totally relevant',\n",
       " 'in a tank for bioelectrical impedance analysis etc i fail to see how either of the two picture recently add improve the article in any way',\n",
       " 'the image have be miss for a while a wikipedia be down for about hour i just hit rollback which among other thing restore the patrick stewart which i then remove but do not see you have make other valid edits i also link harold wilson from prime minister to prime minister of the united kingdom the deletion be do at gmt by which time the server be up you should register then you could bypass these invalid message cheer talk',\n",
       " 'amaze thank you very much',\n",
       " 'groin you sad fuck i be go to restore my edit and you be go to leave it or else i wil knee you in the groin yourself prick',\n",
       " 'may your behavior on the talkpage of honor harrington have be below par you do not know how to take defeat with grace and start behaving childishly let me warn you that your next childish edit will likely result in a mention at wp ani or a user review',\n",
       " 'video game for pete sake if i see that false video game article one more time i will throw a cat out of the window whoever you be stop it now it be not funny or clever you be just make a moron out of yourself and i bet that be the same person who change the test card date too',\n",
       " 'palmisano play for iowa state in the s be a free pas i think i be pretty sure they be division i then a far a a list of coach go i be not sure that s an articleworthy list at that level of competition a oppose to it be fold into a general malone college athletics article but i would not file an afd over it it be a compromise anyway see a you be dig into uncover notability for those folk want a full week for it',\n",
       " 'history kallikids be create by karen bach in march',\n",
       " 'massacre i note that kent state massacre redirects to this page and that other similar massacre in history wherein government force murder civilian for protest government policy be term a such and such massacre there be no legitimate reason aside from sensitivity to extremist viewpoint in the united state to continue call this article kent state shooting it should be change to kent state massacre a cheap acknowledgement in the lead paragraph be insufficient i would appreciate discussion on this move and i will initiate the move myself soon enough',\n",
       " 'july please stop if you continue to vandalize wikipedia you will be block from edit',\n",
       " 'notice of objection to propose deletion in accordance with the rule on this i hereby notify you of our my objection to your propose deletion of the subject article office of the court administrator v floro jr',\n",
       " 'barnes au',\n",
       " 'may utc timysmidge',\n",
       " 'two thing it make no difference to the validity of edits if an editor be anon and go around revert a person edits en masse because you do not like one of them will yield time consume problem for you',\n",
       " 'hi nice of everyone to listen well ive be here for about year have have afew problem but two have be the bad have a mamogram year ago decsaid to call my doctor emediatly need other view an presedgures be incounculsive we all no that not possable fir that cause it just like an xray havent be able to go have no way to get there plus i have high blood pressure thets be run about the last time be around over i no thats very high the hospital xray tech seceritary say if i didnt get to the doc to get referral a soon a possible that by the time i do it would be to late to do any thing for me i no it to late all i want be to no how long i have left have daughter one in opelousas la one in hawiyei one in walker la i would like to see be fore i die have a partner i want too spend a much of what i have left with i love my kid an partnermore than life it self im look for some help to get to a doctor i dont have the money to do this have no income to speak of zero my partner and i be seperated right now he be help his father that have cancer also he have a lawsute from get hurt he just bought a truck from his brouther an have have to do alot of fix on it also with the help of his dad let his neffews daughter drive it an hour ago cause she just hot her license an wreck it comepletly now we dont have a vihicile to help u everyone say god dont give u anything you cant handle i understand that but i need some help do any one out there that may be could help me with anything at all just thought id try to ask never have ask before to much pride but im run out of time please can so one help me my email be apriljohnson gmail com or this site please need so help if anyone can god blesss everyone in there time of need i hope someone may be able to help me thank you for lissen to me my age also be sept',\n",
       " 'he like itin the as by muhamad ali and kelly have a giant penis and also fuck columbus',\n",
       " 'here be the diffs of his edits from that report talk',\n",
       " 'aug utc',\n",
       " 'just shut up and stay shut do not edit anymore',\n",
       " 'oh get a life you prick',\n",
       " 'what else specifically do you want to know',\n",
       " 'rajput not rajasthanis right p prof hancock s study mention that the romani people be most closely related to the punjabi and rajput i be pretty sure not rajasthanis he call proto romani rajputic the distinction be important if they be partly descend from rajput who be never really confine to any one part of india that would explain the linguistic variation within the indic word in romani for example why the use of o instead of aa at the end of masculine noun adjective in romani this be certainly a characteristic of gujarati and sindhi but be it a characteristic of rajasthani language anyway if i be wrong in make the last change i make a of now i will be happy to revert it myself oh of course',\n",
       " 'if you would care to discus specifically what be bias incorrectly cite or irrelevant to this page i will hear what you have to say until then see a the search term ndaa brings reader to this page i will continue to include present information reguarding this budget bill this be the last time i will repeat this abuse your power will yield you no ground',\n",
       " 'word of encouragement to user damemk in the case of dispute with the user engage in bulgarian nationalistic propaganda damemk you have come to the same conclusion about bulgarian th century nationalistic propaganda on english wikipedia user laveol be one of the most prominent editor on wikipedia contribute false information in the article about republic of macedonia macedonian nation history language culture sport and what else not he be spending a lot of time work on his cause push bulgarian nature in the article of the domain of republic of macedonia how far have he go in push this propaganda you can see at wikipedia wikiproject romacedonia where he have list himself a a member so just my few word of concern for the macedonian article in english wikipedia and the great damage do by user laveol and other user with the bulgarian and anti macedonian propaganda hopefully with the internet access become more affordable to the people in republic of macedonia the thing will go in right direction remove the bulgarian propaganda from macedonian article cleaning them of false fabricate information and give the fact to the world and the view of the macedonian science and source i do not have much time now but hopefully will be able to find some more in the come period i be open to any collaboration effort for the above goal i be expect that this user laveol will continue with the bulgarian nationalistic propaganda and pollute the domain in the domain of republic of macedonia simply because he be able to and can find a way to continue to work on his agenda ours be to try to remove these false claim and contribute the fact about the macedonia macedonian nation history lanugage culture sport damemk i hope you write something here at least to show that user talk damemk and user talk ejanev be not the same user some insight into my user name ejanev the only user i be use to contribute to wikipedia be ejanev it be compose of the first letter of my name emil and my last name janev user damemk be a separate user probably that user name be comming from dame a macedonian first name and mk or the code of republic of macedonia it do happen that i be from canada i be born in republic of macedonia and have live there until i move to usa first and canada before more than year and yes have all the false information from the bulgarian nationalistic propaganda originate from the th century and have it into st century to be use to negate the macedonian nation and all it be attribute by user a laveol be the reason of some of my edit action in wikipedia i be not the only user editor from republic of macedonia or with macedonian origin that have the same view for this bulgarian nationalistic propaganda that already be infiltrate in the macedonian article you can watch the contribution of special contribution laveol and see that more than of his action be engagement in negate the macedonian nation and it attribute',\n",
       " 'at bookfinder com i found probabilistic reason in intelligent system network of plausible inference softcover isbn publisher morgan kaufmann pub bookfinder',\n",
       " 'just to clarify what i be refer to in particular it be not neutral to state that aerith be incorrect — talk',\n",
       " 'thank you for experiment with wikipedia your test work and it have be revert or remove please use the sandbox for any other test you may want to do take a look at the welcome page to learn more about contribute to our encyclopedia talk contrb',\n",
       " 'the article sebastien larroudé have be speedily delete from wikipedia this be do because the article seem to be about a person group of people band club company or web content but it do not indicate how or why the subject be notable that be why an article about that subject should be include in wikipedia under the criterion for speedy deletion article that do not assert notability may be delete at any time if you can indicate why the subject be really notable you be free to re create the article make sure to cite any verifiable source please see the guideline for what be generally accepted a notable and for specific type of article you may want to check out our criterion for biography for web site for band or for company feel free to leave a note on my talk page if you have any question about this talk to me',\n",
       " 'gba i have found out a game boy advance version of this be release there be no mention of it in the article a we know the current acclaim do not have right to this series information may be scarce',\n",
       " 'propose move asheville civic center with the talk page host this discussion → u s cellular center asheville north carolina u s cellular center → u s cellular center cedar rapid iowa – both facility now have the same name · talk · contribution ·',\n",
       " 'no need to follow this policy taivo instead of just follow the far more important policy of wp npov remain neutral there be an international dispute over this country s name and fyrom be use by many organization worldwide why should wikipedia abandon it be usage since it be extensively use to describe the state of skopje especially in article directly related to country that use the fyrom name to refer to it',\n",
       " 'the two big thing would be citation to verify that it be serialize in the weekly one reliable site in english just say shonen jump but since you have the one that start serialization that can be use to note when it start serialization if they mention there that it a continuation from the one shot story because i can not find any r japanese or english online that confirms that the other be horii s reason for add mini medal info on the anime about what it be base on if it mention be all that be really need for the main article but could really help the anime article itself 内jinnai',\n",
       " 'redirect talk colt lightning revolver',\n",
       " 'no nothing like that i just want to clean out the clutter there be a lot of bot comment a welcome message for my old username and so on i could have archive it i suppose but i do not think there be anything on there that be particularly worth save for the age',\n",
       " 'why your article get jumped on hi i be sorry to jump on your contribution the moment you put it in but the trouble be it be simply not the sort of thing wikipedia be for these link be all in one or other of the template notice above but to put them all in one place the reason your article be be nominate for deletion be wikipedia be not a dictionary article on neologism need strong evidence that the term be widely use wikipedia be not for thing make up one day more advice on contribtuing in the link from the welcome paragraph above the list of bad article idea be worth look at too regard',\n",
       " 'therefore i be revert vandalism which be an exception to the three edit rule a mention on the edit war page',\n",
       " 'user attack me user baki keep revert edits without consensus or give reason he have also perform ethnic mudslinging in my direction please help',\n",
       " 'not thracian pretty simple year away',\n",
       " 'im flatter i truly be i have be here a couple of week and you consider me to be an establish user please do not talk about me behind my back like little school child',\n",
       " 'chicadee i think the article name should be move to chickadee',\n",
       " 'p s be you a b tard',\n",
       " 'ohhh i be sorry do i hurt your little feeling let be all shed a couple tear together lol what a joke i bet you feel pretty important pathetic little wikipedia volunteer have fun living in your mother s basement draw comic book lowlife',\n",
       " 'new image problem you again uploaded several image with dubious copyright claim you say they be from hindu newspaper and license under the gfdl what make you think the hindu publishes image under the gfdl if you simply invent that license in order to have a way to upload the image here then please say so now so i can quickly delete them if not i expect you will provide proof within the next day show where and how that newspaper place the image under that license if you do neither you will be block ☼',\n",
       " 'bunchofgrapes request you please cease revert war bunchofgrapes i respectfully ask you to please stop your instant reverts on my edits if you have a problem with any of my edits then do so from knowledge but explain what be wrong about the source material and edits rather than make blind statement design to allow you to revert for no reason and again please cite your source you seem to not be able to cite anything that would back up your instant reverts and accusatory tone tell others that they be revert when you have make several instant reverts with no explaination on the edit or add source please cease this and cite your source edit the material accord to jimbo wale npov and make sure your source be verifiable before your reverts thanks',\n",
       " 'and what be the problem with neo · · · ·',\n",
       " 'wow big man here can not take a little criticism and be upset about his failure to become an admin so what do he do look for the closest person to run to some admin on wikipedia well played dietlimecola hey if i be block it will be less time you have be and for far well reason oh my god some girl be look at wikipedia for her paper and i do not see the teacher so i could not tattle so i take matter in to my own hand i also could not help notice how sad it be that you so quickly notice my update do you just sit their at your computer wait for an update please tell me you do not watchlist this page you do do not you all in all everything can be sum up with a simple say',\n",
       " 'glen be cool glen be such a cool bloke and love be nice guy',\n",
       " 'parody not intentionally surely',\n",
       " 'pandur the name derives from pandur a sumerian term for long necked lute source of our knowledge about this instrument be since the ancient greek mantineia marble th century bc now exhibit at national archaeological museum of athens depict the mythical contest between apollo and marsyas where greek pandouris be be played by a muse seat on a rock national archaeological museum of athens e book by latsis foundation p lute have be present in ancient greece pandura the first appearance in greece they be also present in mesopotamia since the akkadian era or the third millennium bce',\n",
       " 'i accept your comment in the spirit in which it be offer terminology matter and it can be hard to find the correct word it be another editor who sought to distinguish civilise behaviour from that of indian my point be that even if one accepts such a distinction non indian have commit absurdly large atrocity in addition i could have point to the mystic massacre a a completely on point example of a butchery that shock our native population none the less both tribal mongol and tribal american indian have or have civilization by any reasonable definition',\n",
       " 'no i dont agree my info will be say up since you be in such a hurry to edit the page why dont you fix the info that have you have source with a broken link',\n",
       " 'i thought personal attack be welcome a long a you revert them yourself and i thought restore mention them be ground for an indef block could our junior miss admin have missinformed me i have arrive just in time',\n",
       " 'replacement please do not edit below this note the whole supra section will disappear again once i be able to post on the article talk page this include you shell have you not block me i would have be able to place my answer there this will disappear tomorrow so you can put with it until then because shell falsely block me i can not save my reply on a certain article talk page hence i will save the entire page minus the archive section here pov concern im surprised this article be not be call anti semetic because it be have a few trace of islamic perspective in it you know a oppose to be a piece of zionist propaganda be pass off a fair and balance this entire article be full of baseless jewish propaganda it be well document the banu qurayza be execute for treason that be what merit them the death penalty that they commit treason the quarash and other tribe the muslim fought against be outright enemy who be persecute them from the start but the qurayza sign a peace treaty then broke it by aid the enemy this article contains soo much jewish propaganda that you would think they be execute for no reason which no doubt be their aim here be a great example look at this citation accord to stillman muhammad chose sa would ibn mua wouldh so a not to pronounce the judgment himself after the precedent he have set with the banu qaynuqa and the banu nadir sa d take the hint and condemn the adult male to death and the hapless woman and child to slavery furthermore stillman infers from abu lubaba s gesture that muhammad have decide the fate of the qurayza even before their surrender this author be norman a stillman a zionist jew who be very bias why be he be use a a quote in an islamic article and far more why be his baseless conjecture allow to be use a if it be a fact there be article for criticism of islam where the jew and others can write whatever they want but they should have no hand in edit islamic article because i look up the jewish article and i notice they dont allow dissent there you cant put a muslim perspective on evil act commit by jew without it disappear instantly so the same standard must be apply to islamic article islamic article must be write from the islamic point of view and the jew can write their response in appropriate criticism of islam article if not i will personally edit the jewish article and fill them with my conjecture about their history and i will find a non jewish admin to arbitrate over the islamic article good day please read this talk page specifically all of the place where treason or traitor be mention and if you still believe that we need to mention treason provide some reliable source and we can discus it it be easy for our article to be neutral and mention all povs but it do require that people like yourself participate we work from academic source not personal conjecture change by devotus and issue with them dear devotus i have still issue with your change bat yeor and ramadan while i appreciate that you do not try you shift the balance remove a book from each side i do not agree with your removal bat yeor be an academic scholar and though her book be controversial she be not beyond the pale currently she do not serve a a reference in the article but if she do the controversy would be note a for ramadan i have issue with him a well but if we remove him from the literature section we would have to remove him from the article too in which he serf a a reference this be due to the insistence of user bless sin he will certainly not like such a removal we can not remove him from the literature section while retain him in the article while your first version be needlessly verbose it be to be note that the new one endorses that view by paret watt the article now say that the bq be not kill for religious reason that be not a fact since there be a good case that the whole conflict be cause by religious difference also we do not want to repeat thing that have already be say in the coverage of the siege and demise e g the claim about attack m in the rear also please abide by the one resolve conflict we fought hard and long about word like massacre and execution and neither should appear unless unavoidable the common practice thing be unacceptable a it be s',\n",
       " 'ok steve to be honest i really like the present form so i do not have any issue with the present one',\n",
       " 'hello january you keep vandalize article while add mislead edit summary please stop do this it do not help build an encyclopedia and waste other people s time since you repeatedly and selectively remove message from your talk page i do not know how many warning you have already receive i will thus consider this to be your third warn and report you next time you vandalize an article thank you for understand talk',\n",
       " 'i think it depends on the circumstance if someone won a gold medal at a competition the gibraltar anthem would be appropriate rather than god save the queen',\n",
       " 'he be at it again he seem insistent on add pointless ramble on how the talk page be not a forum just so he can make a cut at me http en wikipedia org w index php title talk axm rifle diff oldid he keep revert my removal of it',\n",
       " 'so i guess your explanation of wp csd t be still zero once again you have fail to explain why a page weas delete under wp csd t and then threaten the inquirer with a block poor form extremely poor form',\n",
       " 'so that the proton itself reach fusion distance',\n",
       " 'beauty pageant just because you have no interest in beauty pageant or their contestant do not mean that they be not notable and please do not go try to delete stuff when you be ignorant about the topic you be deal with i happen to think there be ton of article on here that do not meet wikipedia s standard and that do not have individual merit particularly those about comic etc but i be wise enough to know that i do not truly understand their significance and so i leave it alone a much more prudent avenue would have be to bring your issue to the appropriate wikiproject wikiproject beauty pageant and to address yoru concern there in the first instance one example the continual use of the term model to describe them a have be use by yourself and one other editor be both incorrect and somewhat demean',\n",
       " 'on mohammed al bayati s qualification with regard to the edits over the past day i think that while mohammed al bayati s qualification be tangentially relevant the purpose of the text a they be place right now be to prove that mohammed al bayati be not qualify to review the autopsy report this i think violates npov if the qualification be to be include they should come under the criticism and controversy section quote by whoever it be that accuse mohammed al bayati of not be qualify to review the autopsy report be cite if nobody make the accusation then this be original synthesis and should again be remove',\n",
       " 'no reason to split there be absolutely no reason why alamo bowl broadcaster should be split from alamo bowl that list be a stub that be only kb long the main article be kb long much of which be table and list well within the limit of wp size a single article be only kb long which be permit so there be no reason why the article should be split talk',\n",
       " 'please sign your comment thanks',\n",
       " 'alyssa flash at the time of write this sarita s tna impact debut be come up and she will be wrestling one alyssa flash note i might be spell alyssa wrong i see her nowhere on the list',\n",
       " 'rom people in hungary the appal social and economic situation of the rom who account for between and percent of hungary s million people that mean',\n",
       " 'fuck off you murder scum',\n",
       " 'in addition i be ask that you please stop accuse me of thing i havent do i do not what what sock puppeting be and i think your take this matter personally and abuse your power',\n",
       " 'after add the rational i have to remove the tag',\n",
       " 'wow i guess your just one of those guy then god forbid one love then',\n",
       " 'it have be up before but here it be again phil plait claimed in a radio program with joe rogan that all shuttle astronaut who have ever go into space have be through the van allen belt at min http www youtube com watch v tvicqdsnic if thats not mislead propaganda i dunno what be his website should be remove a a source',\n",
       " 'lamia joreige hi lea first off i would like to tell you that your contribution be invaluable you be present often overlook subject kudos for that i see you have start the aforementioned article i do not have it on my watchlist yet so i do not know there be a mistake you must take notice of some rule on wp so check out wp notability so you know how to well protect the material you add against meta deletionists cheer',\n",
       " 'i do not receive any massage',\n",
       " 'i take offense i take great offense that some pompous sanctimonious twit think that no one should be allow to express appreciation for woman like the gibson girl a the fine feature and achingly beautiful creature that they be i do not know what kind of totalitarian feminazi dystopian agenda you be try to foist on people but do not do it here this encyclopedia be base on free speech and a free exchange of information not bogus political correctness and schoolmarmish thought police i will take a gibson girl over you anyday',\n",
       " 'padua user tag someone should design a padua college user tag much like the follow one for the maroon in state of origin july utc',\n",
       " 'ion g nemes talk june',\n",
       " 'you gay motherfucker i know where you live i be go to sand your face off then i be to go to beat you to a pulp you chicken shagger',\n",
       " 'ok dennis brown thanks for tell me i be take this a bit way too serious ill be careful for this time stupid bot',\n",
       " 'that way i might even know which article you be talk about',\n",
       " 'the be problem with the sfc t record there be no credible sci challenge to it this new section be absurdly u center it can not possibly stand a it it this be the global record we be talk about you need some credible scientific paper not picture of station a far a i know the sfcstations stuff have merely document problem with some station sitings and maintenance etc there be not even the begin of an attempt at quantify what influence plus or minus this might have on the record if you be interested there be paper about the effect of switch from north wall screen to stevenson screen thatch hut in africa etc etc',\n",
       " 'could you please comment on talk thought identification re john norseen and lockheed martin i be beside myself try to update information that i believe to be very relevent it look to me like several user who hang out at ani fringe be work together to remove well source valid on topic material which show the state of military research into thought identification outside comment would be greatly appreciate thanks',\n",
       " 'mediation hello i be atyndall and i have volunteer to take on your mediation case during this discussion i will remain neutral with both side of this argument and will endeavor to solve your dispute after have a look at the discussion above this be what i have found quizzicalbee have be add the sentence accord to chesler the the u s embassy repeatedly refuse to help her leave the country a they no longer recognize her a a u s citizen hurmata have be revert this back to she report that the u s embassy repeatedly refuse to help her leave the country hurmata object to quizzicalbee s sentence a he she think that the source be incorrect a the guard would have allow chesler into the embassy and first hand account from chesler herself do not qualify a a reliable source qb object say that maybe in the s u citizenship could have be revoke by the u afgan government at that time and perhaps in the past the guard may have deny entry and that her claim should have be presume true until proven false hurmata counter that the citation threat qb be refer to be not the one that be cite qb state that there be no evidence disprove her claim so they be valid could the involve user please place below to verify that this statement be correct or suggest why it be not correct thankyou talk',\n",
       " 'well arthur i have print the paper and the condition be in fact what ultra power say it be not your correction it seem that the paper be not incorrect but rather correct and pointless you have already identify the bad problem the third condition require incontinuity of f at all integer value however this problem disappears if we consider only the special case a e so let be do that we want a function f satisfy f e and f n exp f n define a widely a possible we observe that n and n present no problem f and f to extend f to all positive real number it be clearly sufficient to define f on an interval of length such a and we want f to be continuously differentiable the paper only require f to be continuously differentiable on or equivalently on this be obviously whacky but we need not worry about this because a e next for no obvious or explain reason we require that f be monotone on the interval from the functional equation f x ln f x we get f x f x f x hence f f f f so f must be constant on not too surprisingly the function we get in this way be patch together from small piece in a relatively unnatural way f x exp x exp x x thus what i learn from the paper be that the correct solution to the problem probably have a minimum of it derivative between and',\n",
       " 'the ranger fc this should be the name of the newco ranger wikipedia page now a they be call the ranger fc everywhere on the sfl sfa spl bbc etc website and in league table and on tv they must have register to use the ranger fc to differentiate between themselves and ranger fc who still have spl membership',\n",
       " 'wikipedia category for discussion log april wikipedia book follow the horribly chaos of april i have resubmitted thing for discussion talk contribs physic book',\n",
       " 'flexpay tax law just a comment here i would be interested in see an expansion of this artcile regard to the tax surround flexpay account',\n",
       " 'no problem at all talk',\n",
       " 'if we do win and get these evil people out of the government and their private force a well then perhaps there will not be any nuclear blast across the u and europe btw if mongo be really with h why be he on wikipedia',\n",
       " 'i have just see that',\n",
       " 'najib effendi al yasin i suggest not to use paragraph indentation in the article najib effendi al yasin which have recently create to reach a more normal look page happy editting',\n",
       " 'lol you know what i meant whichever president come before hafez i just new he be president before assad have considerable foreground of support in which his support would have freak out because of the coup they would have claimed instability would arise a assad s supporter be try to use in their defense what i be try to say be that although bashar assad have good economic and international policy for syria you should not fear a non baathist potentially be elect syria s economic and international policy will not change iran would still be a major factor in syrian life consider the buisness deal stake and cultural exchange the only this that would change be social freedom and for the well also every country have a revolution and they be still alive today the muslim brotherhood in syria be weak even weaker than the islamist prescence in libya the rebel in libya have support a we see now and yet could hardly take control without nato what chance do the syrian muslim brotherhood have none if anything nonviolent protest weaken the resolve of the muslim brotherhood make them less of an influence in the everyday life of syrian a you know i be pro syria and armenia just not pro assad unlike armenia where people like sargsyan and kopcharyan be democratically elect assad be not no one ran against him because they be not allow',\n",
       " 'cfr be a perfectly accurate source the council on foreign relation cfr org be a recognize legitimate think tank that study international terrorisim for the united staes govt to claim they be not credible be idiotic they be a legitimate a any online newspaper or other source they have study northern ireland and compliled a list of uda uvf kill by the ira inla and vice versa these fact be good and will be include in the article',\n",
       " 'lead what be there now be not a summary summary be suppose to be substantially shorter than the text they summarize which the case at salvatore giunta be not it simply copy whole sentances from the body text a an editor we have to ass the article a it currently stand and not any hypothetical future stance if the article grows then the lead can be adjust accordingly in any case the lead section i favor do indeed summarize the most important part the moh in any case do you read wp lead the lead of a biography be not necessarily suppose to summarize the life story of the subject but assert thier claim to notability the two sentances i favor more than do that without be overly repetitive wordsdeeds',\n",
       " 'unblock i will make a renew effort not to give personal attack but of course i do have some question about this unwarranted blockage a you might well imagine why be it that ip editor tend to get the raw end of the deal that you admins tend to lean towards the side of someone who s edit with an account over someone who s edit without one especially in the area of what you label a personal attack or harassment when give by the ip editor but not so much when the name editor do the same thing for exampleand this be yep maybe you guess it question why be it supposedly okay accord to you for someone with a name like say escape orbit to dish out a personal attack but not for me to give him one back because i be just a lowly ip editor specifically why be it supposedly okay for him to give me a personal attack by put false stuff on my keyboard by make the ludicrous claim that my reason for want the old style of ebay logo to go next to the current one ebay in the lead be because i want it in there even though that be a total lie but it be supposedly not okay for me to call that kind of slander stupid here s another one why be it supposedly okay for him and smiley girl there to falsely accuse my edits of be vandalism just because they differ from what these guy prefer but then when i say their reversion be vandalism i get in trouble for it a if it be a personal attack just because i be an ip only editor ready for one more then why be it fine for any of you name editor to give one of u ip editor a warn template but when i a an iper do the same thing to a name editor like i do to partially smiley girl i get ding with oh you can not do that cause that s a personal attack or oh that s bad because that s harassment oh yeah here s one more remember the rule about edit war just in general meaning that it do not even have to be break rr that say that but i be right so i be not edit war be no defense well then do not that apply to meeting some so call consensus too since some thing be not case of concrete correctness but be just base more on whether they match what that so call consensus want the thing to say well then why be it that just because your name friend smiley there do some edit war against me to put the thing back to what your exclusive partial consensus want it to say and since my edit have already be establish a not vandalism even though it disagrees you ignore that above mention edit war rule and give her him a pas anyway but when i an ip only editor who s against your exclusive consensus do the same thing it be edit war even though it be the same thing a what smiley s do remember the be right match consensus be no defense rule',\n",
       " 'if serbia do recognise abkhazia and south ossetia then i would not be at all surprised if georgia recognises kosovo in retaliation',\n",
       " 'the most subtle question they possibly could',\n",
       " 'try to measure the number of cafe this be one of those place where i be so frustrate by wikipedia s ban on original research the article have the absurdly low at least six cafe on the ave or it alley i do not know where that number come from nor what they consider a cafe but it seem to me that well within any reasonable definition the scene include solstice cafe zoe the original allegro on an alley parallel to the ave arguably it second location in the college inn also count the ugly mug half block off the cafe at the corner of nd that use to be the rom but i can not recall it new name sureshot the continental caffe apassionato wow bubble tea shinka tea company yunnie bubble tea pochi tea gingko tea house tully s starbucks wannabee one block off still life on the ave at the grand illusion technically the entrance be around the corner but it be clearly effectively on the ave this do not even count hangout that be mainly bar or restaurant or takeout food joint nor do it count thing like u bookstore and bulldog news both of which have busy espresso operation nor do it count ice cream stand and i be sure i be miss something this be all just offhand talk',\n",
       " 'actually undue weight can also result in zero weight a it be the whole issue be insinuation and extrapolation of give event just because the article do not outright say that edward be the father because there be no father list it be quite clear that this be the intent now editor familiar with me consider me to be a fnc fanboy and appolgist regard conservative and republican so my objection to this be clearly not a partisan point of view that say this be in violation of several wp policy',\n",
       " 'i found it under chronological list of pc engine game i thought the release date on that page be for japan since there be a seperate list of turbografx game the change you make be ok though since i see ign have it list that way',\n",
       " 'i agree fundamentally whether you take it a a pill or through a patch or a ring the key be that it be hormonal so that should be the main article at that point oral contraceptive should either redirect to hormononal contraception unles there be sufficient material to justify it existence',\n",
       " 'that be so desterbing because of when i have to do a project in school i have to explain it wasnt bill gate from year ago',\n",
       " 'the source be a local guide book how do we source that',\n",
       " 'chill out inty s my mate',\n",
       " 'a tale of a tub on the main page hey geogre check it out do you know that a tale of a tub will be feature on the main page on sunday talk nov utc',\n",
       " 'add c class i would like to add b class but question raise in talk page',\n",
       " 'no problem thanks for let me know talk',\n",
       " 'batman i be batman you be spiderman i win',\n",
       " 'geometry of love good day can you search some source for article geometry of love probably this article contain interest fact for dyk',\n",
       " 'exactly i remove the section again before i notice this post chen',\n",
       " 'please unblock and delete page i request that you unblock my talk page and immediately and permanently delete the content of it you be free to permanently block me from contribute to wikipedia a i have no intention of do so in any case if you would like a reason to block me or prove that i have violate the rule you need not preserve the talk page here be another deliberate intentionally provocative violation of the rule an old school personal insult you be a loathsome sanctimonious hypocritical ignorant twit if you be in state of uncontrolled combustion i would not take the trouble to extinguish the flame by urinate on them i hope that be satisfactory',\n",
       " 'that be true with the first edit however the second one be an honest mistake',\n",
       " 'that s be the problem face this article a well i would love to see this get to feature article status but i keep run into the fact that there be not really a whole lot of good verifiable info out there that be easily available nor be it easy to come by a picture that be usable though i suspect the one or two know image of him would fall under fair use there be a couple of website out there that basically regurgitate section from mcgregor s book there be a certain irony in the fact that a guy who labor in anonymous solitude most of his life on a project he love dearly die destitute and be not make several other people rather wealthy',\n",
       " 'you be a funney man',\n",
       " 'furthermore any threat make to block individual add and or edit well research information would directly negate the sole intention of wikipedia itself',\n",
       " 'wikipedia be full of fool who take money and make people work for free wikipedia you might a well ban me you fool what be take so long wiki be a stupid place it be jimbo s cult',\n",
       " 'they seem to be reliable enough for this topic anyways it be not like many major news source be go to be cover the thing that these site cover',\n",
       " 'in response to your feedback yoa can not do it by yourself see wikipedia change username',\n",
       " 'that be your opinion and what be your proof that i be anti newsom whether you support him or not he do have a gay porn day and violate state law by issue gay marriage license in contradiction to state law these be fact not slander or fiction',\n",
       " 'that admission begs the question be it well to punish adolescent boy if they be go to engage in bullying behaviour here or extend them welcome talk',\n",
       " 'french speaker and paris can anybody explain this french speaker concentrate heavily on cultural life in paris what do it mean sep utc',\n",
       " 'why be you change the somali people wiki seriously that page be bias to one clan i add a more diverse representation of somali people you stupid criminal',\n",
       " 'davkal i agree with you but would suggest that you do not discus it or gloat because you know he will likely come back and start harass agagin apparently just a few hour after he left someone bit his head off on his talk page about a comment he left in an article',\n",
       " 'thanks thanks for the tip buddy walkie talkie ky highway page i be currently cleaning up the page please do not edit it thanks let be go mets stats your first barnstar style border px solid gray background color fdffe rowspan valign middle rowspan style font size x large pad vertical align middle height em the tireless contributor barnstar style vertical align middle border top px solid gray i hereby award bigrtex the tireless contributor barnstar due to his outstanding amount of high quality edits hikaru',\n",
       " 'transistor the transistor page do not have a principle of operation section because a the physicist know about it but do not want to share it b they just do not know how it work i be think about it and come up with a fairly decent concept of how it work i put it on wiki i think the guy get jealous and here i be discuss pretty much nothing p and my language be pathetic you naughty naughty boy i will eat you',\n",
       " 'i like to see it in print since it be be list for day now without an url',\n",
       " 'the propose deletion process because of the follow concern wikipedia should not be use a a place for guide or a walk through all contribution be appreciate but this article may not satisfy wikipedia s criterion for inclusion and the deletion notice should explain why see also what wikipedia be not and wikipedia s deletion policy you may prevent the propose deletion by remove the notice but please explain why you disagree with the propose deletion in your edit summary or on it talk page please consider improve the article to address the issue raise because even though remove the deletion notice will prevent deletion through the propose deletion process the article may still be delete if it match any of the speedy deletion criterion or it can be sent to article for deletion where it may be delete if consensus to delete be reach',\n",
       " 'hmmm there be a way to do this i will see if i can remember what the code be gabsadds',\n",
       " 'this article already exists see liger pro',\n",
       " 'feather there be no citation a to how a quill look in the past therefore it be opinion only',\n",
       " 'bakan why be abbie bakan even mention in this article base on the worthless rag of hers which be cite a a source in this article she be nothing but a shill for lenin and the rest of the commie gang in that rag she not only show egregious pro communist bias but do not even bother to check the fact much less look at the cause of the kronstadt rebellion or even cite reliable historical source on that subject she also discredit herself with absurd accusation of a white conspiracy to overthrow the soviet government and even of the rebellion be motivate by anti semitic racism among the sailor furthermore all the claim make in that rag be base on a case of beg the question that be since lenin s communist regime be good major premise and the kronstadt rebellion harm say regime minor premise suppress the rebellion be justified last but not least the mere fact that the aforementioned rag be first publish by a self admit socialist party by definition mean that this source do not meet either wp npov or wp r if such source continue to be use in wikipedia article the whole project will soon turn into commiepedia',\n",
       " 'message on talk page during an afd place message on user talk page such a and in the hope of gain support be an unacceptable practice which agin hinders the afd process',\n",
       " 'trivia i would advise you to look the word up in a good dictionary jay mr townsley s marriage into an important business dynasty be obviously noteworthy which be why it be note prominently in the article link to cheer',\n",
       " 'might i remind you that this be the english language wikipedia and you have no great precedence here than i do perhaps you should think of go to edit the ja wikipedia and take your aggressive attitude with you especially since your only problem be with the example name which be easily fix you be clearly incapable of appreciate the improvement i make in english so perhaps you be not the best person to judge',\n",
       " 'speedy deletion of david fork a tag have be place on david fork request that it be speedily delete from wikipedia this have be do under section a of the criterion for speedy deletion because it be a very short article provide little or no context to the reader please see wikipedia stub for our minimum information standard for short article also please note that article must be on notable subject and should provide reference to reliable source that verify their content if you think that this notice be place here in error you may contest the deletion by add to the top of the page just below the exist speedy deletion or db tag couple with add a note on the talk page explain your position but be aware that once tag for speedy deletion if the article meet the criterion it may be delete without delay please do not remove the speedy deletion tag yourself but do not hesitate to add information to the article that would would render it more in conformance with wikipedia s policy and guideline what do u want',\n",
       " 'your suggestion of edit the article be completely workable and be work a per wikipedia guideline until jayjg and slimvirgin start delete large relevant chunk of the article and revert it to what we have now a punitive gesture if we can all agree to concentrate on make the article well instead of punish each other there be no reason the article have to be lock i agree that we should start with an extremely innocuous definition preamble statement we can all agree on however a definition do not do anyone any good unless it conveys some sort of information if there be just one word that we could all agree be associate with terrorism that would be well than no definition at all intimidate for instance',\n",
       " 'speak without know what i be talk about ok how bout this the original comment i make about everlast s entry constantly be vandalize by eminem fan be write a month ago before your dumb as get involve with the site the feud start with the dilate people track that s why i believe that the verse everlast contribute should be in there and still do the jab take back and forth after that deserve a synopsis only your idiotic little comment about album sale be excessive and unnecessary it belongs in there no more than the fact that everyone who know both artist agrees that if they ever get into it everlast would knock the living shit outta eminem and that come off an eminem fan site',\n",
       " 'our talk archive',\n",
       " 'speedy deletion of spunga a tag have be place on spunga request that it be speedily delete from wikipedia this have be do under section g of the criterion for speedy deletion because the article appear to be a repost of material that be previously delete follow a deletion debate such a at article for deletion under the specify criterion where an article have substantially identical content to that of an article delete after debate and any change in the content do not address the reason for which the material be previously delete it may be delete at any time if you think that this notice be place here in error you may contest the deletion by add to the top of the page just below the exist speedy deletion or db tag couple with add a note on the article s talk page explain your position but be aware that once tag for speedy deletion if the article meet the criterion it may be delete without delay please do not remove the speedy deletion tag yourself but do not hesitate to add information to the article that would would render it more in conformance with wikipedia s policy and guideline talk',\n",
       " 'plus you have to be a natural born citizen which i be go to assume be not but who care anyway',\n",
       " 'unblocked for the last time ok now do not fuck up i mean that in the best possible way good luck and good night',\n",
       " 'i understand your position and think that your point be perfectly valid however i do not deem iaşi chişinău a creation of wikipedia even with the lack of historical source for that effect in the english language i will think more about this tomorrow thank you for explain your position to me with such accurate detail best regard nd',\n",
       " 'you studid cock sucker u stop callin me ok it a frank garrett eatin the worm crawl outa your mom pussy you fuck retardo hit i retardo',\n",
       " 'thanks user talk biggity be there any constructive edits indef block perhaps mahalo',\n",
       " 'for anyone interested in accurate not deliberately mislead information about the ten string guitar i e not the garbage that will no doubt soon be present here see www myspace com tenstringguitar tthough my temporary site have now be hidden remove from google search listing by some shady dealing the truth will prevail',\n",
       " 'you say i be determine that the page will not regress to this again and i will delete anything inappropriate that jeopardizes the good progess that be now be make a completely inappropriate post in the middle of a sensitive discussion threatens to do just that the problem be that you be not the sole arbiter of this or any talk page the post be innocuous and do not violate the condition of the arbitration decision nor do it affect the flow of discussion on the page in fact the most appropriate response would have be to just ignore it by remove it you just encourage a reaction you accuse me of wikilawyering which be absurd the guideline be there to help u all however not only do you violate that guideline but also several policy it be this kind of heavy hand action that encourages people to persist with problem edits it be a long stand convention that we do not remove other user post and in my three year here i have never see it do when it be not vandalism unless you can give me a much well reason for not do so i be go to reinstate the delete text',\n",
       " 'the glourious people s republic of china have carry out a survey of the great wall it be no surprise that chinese invention such a the wall exist to this day one day our great wall will stretch all the way around the world anyway let be add detail of our dear government s survey',\n",
       " 'fisherqueen would you kindly stop follow my every move and delete thing off my user page havent you get anything well to do than piss people off on wikipedia',\n",
       " 'so jim burton child molest faggot i see you be still with u for yet another day make a total buffoon out of yourself a usual i do not know what be sadder here you or the extreme hypocritical arrogance you show by lecture the world about ethical principle for your claimed right to abuse our child you have no ethical principle to save your life but it be exactly a the roman poet say be not it the harlot doth always rebuke the chaste will you ever drop dead we might all breathe a little easy for our kid sake you truly disgust me with every word you write',\n",
       " 'have read will beback i already change the structure separate someone s view over him into separate section i suggest far restructuring welcome and detail per section later',\n",
       " 'nevermind the have assimilate those puppy sorry for the bother cheese wine',\n",
       " 'i fix the link it take all of about second now leave it or i will report you to the administrator',\n",
       " 'a i have told they be not deliberate personal attack in my belief my message have be interpret wrongly although i asumed good faith in post them a i have mention that',\n",
       " 'please do not remove content from page without explanation a you do with this edit to vole if you continue to do so you will be block from edit royal court',\n",
       " 'delete american criminal category it be incredible to me that the fact of this article might lead some misguide soul to think this be what the american criminal category be for there be a lively discussion at the category s talk page about what should be in the category but even the most expansive reading of the category do not countenance this',\n",
       " 'millinos of hunjan look at hunjan template not just me other hunjan will fight back your concept of art bull of shit tharkarn and what waste man',\n",
       " 'just to add kansa bear when i say you make the elementry mistake of call it a treaty when it be in fact a congrass be because a you left out a usual my post in which you regard the three deligations a have be pressent at the treaty o aras with papal meditiation the treaty of aras be a private treaty only between the deligations of burgundy and france and make a military alliance in again we be debatting on the burgundian recognition stop change the subject you clearly be give fallactious statement and i feel your post be utterly questionable if you happend to remeber a month ago we both agree the congrass and treaty of aras be different i correct your statement when you regard the three deligations a bieng pressent at the treaty of aras p s stop with your childish personal attack i aqsked you to give source regard that burgundy didnt recognize henry a king of france but you give ref regard the treaty of aras and mix up the post if you cant handle the fact that burgundy recognise henry a king of france then i have already revert you on the dual monarchy article you should be ashamed of your fallactious remark nd utterly questionable unsourced fact',\n",
       " 'er use two usernames to vote more than once in a poll i have no idea what you be talk about i have not use an usernames and i have never vote in any poll i can not be a vandal a i have not vandalise anything i may have add content which you or someone else do not agree this be not vandalism the correct reponse be discussion and debate to achieve a conscensus again i be not a sockpuppet or a puppetmaster i have be fully open that i be the same person by wikipedia s defintion i be not a sockpuppet or puppermaster you may wnat to use a different defintion but that be just your opinion and mudslinging hardly appropriate for an administrator',\n",
       " 'raffaele s request for a lawyer while be interrogate on nov be refuse a be his request that he be allow to call his father page amanda be deny food water bathroom break and nap during the all night interrogation on nov page wikid actually now look at murder in italy i see that there be a ton of additional information about both amanda and raffaele s interrogation that could be include so i will work on listing all that in more detail tomorrow',\n",
       " 'yes i like the suggestion also it look pretty good and by lead into the next sentence about the bering strait cross it conforms to the rest of the article since later on we get more detail on the prehistoric migrator i will just edit yee s suggestion in',\n",
       " 'seriously alex your article be on the edge of be delete there be no one at the deletion discussion argue for it be kept if you want any hope of keep this article online instead of spending your time edit the talk page click on this link to go to the deletion discussion and make your argument',\n",
       " 'fu ck ing trollreasons',\n",
       " 'some day you and i be go to remember this and laugh ha ha ha ha ha never forget i have incredible power i be more powerful than you can possibly imagine let me just close this conversation by bidding you a fond farewell ♥',\n",
       " 'you have probably notice the table faction approach if you could keep an eye out for more game central information on in game faction and then update the table that would be great i be base it off of a similar table in the a class age of empire iii which show the sort of information to go for without fall into the gameguide trap',\n",
       " 'sr cl u bud bin a way like long time like time outa mind long gooood shit but mo latah an dat soon az ah gitz back heah sum a de brotherz n sistahs sez hance dead or alive we be about to send a zion ranger to check on his condition ah sez whoa lead me gib him a holler dis me hollerin bro de zion rangerz be dem dat do most a de walkin tru wallz not all but most de wall walkin dude ain gon na do r bro no harm he jes be checkin ee ben so a gentle remindah kum fuhst u be readin id a leedle postin a dis n dat go down good doan fohget to cut sum zzzz aftah a tad a postin sleep good n doan fergit ta dream sumptin might kum jes ta bdh all wrapt roun wid delta wave n a kupla otha carrierz what we diz cuss latah chow bro',\n",
       " 'you do not call me neither maybe we miss the once in a lifetime chance to see u talk',\n",
       " 'a you do to the henry david thoreau page it be consider vandalism if you would like to experiment use the sandbox thank you',\n",
       " 'rather crude ancestor of the vaccine the source be a biography of louis xvi louis xvi le roi bienfaisant jean de viguerie on the various and often contradictory influence of the french government prior to the revolution where a section be devote to the innoculation of the royal family and make note of how the intendant of franche comte have finance physician to do it through his province and how it be later use by washington on his continental army the truth he actually die on december it even say so in a book that i have fact about george washington george washington own over acre of land washington live in new york and phildelphia during his preidency —the precede unsigned comment be add by ga in zh wikipedia please add link ga zh in interwiki section thanks',\n",
       " 'the objectionable textbook material the ad refer to a controversy in wheaton school in the early s surround a series of textbook call impression they also contain some writing that some parent believe feature theme of the occult witchcraft violence and disrespect for parental authority here be a discussion of one of the offend piece a yarn call a wart snake in a fig tree which be a kind of a pardody of nothe twelve day of christmas but with creepy crawlies and spider and snake and stuff a wart snake in a fig tree i wonder what roskam s stance on harry potter and holloween be',\n",
       " 'no i do not mean point me at a biographical article though that would be good too i mean answer right here on the discussion page what town be you born in which school do you go to also regard over the top i disagree i think the article could do with quite a bit more expansion a could the article of the other individual you mention a for great living magician i have to admit i would never heard those name how be you judging that say max maven be well than a david copperfield be it by award industry press or just personal opinion of their technique',\n",
       " 'okay but only if they be truly not need same sort of criticism praise no quote etc thank you talk',\n",
       " 'haha you be fine i mean you be allow to do it but i be just selfish i guess i really appreciate your kindness though and i really respect that you ask because when other signature that be borrow no one let me know or give me any credit so i feel badly that since you ask you would feel really badly about do it now haha but i can help you figure out a nice one or pick out some fun color have a great day and happy wikying τ',\n",
       " 'leave me alone i told you already to leave me alone why can not you fuck off and do your own fuck thing or do you find that hound me be amuse id u do then you be a mothafuckin asshole and i will ban you',\n",
       " 'bloc voting country with large population of non national may have their televote influence considerably this have be cite a the reason for apparent bloc voting in the balkan country of the former yugoslavia this be full blown crazy what do non national mean these country have similar culture and speak the same language the star in croatia be popular in serbia and vice versa people be national of their country in the large proportion in each of those country there be some refugee in each of those country but that do not really explain why croatia would always give the high no of pt to serbia or macedonia to serbia where there be no conflict to speak of for example i be a bosnian serb and me voting for a croatian or a serbian song be not unusual but i be not a bosnian non national i have the passport of bih and my family have never live in serbia in history it be really about mutual intelligibility which be why scandinavian bloc vote for each other all the time it be the language and sensibility',\n",
       " 'peta be not a self publish source please explain how the peta website be not self publish',\n",
       " 'please do not vandalize page a you do with this edit to morrissey if you continue to do so you will be block from edit impala',\n",
       " 'august utc there be no wp r to affirm the veracity of di s doubtful claim either that be you have no wp r either way therefore it be not a verifiable fact that picard or any of the other original signer consent to or agree with the di s publish interpretation or political position vi a vi pb or any other subsequent political purpose regard what should or should not be taught in school all you have on verifiable record be that the original signer call for skeptical examination of the evidence for scientific theory di s unverifiable claim which fraudulently spin that into consensual agreement or support for their interpretation or political agenda be not a fact under the rule of wikipedia all the rest of di s propaganda be utter hogwash fraudulently perpetrate by the di without the verifiably demonstrate consent of the original individual in view of the wp blp do no harm clause the unverified claim of the di must not be promote to fact and any content to that effect must be immediately expunge per the wp blp',\n",
       " 'email thanks for your email about the message you receive from guyovski i receive a similar though not openly threaten email from guyovski a well',\n",
       " 'it be a fabrication with intent to defame that be not the point here it belongs in the dan savage article',\n",
       " 'perhaps overlook in the discussion of steve moore ’ s credential be another aspect of the newsweek article by say that knox ’ s supporter have hurt her by express their opinion nadeau have effectively state that the decision of the italian court will be or have be influence by anger and anti american sentiment rather than the evidence alone i don ’ t know if nadeau ’ s experience in italy qualifies her to make such an assessment but take her a a r to make that statement would be a great an insult to italian jurisprudence a anything knox ’ s supporter have say i wholly concur with pablo ’ s opinion that the piece have no place in the article',\n",
       " 'other attraction what be a water place and animal place',\n",
       " 'i fear jossi may be correct if watt who btw die in say this about rawat he probably meant it a praise i e the emphasis would have be on sacred judging from my knowledge of watt oeuvre he be rather anti intellectual himself',\n",
       " 'ooooh well can you fix it because it look a mess right now and i do not think it be certify in switzerland yet so new zealand and australia should just be there',\n",
       " 'omg i love dch who do not i love pac sun',\n",
       " 'i have remove it it contributes nothing to the article',\n",
       " 'hi writingrights welcome to wikipedia i hope you like this place — i sure do — and want to stay before get too in depth you may want to read about the five pillar of wikipedia and simplify ruleset if you need help on how to title new article check out the name convention and for help on format the page visit the manual of style if you need help look at wikipedia help and the faq plus if you can not find your answer there check the village pump for wikipedia related question or the reference desk for general question there be still more help at the tutorial and policy library plus do not forget to visit the community portal and if you have any more question after that feel free to post them on my user talk page or place helpme on your talk page and someone will be by to help you shortly tab additional tip tabtab here s some extra tip to help you get around in the pedia if you want to play around with your new wiki skill the sandbox be for you tab you can sign your name use three tilde if you use four you can add a datestamp too five will get you the datestamp only you may want to add yourself to the new user log tab if you ever think a page or image should be delete please list it at the vote for deletion page there be also a vote for undeletion page if you want to retrieve something that you think should not have be delete if you be still entirely confuse or would like to get a well grasp of your wikipedia skill and you have an irc client or do not mind get one check out the bootcamp it be not what it sound like but it be fun and can help you with your edit skill if you be bore and want to find something to do try the random page button in the sidebar or check out the open task message in the community portal happy wiki ing — talk contribs click here to respond to this message',\n",
       " 'it be common knowledge that karaims but not karaite jew boast descent from khazars but what they do not realize be that we believe the он окъ on oq whence come mix with carian mercenary from caphtor and kolhkis our khazar ancestor be in fact the remnant of the lose ten tribe of israel who form our priesthood it be precisely for this reason that karaite jewish scholar like jacob ben reuben of byzanteum and yefet ben ali or jeshua ben judah call u bastard in their writing the follow editor',\n",
       " 'april utc then rewrite and expand the article i would much rather have a full article than a bad article with a full template a for william s edits i be not go to vote on a content matter at this time i have never look at this article before you sent me the link so i be not equip to choose one version over another my vote be purely on the layout aesthetic of include the template maybe later when i have spent more time with an unfamiliar article i can make a statement about the content',\n",
       " 'i be try to inject some humour a evidence by my winky face in this ridiculous overblown and unnecessarily dramatic situation if you take the time to familiarize yourself with the situation you would see that the person i insult be attack my cite and factual contribution by actively censor them no explanation which i retaliate with by insult him i thought that his conduct be insult worthy at the time a would any sane individual who be not familiar with wikipedia s no insult rule however i have since realize that what i do be wrong because this site do not allow for harsh word which be why i will not use them again even if they be use against me which they be during this ordeal wikipedia be the place for me because my edit be constructive and brought a great knowledge to the subject s topic but the fact that i insult another user in the edit summary be regrettable and i know that now if you seriously think the edit link above constitutes a well insult',\n",
       " 'this title should redirect to altona hamburg i w would change it but at the moment there be too many link for me to bother',\n",
       " ...]"
      ]
     },
     "execution_count": 135,
     "metadata": {},
     "output_type": "execute_result"
    }
   ],
   "source": [
    "sentences"
   ]
  },
  {
   "cell_type": "markdown",
   "id": "d4913c03-8ec3-4048-8667-3d530ae9f41c",
   "metadata": {
    "jp-MarkdownHeadingCollapsed": true,
    "tags": []
   },
   "source": [
    "#### • Stopwords removal"
   ]
  },
  {
   "cell_type": "markdown",
   "id": "3d74b1cd-8264-46fe-82f2-5fe5a3156dc7",
   "metadata": {},
   "source": [
    "<p style=\"font-size:18px;\"> The stop words are removed from the text to ensure the removal of low-level information (Khanna, 2021).\n",
    "</p>"
   ]
  },
  {
   "cell_type": "code",
   "execution_count": 139,
   "id": "67a51e9d-2233-4564-ab2d-88f141c73d87",
   "metadata": {},
   "outputs": [],
   "source": [
    "stop_words=stopwords.words('english')\n",
    "sentences=[' '.join([word for word in x.split() if word not in stop_words]) for x in sentences]"
   ]
  },
  {
   "cell_type": "markdown",
   "id": "28610525-182c-4c04-965f-832901aca65e",
   "metadata": {
    "jp-MarkdownHeadingCollapsed": true,
    "tags": []
   },
   "source": [
    "### C. Combined Data Pre-processing Function"
   ]
  },
  {
   "cell_type": "markdown",
   "id": "0f8e713a-9b90-4c3e-ac0d-36d3cb1d91b8",
   "metadata": {},
   "source": [
    "<p style=\"font-size:18px;\"> The combined function is a mix of all the sub-functions used in data cleaning to perform the whole data pre-processing by few lines of code.\n",
    "</p>"
   ]
  },
  {
   "cell_type": "code",
   "execution_count": 149,
   "id": "b49cbe8b-c2e3-4db8-b311-d7bff39a65cd",
   "metadata": {},
   "outputs": [],
   "source": [
    "# Combined Data Cleaning function\n",
    "def preprocessing(sentences):\n",
    "    # Lowercasing\n",
    "    sentences=[x.lower() for x in sentences]\n",
    "    # Handling apostophe\n",
    "    sentences=[decontracted(x) for x in sentences]\n",
    "    # Handling numerics\n",
    "    sentences=[re.sub(r\"\\d\", \"\",s) for s in sentences]\n",
    "    # Removing punctuations\n",
    "    sentences=[re.sub(r\"\\n\", \" \",s) for s in sentences]\n",
    "    sentences=[remove_punctuation(f) for f in sentences]\n",
    "    # Removing unicodes from strings \n",
    "    sentence=[s.encode('ascii', 'ignore').decode() for s in sentences]\n",
    "    #  Lemmatization\n",
    "    ans=[]\n",
    "    for x in tqdm(sentences,total=len(sentences)):\n",
    "        ans.append(lemmatize_text(x))\n",
    "    sentences=ans.copy()   \n",
    "    # Stop word removal\n",
    "    sentences=[' '.join([word for word in x.split() if word not in stop_words]) for x in sentences]\n",
    "    return sentences"
   ]
  },
  {
   "cell_type": "code",
   "execution_count": 150,
   "id": "26333d3a-f74c-41d4-b305-a8ca47b5ed8c",
   "metadata": {},
   "outputs": [],
   "source": [
    "test_sentence=list(df_test.comment_text)"
   ]
  },
  {
   "cell_type": "code",
   "execution_count": 151,
   "id": "f64b673b-df94-44f4-af83-977495bc646b",
   "metadata": {
    "scrolled": true,
    "tags": []
   },
   "outputs": [
    {
     "name": "stderr",
     "output_type": "stream",
     "text": [
      "100%|██████████████████████████████████| 153164/153164 [12:43<00:00, 200.65it/s]\n"
     ]
    }
   ],
   "source": [
    "test_sentence=preprocessing(test_sentence)"
   ]
  },
  {
   "cell_type": "code",
   "execution_count": null,
   "id": "d192d868-3e80-4450-bdde-9956c9faedbe",
   "metadata": {},
   "outputs": [],
   "source": []
  },
  {
   "cell_type": "markdown",
   "id": "57c28581-a263-4c12-bca3-0e77f52368b4",
   "metadata": {
    "tags": []
   },
   "source": [
    "### D. Sentences -> alpha numeric"
   ]
  },
  {
   "cell_type": "code",
   "execution_count": 162,
   "id": "23efc108-770c-4a49-86a8-2e01ea740694",
   "metadata": {},
   "outputs": [],
   "source": [
    "sentences=[' '.join([w if w.isalpha() else '' for w in s.split()]) for s in sentences]"
   ]
  },
  {
   "cell_type": "code",
   "execution_count": 163,
   "id": "080e9462-298e-4a6d-9ed6-2d86b7b9b116",
   "metadata": {},
   "outputs": [],
   "source": [
    "test_sentence=[' '.join([w if w.isalpha() else '' for w in s.split()]) for s in test_sentence]"
   ]
  },
  {
   "cell_type": "code",
   "execution_count": 165,
   "id": "4416a801-7ba2-4803-b3e3-99dd1ab0f35f",
   "metadata": {},
   "outputs": [],
   "source": [
    "# Remove Japanese text\n",
    "# Someone remove Japanese text"
   ]
  },
  {
   "cell_type": "code",
   "execution_count": null,
   "id": "de6e5494-68a5-431c-82c3-4e13c1aceddc",
   "metadata": {},
   "outputs": [],
   "source": []
  },
  {
   "cell_type": "code",
   "execution_count": null,
   "id": "7310b821-d236-4f89-bbc3-1aca0478d422",
   "metadata": {},
   "outputs": [],
   "source": []
  },
  {
   "cell_type": "code",
   "execution_count": null,
   "id": "fcf850e1-3685-4bde-a5e3-4162f0860906",
   "metadata": {},
   "outputs": [],
   "source": []
  }
 ],
 "metadata": {
  "kernelspec": {
   "display_name": "anlp-env",
   "language": "python",
   "name": "anlp-env"
  },
  "language_info": {
   "codemirror_mode": {
    "name": "ipython",
    "version": 3
   },
   "file_extension": ".py",
   "mimetype": "text/x-python",
   "name": "python",
   "nbconvert_exporter": "python",
   "pygments_lexer": "ipython3",
   "version": "3.8.2"
  }
 },
 "nbformat": 4,
 "nbformat_minor": 5
}
